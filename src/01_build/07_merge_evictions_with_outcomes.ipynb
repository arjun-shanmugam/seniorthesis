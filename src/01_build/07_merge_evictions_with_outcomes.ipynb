{
 "cells": [
  {
   "cell_type": "markdown",
   "id": "d839c479-ad4e-47bf-9243-6223198b7e1d",
   "metadata": {},
   "source": [
    "07_merge_evictions_with_outcomes.ipynb"
   ]
  },
  {
   "cell_type": "code",
   "execution_count": 1,
   "id": "d81985fb-78e9-45d0-a779-0f26627a1b79",
   "metadata": {
    "tags": []
   },
   "outputs": [
    {
     "name": "stderr",
     "output_type": "stream",
     "text": [
      "/gpfs/home/ashanmu1/seniorthesis/venv/lib/python3.10/site-packages/geopandas/_compat.py:123: UserWarning: The Shapely GEOS version (3.11.1-CAPI-1.17.1) is incompatible with the GEOS version PyGEOS was compiled with (3.10.4-CAPI-1.16.2). Conversions between both will be slow.\n",
      "  warnings.warn(\n",
      "/gpfs/home/ashanmu1/seniorthesis/venv/lib/python3.10/site-packages/dask_geopandas/backends.py:13: UserWarning: Shapely 2.0 is installed, but because PyGEOS is also installed, GeoPandas will still use PyGEOS by default for now. To force to use and test Shapely 2.0, you have to set the environment variable USE_PYGEOS=0. You can do this before starting the Python process, or in your code before importing geopandas:\n",
      "\n",
      "import os\n",
      "os.environ['USE_PYGEOS'] = '0'\n",
      "import geopandas\n",
      "\n",
      "In a future release, GeoPandas will switch to using Shapely by default. If you are using PyGEOS directly (calling PyGEOS functions on geometries from GeoPandas), this will then stop working and you are encouraged to migrate from PyGEOS to Shapely 2.0 (https://shapely.readthedocs.io/en/latest/migration_pygeos.html).\n",
      "  import geopandas\n"
     ]
    }
   ],
   "source": [
    "from dask_jobqueue import SLURMCluster\n",
    "from dask.distributed import Client\n",
    "INPUT_DATA_EVICTIONS_PARCELS_AND_TRACTS = \"./seniorthesis/data/02_intermediate/evictions_with_parcels_and_tracts.csv\"\n",
    "INPUT_DATA_TAX_PARCELS_EAST = \"./seniorthesis/data/01_raw/Statewide_parcels_SHP/L3_TAXPAR_POLY_ASSESS_WEST.shp\"\n",
    "INPUT_DATA_TAX_PARCELS_WEST = \"./seniorthesis/data/01_raw/Statewide_parcels_SHP/L3_TAXPAR_POLY_ASSESS_EAST.shp\"\n",
    "INPUT_DATA_ZESTIMATES = \"./seniorthesis/data/02_intermediate/zestimates.csv\"\n",
    "INPUT_DATA_CRIME = \"./seniorthesis/data/01_raw/crime_incidents\"\n",
    "OUTPUT_DATA_UNRESTRICTED = \"./seniorthesis/data/03_cleaned/unrestricted.csv\"\n",
    "OUTPUT_DATA_ZILLOW = \"./seniorthesis/data/03_cleaned/zestimates_analysis.csv\"\n",
    "VERBOSE = True"
   ]
  },
  {
   "cell_type": "code",
   "execution_count": 4,
   "id": "6fd0b063-4779-437a-9b87-20ba4998dac9",
   "metadata": {},
   "outputs": [
    {
     "name": "stderr",
     "output_type": "stream",
     "text": [
      "/gpfs/home/ashanmu1/seniorthesis/venv/lib/python3.10/site-packages/distributed/node.py:182: UserWarning: Port 8787 is already in use.\n",
      "Perhaps you already have a cluster running?\n",
      "Hosting the HTTP server on port 46266 instead\n",
      "  warnings.warn(\n"
     ]
    }
   ],
   "source": [
    "# Submit job to Oscar.\n",
    "cluster = SLURMCluster(queue='batch',\n",
    "                       cores=4,\n",
    "                       memory='2 GB')\n",
    "cluster.scale(jobs=8)\n",
    "client =  Client(cluster)"
   ]
  },
  {
   "cell_type": "code",
   "execution_count": null,
   "id": "01ee5713-2c11-4b9a-973d-37e770f8d825",
   "metadata": {},
   "outputs": [],
   "source": []
  }
 ],
 "metadata": {
  "kernelspec": {
   "display_name": "venv",
   "language": "python",
   "name": "venv"
  },
  "language_info": {
   "codemirror_mode": {
    "name": "ipython",
    "version": 3
   },
   "file_extension": ".py",
   "mimetype": "text/x-python",
   "name": "python",
   "nbconvert_exporter": "python",
   "pygments_lexer": "ipython3",
   "version": "3.10.8"
  }
 },
 "nbformat": 4,
 "nbformat_minor": 5
}
