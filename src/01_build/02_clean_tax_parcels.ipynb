{
 "cells": [
  {
   "cell_type": "markdown",
   "source": [
    "03_clean_tax_parcels.py"
   ],
   "metadata": {
    "collapsed": false
   }
  },
  {
   "cell_type": "code",
   "execution_count": 5,
   "outputs": [],
   "source": [
    "import dask_geopandas\n",
    "import pandas as pd\n",
    "from dask_jobqueue import SLURMCluster\n",
    "from dask.distributed import Client\n",
    "INPUT_DATA_TAX_PARCELS_EAST = \"../../data/01_raw/Statewide_parcels_SHP/L3_TAXPAR_POLY_ASSESS_EAST.shp\"\n",
    "INPUT_DATA_TAX_PARCELS_WEST = \"../../data/01_raw/Statewide_parcels_SHP/L3_TAXPAR_POLY_ASSESS_WEST.shp\"\n",
    "OUTPUT_DATA_TAX_PARCELS = \"../../data/02_intermediate/tax_parcels.gpkg\""
   ],
   "metadata": {
    "collapsed": false
   }
  },
  {
   "cell_type": "code",
   "execution_count": 6,
   "outputs": [],
   "source": [
    "# Submit job to Oscar.\n",
    "cluster = SLURMCluster(queue='batch',\n",
    "                       cores=4,\n",
    "                       memory='2 GB')\n",
    "cluster.scale(jobs=8)\n",
    "client =  Client(cluster)"
   ],
   "metadata": {
    "collapsed": false
   }
  },
  {
   "cell_type": "code",
   "execution_count": 8,
   "outputs": [
    {
     "name": "stderr",
     "output_type": "stream",
     "text": [
      "ERROR 4: ../../data/01_raw/Statewide_parcels_SHP/L3_TAXPAR_POLY_ASSESS_EAST.shp: No such file or directory\n"
     ]
    },
    {
     "ename": "DataSourceError",
     "evalue": "../../data/01_raw/Statewide_parcels_SHP/L3_TAXPAR_POLY_ASSESS_EAST.shp: No such file or directory",
     "output_type": "error",
     "traceback": [
      "\u001B[0;31m---------------------------------------------------------------------------\u001B[0m",
      "\u001B[0;31mCPLE_OpenFailedError\u001B[0m                      Traceback (most recent call last)",
      "File \u001B[0;32m/gpfs/home/ashanmu1/seniorthesis/venv/lib/python3.10/site-packages/pyogrio/_io.pyx:131\u001B[0m, in \u001B[0;36mpyogrio._io.ogr_open\u001B[0;34m()\u001B[0m\n",
      "File \u001B[0;32m/gpfs/home/ashanmu1/seniorthesis/venv/lib/python3.10/site-packages/pyogrio/_err.pyx:177\u001B[0m, in \u001B[0;36mpyogrio._err.exc_wrap_pointer\u001B[0;34m()\u001B[0m\n",
      "\u001B[0;31mCPLE_OpenFailedError\u001B[0m: ../../data/01_raw/Statewide_parcels_SHP/L3_TAXPAR_POLY_ASSESS_EAST.shp: No such file or directory",
      "\nDuring handling of the above exception, another exception occurred:\n",
      "\u001B[0;31mDataSourceError\u001B[0m                           Traceback (most recent call last)",
      "Cell \u001B[0;32mIn[8], line 2\u001B[0m\n\u001B[1;32m      1\u001B[0m tax_parcel_columns_to_keep \u001B[38;5;241m=\u001B[39m [\u001B[38;5;124m'\u001B[39m\u001B[38;5;124mLOC_ID\u001B[39m\u001B[38;5;124m'\u001B[39m, \u001B[38;5;124m'\u001B[39m\u001B[38;5;124mgeometry\u001B[39m\u001B[38;5;124m'\u001B[39m]\n\u001B[0;32m----> 2\u001B[0m tax_parcels_gdf \u001B[38;5;241m=\u001B[39m pd\u001B[38;5;241m.\u001B[39mconcat([\u001B[43mdask_geopandas\u001B[49m\u001B[38;5;241;43m.\u001B[39;49m\u001B[43mread_file\u001B[49m\u001B[43m(\u001B[49m\u001B[43mINPUT_DATA_TAX_PARCELS_EAST\u001B[49m\u001B[43m,\u001B[49m\n\u001B[1;32m      3\u001B[0m \u001B[43m                                                      \u001B[49m\u001B[43mnpartitions\u001B[49m\u001B[38;5;241;43m=\u001B[39;49m\u001B[38;5;241;43m8\u001B[39;49m\u001B[43m,\u001B[49m\n\u001B[1;32m      4\u001B[0m \u001B[43m                                                      \u001B[49m\u001B[43mcolumns\u001B[49m\u001B[38;5;241;43m=\u001B[39;49m\u001B[43mtax_parcel_columns_to_keep\u001B[49m\u001B[43m)\u001B[49m,\n\u001B[1;32m      5\u001B[0m                              dask_geopandas\u001B[38;5;241m.\u001B[39mread_file(INPUT_DATA_TAX_PARCELS_WEST,\n\u001B[1;32m      6\u001B[0m                                                       npartitions\u001B[38;5;241m=\u001B[39m\u001B[38;5;241m8\u001B[39m,\n\u001B[1;32m      7\u001B[0m                                                       columns\u001B[38;5;241m=\u001B[39mtax_parcel_columns_to_keep)], axis\u001B[38;5;241m=\u001B[39m\u001B[38;5;241m0\u001B[39m)\n\u001B[1;32m      8\u001B[0m tax_parcels_gdf \u001B[38;5;241m=\u001B[39m tax_parcels_gdf\u001B[38;5;241m.\u001B[39mto_crs(\u001B[38;5;124m\"\u001B[39m\u001B[38;5;124mEPSG:4326\u001B[39m\u001B[38;5;124m\"\u001B[39m)\n\u001B[1;32m      9\u001B[0m tax_parcels_gdf \u001B[38;5;241m=\u001B[39m tax_parcels_gdf\u001B[38;5;241m.\u001B[39mdissolve(by\u001B[38;5;241m=\u001B[39m\u001B[38;5;124m'\u001B[39m\u001B[38;5;124mLOC_ID\u001B[39m\u001B[38;5;124m'\u001B[39m)\n",
      "File \u001B[0;32m/gpfs/home/ashanmu1/seniorthesis/venv/lib/python3.10/site-packages/dask_geopandas/io/file.py:103\u001B[0m, in \u001B[0;36mread_file\u001B[0;34m(path, npartitions, chunksize, layer, columns, **kwargs)\u001B[0m\n\u001B[1;32m    100\u001B[0m \u001B[38;5;28;01mif\u001B[39;00m kwargs:\n\u001B[1;32m    101\u001B[0m     \u001B[38;5;28;01mraise\u001B[39;00m \u001B[38;5;167;01mValueError\u001B[39;00m(\u001B[38;5;124m\"\u001B[39m\u001B[38;5;124mAdditional pyogrio keywords are not yet supported\u001B[39m\u001B[38;5;124m\"\u001B[39m)\n\u001B[0;32m--> 103\u001B[0m total_size \u001B[38;5;241m=\u001B[39m \u001B[43mpyogrio\u001B[49m\u001B[38;5;241;43m.\u001B[39;49m\u001B[43mread_info\u001B[49m\u001B[43m(\u001B[49m\u001B[43mpath\u001B[49m\u001B[43m,\u001B[49m\u001B[43m \u001B[49m\u001B[43mlayer\u001B[49m\u001B[38;5;241;43m=\u001B[39;49m\u001B[43mlayer\u001B[49m\u001B[43m)\u001B[49m[\u001B[38;5;124m\"\u001B[39m\u001B[38;5;124mfeatures\u001B[39m\u001B[38;5;124m\"\u001B[39m]\n\u001B[1;32m    105\u001B[0m \u001B[38;5;28;01mif\u001B[39;00m chunksize \u001B[38;5;129;01mis\u001B[39;00m \u001B[38;5;28;01mNone\u001B[39;00m:\n\u001B[1;32m    106\u001B[0m     chunksize \u001B[38;5;241m=\u001B[39m \u001B[38;5;28mint\u001B[39m(ceil(total_size \u001B[38;5;241m/\u001B[39m npartitions))\n",
      "File \u001B[0;32m/gpfs/home/ashanmu1/seniorthesis/venv/lib/python3.10/site-packages/pyogrio/core.py:181\u001B[0m, in \u001B[0;36mread_info\u001B[0;34m(path_or_buffer, layer, encoding)\u001B[0m\n\u001B[1;32m    178\u001B[0m path, buffer \u001B[38;5;241m=\u001B[39m get_vsi_path(path_or_buffer)\n\u001B[1;32m    180\u001B[0m \u001B[38;5;28;01mtry\u001B[39;00m:\n\u001B[0;32m--> 181\u001B[0m     result \u001B[38;5;241m=\u001B[39m \u001B[43mogr_read_info\u001B[49m\u001B[43m(\u001B[49m\u001B[43mpath\u001B[49m\u001B[43m,\u001B[49m\u001B[43m \u001B[49m\u001B[43mlayer\u001B[49m\u001B[38;5;241;43m=\u001B[39;49m\u001B[43mlayer\u001B[49m\u001B[43m,\u001B[49m\u001B[43m \u001B[49m\u001B[43mencoding\u001B[49m\u001B[38;5;241;43m=\u001B[39;49m\u001B[43mencoding\u001B[49m\u001B[43m)\u001B[49m\n\u001B[1;32m    182\u001B[0m \u001B[38;5;28;01mfinally\u001B[39;00m:\n\u001B[1;32m    183\u001B[0m     \u001B[38;5;28;01mif\u001B[39;00m buffer \u001B[38;5;129;01mis\u001B[39;00m \u001B[38;5;129;01mnot\u001B[39;00m \u001B[38;5;28;01mNone\u001B[39;00m:\n",
      "File \u001B[0;32m/gpfs/home/ashanmu1/seniorthesis/venv/lib/python3.10/site-packages/pyogrio/_io.pyx:1188\u001B[0m, in \u001B[0;36mpyogrio._io.ogr_read_info\u001B[0;34m()\u001B[0m\n",
      "File \u001B[0;32m/gpfs/home/ashanmu1/seniorthesis/venv/lib/python3.10/site-packages/pyogrio/_io.pyx:140\u001B[0m, in \u001B[0;36mpyogrio._io.ogr_open\u001B[0;34m()\u001B[0m\n",
      "\u001B[0;31mDataSourceError\u001B[0m: ../../data/01_raw/Statewide_parcels_SHP/L3_TAXPAR_POLY_ASSESS_EAST.shp: No such file or directory"
     ]
    }
   ],
   "source": [
    "tax_parcel_columns_to_keep = ['LOC_ID', 'geometry']\n",
    "tax_parcels_gdf = pd.concat([dask_geopandas.read_file(INPUT_DATA_TAX_PARCELS_EAST,\n",
    "                                                      npartitions=8,\n",
    "                                                      columns=tax_parcel_columns_to_keep),\n",
    "                             dask_geopandas.read_file(INPUT_DATA_TAX_PARCELS_WEST,\n",
    "                                                      npartitions=8,\n",
    "                                                      columns=tax_parcel_columns_to_keep)], axis=0)\n",
    "tax_parcels_gdf = tax_parcels_gdf.to_crs(\"EPSG:4326\")\n",
    "tax_parcels_gdf = tax_parcels_gdf.dissolve(by='LOC_ID')\n",
    "tax_parcels_gdf.to_file(OUTPUT_DATA_TAX_PARCELS, driver='GPKG', layer='layer')"
   ],
   "metadata": {
    "collapsed": false
   }
  },
  {
   "cell_type": "markdown",
   "source": [],
   "metadata": {
    "collapsed": false
   }
  },
  {
   "cell_type": "markdown",
   "source": [],
   "metadata": {
    "collapsed": false
   }
  }
 ],
 "metadata": {
  "kernelspec": {
   "name": "venv",
   "language": "python",
   "display_name": "venv"
  },
  "language_info": {
   "codemirror_mode": {
    "name": "ipython",
    "version": 2
   },
   "file_extension": ".py",
   "mimetype": "text/x-python",
   "name": "python",
   "nbconvert_exporter": "python",
   "pygments_lexer": "ipython2",
   "version": "2.7.6"
  }
 },
 "nbformat": 4,
 "nbformat_minor": 0
}
