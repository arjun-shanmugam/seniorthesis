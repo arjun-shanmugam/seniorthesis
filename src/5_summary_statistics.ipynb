{
 "cells": [
  {
   "cell_type": "markdown",
   "id": "a3ec9a55-bce5-421c-97d3-6ca0e3e085d3",
   "metadata": {},
   "source": [
    "# Setup"
   ]
  },
  {
   "cell_type": "code",
   "execution_count": 1,
   "id": "b3b61854-5418-4688-84a4-e3f2933d946a",
   "metadata": {
    "ExecuteTime": {
     "end_time": "2023-08-22T20:10:43.408016Z",
     "start_time": "2023-08-22T20:10:42.079994Z"
    }
   },
   "outputs": [
    {
     "name": "stderr",
     "output_type": "stream",
     "text": [
      "/Users/ashanmu1/Documents/GitHub/seniorthesis/venv/lib/python3.10/site-packages/geopandas/_compat.py:123: UserWarning: The Shapely GEOS version (3.11.1-CAPI-1.17.1) is incompatible with the GEOS version PyGEOS was compiled with (3.10.4-CAPI-1.16.2). Conversions between both will be slow.\n",
      "  warnings.warn(\n",
      "/var/folders/d2/xc40wfzn765fbyjgk7fz021r0000gn/T/ipykernel_57322/1283802068.py:6: UserWarning: Shapely 2.0 is installed, but because PyGEOS is also installed, GeoPandas will still use PyGEOS by default for now. To force to use and test Shapely 2.0, you have to set the environment variable USE_PYGEOS=0. You can do this before starting the Python process, or in your code before importing geopandas:\n",
      "\n",
      "import os\n",
      "os.environ['USE_PYGEOS'] = '0'\n",
      "import geopandas\n",
      "\n",
      "In a future release, GeoPandas will switch to using Shapely by default. If you are using PyGEOS directly (calling PyGEOS functions on geometries from GeoPandas), this will then stop working and you are encouraged to migrate from PyGEOS to Shapely 2.0 (https://shapely.readthedocs.io/en/latest/migration_pygeos.html).\n",
      "  import geopandas as gpd\n"
     ]
    }
   ],
   "source": [
    "import contextily as cx\n",
    "import figure_utilities\n",
    "import statsmodels.api as sm\n",
    "import constants\n",
    "from stats_utilities import produce_summary_statistics, select_controls, test_balance\n",
    "import geopandas as gpd\n",
    "import matplotlib.pyplot as plt\n",
    "from panel_utilities import get_value_variable_names, prepare_df_for_DiD\n",
    "import numpy as np\n",
    "plt.rcParams['savefig.dpi'] = 300\n",
    "import statsmodels.api as sm\n",
    "import os\n",
    "import pandas as pd"
   ]
  },
  {
   "cell_type": "code",
   "execution_count": 2,
   "id": "f2fa6183-058d-4fef-8606-efcabc7e5dd1",
   "metadata": {
    "ExecuteTime": {
     "end_time": "2023-08-22T20:10:43.410511Z",
     "start_time": "2023-08-22T20:10:43.408814Z"
    }
   },
   "outputs": [],
   "source": [
    "# Store paths.\n",
    "INPUT_DATA_PANEL = \"../data/03_cleaned/crime_analysis_monthly.csv\"\n",
    "INPUT_DATA_TRACTS = \"../data/02_intermediate/tracts.csv\"\n",
    "INPUT_DATA_NEIGHBORHOOD_CRIME_COUNTS = \"../data/03_cleaned/neighborhood_crime_counts.csv\"\n",
    "INPUT_DATA_NEIGHBORHOODS = \"../data/01_raw/2015-2019_neighborhood_tables_2021.12.21.xlsm\"\n",
    "INPUT_DATA_BOSTON_TRACTS_SHAPEFILE = \"../data/01_raw/Census_2010_Tracts\"\n",
    "OUTPUT_TABLES = \"../output/final_paper/tables\"\n",
    "OUTPUT_FIGURES = \"../output/final_paper/figures\""
   ]
  },
  {
   "cell_type": "markdown",
   "id": "e9767a7f-6d03-4576-990c-390815c944b1",
   "metadata": {
    "tags": []
   },
   "source": [
    "# Summary Statistics"
   ]
  },
  {
   "cell_type": "markdown",
   "id": "2d078496-8609-434f-8965-ebfd148c5c5a",
   "metadata": {
    "tags": []
   },
   "source": [
    "## Crime Trends "
   ]
  },
  {
   "cell_type": "code",
   "execution_count": 3,
   "id": "c10fb21a-5ef9-492c-a482-d70be737fc54",
   "metadata": {
    "ExecuteTime": {
     "end_time": "2023-08-22T20:10:45.109980Z",
     "start_time": "2023-08-22T20:10:43.413067Z"
    }
   },
   "outputs": [],
   "source": [
    "# Read unrestricted dataset into memory.\n",
    "df = pd.read_csv(INPUT_DATA_PANEL)\n",
    "\n",
    "# Reshape to long\n",
    "triplet = get_value_variable_names(df, f\"group_0_crimes_{constants.Analysis.MAIN_RESULTS_RADIUS}m\")\n",
    "weekly_value_vars_crime, month_to_int_dictionary, _ = triplet\n",
    "df = pd.melt(df,\n",
    "             id_vars=['case_number',\n",
    "                      'judgment_for_plaintiff',\n",
    "                      'latest_docket_month'],\n",
    "             value_vars=weekly_value_vars_crime,\n",
    "             var_name='month')\n",
    "df.loc[:, 'month'] = df['month'].str[:7]  # Drop \"_group_0_crimes_500m\" from the end of each month\n",
    "\n",
    "# Replace months with integers\n",
    "df.loc[:, ['latest_docket_month', 'month']] = df[['latest_docket_month', 'month']].replace(month_to_int_dictionary)\n",
    "\n",
    "# Calculate crime levels during each month relative to treatment, separately for treatment and control gropu                                    \n",
    "df.loc[:, 'treatment_relative_month'] = df['month'] - df['latest_docket_month']\n",
    "df = df.groupby(['judgment_for_plaintiff', 'treatment_relative_month'])['value'].agg(['mean'])\n",
    "control_crime_trend = df.loc[(0, slice(constants.Analysis.MINIMUM_PRE_PERIOD,\n",
    "                                       constants.Analysis.MAXIMUM_POST_PERIOD)),\n",
    "                             :]\n",
    "treatment_crime_trend = df.loc[(1, slice(constants.Analysis.MINIMUM_PRE_PERIOD,\n",
    "                                         constants.Analysis.MAXIMUM_POST_PERIOD)),\n",
    "                               :]    \n",
    "fig, ax = plt.subplots()\n",
    "ax.plot(control_crime_trend.index.get_level_values(1),\n",
    "        control_crime_trend['mean'],\n",
    "        color='grey',\n",
    "        linestyle='--',\n",
    "        label=\"Properties where Tenant Won Eviction Case\")\n",
    "ax.plot(treatment_crime_trend.index.get_level_values(1),\n",
    "        treatment_crime_trend['mean'],\n",
    "        color='black',\n",
    "        linestyle='--',\n",
    "        label=\"Properties where Plaintiff Won Eviction Case\")\n",
    "figure_utilities.plot_labeled_vline(ax, x=0, text=\"Latest\\nDocket\\nDate\", color='black', linestyle='-',\n",
    "                       text_y_location_normalized=0.1)\n",
    "ax.set_xlabel(\"Month Relative to Latest Docket Date\")\n",
    "ax.set_ylabel(f\"Crime Incidents within {constants.Analysis.MAIN_RESULTS_RADIUS} Meters\")\n",
    "ax.legend()\n",
    "\n",
    "figure_utilities.save_figure_and_close(fig, os.path.join(OUTPUT_FIGURES, \"crime_trends.png\"))\n"
   ]
  },
  {
   "cell_type": "markdown",
   "id": "4d0c226d-339f-4462-9a1b-e9a7e55f054f",
   "metadata": {},
   "source": [
    "## Map of Evictions, Colored by Poverty Rate in Census Tract"
   ]
  },
  {
   "cell_type": "code",
   "execution_count": 4,
   "id": "2d4fdba9-e227-4f10-b853-a77712030e3f",
   "metadata": {
    "ExecuteTime": {
     "end_time": "2023-08-22T20:10:48.487188Z",
     "start_time": "2023-08-22T20:10:45.112208Z"
    }
   },
   "outputs": [],
   "source": [
    "# Read unrestricted dataset into memory.\n",
    "df = pd.read_csv(INPUT_DATA_PANEL)\n",
    "df = df.reset_index() # So we can use 'case_number' like a column\n",
    "\n",
    "# Create spatial data \n",
    "unrestricted_gdf = gpd.GeoDataFrame(df, geometry=gpd.points_from_xy(df['Longitude'], df['Latitude']))\n",
    "unrestricted_gdf = unrestricted_gdf.set_crs(\"EPSG:4326\")\n",
    "unrestricted_gdf = unrestricted_gdf.to_crs(\"EPSG:3857\")\n",
    "\n",
    "# Plot\n",
    "fig, ax = plt.subplots(figsize=(8, 10))\n",
    "ax.set_yticklabels([])\n",
    "ax.set_yticks([])\n",
    "ax.set_xticklabels([])\n",
    "ax.set_xticks([])\n",
    "unrestricted_gdf.plot(ax=ax,\n",
    "                      color='black',\n",
    "                      markersize=0.05)\n",
    "cx.add_basemap(ax=ax, crs=\"EPSG:3857\", source=cx.providers.CartoDB.Positron)\n",
    "\n",
    "# Color census tracts by poverty rate.\n",
    "boston_tracts_gdf = gpd.read_file(INPUT_DATA_BOSTON_TRACTS_SHAPEFILE)[['GEOID10', 'geometry']].set_index('GEOID10')\n",
    "boston_tracts_gdf.index = boston_tracts_gdf.index.astype(int)\n",
    "tract_poverty_rates_df = pd.read_csv(INPUT_DATA_TRACTS, usecols=['tract_geoid', 'poor_share2010'],\n",
    "                                     index_col='tract_geoid')\n",
    "boston_tracts_gdf = pd.concat([boston_tracts_gdf, tract_poverty_rates_df], axis=1).dropna(\n",
    "    subset=['geometry', 'poor_share2010']).drop(index=25025990101)\n",
    "boston_tracts_gdf.plot(ax=ax, column=boston_tracts_gdf['poor_share2010'], cmap='OrRd', alpha=0.4, legend=True,\n",
    "                       legend_kwds={'label': \"Poverty Rate of Census Tract\",\n",
    "                                    'orientation': \"horizontal\",\n",
    "                                    'shrink': 0.25})\n",
    "\n",
    "figure_utilities.save_figure_and_close(fig, os.path.join(OUTPUT_FIGURES, \"evictions_map.png\"))"
   ]
  },
  {
   "cell_type": "markdown",
   "source": [
    "## Binscatter of Crime and Eviction on Poverty"
   ],
   "metadata": {
    "collapsed": false
   }
  },
  {
   "cell_type": "code",
   "execution_count": 5,
   "outputs": [],
   "source": [
    "neighborhoods = pd.concat([(pd.read_csv(INPUT_DATA_NEIGHBORHOOD_CRIME_COUNTS, index_col='neighborhood')\n",
    "                            .drop(index=['Bay Village', 'Leather District'])),\n",
    "                           (df.groupby('neighborhood')['judgment_for_plaintiff']\n",
    "                            .count()\n",
    "                            .drop(index=['Bay Village'])\n",
    "                            .rename('eviction_filings'))], axis=1)\n",
    "neighborhood_populations = (pd.read_excel(INPUT_DATA_NEIGHBORHOODS, sheet_name=\"Age\", usecols=[0, 1], header=5, skiprows=lambda row: row > 27)\n",
    "                            .rename(columns={'Boston': 'neighborhood', 684379: 'population'})\n",
    "                            .set_index('neighborhood'))\n",
    "neighborhood_poverty_rates = (pd.read_excel(INPUT_DATA_NEIGHBORHOODS, sheet_name=\"Poverty Rates\", usecols=[0, 3], header=5, skiprows=lambda row: row > 27)\n",
    "                              .rename(columns={'Boston': 'neighborhood',  0.18914243501949649: 'poverty_rate'})\n",
    "                              .set_index('neighborhood'))\n",
    "neighborhoods = (neighborhoods\n",
    "                 .merge(neighborhood_poverty_rates, how='left', left_index=True, right_index=True)\n",
    "                 .merge(neighborhood_populations, how='left', left_index=True, right_index=True))\n",
    "\n",
    "neighborhoods.loc[:, ['eviction_filings_per_resident', 'total_crimes_per_resident']] = (neighborhoods[['eviction_filings', 'total_crimes']]\n",
    "                                                                                        .divide(neighborhoods['population'], axis=0)).values\n",
    "neighborhoods.loc[:, ['eviction_filings_per_1000_residents']] = neighborhoods['eviction_filings_per_resident'] * 1000\n",
    "\n",
    "fig, (ax1, ax2) = plt.subplots(1, 2, tight_layout=True)\n",
    "ax1.scatter(neighborhoods.dropna()['poverty_rate'],\n",
    "           neighborhoods.dropna()['total_crimes_per_resident'],\n",
    "           c='black')\n",
    "ax1.set_ylabel(\"Crimes per Resident\")\n",
    "ax1.set_xlabel(\"Poverty Rate\")\n",
    "ax2.scatter(neighborhoods.dropna()['poverty_rate'],\n",
    "           neighborhoods.dropna()['eviction_filings_per_1000_residents'],\n",
    "           c='black')\n",
    "ax2.set_ylabel(\"Eviction Filings per 1000 Residents\")\n",
    "ax2.set_xlabel(\"Poverty Rate\")\n",
    "\n",
    "\n",
    "\n",
    "def label_points(xs, ys, labels, ax):\n",
    "    for x, y, label in zip(xs, ys, labels):\n",
    "        if label in [\"Roxbury\", \"South End\", \"West End\", \"Chinatown\", \"Mattapan\", \"Mission Hill\", \"Dorchester\", \"Jamaica Plain\",\n",
    "                     \"Roslindale\", \"Back Bay\"]:\n",
    "            ax.text(x, y, label, horizontalalignment='center', fontsize='small')\n",
    "label_points(neighborhoods.dropna().loc[:, 'poverty_rate'] - 0.04,\n",
    "             neighborhoods.dropna().loc[:, 'total_crimes_per_resident'] + 0.005 ,\n",
    "             neighborhoods.dropna().index,\n",
    "             ax1)\n",
    "label_points(neighborhoods.dropna().loc[:, 'poverty_rate'] + 0.04,\n",
    "             neighborhoods.dropna().loc[:, 'eviction_filings_per_1000_residents'] + 0.1,\n",
    "             neighborhoods.dropna().index,\n",
    "             ax2)\n",
    "\n",
    "\n",
    "\n",
    "for ax, variable, text_y_position in zip([ax1, ax2], ['total_crimes_per_resident', 'eviction_filings_per_1000_residents'], [0.35*(5.75/6), 5.75]):\n",
    "    result = sm.WLS(endog=neighborhoods[variable],\n",
    "                    exog=sm.add_constant(neighborhoods['poverty_rate']),\n",
    "                    weights=neighborhoods['eviction_filings'],\n",
    "                    missing='drop').fit()\n",
    "\n",
    "    x_vals = [0.0, 0.4]\n",
    "    y_vals = [result.params.iloc[0], result.params.iloc[0] + result.params.iloc[1] * 0.4]\n",
    "    ax.plot(x_vals, y_vals, '-', c='black')\n",
    "\n",
    "    text = \"$\\\\frac{\\\\beta}{10}=\" + str(round(result.params.iloc[1] / 10, 2)) + \"$\" + \" (\" + str(round(result.bse.iloc[1] / 10, 2)) + \")\"\n",
    "    ax.text(0.0, text_y_position, text)\n",
    "figure_utilities.save_figure_and_close(fig, os.path.join(OUTPUT_FIGURES, \"evictions_binscatter.png\"))"
   ],
   "metadata": {
    "collapsed": false,
    "ExecuteTime": {
     "end_time": "2023-08-22T20:10:48.952297Z",
     "start_time": "2023-08-22T20:10:48.492558Z"
    }
   }
  },
  {
   "cell_type": "markdown",
   "source": [
    "## Eviction Filings Over Time"
   ],
   "metadata": {
    "collapsed": false
   }
  },
  {
   "cell_type": "code",
   "execution_count": 6,
   "id": "449c0077-c2b3-4d73-a4b3-ec0362da8a73",
   "metadata": {
    "ExecuteTime": {
     "end_time": "2023-08-22T20:10:49.151961Z",
     "start_time": "2023-08-22T20:10:48.953955Z"
    }
   },
   "outputs": [],
   "source": [
    "# Plot the number of eviction filings over time.\n",
    "df.loc[:, 'last_day_of_file_month'] = (pd.to_datetime(df['file_date']) +\n",
    "                                       pd.tseries.offsets.MonthEnd(0))\n",
    "filings_per_month = df.groupby('last_day_of_file_month')['case_number'].count()\n",
    "\n",
    "# Plot eviction filing counts.\n",
    "fig, ax = plt.subplots()\n",
    "filings_per_month.plot(ax=ax, kind='line', color='black',\n",
    "                       zorder=100)\n",
    "ax.set_ylabel(\"Number of Evictions\")\n",
    "ax.set_xlabel(\"Month\")\n",
    "ax.grid(True)\n",
    "figure_utilities.save_figure_and_close(fig, os.path.join(OUTPUT_FIGURES, \"filings_over_time.png\"))\n"
   ]
  },
  {
   "cell_type": "code",
   "execution_count": 7,
   "id": "a5e109df-ed26-4b8a-af96-7ff95a7e0c6a",
   "metadata": {
    "ExecuteTime": {
     "end_time": "2023-08-22T20:10:49.522813Z",
     "start_time": "2023-08-22T20:10:49.154571Z"
    }
   },
   "outputs": [
    {
     "data": {
      "text/plain": "                                                                                                  mean  \\\nPanel                                 Variable                                                           \nPanel A: Pre-treatment Outcomes       pre_treatment_change_in_group_0_crimes_300m           -63.256957   \n                                      relative_pre_treatment_change_in_group_0_crimes...     -6.120782   \n                                      total_twenty_seventeen_group_0_crimes_300m            470.282416   \nPanel B: Census Tract Characteristics frac_coll_plus2010                                      0.315315   \n                                      job_density_2013                                    16714.101631   \n                                      med_hhinc2016                                       46250.259325   \n                                      poor_share2010                                          0.288777   \n                                      popdensity2010                                      23449.588205   \n                                      share_white2010                                         0.314013   \nPanel C: Case Initiation              for_cause                                               0.114269   \n                                      isEntityD                                               0.023683   \n                                      non_payment                                             0.762581   \nPanel D: Case Resolution              case_duration                                          20.096552   \n                                      defaulted                                               0.464180   \n                                      dismissed                                               0.433985   \n                                      judgment                                             1488.317940   \n\n                                                                                                   std  \\\nPanel                                 Variable                                                           \nPanel A: Pre-treatment Outcomes       pre_treatment_change_in_group_0_crimes_300m           135.221051   \n                                      relative_pre_treatment_change_in_group_0_crimes...     29.007428   \n                                      total_twenty_seventeen_group_0_crimes_300m            326.841123   \nPanel B: Census Tract Characteristics frac_coll_plus2010                                      0.216676   \n                                      job_density_2013                                    43368.358735   \n                                      med_hhinc2016                                       24935.086199   \n                                      poor_share2010                                          0.152398   \n                                      popdensity2010                                      14401.768551   \n                                      share_white2010                                         0.268460   \nPanel C: Case Initiation              for_cause                                               0.318232   \n                                      isEntityD                                               0.152104   \n                                      non_payment                                             0.425627   \nPanel D: Case Resolution              case_duration                                          25.060743   \n                                      defaulted                                               0.498863   \n                                      dismissed                                               0.495770   \n                                      judgment                                             3429.810758   \n\n                                                                                           count  \nPanel                                 Variable                                                    \nPanel A: Pre-treatment Outcomes       pre_treatment_change_in_group_0_crimes_300m         1689.0  \n                                      relative_pre_treatment_change_in_group_0_crimes...  1689.0  \n                                      total_twenty_seventeen_group_0_crimes_300m          1689.0  \nPanel B: Census Tract Characteristics frac_coll_plus2010                                  1689.0  \n                                      job_density_2013                                    1689.0  \n                                      med_hhinc2016                                       1689.0  \n                                      poor_share2010                                      1689.0  \n                                      popdensity2010                                      1689.0  \n                                      share_white2010                                     1689.0  \nPanel C: Case Initiation              for_cause                                           1689.0  \n                                      isEntityD                                           1689.0  \n                                      non_payment                                         1689.0  \nPanel D: Case Resolution              case_duration                                       1595.0  \n                                      defaulted                                           1689.0  \n                                      dismissed                                           1689.0  \n                                      judgment                                            1689.0  ",
      "text/html": "<div>\n<style scoped>\n    .dataframe tbody tr th:only-of-type {\n        vertical-align: middle;\n    }\n\n    .dataframe tbody tr th {\n        vertical-align: top;\n    }\n\n    .dataframe thead th {\n        text-align: right;\n    }\n</style>\n<table border=\"1\" class=\"dataframe\">\n  <thead>\n    <tr style=\"text-align: right;\">\n      <th></th>\n      <th></th>\n      <th>mean</th>\n      <th>std</th>\n      <th>count</th>\n    </tr>\n    <tr>\n      <th>Panel</th>\n      <th>Variable</th>\n      <th></th>\n      <th></th>\n      <th></th>\n    </tr>\n  </thead>\n  <tbody>\n    <tr>\n      <th rowspan=\"3\" valign=\"top\">Panel A: Pre-treatment Outcomes</th>\n      <th>pre_treatment_change_in_group_0_crimes_300m</th>\n      <td>-63.256957</td>\n      <td>135.221051</td>\n      <td>1689.0</td>\n    </tr>\n    <tr>\n      <th>relative_pre_treatment_change_in_group_0_crimes_300m</th>\n      <td>-6.120782</td>\n      <td>29.007428</td>\n      <td>1689.0</td>\n    </tr>\n    <tr>\n      <th>total_twenty_seventeen_group_0_crimes_300m</th>\n      <td>470.282416</td>\n      <td>326.841123</td>\n      <td>1689.0</td>\n    </tr>\n    <tr>\n      <th rowspan=\"6\" valign=\"top\">Panel B: Census Tract Characteristics</th>\n      <th>frac_coll_plus2010</th>\n      <td>0.315315</td>\n      <td>0.216676</td>\n      <td>1689.0</td>\n    </tr>\n    <tr>\n      <th>job_density_2013</th>\n      <td>16714.101631</td>\n      <td>43368.358735</td>\n      <td>1689.0</td>\n    </tr>\n    <tr>\n      <th>med_hhinc2016</th>\n      <td>46250.259325</td>\n      <td>24935.086199</td>\n      <td>1689.0</td>\n    </tr>\n    <tr>\n      <th>poor_share2010</th>\n      <td>0.288777</td>\n      <td>0.152398</td>\n      <td>1689.0</td>\n    </tr>\n    <tr>\n      <th>popdensity2010</th>\n      <td>23449.588205</td>\n      <td>14401.768551</td>\n      <td>1689.0</td>\n    </tr>\n    <tr>\n      <th>share_white2010</th>\n      <td>0.314013</td>\n      <td>0.268460</td>\n      <td>1689.0</td>\n    </tr>\n    <tr>\n      <th rowspan=\"3\" valign=\"top\">Panel C: Case Initiation</th>\n      <th>for_cause</th>\n      <td>0.114269</td>\n      <td>0.318232</td>\n      <td>1689.0</td>\n    </tr>\n    <tr>\n      <th>isEntityD</th>\n      <td>0.023683</td>\n      <td>0.152104</td>\n      <td>1689.0</td>\n    </tr>\n    <tr>\n      <th>non_payment</th>\n      <td>0.762581</td>\n      <td>0.425627</td>\n      <td>1689.0</td>\n    </tr>\n    <tr>\n      <th rowspan=\"4\" valign=\"top\">Panel D: Case Resolution</th>\n      <th>case_duration</th>\n      <td>20.096552</td>\n      <td>25.060743</td>\n      <td>1595.0</td>\n    </tr>\n    <tr>\n      <th>defaulted</th>\n      <td>0.464180</td>\n      <td>0.498863</td>\n      <td>1689.0</td>\n    </tr>\n    <tr>\n      <th>dismissed</th>\n      <td>0.433985</td>\n      <td>0.495770</td>\n      <td>1689.0</td>\n    </tr>\n    <tr>\n      <th>judgment</th>\n      <td>1488.317940</td>\n      <td>3429.810758</td>\n      <td>1689.0</td>\n    </tr>\n  </tbody>\n</table>\n</div>"
     },
     "execution_count": 7,
     "metadata": {},
     "output_type": "execute_result"
    }
   ],
   "source": [
    "# Read unrestricted dataset into memory.\n",
    "df = pd.read_csv(INPUT_DATA_PANEL)\n",
    "df = df.reset_index() # So we can use 'case_number' like a column\n",
    "\n",
    "# Produce summary statistics table.\n",
    "treatment_date_variable = 'latest_docket_date'\n",
    "outcomes_of_interest = [f'group_0_crimes_{constants.Analysis.MAIN_RESULTS_RADIUS}m']\n",
    "summary_statistics_unrestricted, variable_display_names_dict = produce_summary_statistics(df)\n",
    "\n",
    "# Rename columns.\n",
    "summary_statistics_unrestricted.index = summary_statistics_unrestricted.index.set_names([\"Panel\", \"Variable\"])\n",
    "column_display_names_dict = {'mean': \"Mean\", 'std': \"S.D.\", 'count': \"N\", '50%': 'Median'}\n",
    "\n",
    "summary_statistics_unrestricted = summary_statistics_unrestricted.sort_values(['Panel', 'Variable'])\n",
    "# Keep only outcomes of interest\n",
    "outcomes = constants.Variables.outcomes.copy()\n",
    "for outcome in outcomes:\n",
    "    if outcome not in outcomes_of_interest:\n",
    "        if f\"relative_pre_treatment_change_in_{outcome}\" in summary_statistics_unrestricted.index.get_level_values(1):\n",
    "            summary_statistics_unrestricted = summary_statistics_unrestricted.drop(f\"relative_pre_treatment_change_in_{outcome}\",\n",
    "                                                                                   level=1, axis=0)\n",
    "        if f\"pre_treatment_change_in_{outcome}\" in summary_statistics_unrestricted.index.get_level_values(1):\n",
    "            summary_statistics_unrestricted = summary_statistics_unrestricted.drop(f\"pre_treatment_change_in_{outcome}\",\n",
    "                                                                                   level=1, axis=0)\n",
    "        if f\"total_twenty_seventeen_{outcome}\" in summary_statistics_unrestricted.index.get_level_values(1):\n",
    "            summary_statistics_unrestricted = summary_statistics_unrestricted.drop(f\"total_twenty_seventeen_{outcome}\",\n",
    "                                                                                   level=1, axis=0)\n",
    "\n",
    "# Drop median column.\n",
    "summary_statistics_unrestricted = summary_statistics_unrestricted.drop(columns='50%')\n",
    "\n",
    "# Export to LaTeX.\n",
    "filename = os.path.join(OUTPUT_TABLES, \"summary_statistics.tex\")\n",
    "latex = (summary_statistics_unrestricted\n",
    "         .rename(index=variable_display_names_dict)\n",
    "         .rename(columns=column_display_names_dict)\n",
    "         .style\n",
    "         .format(formatter={\n",
    "    'Mean': \"{:,.2f}\",\n",
    "    'Median': \"{:,.2f}\",\n",
    "    'S.D.': \"{:,.2f}\",\n",
    "    'N': \"{:,.0f}\"})\n",
    "         .format_index(\"\\\\textit{{{}}}\", escape=\"latex\", axis=0, level=0)\n",
    "         .to_latex(None,\n",
    "                   column_format=\"llcccc\",\n",
    "                   hrules=True,\n",
    "                   clines=\"skip-last;data\")).replace(\"{*}\", \"{3cm}\")\n",
    "with open(filename, 'w') as file:\n",
    "    file.write(latex)\n",
    "summary_statistics_unrestricted"
   ]
  },
  {
   "cell_type": "code",
   "execution_count": 8,
   "id": "cfea1a77-c928-478d-b750-268bd1bcb3ac",
   "metadata": {
    "ExecuteTime": {
     "end_time": "2023-08-22T20:10:49.532414Z",
     "start_time": "2023-08-22T20:10:49.524256Z"
    }
   },
   "outputs": [
    {
     "data": {
      "text/plain": "                  Cases Won By Defendant  Cases Won By Plaintiff  \\\nLast Docket Date                                                   \nAll Months                         734.0                   955.0   \n2019-04                              1.0                     5.0   \n2019-05                              1.0                     7.0   \n2019-06                             51.0                    24.0   \n2019-07                             64.0                    47.0   \n2019-08                             68.0                   110.0   \n2019-09                             76.0                   101.0   \n2019-10                             90.0                    98.0   \n2019-11                             62.0                    76.0   \n2019-12                             67.0                    75.0   \n2020-01                             78.0                   126.0   \n2020-02                             84.0                   133.0   \n2020-03                             92.0                   153.0   \n\n                  Portion of All Cases  \nLast Docket Date                        \nAll Months                    1.000000  \n2019-04                       0.003552  \n2019-05                       0.004737  \n2019-06                       0.044405  \n2019-07                       0.065719  \n2019-08                       0.105388  \n2019-09                       0.104796  \n2019-10                       0.111308  \n2019-11                       0.081705  \n2019-12                       0.084073  \n2020-01                       0.120782  \n2020-02                       0.128478  \n2020-03                       0.145056  ",
      "text/html": "<div>\n<style scoped>\n    .dataframe tbody tr th:only-of-type {\n        vertical-align: middle;\n    }\n\n    .dataframe tbody tr th {\n        vertical-align: top;\n    }\n\n    .dataframe thead th {\n        text-align: right;\n    }\n</style>\n<table border=\"1\" class=\"dataframe\">\n  <thead>\n    <tr style=\"text-align: right;\">\n      <th></th>\n      <th>Cases Won By Defendant</th>\n      <th>Cases Won By Plaintiff</th>\n      <th>Portion of All Cases</th>\n    </tr>\n    <tr>\n      <th>Last Docket Date</th>\n      <th></th>\n      <th></th>\n      <th></th>\n    </tr>\n  </thead>\n  <tbody>\n    <tr>\n      <th>All Months</th>\n      <td>734.0</td>\n      <td>955.0</td>\n      <td>1.000000</td>\n    </tr>\n    <tr>\n      <th>2019-04</th>\n      <td>1.0</td>\n      <td>5.0</td>\n      <td>0.003552</td>\n    </tr>\n    <tr>\n      <th>2019-05</th>\n      <td>1.0</td>\n      <td>7.0</td>\n      <td>0.004737</td>\n    </tr>\n    <tr>\n      <th>2019-06</th>\n      <td>51.0</td>\n      <td>24.0</td>\n      <td>0.044405</td>\n    </tr>\n    <tr>\n      <th>2019-07</th>\n      <td>64.0</td>\n      <td>47.0</td>\n      <td>0.065719</td>\n    </tr>\n    <tr>\n      <th>2019-08</th>\n      <td>68.0</td>\n      <td>110.0</td>\n      <td>0.105388</td>\n    </tr>\n    <tr>\n      <th>2019-09</th>\n      <td>76.0</td>\n      <td>101.0</td>\n      <td>0.104796</td>\n    </tr>\n    <tr>\n      <th>2019-10</th>\n      <td>90.0</td>\n      <td>98.0</td>\n      <td>0.111308</td>\n    </tr>\n    <tr>\n      <th>2019-11</th>\n      <td>62.0</td>\n      <td>76.0</td>\n      <td>0.081705</td>\n    </tr>\n    <tr>\n      <th>2019-12</th>\n      <td>67.0</td>\n      <td>75.0</td>\n      <td>0.084073</td>\n    </tr>\n    <tr>\n      <th>2020-01</th>\n      <td>78.0</td>\n      <td>126.0</td>\n      <td>0.120782</td>\n    </tr>\n    <tr>\n      <th>2020-02</th>\n      <td>84.0</td>\n      <td>133.0</td>\n      <td>0.128478</td>\n    </tr>\n    <tr>\n      <th>2020-03</th>\n      <td>92.0</td>\n      <td>153.0</td>\n      <td>0.145056</td>\n    </tr>\n  </tbody>\n</table>\n</div>"
     },
     "execution_count": 8,
     "metadata": {},
     "output_type": "execute_result"
    }
   ],
   "source": [
    "# Produce treatment timings table.\n",
    "treatment_timings = (df\n",
    "                     .groupby(['latest_docket_month', 'judgment_for_plaintiff'])['case_number']\n",
    "                     .count()\n",
    "                     .reset_index()\n",
    "                     .fillna(0))\n",
    "treatment_timings = treatment_timings.pivot(index='latest_docket_month', columns='judgment_for_plaintiff').fillna(0)\n",
    "treatment_timings.columns = [\"Cases Won By Defendant\", \"Cases Won By Plaintiff\"]\n",
    "portion_of_all_cases = (treatment_timings['Cases Won By Plaintiff'] + treatment_timings[\n",
    "    'Cases Won By Defendant']) / len(df)\n",
    "treatment_timings = pd.concat([treatment_timings, portion_of_all_cases.rename('Portion of All Cases')], axis=1)\n",
    "sum_across_filing_date = pd.DataFrame(treatment_timings.sum(axis=0)).T\n",
    "sum_across_filing_date.index = [\"All Months\"]\n",
    "treatment_timings = pd.concat([sum_across_filing_date, treatment_timings], axis=0)\n",
    "treatment_timings.index = treatment_timings.index.rename(\"Last Docket Date\")\n",
    "\n",
    "# Export to LaTeX.\n",
    "filename = os.path.join(OUTPUT_TABLES, \"treatment_timings.tex\")\n",
    "treatment_timings.style.format(formatter={'Cases Won By Plaintiff': '{:,.0f}',\n",
    "                                          'Cases Won By Defendant': '{:,.0f}',\n",
    "                                          'Portion of All Cases': '{:0.2f}'}).to_latex(filename, column_format=\"lccc\",\n",
    "                                                                                       hrules=True)\n",
    "treatment_timings"
   ]
  },
  {
   "cell_type": "code",
   "execution_count": 9,
   "id": "bd6c8b3f-eba4-42a8-8690-2b4a55f8c823",
   "metadata": {
    "ExecuteTime": {
     "end_time": "2023-08-22T20:10:49.540389Z",
     "start_time": "2023-08-22T20:10:49.533209Z"
    }
   },
   "outputs": [
    {
     "data": {
      "text/plain": "0.6408376963350786"
     },
     "execution_count": 9,
     "metadata": {},
     "output_type": "execute_result"
    }
   ],
   "source": [
    "# Calculate percent of cases which are in high poverty neighborhoods.\n",
    "df = df.loc[df['judgment_for_plaintiff'] == 1, :]\n",
    "original_N = len(df)\n",
    "cases_in_poor_tracts = len(df.loc[df['poor_share2010'] > 0.20, :])\n",
    "cases_in_poor_tracts / original_N"
   ]
  }
 ],
 "metadata": {
  "kernelspec": {
   "display_name": "venv",
   "language": "python",
   "name": "venv"
  },
  "language_info": {
   "codemirror_mode": {
    "name": "ipython",
    "version": 3
   },
   "file_extension": ".py",
   "mimetype": "text/x-python",
   "name": "python",
   "nbconvert_exporter": "python",
   "pygments_lexer": "ipython3",
   "version": "3.10.8"
  }
 },
 "nbformat": 4,
 "nbformat_minor": 5
}
