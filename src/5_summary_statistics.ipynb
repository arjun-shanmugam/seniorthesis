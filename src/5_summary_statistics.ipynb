{
 "cells": [
  {
   "cell_type": "markdown",
   "id": "a3ec9a55-bce5-421c-97d3-6ca0e3e085d3",
   "metadata": {},
   "source": [
    "# Setup"
   ]
  },
  {
   "cell_type": "code",
   "execution_count": 14,
   "id": "b3b61854-5418-4688-84a4-e3f2933d946a",
   "metadata": {
    "ExecuteTime": {
     "end_time": "2023-11-24T19:22:42.371628Z",
     "start_time": "2023-11-24T19:22:42.368463Z"
    }
   },
   "outputs": [],
   "source": [
    "import contextily as cx\n",
    "import figure_utilities\n",
    "import statsmodels.api as sm\n",
    "import constants\n",
    "from stats_utilities import produce_summary_statistics, select_controls, test_balance\n",
    "import geopandas as gpd\n",
    "import matplotlib.pyplot as plt\n",
    "from panel_utilities import get_value_variable_names, prepare_df_for_DiD\n",
    "import numpy as np\n",
    "plt.rcParams['savefig.dpi'] = 300\n",
    "import statsmodels.api as sm\n",
    "import os\n",
    "import pandas as pd"
   ]
  },
  {
   "cell_type": "code",
   "execution_count": 15,
   "id": "f2fa6183-058d-4fef-8606-efcabc7e5dd1",
   "metadata": {
    "ExecuteTime": {
     "end_time": "2023-11-24T19:22:42.376500Z",
     "start_time": "2023-11-24T19:22:42.374738Z"
    }
   },
   "outputs": [],
   "source": [
    "# Store paths.\n",
    "INPUT_DATA_PANEL = \"../data/03_cleaned/crime_analysis_monthly.csv\"\n",
    "INPUT_DATA_TRACTS = \"../data/02_intermediate/tracts.csv\"\n",
    "INPUT_DATA_NEIGHBORHOOD_CRIME_COUNTS = \"../data/03_cleaned/neighborhood_crime_counts.csv\"\n",
    "INPUT_DATA_NEIGHBORHOODS = \"../data/01_raw/2015-2019_neighborhood_tables_2021.12.21.xlsm\"\n",
    "INPUT_DATA_BOSTON_TRACTS_SHAPEFILE = \"../data/01_raw/Census_2010_Tracts\"\n",
    "OUTPUT_TABLES = \"../output/final_paper/tables\"\n",
    "OUTPUT_FIGURES = \"../output/final_paper/figures\""
   ]
  },
  {
   "cell_type": "markdown",
   "id": "e9767a7f-6d03-4576-990c-390815c944b1",
   "metadata": {
    "tags": []
   },
   "source": [
    "# Summary Statistics"
   ]
  },
  {
   "cell_type": "markdown",
   "id": "4d0c226d-339f-4462-9a1b-e9a7e55f054f",
   "metadata": {},
   "source": [
    "## Map of Evictions, Colored by Poverty Rate in Census Tract"
   ]
  },
  {
   "cell_type": "code",
   "execution_count": 16,
   "id": "2d4fdba9-e227-4f10-b853-a77712030e3f",
   "metadata": {
    "ExecuteTime": {
     "end_time": "2023-11-24T19:22:43.921546Z",
     "start_time": "2023-11-24T19:22:42.377274Z"
    }
   },
   "outputs": [],
   "source": [
    "# Read unrestricted dataset into memory.\n",
    "df = pd.read_csv(INPUT_DATA_PANEL)\n",
    "df = df.reset_index() # So we can use 'case_number' like a column\n",
    "\n",
    "# Create spatial data \n",
    "unrestricted_gdf = gpd.GeoDataFrame(df, geometry=gpd.points_from_xy(df['Longitude'], df['Latitude']))\n",
    "unrestricted_gdf = unrestricted_gdf.set_crs(\"EPSG:4326\")\n",
    "unrestricted_gdf = unrestricted_gdf.to_crs(\"EPSG:3857\")\n",
    "\n",
    "# Plot\n",
    "fig, ax = plt.subplots(figsize=(8, 10))\n",
    "ax.set_yticklabels([])\n",
    "ax.set_yticks([])\n",
    "ax.set_xticklabels([])\n",
    "ax.set_xticks([])\n",
    "unrestricted_gdf.plot(ax=ax,\n",
    "                      color='black',\n",
    "                      markersize=0.05)\n",
    "cx.add_basemap(ax=ax, crs=\"EPSG:3857\", source=cx.providers.CartoDB.Positron)\n",
    "\n",
    "# Color census tracts by poverty rate.\n",
    "boston_tracts_gdf = gpd.read_file(INPUT_DATA_BOSTON_TRACTS_SHAPEFILE)[['GEOID10', 'geometry']].set_index('GEOID10')\n",
    "boston_tracts_gdf.index = boston_tracts_gdf.index.astype(int)\n",
    "tract_poverty_rates_df = pd.read_csv(INPUT_DATA_TRACTS, usecols=['tract_geoid', 'poor_share2010'],\n",
    "                                     index_col='tract_geoid')\n",
    "boston_tracts_gdf = pd.concat([boston_tracts_gdf, tract_poverty_rates_df], axis=1).dropna(\n",
    "    subset=['geometry', 'poor_share2010']).drop(index=25025990101)\n",
    "boston_tracts_gdf.plot(ax=ax, column=boston_tracts_gdf['poor_share2010'], cmap='OrRd', alpha=0.4, legend=True,\n",
    "                       legend_kwds={'label': \"Poverty Rate of Census Tract\",\n",
    "                                    'orientation': \"horizontal\",\n",
    "                                    'shrink': 0.25})\n",
    "\n",
    "figure_utilities.save_figure_and_close(fig, os.path.join(OUTPUT_FIGURES, \"evictions_map.png\"))"
   ]
  },
  {
   "cell_type": "markdown",
   "source": [
    "## Eviction Filings Over Time"
   ],
   "metadata": {
    "collapsed": false
   }
  },
  {
   "cell_type": "code",
   "execution_count": 17,
   "id": "449c0077-c2b3-4d73-a4b3-ec0362da8a73",
   "metadata": {
    "ExecuteTime": {
     "end_time": "2023-11-24T19:22:44.346984Z",
     "start_time": "2023-11-24T19:22:43.926329Z"
    }
   },
   "outputs": [],
   "source": [
    "# Plot the number of eviction filings over time.\n",
    "df.loc[:, 'last_day_of_file_month'] = (pd.to_datetime(df['file_date']) +\n",
    "                                       pd.tseries.offsets.MonthEnd(0))\n",
    "filings_per_month = df.groupby('last_day_of_file_month')['case_number'].count()\n",
    "\n",
    "# Plot eviction filing counts.\n",
    "fig, ax = plt.subplots()\n",
    "filings_per_month.plot(ax=ax, kind='line', color='black',\n",
    "                       zorder=100)\n",
    "ax.set_ylabel(\"Number of Evictions\")\n",
    "ax.set_xlabel(\"Month\")\n",
    "ax.grid(True)\n",
    "figure_utilities.save_figure_and_close(fig, os.path.join(OUTPUT_FIGURES, \"filings_over_time.png\"))\n"
   ]
  },
  {
   "cell_type": "code",
   "execution_count": 18,
   "id": "a5e109df-ed26-4b8a-af96-7ff95a7e0c6a",
   "metadata": {
    "ExecuteTime": {
     "end_time": "2023-11-24T19:22:44.656837Z",
     "start_time": "2023-11-24T19:22:44.350549Z"
    }
   },
   "outputs": [
    {
     "data": {
      "text/plain": "                                                                                                  mean  \\\nPanel                                 Variable                                                           \nPanel A: Pre-treatment Outcomes       pre_treatment_change_in_group_0_crimes_250m           -43.568679   \n                                      relative_pre_treatment_change_in_group_0_crimes...     -3.830126   \n                                      total_twenty_seventeen_group_0_crimes_250m            349.495023   \nPanel B: Census Tract Characteristics frac_coll_plus2010                                      0.322629   \n                                      job_density_2013                                    18066.397982   \n                                      med_hhinc2016                                       46685.742535   \n                                      poor_share2010                                          0.286367   \n                                      popdensity2010                                      23259.527496   \n                                      share_white2010                                         0.314273   \nPanel C: Case Initiation              for_cause                                               0.140677   \n                                      hasAttyD                                                0.028534   \n                                      hasAttyP                                                0.897810   \n                                      no_cause                                                0.047777   \n                                      non_payment                                             0.811546   \nPanel D: Case Resolution              case_duration                                          18.398806   \n                                      defaulted                                               0.500995   \n                                      dismissed                                               0.473789   \n                                      heard                                                   0.025216   \n                                      judgment                                             1579.941175   \n\n                                                                                                   std  \\\nPanel                                 Variable                                                           \nPanel A: Pre-treatment Outcomes       pre_treatment_change_in_group_0_crimes_250m           121.045313   \n                                      relative_pre_treatment_change_in_group_0_crimes...     26.445119   \n                                      total_twenty_seventeen_group_0_crimes_250m            263.922444   \nPanel B: Census Tract Characteristics frac_coll_plus2010                                      0.218759   \n                                      job_density_2013                                    45507.927709   \n                                      med_hhinc2016                                       25233.006826   \n                                      poor_share2010                                          0.148444   \n                                      popdensity2010                                      14182.431408   \n                                      share_white2010                                         0.271775   \nPanel C: Case Initiation              for_cause                                               0.347803   \n                                      hasAttyD                                                0.166547   \n                                      hasAttyP                                                0.302998   \n                                      no_cause                                                0.213365   \n                                      non_payment                                             0.391204   \nPanel D: Case Resolution              case_duration                                          21.316519   \n                                      defaulted                                               0.500165   \n                                      dismissed                                               0.499478   \n                                      heard                                                   0.156832   \n                                      judgment                                             3509.392343   \n\n                                                                                           count  \nPanel                                 Variable                                                    \nPanel A: Pre-treatment Outcomes       pre_treatment_change_in_group_0_crimes_250m         1507.0  \n                                      relative_pre_treatment_change_in_group_0_crimes...  1507.0  \n                                      total_twenty_seventeen_group_0_crimes_250m          1507.0  \nPanel B: Census Tract Characteristics frac_coll_plus2010                                  1507.0  \n                                      job_density_2013                                    1507.0  \n                                      med_hhinc2016                                       1507.0  \n                                      poor_share2010                                      1507.0  \n                                      popdensity2010                                      1507.0  \n                                      share_white2010                                     1507.0  \nPanel C: Case Initiation              for_cause                                           1507.0  \n                                      hasAttyD                                            1507.0  \n                                      hasAttyP                                            1507.0  \n                                      no_cause                                            1507.0  \n                                      non_payment                                         1507.0  \nPanel D: Case Resolution              case_duration                                       1507.0  \n                                      defaulted                                           1507.0  \n                                      dismissed                                           1507.0  \n                                      heard                                               1507.0  \n                                      judgment                                            1507.0  ",
      "text/html": "<div>\n<style scoped>\n    .dataframe tbody tr th:only-of-type {\n        vertical-align: middle;\n    }\n\n    .dataframe tbody tr th {\n        vertical-align: top;\n    }\n\n    .dataframe thead th {\n        text-align: right;\n    }\n</style>\n<table border=\"1\" class=\"dataframe\">\n  <thead>\n    <tr style=\"text-align: right;\">\n      <th></th>\n      <th></th>\n      <th>mean</th>\n      <th>std</th>\n      <th>count</th>\n    </tr>\n    <tr>\n      <th>Panel</th>\n      <th>Variable</th>\n      <th></th>\n      <th></th>\n      <th></th>\n    </tr>\n  </thead>\n  <tbody>\n    <tr>\n      <th rowspan=\"3\" valign=\"top\">Panel A: Pre-treatment Outcomes</th>\n      <th>pre_treatment_change_in_group_0_crimes_250m</th>\n      <td>-43.568679</td>\n      <td>121.045313</td>\n      <td>1507.0</td>\n    </tr>\n    <tr>\n      <th>relative_pre_treatment_change_in_group_0_crimes_250m</th>\n      <td>-3.830126</td>\n      <td>26.445119</td>\n      <td>1507.0</td>\n    </tr>\n    <tr>\n      <th>total_twenty_seventeen_group_0_crimes_250m</th>\n      <td>349.495023</td>\n      <td>263.922444</td>\n      <td>1507.0</td>\n    </tr>\n    <tr>\n      <th rowspan=\"6\" valign=\"top\">Panel B: Census Tract Characteristics</th>\n      <th>frac_coll_plus2010</th>\n      <td>0.322629</td>\n      <td>0.218759</td>\n      <td>1507.0</td>\n    </tr>\n    <tr>\n      <th>job_density_2013</th>\n      <td>18066.397982</td>\n      <td>45507.927709</td>\n      <td>1507.0</td>\n    </tr>\n    <tr>\n      <th>med_hhinc2016</th>\n      <td>46685.742535</td>\n      <td>25233.006826</td>\n      <td>1507.0</td>\n    </tr>\n    <tr>\n      <th>poor_share2010</th>\n      <td>0.286367</td>\n      <td>0.148444</td>\n      <td>1507.0</td>\n    </tr>\n    <tr>\n      <th>popdensity2010</th>\n      <td>23259.527496</td>\n      <td>14182.431408</td>\n      <td>1507.0</td>\n    </tr>\n    <tr>\n      <th>share_white2010</th>\n      <td>0.314273</td>\n      <td>0.271775</td>\n      <td>1507.0</td>\n    </tr>\n    <tr>\n      <th rowspan=\"5\" valign=\"top\">Panel C: Case Initiation</th>\n      <th>for_cause</th>\n      <td>0.140677</td>\n      <td>0.347803</td>\n      <td>1507.0</td>\n    </tr>\n    <tr>\n      <th>hasAttyD</th>\n      <td>0.028534</td>\n      <td>0.166547</td>\n      <td>1507.0</td>\n    </tr>\n    <tr>\n      <th>hasAttyP</th>\n      <td>0.897810</td>\n      <td>0.302998</td>\n      <td>1507.0</td>\n    </tr>\n    <tr>\n      <th>no_cause</th>\n      <td>0.047777</td>\n      <td>0.213365</td>\n      <td>1507.0</td>\n    </tr>\n    <tr>\n      <th>non_payment</th>\n      <td>0.811546</td>\n      <td>0.391204</td>\n      <td>1507.0</td>\n    </tr>\n    <tr>\n      <th rowspan=\"5\" valign=\"top\">Panel D: Case Resolution</th>\n      <th>case_duration</th>\n      <td>18.398806</td>\n      <td>21.316519</td>\n      <td>1507.0</td>\n    </tr>\n    <tr>\n      <th>defaulted</th>\n      <td>0.500995</td>\n      <td>0.500165</td>\n      <td>1507.0</td>\n    </tr>\n    <tr>\n      <th>dismissed</th>\n      <td>0.473789</td>\n      <td>0.499478</td>\n      <td>1507.0</td>\n    </tr>\n    <tr>\n      <th>heard</th>\n      <td>0.025216</td>\n      <td>0.156832</td>\n      <td>1507.0</td>\n    </tr>\n    <tr>\n      <th>judgment</th>\n      <td>1579.941175</td>\n      <td>3509.392343</td>\n      <td>1507.0</td>\n    </tr>\n  </tbody>\n</table>\n</div>"
     },
     "execution_count": 18,
     "metadata": {},
     "output_type": "execute_result"
    }
   ],
   "source": [
    "# Read unrestricted dataset into memory.\n",
    "df = pd.read_csv(INPUT_DATA_PANEL)\n",
    "df = df.reset_index() # So we can use 'case_number' like a column\n",
    "\n",
    "# Produce summary statistics table.\n",
    "treatment_date_variable = 'latest_docket_date'\n",
    "outcomes_of_interest = [f'group_0_crimes_{constants.Analysis.MAIN_RESULTS_RADIUS}m']\n",
    "summary_statistics_unrestricted, variable_display_names_dict = produce_summary_statistics(df)\n",
    "\n",
    "# Rename columns.\n",
    "summary_statistics_unrestricted.index = summary_statistics_unrestricted.index.set_names([\"Panel\", \"Variable\"])\n",
    "column_display_names_dict = {'mean': \"Mean\", 'std': \"S.D.\", 'count': \"N\", '50%': 'Median'}\n",
    "\n",
    "summary_statistics_unrestricted = summary_statistics_unrestricted.sort_values(['Panel', 'Variable'])\n",
    "# Keep only outcomes of interest\n",
    "outcomes = constants.Variables.outcomes.copy()\n",
    "for outcome in outcomes:\n",
    "    if outcome not in outcomes_of_interest:\n",
    "        if f\"relative_pre_treatment_change_in_{outcome}\" in summary_statistics_unrestricted.index.get_level_values(1):\n",
    "            summary_statistics_unrestricted = summary_statistics_unrestricted.drop(f\"relative_pre_treatment_change_in_{outcome}\",\n",
    "                                                                                   level=1, axis=0)\n",
    "        if f\"pre_treatment_change_in_{outcome}\" in summary_statistics_unrestricted.index.get_level_values(1):\n",
    "            summary_statistics_unrestricted = summary_statistics_unrestricted.drop(f\"pre_treatment_change_in_{outcome}\",\n",
    "                                                                                   level=1, axis=0)\n",
    "        if f\"total_twenty_seventeen_{outcome}\" in summary_statistics_unrestricted.index.get_level_values(1):\n",
    "            summary_statistics_unrestricted = summary_statistics_unrestricted.drop(f\"total_twenty_seventeen_{outcome}\",\n",
    "                                                                                   level=1, axis=0)\n",
    "\n",
    "# Drop median column.\n",
    "summary_statistics_unrestricted = summary_statistics_unrestricted.drop(columns='50%')\n",
    "\n",
    "# Export to LaTeX.\n",
    "filename = os.path.join(OUTPUT_TABLES, \"summary_statistics.tex\")\n",
    "latex = (summary_statistics_unrestricted\n",
    "         .rename(index=variable_display_names_dict)\n",
    "         .rename(columns=column_display_names_dict)\n",
    "         .style\n",
    "         .format(formatter={\n",
    "    'Mean': \"{:,.2f}\",\n",
    "    'Median': \"{:,.2f}\",\n",
    "    'S.D.': \"{:,.2f}\",\n",
    "    'N': \"{:,.0f}\"})\n",
    "         .format_index(\"\\\\textit{{{}}}\", escape=\"latex\", axis=0, level=0)\n",
    "         .to_latex(None,\n",
    "                   column_format=\"llcccc\",\n",
    "                   hrules=True,\n",
    "                   clines=\"skip-last;data\")).replace(\"{*}\", \"{3cm}\")\n",
    "with open(filename, 'w') as file:\n",
    "    file.write(latex)\n",
    "summary_statistics_unrestricted"
   ]
  },
  {
   "cell_type": "code",
   "execution_count": 19,
   "outputs": [
    {
     "data": {
      "text/plain": "0.42735042735042733"
     },
     "execution_count": 19,
     "metadata": {},
     "output_type": "execute_result"
    }
   ],
   "source": [
    "# Share of non entity plaintiffs who are represented by an attorney\n",
    "df.loc[df['isEntityP'] == 0, 'hasAttyP'].mean()"
   ],
   "metadata": {
    "collapsed": false,
    "ExecuteTime": {
     "end_time": "2023-11-24T19:22:44.660201Z",
     "start_time": "2023-11-24T19:22:44.658086Z"
    }
   }
  },
  {
   "cell_type": "code",
   "execution_count": 20,
   "id": "cfea1a77-c928-478d-b750-268bd1bcb3ac",
   "metadata": {
    "ExecuteTime": {
     "end_time": "2023-11-24T19:22:44.670594Z",
     "start_time": "2023-11-24T19:22:44.661727Z"
    }
   },
   "outputs": [
    {
     "data": {
      "text/plain": "                  Cases Won By Defendant  Cases Won By Plaintiff  \\\nLast Docket Date                                                   \nAll Months                         715.0                   792.0   \n2019-06                             46.0                    13.0   \n2019-07                             62.0                    42.0   \n2019-08                             67.0                    87.0   \n2019-09                             73.0                    92.0   \n2019-10                             88.0                    83.0   \n2019-11                             61.0                    63.0   \n2019-12                             66.0                    65.0   \n2020-01                             78.0                   123.0   \n2020-02                             83.0                   131.0   \n2020-03                             91.0                    93.0   \n\n                  Portion of All Cases  \nLast Docket Date                        \nAll Months                    1.000000  \n2019-06                       0.039151  \n2019-07                       0.069011  \n2019-08                       0.102190  \n2019-09                       0.109489  \n2019-10                       0.113470  \n2019-11                       0.082283  \n2019-12                       0.086928  \n2020-01                       0.133378  \n2020-02                       0.142004  \n2020-03                       0.122097  ",
      "text/html": "<div>\n<style scoped>\n    .dataframe tbody tr th:only-of-type {\n        vertical-align: middle;\n    }\n\n    .dataframe tbody tr th {\n        vertical-align: top;\n    }\n\n    .dataframe thead th {\n        text-align: right;\n    }\n</style>\n<table border=\"1\" class=\"dataframe\">\n  <thead>\n    <tr style=\"text-align: right;\">\n      <th></th>\n      <th>Cases Won By Defendant</th>\n      <th>Cases Won By Plaintiff</th>\n      <th>Portion of All Cases</th>\n    </tr>\n    <tr>\n      <th>Last Docket Date</th>\n      <th></th>\n      <th></th>\n      <th></th>\n    </tr>\n  </thead>\n  <tbody>\n    <tr>\n      <th>All Months</th>\n      <td>715.0</td>\n      <td>792.0</td>\n      <td>1.000000</td>\n    </tr>\n    <tr>\n      <th>2019-06</th>\n      <td>46.0</td>\n      <td>13.0</td>\n      <td>0.039151</td>\n    </tr>\n    <tr>\n      <th>2019-07</th>\n      <td>62.0</td>\n      <td>42.0</td>\n      <td>0.069011</td>\n    </tr>\n    <tr>\n      <th>2019-08</th>\n      <td>67.0</td>\n      <td>87.0</td>\n      <td>0.102190</td>\n    </tr>\n    <tr>\n      <th>2019-09</th>\n      <td>73.0</td>\n      <td>92.0</td>\n      <td>0.109489</td>\n    </tr>\n    <tr>\n      <th>2019-10</th>\n      <td>88.0</td>\n      <td>83.0</td>\n      <td>0.113470</td>\n    </tr>\n    <tr>\n      <th>2019-11</th>\n      <td>61.0</td>\n      <td>63.0</td>\n      <td>0.082283</td>\n    </tr>\n    <tr>\n      <th>2019-12</th>\n      <td>66.0</td>\n      <td>65.0</td>\n      <td>0.086928</td>\n    </tr>\n    <tr>\n      <th>2020-01</th>\n      <td>78.0</td>\n      <td>123.0</td>\n      <td>0.133378</td>\n    </tr>\n    <tr>\n      <th>2020-02</th>\n      <td>83.0</td>\n      <td>131.0</td>\n      <td>0.142004</td>\n    </tr>\n    <tr>\n      <th>2020-03</th>\n      <td>91.0</td>\n      <td>93.0</td>\n      <td>0.122097</td>\n    </tr>\n  </tbody>\n</table>\n</div>"
     },
     "execution_count": 20,
     "metadata": {},
     "output_type": "execute_result"
    }
   ],
   "source": [
    "# Produce treatment timings table.\n",
    "treatment_timings = (df\n",
    "                     .groupby(['latest_docket_month', 'judgment_for_plaintiff'])['case_number']\n",
    "                     .count()\n",
    "                     .reset_index()\n",
    "                     .fillna(0))\n",
    "treatment_timings = treatment_timings.pivot(index='latest_docket_month', columns='judgment_for_plaintiff').fillna(0)\n",
    "treatment_timings.columns = [\"Cases Won By Defendant\", \"Cases Won By Plaintiff\"]\n",
    "portion_of_all_cases = (treatment_timings['Cases Won By Plaintiff'] + treatment_timings[\n",
    "    'Cases Won By Defendant']) / len(df)\n",
    "treatment_timings = pd.concat([treatment_timings, portion_of_all_cases.rename('Portion of All Cases')], axis=1)\n",
    "sum_across_filing_date = pd.DataFrame(treatment_timings.sum(axis=0)).T\n",
    "sum_across_filing_date.index = [\"All Months\"]\n",
    "treatment_timings = pd.concat([sum_across_filing_date, treatment_timings], axis=0)\n",
    "treatment_timings.index = treatment_timings.index.rename(\"Last Docket Date\")\n",
    "\n",
    "# Export to LaTeX.\n",
    "filename = os.path.join(OUTPUT_TABLES, \"treatment_timings.tex\")\n",
    "treatment_timings.style.format(formatter={'Cases Won By Plaintiff': '{:,.0f}',\n",
    "                                          'Cases Won By Defendant': '{:,.0f}',\n",
    "                                          'Portion of All Cases': '{:0.2f}'}).to_latex(filename, column_format=\"lccc\",\n",
    "                                                                                       hrules=True)\n",
    "treatment_timings"
   ]
  },
  {
   "cell_type": "code",
   "execution_count": 21,
   "id": "bd6c8b3f-eba4-42a8-8690-2b4a55f8c823",
   "metadata": {
    "ExecuteTime": {
     "end_time": "2023-11-24T19:22:44.684088Z",
     "start_time": "2023-11-24T19:22:44.671250Z"
    }
   },
   "outputs": [
    {
     "data": {
      "text/plain": "0.6439393939393939"
     },
     "execution_count": 21,
     "metadata": {},
     "output_type": "execute_result"
    }
   ],
   "source": [
    "# Calculate percent of cases which are in high poverty neighborhoods.\n",
    "df = df.loc[df['judgment_for_plaintiff'] == 1, :]\n",
    "original_N = len(df)\n",
    "cases_in_poor_tracts = len(df.loc[df['poor_share2010'] > 0.20, :])\n",
    "cases_in_poor_tracts / original_N"
   ]
  }
 ],
 "metadata": {
  "kernelspec": {
   "display_name": "venv",
   "language": "python",
   "name": "venv"
  },
  "language_info": {
   "codemirror_mode": {
    "name": "ipython",
    "version": 3
   },
   "file_extension": ".py",
   "mimetype": "text/x-python",
   "name": "python",
   "nbconvert_exporter": "python",
   "pygments_lexer": "ipython3",
   "version": "3.10.8"
  }
 },
 "nbformat": 4,
 "nbformat_minor": 5
}
