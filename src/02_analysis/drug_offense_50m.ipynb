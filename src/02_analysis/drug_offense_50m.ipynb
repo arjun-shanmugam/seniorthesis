{
 "cells": [
  {
   "cell_type": "code",
   "execution_count": 37,
   "metadata": {
    "collapsed": true
   },
   "outputs": [
    {
     "ename": "ImportError",
     "evalue": "attempted relative import with no known parent package",
     "output_type": "error",
     "traceback": [
      "\u001B[0;31m---------------------------------------------------------------------------\u001B[0m",
      "\u001B[0;31mImportError\u001B[0m                               Traceback (most recent call last)",
      "Cell \u001B[0;32mIn[37], line 5\u001B[0m\n\u001B[1;32m      3\u001B[0m plt\u001B[38;5;241m.\u001B[39mrcParams[\u001B[38;5;124m\"\u001B[39m\u001B[38;5;124mfigure.dpi\u001B[39m\u001B[38;5;124m\"\u001B[39m] \u001B[38;5;241m=\u001B[39m \u001B[38;5;241m300\u001B[39m\n\u001B[1;32m      4\u001B[0m plt\u001B[38;5;241m.\u001B[39mrcParams[\u001B[38;5;124m'\u001B[39m\u001B[38;5;124msavefig.dpi\u001B[39m\u001B[38;5;124m'\u001B[39m] \u001B[38;5;241m=\u001B[39m \u001B[38;5;241m300\u001B[39m\n\u001B[0;32m----> 5\u001B[0m \u001B[38;5;28;01mfrom\u001B[39;00m \u001B[38;5;21;01m.\u001B[39;00m\u001B[38;5;21;01mpanel_utilities\u001B[39;00m \u001B[38;5;28;01mimport\u001B[39;00m get_value_variable_names, convert_weekly_panel_to_biweekly_panel, prepare_df_for_DiD\n\u001B[1;32m      6\u001B[0m \u001B[38;5;28;01mfrom\u001B[39;00m \u001B[38;5;21;01m.\u001B[39;00m\u001B[38;5;21;01mstats_utilities\u001B[39;00m \u001B[38;5;28;01mimport\u001B[39;00m select_controls, test_balance\n\u001B[1;32m      7\u001B[0m \u001B[38;5;28;01mfrom\u001B[39;00m \u001B[38;5;21;01m.\u001B[39;00m\u001B[38;5;21;01mfigure_utilities\u001B[39;00m \u001B[38;5;28;01mimport\u001B[39;00m aggregate_by_event_time_and_plot, aggregate_by_time_and_plot\n",
      "\u001B[0;31mImportError\u001B[0m: attempted relative import with no known parent package"
     ]
    }
   ],
   "source": [
    "from differences import ATTgt\n",
    "from matplotlib import pyplot as plt\n",
    "plt.rcParams[\"figure.dpi\"] = 300\n",
    "plt.rcParams['savefig.dpi'] = 300\n",
    "from panel_utilities import get_value_variable_names, convert_weekly_panel_to_biweekly_panel, prepare_df_for_DiD\n",
    "from stats_utilities import select_controls, test_balance\n",
    "from figure_utilities import aggregate_by_event_time_and_plot, aggregate_by_time_and_plot\n",
    "import pandas as pd\n",
    "\n",
    "\n",
    "\n",
    "# Store paths.\n",
    "analysis='group_2_crimes_50m'\n",
    "INPUT_DATA = \"../../data/03_cleaned/crime_analysis_weekly.parquet\"\n",
    "OUTPUT_FIGURES = f\"../../output/{analysis}/figures\"\n",
    "OUTPUT_TABLES = f\"../../output/{analysis}/tables\"\n",
    "\n",
    "\n",
    "# Read restricted sample panel dataset into memory.\n",
    "df = pd.read_parquet(INPUT_DATA)"
   ]
  },
  {
   "cell_type": "code",
   "execution_count": null,
   "outputs": [],
   "source": [
    "# Convert weekly panel to biweekly panel.\n",
    "treatment_date_variable = 'latest_docket_week'\n",
    "df = df.dropna(subset=treatment_date_variable)\n",
    "df = convert_weekly_panel_to_biweekly_panel(df, treatment_date_variable, analysis)\n",
    "\n",
    "# Generate value vars list and month to int dictionaries.\n",
    "weekly_value_vars_crime, month_to_int_dictionary, int_to_month_dictionary = get_value_variable_names(df, analysis)"
   ],
   "metadata": {
    "collapsed": false
   }
  },
  {
   "cell_type": "code",
   "execution_count": null,
   "outputs": [],
   "source": [
    "covariates_exploration_df = select_controls(df=df, analysis=analysis,\n",
    "                                            treatment_date_variable=treatment_date_variable,\n",
    "                                            output_directory=OUTPUT_TABLES)\n",
    "covariates_exploration_df"
   ],
   "metadata": {
    "collapsed": false
   }
  },
  {
   "cell_type": "code",
   "execution_count": null,
   "outputs": [],
   "source": [
    "balance_table, pre_treatment_covariates = test_balance(df, analysis, covariates_exploration_df, OUTPUT_TABLES)\n",
    "balance_table"
   ],
   "metadata": {
    "collapsed": false
   }
  },
  {
   "cell_type": "code",
   "execution_count": null,
   "outputs": [],
   "source": [],
   "metadata": {
    "collapsed": false
   }
  },
  {
   "cell_type": "code",
   "execution_count": null,
   "outputs": [],
   "source": [
    "# Generate indicators for missing data.\n",
    "\n",
    "# missing_indicators = add_missing_indicators(df, ['rent_twobed2015'], pre_treatment_covariates)\n",
    "\n",
    "# Prepare df for use with the differences package.\n",
    "df = df.reset_index()\n",
    "df = prepare_df_for_DiD(df=df,\n",
    "                        analysis=analysis,\n",
    "                        treatment_date_variable=treatment_date_variable,\n",
    "                        pre_treatment_covariates=pre_treatment_covariates,\n",
    "                        missing_indicators=[],\n",
    "                        value_vars=weekly_value_vars_crime,\n",
    "                        period_to_int_dictionary=month_to_int_dictionary)"
   ],
   "metadata": {
    "collapsed": false
   }
  },
  {
   "cell_type": "code",
   "execution_count": null,
   "outputs": [],
   "source": [
    "# Run DiD without conditioning on covariates.\n",
    "att_gt = ATTgt(data=df, cohort_name=treatment_date_variable, freq='2W', base_period='varying')\n",
    "result = att_gt.fit(formula=analysis, control_group='not_yet_treated', n_jobs=-1)"
   ],
   "metadata": {
    "collapsed": false
   }
  },
  {
   "cell_type": "code",
   "execution_count": null,
   "outputs": [],
   "source": [
    "# Plot unconditional ATT(t-g)s on a long horizon.\n",
    "aggregate_by_event_time_and_plot(att_gt, OUTPUT_FIGURES, \"att_gt_unconditional_event_study_long_horizon.png\",\n",
    "                                 start_period=-6, end_period=40,\n",
    "                                 title=\"Unconditional Estimates of ATT(g, t), Aggregated by Month Relative to Treatment \\n (Long Horizon)\",\n",
    "                                 treatment_month_variable=treatment_date_variable, df=df)"
   ],
   "metadata": {
    "collapsed": false
   }
  },
  {
   "cell_type": "code",
   "execution_count": null,
   "outputs": [],
   "source": [
    "# Plot unconditional ATT(t)s.\n",
    "aggregate_by_time_and_plot(att_gt, int_to_month_dictionary, OUTPUT_FIGURES, \"att_gt_unconditional_time.png\",\n",
    "                           title=\"Unconditional Estimates of ATT(g, t), Aggregated by Month\")"
   ],
   "metadata": {
    "collapsed": false
   }
  },
  {
   "cell_type": "code",
   "execution_count": null,
   "outputs": [],
   "source": [
    "# Run DiD conditional on covariates.\n",
    "att_gt = ATTgt(data=df, cohort_name=treatment_date_variable, freq='M', base_period='varying')\n",
    "formula = f'{analysis} ~ ' + '+'.join(pre_treatment_covariates)\n",
    "result = att_gt.fit(formula=formula, control_group='not_yet_treated', n_jobs=-1, progress_bar=True)"
   ],
   "metadata": {
    "collapsed": false
   }
  },
  {
   "cell_type": "code",
   "execution_count": null,
   "outputs": [],
   "source": [
    "# Plot D.R. ATT(t-g)s on a long horizon.\n",
    "aggregate_by_event_time_and_plot(att_gt, OUTPUT_FIGURES, \"att_gt_dr_event_study_long_horizon.png\", start_period=-3,\n",
    "                                 end_period=20,\n",
    "                                 title=\"D.R. Estimates of ATT(g, t), Aggregated by Month Relative to Treatment \\n (Long Horizon)\",\n",
    "                                 treatment_month_variable=treatment_date_variable, df=df)"
   ],
   "metadata": {
    "collapsed": false
   }
  },
  {
   "cell_type": "code",
   "execution_count": null,
   "outputs": [],
   "source": [
    "# Plot D.R. ATT(t)s.\n",
    "aggregate_by_time_and_plot(att_gt, int_to_month_dictionary, OUTPUT_FIGURES, \"att_gt_dr_time.png\",\n",
    "                           title=\"D.R. Estimates of ATT(g, t), Aggregated by Month\")"
   ],
   "metadata": {
    "collapsed": false
   }
  },
  {
   "cell_type": "code",
   "execution_count": null,
   "outputs": [],
   "source": [],
   "metadata": {
    "collapsed": false
   }
  }
 ],
 "metadata": {
  "kernelspec": {
   "name": "venv",
   "language": "python",
   "display_name": "seniorthesis"
  },
  "language_info": {
   "codemirror_mode": {
    "name": "ipython",
    "version": 2
   },
   "file_extension": ".py",
   "mimetype": "text/x-python",
   "name": "python",
   "nbconvert_exporter": "python",
   "pygments_lexer": "ipython2",
   "version": "2.7.6"
  }
 },
 "nbformat": 4,
 "nbformat_minor": 0
}
