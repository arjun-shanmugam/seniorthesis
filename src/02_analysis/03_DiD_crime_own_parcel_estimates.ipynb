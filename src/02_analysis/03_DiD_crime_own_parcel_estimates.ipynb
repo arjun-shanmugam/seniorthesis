{
 "cells": [
  {
   "cell_type": "code",
   "execution_count": 1,
   "metadata": {
    "collapsed": true
   },
   "outputs": [],
   "source": [
    "from differences import ATTgt\n",
    "from matplotlib import pyplot as plt\n",
    "from analysis_utilities import aggregate_by_time_and_plot, aggregate_by_event_time_and_plot, \\\n",
    "    select_controls, test_balance, add_missing_indicators, prepare_df, generate_variable_names\n",
    "\n",
    "plt.rcParams[\"figure.dpi\"] = 300\n",
    "plt.rcParams['savefig.dpi'] = 300\n",
    "import pandas as pd\n",
    "\n",
    "# Store paths.\n",
    "INPUT_DATA = \"/Users/arjunshanmugam/Documents/GitHub/seniorthesis/data/03_cleaned/crime_analysis.csv\"\n",
    "OUTPUT_FIGURES = \"/Users/arjunshanmugam/Documents/GitHub/seniorthesis/output/crimes_own_parcel/figures\"\n",
    "OUTPUT_TABLES = \"/Users/arjunshanmugam/Documents/GitHub/seniorthesis/output/crimes_own_parcel/tables\"\n",
    "\n",
    "# Read restricted sample panel dataset into memory.\n",
    "df = pd.read_csv(INPUT_DATA)"
   ]
  },
  {
   "cell_type": "code",
   "execution_count": 2,
   "outputs": [
    {
     "name": "stdout",
     "output_type": "stream",
     "text": [
      "crimes_own_parcel\n"
     ]
    }
   ],
   "source": [
    "value_vars_crime, month_to_int_dictionary, int_to_month_dictionary = generate_variable_names(analysis='crimes_own_parcel')"
   ],
   "metadata": {
    "collapsed": false
   }
  },
  {
   "cell_type": "code",
   "execution_count": 3,
   "outputs": [
    {
     "ename": "ValueError",
     "evalue": "Unrecognized argument for parameter analysis.",
     "output_type": "error",
     "traceback": [
      "\u001B[0;31m---------------------------------------------------------------------------\u001B[0m",
      "\u001B[0;31mValueError\u001B[0m                                Traceback (most recent call last)",
      "Cell \u001B[0;32mIn[3], line 1\u001B[0m\n\u001B[0;32m----> 1\u001B[0m covariates_exploration_df \u001B[38;5;241m=\u001B[39m \u001B[43mselect_controls\u001B[49m\u001B[43m(\u001B[49m\u001B[43mdf\u001B[49m\u001B[38;5;241;43m=\u001B[39;49m\u001B[43mdf\u001B[49m\u001B[43m,\u001B[49m\u001B[43m \u001B[49m\u001B[43manalysis\u001B[49m\u001B[38;5;241;43m=\u001B[39;49m\u001B[38;5;124;43m'\u001B[39;49m\u001B[38;5;124;43m_crimes_own_parcel\u001B[39;49m\u001B[38;5;124;43m'\u001B[39;49m\u001B[43m,\u001B[49m\u001B[43m \u001B[49m\u001B[43moutput_directory\u001B[49m\u001B[38;5;241;43m=\u001B[39;49m\u001B[43mOUTPUT_TABLES\u001B[49m\u001B[43m)\u001B[49m\n\u001B[1;32m      2\u001B[0m covariates_exploration_df\n",
      "File \u001B[0;32m~/Documents/GitHub/seniorthesis/src/02_analysis/analysis_utilities.py:214\u001B[0m, in \u001B[0;36mselect_controls\u001B[0;34m(df, analysis, output_directory)\u001B[0m\n\u001B[1;32m    212\u001B[0m     covariate_exploration_table_columns \u001B[38;5;241m=\u001B[39m [\u001B[38;5;124m\"\u001B[39m\u001B[38;5;124mZestimate, Dec. 2022\u001B[39m\u001B[38;5;124m\"\u001B[39m, \u001B[38;5;124m\"\u001B[39m\u001B[38;5;124mPlaintiff victory\u001B[39m\u001B[38;5;124m\"\u001B[39m]\n\u001B[1;32m    213\u001B[0m \u001B[38;5;28;01melse\u001B[39;00m:\n\u001B[0;32m--> 214\u001B[0m     \u001B[38;5;28;01mraise\u001B[39;00m \u001B[38;5;167;01mValueError\u001B[39;00m(\u001B[38;5;124m\"\u001B[39m\u001B[38;5;124mUnrecognized argument for parameter analysis.\u001B[39m\u001B[38;5;124m\"\u001B[39m)\n\u001B[1;32m    216\u001B[0m pre_treatment_panels \u001B[38;5;241m=\u001B[39m [\u001B[38;5;124m\"\u001B[39m\u001B[38;5;124mPanel A: Pre-treatment Outcomes\u001B[39m\u001B[38;5;124m\"\u001B[39m,\n\u001B[1;32m    217\u001B[0m                         \u001B[38;5;124m\"\u001B[39m\u001B[38;5;124mPanel B: Census Tract Characteristics\u001B[39m\u001B[38;5;124m\"\u001B[39m,\n\u001B[1;32m    218\u001B[0m                         \u001B[38;5;124m\"\u001B[39m\u001B[38;5;124mPanel C: Case Initiation\u001B[39m\u001B[38;5;124m\"\u001B[39m,\n\u001B[1;32m    219\u001B[0m                         \u001B[38;5;124m\"\u001B[39m\u001B[38;5;124mPanel D: Defendant and Plaintiff Characteristics\u001B[39m\u001B[38;5;124m\"\u001B[39m]\n\u001B[1;32m    220\u001B[0m summary_statistics \u001B[38;5;241m=\u001B[39m summary_statistics\u001B[38;5;241m.\u001B[39mloc[pre_treatment_panels, :]\n",
      "\u001B[0;31mValueError\u001B[0m: Unrecognized argument for parameter analysis."
     ]
    }
   ],
   "source": [
    "covariates_exploration_df = select_controls(df=df, analysis='crimes_own_parcel', output_directory=OUTPUT_TABLES)\n",
    "covariates_exploration_df"
   ],
   "metadata": {
    "collapsed": false
   }
  },
  {
   "cell_type": "code",
   "execution_count": null,
   "outputs": [],
   "source": [
    "balance_table, pre_treatment_covariates = test_balance(df, 'crimes_own_parcel', covariates_exploration_df, OUTPUT_TABLES)\n",
    "balance_table"
   ],
   "metadata": {
    "collapsed": false
   }
  },
  {
   "cell_type": "code",
   "execution_count": null,
   "outputs": [],
   "source": [
    "# Store treatment date variable -- may be either file_date or latest_docket_date -- and drop rows where missing.\n",
    "treatment_date_variable = 'file_date'\n",
    "treatment_month_variable = treatment_date_variable.replace('date', 'month')\n",
    "\n",
    "# Generate indicators for missing data.\n",
    "add_missing_indicators(df, ['rent_twobed2015'], pre_treatment_covariates)\n",
    "\n",
    "# Prepare df for use with the differences package.\n",
    "df = prepare_df(df, 'crime', treatment_date_variable, pre_treatment_covariates, value_vars_crime, month_to_int_dictionary)"
   ],
   "metadata": {
    "collapsed": false
   }
  },
  {
   "cell_type": "code",
   "execution_count": null,
   "outputs": [],
   "source": [
    "# Run DiD without conditioning on covariates.\n",
    "att_gt = ATTgt(data=df, cohort_name=treatment_month_variable, freq='M')\n",
    "result = att_gt.fit(formula='crimes', control_group='never_treated', n_jobs=-1)"
   ],
   "metadata": {
    "collapsed": false
   }
  },
  {
   "cell_type": "code",
   "execution_count": null,
   "outputs": [],
   "source": [
    "# Plot unconditional ATT(t-g)s on a long horizon.\n",
    "aggregate_by_event_time_and_plot(att_gt, OUTPUT_FIGURES, \"att_gt_unconditional_event_study_long_horizon.png\",\n",
    "                                 start_period=-12, end_period=20,\n",
    "                                 title=\"Unconditional Estimates of ATT(g, t), Aggregated by Month Relative to Treatment \\n (Long Horizon)\",\n",
    "                                 treatment_month_variable=treatment_month_variable, df=df)"
   ],
   "metadata": {
    "collapsed": false
   }
  },
  {
   "cell_type": "code",
   "execution_count": null,
   "outputs": [],
   "source": [
    "# Plot unconditional ATT(t)s.\n",
    "aggregate_by_time_and_plot(att_gt, int_to_month_dictionary, OUTPUT_FIGURES, \"att_gt_unconditional_time.png\",\n",
    "                           title=\"Unconditional Estimates of ATT(g, t), Aggregated by Month\")"
   ],
   "metadata": {
    "collapsed": false
   }
  },
  {
   "cell_type": "code",
   "execution_count": null,
   "outputs": [],
   "source": [
    "# Run DiD conditional on covariates.\n",
    "att_gt = ATTgt(data=df, cohort_name=treatment_month_variable, freq='M')\n",
    "formula = 'crimes ~ ' + '+'.join(pre_treatment_covariates)\n",
    "print(pre_treatment_covariates)\n",
    "result = att_gt.fit(formula=formula, control_group='never_treated', n_jobs=-1)"
   ],
   "metadata": {
    "collapsed": false
   }
  },
  {
   "cell_type": "code",
   "execution_count": null,
   "outputs": [],
   "source": [
    "# Plot D.R. ATT(t-g)s on a long horizon.\n",
    "aggregate_by_event_time_and_plot(att_gt, OUTPUT_FIGURES, \"att_gt_dr_event_study_long_horizon.png\", start_period=-12,\n",
    "                                 end_period=20,\n",
    "                                 title=\"D.R. Estimates of ATT(g, t), Aggregated by Month Relative to Treatment \\n (Long Horizon)\",\n",
    "                                 treatment_month_variable=treatment_month_variable, df=df)"
   ],
   "metadata": {
    "collapsed": false
   }
  },
  {
   "cell_type": "code",
   "execution_count": null,
   "outputs": [],
   "source": [
    "# Plot D.R. ATT(t)s.\n",
    "aggregate_by_time_and_plot(att_gt, int_to_month_dictionary, OUTPUT_FIGURES, \"att_gt_dr_time.png\",\n",
    "                           title=\"D.R. Estimates of ATT(g, t), Aggregated by Month\")"
   ],
   "metadata": {
    "collapsed": false
   }
  },
  {
   "cell_type": "code",
   "execution_count": null,
   "outputs": [],
   "source": [],
   "metadata": {
    "collapsed": false
   }
  }
 ],
 "metadata": {
  "kernelspec": {
   "display_name": "Python 3",
   "language": "python",
   "name": "python3"
  },
  "language_info": {
   "codemirror_mode": {
    "name": "ipython",
    "version": 2
   },
   "file_extension": ".py",
   "mimetype": "text/x-python",
   "name": "python",
   "nbconvert_exporter": "python",
   "pygments_lexer": "ipython2",
   "version": "2.7.6"
  }
 },
 "nbformat": 4,
 "nbformat_minor": 0
}
