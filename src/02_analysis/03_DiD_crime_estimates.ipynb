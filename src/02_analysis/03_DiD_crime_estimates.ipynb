{
 "cells": [
  {
   "cell_type": "code",
   "execution_count": 14,
   "metadata": {
    "collapsed": true
   },
   "outputs": [],
   "source": [
    "import statsmodels.formula.api as smf\n",
    "from differences import ATTgt\n",
    "from differences.did.pscore_cal import pscore_mle\n",
    "from matplotlib import pyplot as plt\n",
    "\n",
    "import figure_and_table_constants\n",
    "import figure_utilities\n",
    "from analysis_utilities import produce_summary_statistics, aggregate_by_time_and_plot, aggregate_by_event_time_and_plot\n",
    "\n",
    "plt.rcParams[\"figure.dpi\"] = 300\n",
    "plt.rcParams['savefig.dpi'] = 300\n",
    "import numpy as np\n",
    "import os\n",
    "import pandas as pd\n",
    "\n",
    "# Store paths.\n",
    "INPUT_DATA = \"/Users/arjunshanmugam/Documents/GitHub/seniorthesis/data/03_cleaned/crime_analysis.csv\"\n",
    "OUTPUT_FIGURES = \"/Users/arjunshanmugam/Documents/GitHub/seniorthesis/output/DiD_crime/figures\"\n",
    "OUTPUT_TABLES = \"/Users/arjunshanmugam/Documents/GitHub/seniorthesis/output/DiD_crime/tables\"\n",
    "\n",
    "# Read restricted sample panel dataset into memory.\n",
    "df = pd.read_csv(INPUT_DATA)"
   ]
  },
  {
   "cell_type": "code",
   "execution_count": 15,
   "outputs": [],
   "source": [
    "# Store list of crime variable names and create dictionaries which map between month variable names to integers.\n",
    "years = [str(year) for year in range(2015, 2023)]\n",
    "months = [\"0\" + str(month) for month in range(1, 10)] + [str(month) for month in range(10, 13)]\n",
    "value_vars = [str(year) + \"-\" + str(month) for year in years for month in months]\n",
    "value_vars = value_vars[5:]\n",
    "value_vars.append('2023-01')\n",
    "value_vars_crime = [value_var + \"_crimes\" for value_var in value_vars]\n",
    "name_change_dictionary = {value_var_crime: value_var for value_var_crime, value_var in zip(value_vars_crime, value_vars)}\n",
    "df = df.rename(columns=name_change_dictionary)\n",
    "month_to_int_dictionary = {key: value + 1 for value, key in enumerate(value_vars)}\n",
    "int_to_month_dictionary = {key + 1: value for key, value in enumerate(value_vars)}"
   ],
   "metadata": {
    "collapsed": false
   }
  },
  {
   "cell_type": "code",
   "execution_count": null,
   "outputs": [],
   "source": [
    "# Choose covariates to include in D.R. model.\n",
    "outcome_variable =\n",
    "independent_variable =\n",
    "# Run produce summary statistics on the DataFrame to add pre-treatment covariate columns.\n",
    "summary_statistics, variable_display_names_dict = produce_summary_statistics(df, 'file_date')\n",
    "variable_display_names_dict['twenty_seventeen'] = 'Zestimate, Jan. 2017'\n",
    "variable_display_names_dict['twenty_eighteen'] = 'Zestimate, Jan. 2018'\n",
    "pre_treatment_panels = [\"Panel A: Pre-treatment Zestimates\",\n",
    "                        \"Panel B: Census Tract Characteristics\",\n",
    "                        \"Panel C: Case Initiation\",\n",
    "                        \"Panel D: Defendant and Plaintiff Characteristics\"]\n",
    "summary_statistics = summary_statistics.loc[pre_treatment_panels, :]\n",
    "potential_covariates = summary_statistics.index.get_level_values(1)\n",
    "p_values = []\n",
    "df.loc[:, 'final_month_of_panel_zestimate'] = df.loc[:, '2022-12']  # Create alias column for Patchy.\n",
    "for potential_covariate in potential_covariates:\n",
    "    # Get p-value from regression of outcome on covariates.\n",
    "    p_y = (smf.ols(formula=f\"final_month_of_panel_zestimate ~ {potential_covariate}\",\n",
    "                   data=df,\n",
    "                   missing='drop')\n",
    "    .fit().pvalues.loc[potential_covariate])\n",
    "    # Get p-value from regression of treatment on covariates.\n",
    "    p_x = (smf.ols(formula=f\"judgment_for_plaintiff ~ {potential_covariate}\",\n",
    "                   data=df,\n",
    "                   missing='drop')\n",
    "    .fit().pvalues.loc[potential_covariate])\n",
    "    p_values.append((p_y, p_x))\n",
    "covariate_exploration_df = (pd.DataFrame(p_values,\n",
    "                                         columns=[\"Zestimate, Dec. 2022\", \"Plaintiff victory\"],\n",
    "                                         index=summary_statistics.index))\n",
    "covariate_exploration_df = pd.concat([covariate_exploration_df], axis=1, keys=['Dependent Variable'])\n",
    "covariate_exploration_df.index = covariate_exploration_df.index.set_names(['',\n",
    "                                                                           '\\\\emph{Independent Variable}'])\n",
    "# Export to LaTeX.\n",
    "filename = os.path.join(OUTPUT_TABLES, \"pre_treatment_covariate_tests.tex\")\n",
    "latex = (covariate_exploration_df\n",
    "         .rename(index=variable_display_names_dict)\n",
    "         .style\n",
    "         .format(formatter=\"{:0.2f}\")\n",
    "         .format_index(\"\\\\textit{{{}}}\", escape=\"latex\", axis=0, level=0)\n",
    "         .format_index(\"\\\\textit{{{}}}\", escape=\"latex\", axis=1, level=0)\n",
    "         .to_latex(None,\n",
    "                   column_format=\"llcc\",\n",
    "                   hrules=True,\n",
    "                   multicol_align='c',\n",
    "                   clines=\"skip-last;data\")\n",
    "         .replace(\"{*}\", \"{3cm}\"))\n",
    "latex = latex.split(\"\\\\\\\\\\n\")\n",
    "latex.insert(1, \"\\\\cline{3-4}\\n\")\n",
    "latex = \"\\\\\\\\\\n\".join(latex)\n",
    "with open(filename, 'w') as file:\n",
    "    file.write(latex)\n",
    "covariate_exploration_df"
   ],
   "metadata": {
    "collapsed": false
   }
  },
  {
   "cell_type": "code",
   "execution_count": null,
   "outputs": [],
   "source": [],
   "metadata": {
    "collapsed": false
   }
  }
 ],
 "metadata": {
  "kernelspec": {
   "display_name": "Python 3",
   "language": "python",
   "name": "python3"
  },
  "language_info": {
   "codemirror_mode": {
    "name": "ipython",
    "version": 2
   },
   "file_extension": ".py",
   "mimetype": "text/x-python",
   "name": "python",
   "nbconvert_exporter": "python",
   "pygments_lexer": "ipython2",
   "version": "2.7.6"
  }
 },
 "nbformat": 4,
 "nbformat_minor": 0
}
