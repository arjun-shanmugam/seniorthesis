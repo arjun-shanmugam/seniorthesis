{
 "cells": [
  {
   "cell_type": "markdown",
   "id": "9ec6250d",
   "metadata": {},
   "source": [
    "# 02_DiD_estimates.ipynb"
   ]
  },
  {
   "cell_type": "code",
   "execution_count": 1,
   "id": "cd77da53",
   "metadata": {},
   "outputs": [
    {
     "name": "stderr",
     "output_type": "stream",
     "text": [
      "/var/folders/lm/j45l41m16cs8sd5r9sh4gj6w0000gn/T/ipykernel_1842/2307055463.py:17: DtypeWarning: Columns (149,151) have mixed types. Specify dtype option on import or set low_memory=False.\n",
      "  df = pd.read_csv(INPUT_DATA)\n"
     ]
    }
   ],
   "source": [
    "from differences import ATTgt\n",
    "import figure_utilities\n",
    "from matplotlib import pyplot as plt\n",
    "plt.rcParams[\"figure.dpi\"] = 300\n",
    "plt.rcParams['savefig.dpi'] = 300\n",
    "import numpy as np\n",
    "import os\n",
    "import pandas as pd\n",
    "\n",
    "\n",
    "# Store paths.\n",
    "INPUT_DATA = \"/Users/arjunshanmugam/Documents/GitHub/seniorthesis/data/03_cleaned/restricted.csv\"\n",
    "OUTPUT_FIGURES = \"/Users/arjunshanmugam/Documents/GitHub/seniorthesis/output/DiD/figures\"\n",
    "OUTPUT_TABLES = \"/Users/arjunshanmugam/Documents/GitHub/seniorthesis/output/DiD/tables\"\n",
    "\n",
    "# Read restricted sample panel dataset into memory.\n",
    "df = pd.read_csv(INPUT_DATA)"
   ]
  },
  {
   "cell_type": "code",
   "execution_count": 2,
   "id": "caae0b8f",
   "metadata": {},
   "outputs": [],
   "source": [
    "# Store a list of column names containing Zestimates.\n",
    "years = [str(year) for year in range(2013, 2023)]\n",
    "months = [\"0\" + str(month) for month in range(1, 10)] + [str(month) for month in range(10, 13)]\n",
    "value_vars = [\"2012-12\"] + [str(year) + \"-\" + str(month) for year in years for month in months]\n",
    "\n",
    "# Create dictionaries to map between string represetation and integer representation of each month.\n",
    "month_to_int_dictionary = {key: value for value, key in enumerate(value_vars)}\n",
    "int_to_month_dictionary = {key: value for key, value in enumerate(value_vars)}"
   ]
  },
  {
   "cell_type": "code",
   "execution_count": 3,
   "id": "75a8fcf2",
   "metadata": {},
   "outputs": [
    {
     "name": "stdout",
     "output_type": "stream",
     "text": [
      "Limiting sample to 2948 evictions for which we observe Zestimates at every month from 2012-12 to 2022-12.\n"
     ]
    }
   ],
   "source": [
    "# Drop rows for which we are missing any Zestimates.\n",
    "has_all_zestimates_mask = df[value_vars].notna().all(axis=1) \n",
    "print(f\"Limiting sample to {has_all_zestimates_mask.sum()} evictions for which we observe Zestimates at every month \"\n",
    "      \"from 2012-12 to 2022-12.\")\n",
    "df = df.loc[has_all_zestimates_mask, :]"
   ]
  },
  {
   "cell_type": "code",
   "execution_count": 4,
   "id": "743d1935",
   "metadata": {},
   "outputs": [],
   "source": [
    "# Reshape from wide to long.\n",
    "df = pd.melt(df,\n",
    "             id_vars=['case_number', 'file_date', 'judgment_for_plaintiff'],\n",
    "             value_vars=value_vars, var_name='month', value_name='zestimate')\n",
    "df = df.sort_values(by=['case_number', 'month'])\n",
    "\n",
    "# Get 'first treated' date for each observation.\n",
    "df.loc[:, 'file_date'] = pd.to_datetime(df['file_date']).dt.strftime('%Y-%m')\n",
    "\n",
    "# Convert months from string format to integer format.\n",
    "df.loc[:, 'month'] = df['month'].replace(month_to_int_dictionary)\n",
    "df.loc[:, 'file_date'] = df['file_date'].replace(month_to_int_dictionary)\n",
    "never_treated_mask = (df['judgment_for_plaintiff'] == 0)\n",
    "df.loc[never_treated_mask, 'file_date'] = np.NaN\n",
    "\n",
    "# Set index to entity and time.\n",
    "df = df.set_index(['case_number', 'month'])"
   ]
  },
  {
   "cell_type": "code",
   "execution_count": 5,
   "id": "7607b1b0",
   "metadata": {},
   "outputs": [
    {
     "name": "stderr",
     "output_type": "stream",
     "text": [
      "Computing ATTgt [workers=10]  100%|████████████████████| 3000/3000 [01:12<00:00,\n"
     ]
    }
   ],
   "source": [
    "# Run DiD.\n",
    "att_gt = ATTgt(data=df, cohort_name='file_date', freq='M')\n",
    "result = att_gt.fit(formula='zestimate', control_group='never_treated', n_jobs=-1)"
   ]
  },
  {
   "cell_type": "code",
   "execution_count": 6,
   "id": "f3e0949d",
   "metadata": {},
   "outputs": [
    {
     "name": "stdout",
     "output_type": "stream",
     "text": [
      "relative_period\n",
      "-10     956.882451\n",
      "-9      691.267477\n",
      "-8      821.126903\n",
      "-7      699.340097\n",
      "-6      915.530206\n",
      "-5     1255.876853\n",
      "-4      720.826383\n",
      "-3      920.864750\n",
      "-2     1043.154124\n",
      "-1      853.667718\n",
      " 0      774.369461\n",
      " 1     1012.405485\n",
      " 2     1491.970767\n",
      " 3     1831.038700\n",
      " 4     2082.120715\n",
      " 5     2487.064289\n",
      " 6     2883.096474\n",
      " 7     3162.630154\n",
      " 8     3355.673341\n",
      " 9     3776.893884\n",
      " 10    4011.339357\n",
      " 11    3813.220137\n",
      " 12    3955.917105\n",
      " 13    4082.894967\n",
      " 14    4287.827527\n",
      " 15    4533.716900\n",
      " 16    4594.521299\n",
      " 17    4745.338549\n",
      " 18    4929.311481\n",
      " 19    5048.158660\n",
      " 20    5289.527194\n",
      " 21    5591.609325\n",
      " 22    6034.194311\n",
      " 23    6638.273640\n",
      " 24    7239.494740\n",
      " 25    7684.815247\n",
      " 26    7912.910381\n",
      " 27    7731.076548\n",
      " 28    7895.806186\n",
      " 29    7954.313977\n",
      " 30    7744.953708\n",
      " 31    7743.202266\n",
      " 32    7479.741650\n",
      " 33    7567.459644\n",
      " 34    7705.760016\n",
      " 35    8060.820860\n",
      "dtype: float64\n"
     ]
    }
   ],
   "source": [
    "# Get cohort-aggregated ATT(t)s.\n",
    "results_df = att_gt.aggregate('event')\n",
    "results_df = results_df.loc[-10:35]\n",
    "results_df.columns = results_df.columns.droplevel().droplevel()\n",
    "    \n",
    "# Plot event study-style plot of ATTs.\n",
    "fig, ax = plt.subplots()\n",
    "x = results_df.index\n",
    "y = results_df['ATT']\n",
    "y_upper = results_df['upper']\n",
    "y_lower = results_df['lower']\n",
    "ax.grid(True)\n",
    "ax.set_xlabel(\"Month Relative to Treatment\")\n",
    "ax.set_ylabel(\"ATT\")\n",
    "ax.set_title(\"ATT(g, t) Estimates, Aggregated by Month Relative to Treatment\")\n",
    "figure_utilities.plot_labeled_vline(ax, x=0, text=\"Last Docket Date\")\n",
    "figure_utilities.plot_labeled_hline(ax, y=0, text=\"\")\n",
    "figure_utilities.plot_scatter_with_error_bars(ax,\n",
    "                                              x,\n",
    "                                              y,\n",
    "                                              y_upper,\n",
    "                                              y_lower)\n",
    "figure_utilities.save_figure_and_close(fig, os.path.join(OUTPUT_FIGURES, \"att_gt_estimates_event_study.png\"))\n"
   ]
  },
  {
   "cell_type": "markdown",
   "id": "db15a5f7",
   "metadata": {},
   "source": [
    "att_gt.plot('event')"
   ]
  },
  {
   "cell_type": "code",
   "execution_count": null,
   "id": "7a210dca",
   "metadata": {},
   "outputs": [],
   "source": []
  }
 ],
 "metadata": {
  "kernelspec": {
   "display_name": "seniorthesis",
   "language": "python",
   "name": "venv"
  },
  "language_info": {
   "codemirror_mode": {
    "name": "ipython",
    "version": 3
   },
   "file_extension": ".py",
   "mimetype": "text/x-python",
   "name": "python",
   "nbconvert_exporter": "python",
   "pygments_lexer": "ipython3",
   "version": "3.9.0"
  }
 },
 "nbformat": 4,
 "nbformat_minor": 5
}
