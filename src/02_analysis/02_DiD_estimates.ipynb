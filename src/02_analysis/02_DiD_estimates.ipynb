{
 "cells": [
  {
   "cell_type": "markdown",
   "id": "9ec6250d",
   "metadata": {},
   "source": [
    "# 02_DiD_estimates.ipynb"
   ]
  },
  {
   "cell_type": "code",
   "execution_count": 1,
   "id": "cd77da53",
   "metadata": {},
   "outputs": [],
   "source": [
    "from differences import ATTgt\n",
    "import figure_utilities\n",
    "from matplotlib import pyplot as plt\n",
    "plt.rcParams[\"figure.dpi\"] = 300\n",
    "plt.rcParams['savefig.dpi'] = 300\n",
    "import numpy as np\n",
    "import os\n",
    "import pandas as pd\n",
    "\n",
    "\n",
    "# Store paths.\n",
    "INPUT_DATA = \"/Users/arjunshanmugam/Documents/GitHub/seniorthesis/data/03_cleaned/restricted.csv\"\n",
    "OUTPUT_FIGURES = \"/Users/arjunshanmugam/Documents/GitHub/seniorthesis/output/DiD/figures\"\n",
    "OUTPUT_TABLES = \"/Users/arjunshanmugam/Documents/GitHub/seniorthesis/output/DiD/tables\"\n",
    "\n",
    "# Read restricted sample panel dataset into memory.\n",
    "df = pd.read_csv(INPUT_DATA)\n",
    "\n",
    "# Drop rows where voluntary dismissal occurred. \n",
    "df = df.loc[df['voluntary_dismissal'] == 0, :]"
   ]
  },
  {
   "cell_type": "code",
   "execution_count": 2,
   "id": "caae0b8f",
   "metadata": {},
   "outputs": [],
   "source": [
    "# Store a list of column names containing Zestimates.\n",
    "years = [str(year) for year in range(2013, 2023)]\n",
    "months = [\"0\" + str(month) for month in range(1, 10)] + [str(month) for month in range(10, 13)]\n",
    "value_vars = [\"2012-12\"] + [str(year) + \"-\" + str(month) for year in years for month in months]\n",
    "\n",
    "# Create dictionaries to map between string represetation and integer representation of each month.\n",
    "month_to_int_dictionary = {key: value for value, key in enumerate(value_vars)}\n",
    "int_to_month_dictionary = {key: value for key, value in enumerate(value_vars)}"
   ]
  },
  {
   "cell_type": "code",
   "execution_count": 3,
   "id": "75a8fcf2",
   "metadata": {},
   "outputs": [
    {
     "name": "stdout",
     "output_type": "stream",
     "text": [
      "Limiting sample to 2657 evictions for which we observe Zestimates at every month from 2012-12 to 2022-12.\n"
     ]
    }
   ],
   "source": [
    "# Drop rows for which we are missing any Zestimates.\n",
    "has_all_zestimates_mask = df[value_vars].notna().all(axis=1) \n",
    "print(f\"Limiting sample to {has_all_zestimates_mask.sum()} evictions for which we observe Zestimates at every month \"\n",
    "      \"from 2012-12 to 2022-12.\")\n",
    "df = df.loc[has_all_zestimates_mask, :]"
   ]
  },
  {
   "cell_type": "code",
   "execution_count": 4,
   "id": "743d1935",
   "metadata": {},
   "outputs": [
    {
     "name": "stdout",
     "output_type": "stream",
     "text": [
      "1    235466\n",
      "0     86031\n",
      "Name: judgment_for_plaintiff, dtype: int64\n"
     ]
    }
   ],
   "source": [
    "# Reshape from wide to long.\n",
    "df = pd.melt(df,\n",
    "             id_vars=['case_number', 'latest_docket_date', 'judgment_for_plaintiff'],\n",
    "             value_vars=value_vars, var_name='month', value_name='zestimate')\n",
    "df = df.sort_values(by=['case_number', 'month'])\n",
    "\n",
    "# Get 'first treated' date for each observation.\n",
    "df.loc[:, 'latest_docket_date'] = pd.to_datetime(df['latest_docket_date']).dt.strftime('%Y-%m')\n",
    "\n",
    "# Convert months from string format to integer format.\n",
    "df.loc[:, 'month'] = df['month'].replace(month_to_int_dictionary)\n",
    "df.loc[:, 'latest_docket_date'] = df['latest_docket_date'].replace(month_to_int_dictionary)\n",
    "never_treated_mask = (df['judgment_for_plaintiff'] == 0)\n",
    "df.loc[never_treated_mask, 'latest_docket_date'] = np.NaN\n",
    "\n",
    "# Set index to entity and time.\n",
    "df = df.set_index(['case_number', 'month'])"
   ]
  },
  {
   "cell_type": "code",
   "execution_count": 5,
   "id": "7607b1b0",
   "metadata": {},
   "outputs": [
    {
     "name": "stderr",
     "output_type": "stream",
     "text": [
      "Computing ATTgt [workers=10]  100%|████████████████████| 5040/5040 [04:16<00:00,\n"
     ]
    }
   ],
   "source": [
    "# Run DiD.\n",
    "att_gt = ATTgt(data=df, cohort_name='latest_docket_date', freq='M')\n",
    "result = att_gt.fit(formula='zestimate', control_group='never_treated', n_jobs=-1)"
   ]
  },
  {
   "cell_type": "code",
   "execution_count": 6,
   "id": "f3e0949d",
   "metadata": {},
   "outputs": [],
   "source": [
    "# Get cohort-aggregated ATT(t)s.\n",
    "results_df = att_gt.aggregate('event')\n",
    "results_df = results_df.loc[-10:35]\n",
    "results_df.columns = results_df.columns.droplevel().droplevel()\n",
    "    \n",
    "# Plot event study-style plot of ATTs.\n",
    "fig, ax = plt.subplots()\n",
    "x = results_df.index\n",
    "y = results_df['ATT']\n",
    "y_upper = results_df['upper']\n",
    "y_lower = results_df['lower']\n",
    "ax.grid(True)\n",
    "ax.set_xlabel(\"Month Relative to Treatment\")\n",
    "ax.set_ylabel(\"ATT\")\n",
    "ax.set_title(\"ATT(g, t) Estimates, Aggregated by Month Relative to Treatment\")\n",
    "figure_utilities.plot_labeled_vline(ax, x=0, text=\"Last Docket Date\")\n",
    "figure_utilities.plot_labeled_hline(ax, y=0, text=\"\")\n",
    "figure_utilities.plot_scatter_with_error_bars(ax,\n",
    "                                              x,\n",
    "                                              y,\n",
    "                                              y_upper,\n",
    "                                              y_lower)\n",
    "figure_utilities.save_figure_and_close(fig, os.path.join(OUTPUT_FIGURES, \"att_gt_estimates_event_study.png\"))\n"
   ]
  },
  {
   "cell_type": "markdown",
   "id": "db15a5f7",
   "metadata": {},
   "source": [
    "att_gt.plot('event')"
   ]
  },
  {
   "cell_type": "code",
   "execution_count": null,
   "id": "7a210dca",
   "metadata": {},
   "outputs": [],
   "source": []
  }
 ],
 "metadata": {
  "kernelspec": {
   "display_name": "seniorthesis",
   "language": "python",
   "name": "venv"
  },
  "language_info": {
   "codemirror_mode": {
    "name": "ipython",
    "version": 3
   },
   "file_extension": ".py",
   "mimetype": "text/x-python",
   "name": "python",
   "nbconvert_exporter": "python",
   "pygments_lexer": "ipython3",
   "version": "3.9.0"
  }
 },
 "nbformat": 4,
 "nbformat_minor": 5
}
