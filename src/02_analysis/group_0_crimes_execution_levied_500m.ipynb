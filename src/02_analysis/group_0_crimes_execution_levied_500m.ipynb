{
 "cells": [
  {
   "cell_type": "code",
   "execution_count": 1,
   "metadata": {},
   "outputs": [],
   "source": [
    "from differences import ATTgt\n",
    "from matplotlib import pyplot as plt\n",
    "plt.rcParams[\"figure.dpi\"] = 300\n",
    "plt.rcParams['savefig.dpi'] = 300\n",
    "from panel_utilities import get_value_variable_names, prepare_df_for_DiD\n",
    "from stats_utilities import select_controls, test_balance, produce_summary_statistics\n",
    "from figure_utilities import aggregate_by_event_time_and_plot, aggregate_by_time_and_plot\n",
    "import pandas as pd\n",
    "\n",
    "\n",
    "\n",
    "# Store paths.\n",
    "analysis='group_0_crimes_500m'\n",
    "INPUT_DATA = \"../../data/03_cleaned/crime_analysis_monthly.parquet\"\n",
    "OUTPUT_FIGURES = f\"../../output/group_0_crimes_execution_levied_500m/figures\"\n",
    "OUTPUT_TABLES = f\"../../output/group_0_crimes_execution_levied_500m/tables\"\n",
    "\n",
    "\n",
    "# Read restricted sample panel dataset into memory.\n",
    "df = pd.read_parquet(INPUT_DATA)"
   ]
  },
  {
   "cell_type": "code",
   "execution_count": 2,
   "metadata": {
    "collapsed": false,
    "jupyter": {
     "outputs_hidden": false
    }
   },
   "outputs": [],
   "source": [
    "# Convert weekly panel to biweekly panel.\n",
    "treatment_date_variable = 'latest_docket_month'\n",
    "df = df.dropna(subset=treatment_date_variable)\n",
    "\n",
    "# Generate value vars list and month to int dictionaries.\n",
    "weekly_value_vars_crime, month_to_int_dictionary, int_to_month_dictionary = get_value_variable_names(df, analysis)"
   ]
  },
  {
   "cell_type": "code",
   "execution_count": 3,
   "outputs": [],
   "source": [
    "pre_pandemic_months = ['2019-04'\n",
    "                       '2019-05'\n",
    "                       '2019-06',\n",
    "                       '2019-07',\n",
    "                       '2019-08',\n",
    "                       '2019-09',\n",
    "                       '2019-10',\n",
    "                       '2019-11',\n",
    "                       '2019-12',\n",
    "                       '2020-01',\n",
    "                       '2020-02',\n",
    "                       '2020-03']\n",
    "\n",
    "\n",
    "df = df.loc[df['latest_docket_month'].isin(pre_pandemic_months), :]"
   ],
   "metadata": {
    "collapsed": false
   }
  },
  {
   "cell_type": "code",
   "execution_count": 4,
   "metadata": {
    "collapsed": false,
    "jupyter": {
     "outputs_hidden": false
    }
   },
   "outputs": [
    {
     "ename": "KeyError",
     "evalue": "'execution'",
     "output_type": "error",
     "traceback": [
      "\u001B[0;31m---------------------------------------------------------------------------\u001B[0m",
      "\u001B[0;31mKeyError\u001B[0m                                  Traceback (most recent call last)",
      "File \u001B[0;32m~/Documents/GitHub/seniorthesis/venv/lib/python3.9/site-packages/pandas/core/indexes/base.py:3621\u001B[0m, in \u001B[0;36mIndex.get_loc\u001B[0;34m(self, key, method, tolerance)\u001B[0m\n\u001B[1;32m   3620\u001B[0m \u001B[38;5;28;01mtry\u001B[39;00m:\n\u001B[0;32m-> 3621\u001B[0m     \u001B[38;5;28;01mreturn\u001B[39;00m \u001B[38;5;28;43mself\u001B[39;49m\u001B[38;5;241;43m.\u001B[39;49m\u001B[43m_engine\u001B[49m\u001B[38;5;241;43m.\u001B[39;49m\u001B[43mget_loc\u001B[49m\u001B[43m(\u001B[49m\u001B[43mcasted_key\u001B[49m\u001B[43m)\u001B[49m\n\u001B[1;32m   3622\u001B[0m \u001B[38;5;28;01mexcept\u001B[39;00m \u001B[38;5;167;01mKeyError\u001B[39;00m \u001B[38;5;28;01mas\u001B[39;00m err:\n",
      "File \u001B[0;32m~/Documents/GitHub/seniorthesis/venv/lib/python3.9/site-packages/pandas/_libs/index.pyx:136\u001B[0m, in \u001B[0;36mpandas._libs.index.IndexEngine.get_loc\u001B[0;34m()\u001B[0m\n",
      "File \u001B[0;32m~/Documents/GitHub/seniorthesis/venv/lib/python3.9/site-packages/pandas/_libs/index.pyx:163\u001B[0m, in \u001B[0;36mpandas._libs.index.IndexEngine.get_loc\u001B[0;34m()\u001B[0m\n",
      "File \u001B[0;32mpandas/_libs/hashtable_class_helper.pxi:5198\u001B[0m, in \u001B[0;36mpandas._libs.hashtable.PyObjectHashTable.get_item\u001B[0;34m()\u001B[0m\n",
      "File \u001B[0;32mpandas/_libs/hashtable_class_helper.pxi:5206\u001B[0m, in \u001B[0;36mpandas._libs.hashtable.PyObjectHashTable.get_item\u001B[0;34m()\u001B[0m\n",
      "\u001B[0;31mKeyError\u001B[0m: 'execution'",
      "\nThe above exception was the direct cause of the following exception:\n",
      "\u001B[0;31mKeyError\u001B[0m                                  Traceback (most recent call last)",
      "Cell \u001B[0;32mIn[4], line 1\u001B[0m\n\u001B[0;32m----> 1\u001B[0m covariates_exploration_df \u001B[38;5;241m=\u001B[39m \u001B[43mselect_controls\u001B[49m\u001B[43m(\u001B[49m\u001B[43mdf\u001B[49m\u001B[38;5;241;43m=\u001B[39;49m\u001B[43mdf\u001B[49m\u001B[43m,\u001B[49m\u001B[43m \u001B[49m\u001B[43manalysis\u001B[49m\u001B[38;5;241;43m=\u001B[39;49m\u001B[43manalysis\u001B[49m\u001B[43m,\u001B[49m\n\u001B[1;32m      2\u001B[0m \u001B[43m                                            \u001B[49m\u001B[43mtreatment_date_variable\u001B[49m\u001B[38;5;241;43m=\u001B[39;49m\u001B[43mtreatment_date_variable\u001B[49m\u001B[43m,\u001B[49m\n\u001B[1;32m      3\u001B[0m \u001B[43m                                            \u001B[49m\u001B[43moutput_directory\u001B[49m\u001B[38;5;241;43m=\u001B[39;49m\u001B[43mOUTPUT_TABLES\u001B[49m\u001B[43m)\u001B[49m\n\u001B[1;32m      4\u001B[0m covariates_exploration_df\n",
      "File \u001B[0;32m~/Documents/GitHub/seniorthesis/src/02_analysis/stats_utilities.py:138\u001B[0m, in \u001B[0;36mselect_controls\u001B[0;34m(df, treatment_date_variable, analysis, output_directory)\u001B[0m\n\u001B[1;32m    135\u001B[0m covariate_exploration_table_columns \u001B[38;5;241m=\u001B[39m [\u001B[38;5;124m\"\u001B[39m\u001B[38;5;124m\"\u001B[39m, \u001B[38;5;124m\"\u001B[39m\u001B[38;5;124m\"\u001B[39m]  \u001B[38;5;66;03m# TODO: Add column naming logic.\u001B[39;00m\n\u001B[1;32m    137\u001B[0m \u001B[38;5;66;03m# Run produce summary statistics on the DataFrame to get names of column names of potential pre-treatment covaiates.\u001B[39;00m\n\u001B[0;32m--> 138\u001B[0m summary_statistics, variable_display_names_dict \u001B[38;5;241m=\u001B[39m \u001B[43mproduce_summary_statistics\u001B[49m\u001B[43m(\u001B[49m\u001B[43mdf\u001B[49m\u001B[43m,\u001B[49m\u001B[43m \u001B[49m\u001B[38;5;124;43m'\u001B[39;49m\u001B[38;5;124;43mlatest_docket_date\u001B[39;49m\u001B[38;5;124;43m'\u001B[39;49m\u001B[43m)\u001B[49m\n\u001B[1;32m    140\u001B[0m \u001B[38;5;66;03m# Do not include rows corresponding to other outcomes in the covariate exploration table.\u001B[39;00m\n\u001B[1;32m    141\u001B[0m outcomes \u001B[38;5;241m=\u001B[39m Variables\u001B[38;5;241m.\u001B[39moutcomes\u001B[38;5;241m.\u001B[39mcopy()  \u001B[38;5;66;03m# Create list of all outcomes.\u001B[39;00m\n",
      "File \u001B[0;32m~/Documents/GitHub/seniorthesis/src/02_analysis/stats_utilities.py:264\u001B[0m, in \u001B[0;36mproduce_summary_statistics\u001B[0;34m(df, treatment_date_variable)\u001B[0m\n\u001B[1;32m    261\u001B[0m target_values \u001B[38;5;241m=\u001B[39m [\u001B[38;5;124m\"\u001B[39m\u001B[38;5;124mMediated\u001B[39m\u001B[38;5;124m\"\u001B[39m, \u001B[38;5;124m\"\u001B[39m\u001B[38;5;124mDismissed\u001B[39m\u001B[38;5;124m\"\u001B[39m, \u001B[38;5;124m\"\u001B[39m\u001B[38;5;124mDefaulted\u001B[39m\u001B[38;5;124m\"\u001B[39m, \u001B[38;5;124m\"\u001B[39m\u001B[38;5;124mHeard\u001B[39m\u001B[38;5;124m\"\u001B[39m, \u001B[38;5;124m\"\u001B[39m\u001B[38;5;124mLevied\u001B[39m\u001B[38;5;124m\"\u001B[39m, \u001B[38;5;124m\"\u001B[39m\u001B[38;5;124mIssued\u001B[39m\u001B[38;5;124m\"\u001B[39m, \u001B[38;5;124m\"\u001B[39m\u001B[38;5;124mRequested\u001B[39m\u001B[38;5;124m\"\u001B[39m, np\u001B[38;5;241m.\u001B[39mnan]\n\u001B[1;32m    263\u001B[0m \u001B[38;5;28;01mfor\u001B[39;00m dummy_column, origin_column, target_value \u001B[38;5;129;01min\u001B[39;00m \u001B[38;5;28mzip\u001B[39m(panel_E_columns, origin_columns, target_values):\n\u001B[0;32m--> 264\u001B[0m     df\u001B[38;5;241m.\u001B[39mloc[:, dummy_column] \u001B[38;5;241m=\u001B[39m np\u001B[38;5;241m.\u001B[39mwhere(\u001B[43mdf\u001B[49m\u001B[43m[\u001B[49m\u001B[43morigin_column\u001B[49m\u001B[43m]\u001B[49m \u001B[38;5;241m==\u001B[39m target_value, \u001B[38;5;241m1\u001B[39m, \u001B[38;5;241m0\u001B[39m)\n\u001B[1;32m    265\u001B[0m \u001B[38;5;66;03m# Add case duration and money judgment to Panel E.\u001B[39;00m\n\u001B[1;32m    266\u001B[0m panel_E_columns\u001B[38;5;241m.\u001B[39mappend(\u001B[38;5;124m'\u001B[39m\u001B[38;5;124mcase_duration\u001B[39m\u001B[38;5;124m'\u001B[39m)\n",
      "File \u001B[0;32m~/Documents/GitHub/seniorthesis/venv/lib/python3.9/site-packages/pandas/core/frame.py:3505\u001B[0m, in \u001B[0;36mDataFrame.__getitem__\u001B[0;34m(self, key)\u001B[0m\n\u001B[1;32m   3503\u001B[0m \u001B[38;5;28;01mif\u001B[39;00m \u001B[38;5;28mself\u001B[39m\u001B[38;5;241m.\u001B[39mcolumns\u001B[38;5;241m.\u001B[39mnlevels \u001B[38;5;241m>\u001B[39m \u001B[38;5;241m1\u001B[39m:\n\u001B[1;32m   3504\u001B[0m     \u001B[38;5;28;01mreturn\u001B[39;00m \u001B[38;5;28mself\u001B[39m\u001B[38;5;241m.\u001B[39m_getitem_multilevel(key)\n\u001B[0;32m-> 3505\u001B[0m indexer \u001B[38;5;241m=\u001B[39m \u001B[38;5;28;43mself\u001B[39;49m\u001B[38;5;241;43m.\u001B[39;49m\u001B[43mcolumns\u001B[49m\u001B[38;5;241;43m.\u001B[39;49m\u001B[43mget_loc\u001B[49m\u001B[43m(\u001B[49m\u001B[43mkey\u001B[49m\u001B[43m)\u001B[49m\n\u001B[1;32m   3506\u001B[0m \u001B[38;5;28;01mif\u001B[39;00m is_integer(indexer):\n\u001B[1;32m   3507\u001B[0m     indexer \u001B[38;5;241m=\u001B[39m [indexer]\n",
      "File \u001B[0;32m~/Documents/GitHub/seniorthesis/venv/lib/python3.9/site-packages/pandas/core/indexes/base.py:3623\u001B[0m, in \u001B[0;36mIndex.get_loc\u001B[0;34m(self, key, method, tolerance)\u001B[0m\n\u001B[1;32m   3621\u001B[0m     \u001B[38;5;28;01mreturn\u001B[39;00m \u001B[38;5;28mself\u001B[39m\u001B[38;5;241m.\u001B[39m_engine\u001B[38;5;241m.\u001B[39mget_loc(casted_key)\n\u001B[1;32m   3622\u001B[0m \u001B[38;5;28;01mexcept\u001B[39;00m \u001B[38;5;167;01mKeyError\u001B[39;00m \u001B[38;5;28;01mas\u001B[39;00m err:\n\u001B[0;32m-> 3623\u001B[0m     \u001B[38;5;28;01mraise\u001B[39;00m \u001B[38;5;167;01mKeyError\u001B[39;00m(key) \u001B[38;5;28;01mfrom\u001B[39;00m \u001B[38;5;21;01merr\u001B[39;00m\n\u001B[1;32m   3624\u001B[0m \u001B[38;5;28;01mexcept\u001B[39;00m \u001B[38;5;167;01mTypeError\u001B[39;00m:\n\u001B[1;32m   3625\u001B[0m     \u001B[38;5;66;03m# If we have a listlike key, _check_indexing_error will raise\u001B[39;00m\n\u001B[1;32m   3626\u001B[0m     \u001B[38;5;66;03m#  InvalidIndexError. Otherwise we fall through and re-raise\u001B[39;00m\n\u001B[1;32m   3627\u001B[0m     \u001B[38;5;66;03m#  the TypeError.\u001B[39;00m\n\u001B[1;32m   3628\u001B[0m     \u001B[38;5;28mself\u001B[39m\u001B[38;5;241m.\u001B[39m_check_indexing_error(key)\n",
      "\u001B[0;31mKeyError\u001B[0m: 'execution'"
     ]
    }
   ],
   "source": [
    "covariates_exploration_df = select_controls(df=df, analysis=analysis,\n",
    "                                            treatment_date_variable=treatment_date_variable,\n",
    "                                            output_directory=OUTPUT_TABLES)\n",
    "covariates_exploration_df"
   ]
  },
  {
   "cell_type": "code",
   "execution_count": null,
   "metadata": {
    "collapsed": false,
    "jupyter": {
     "outputs_hidden": false
    }
   },
   "outputs": [],
   "source": [
    "balance_table, pre_treatment_covariates = test_balance(df, analysis, covariates_exploration_df, OUTPUT_TABLES)\n",
    "balance_table"
   ]
  },
  {
   "cell_type": "code",
   "execution_count": null,
   "metadata": {
    "collapsed": false,
    "jupyter": {
     "outputs_hidden": false
    }
   },
   "outputs": [],
   "source": [
    "# Generate indicators for missing data.\n",
    "\n",
    "# missing_indicators = add_missing_indicators(df, ['rent_twobed2015'], pre_treatment_covariates)\n",
    "\n",
    "# Prepare df for use with the differences package.\n",
    "df = df.reset_index()\n",
    "df = prepare_df_for_DiD(df=df,\n",
    "                        analysis=analysis,\n",
    "                        treatment_date_variable=treatment_date_variable,\n",
    "                        pre_treatment_covariates=pre_treatment_covariates,\n",
    "                        missing_indicators=[],\n",
    "                        value_vars=weekly_value_vars_crime,\n",
    "                        period_to_int_dictionary=month_to_int_dictionary)"
   ]
  },
  {
   "cell_type": "code",
   "execution_count": null,
   "metadata": {
    "collapsed": false,
    "jupyter": {
     "outputs_hidden": false
    }
   },
   "outputs": [],
   "source": [
    "# Run DiD without conditioning on covariates.\n",
    "att_gt = ATTgt(data=df, cohort_name=treatment_date_variable, freq='2W', base_period='universal')\n",
    "result = att_gt.fit(formula=analysis, control_group='not_yet_treated', n_jobs=-1)"
   ]
  },
  {
   "cell_type": "code",
   "execution_count": null,
   "metadata": {
    "collapsed": false,
    "jupyter": {
     "outputs_hidden": false
    }
   },
   "outputs": [],
   "source": [
    "# Plot unconditional ATT(t-g)s on a long horizon.\n",
    "aggregate_by_event_time_and_plot(att_gt, OUTPUT_FIGURES, \"att_gt_unconditional_event_study_long_horizon.png\",\n",
    "                                 start_period=-6, end_period=36,\n",
    "                                 title=\"\",\n",
    "                                 treatment_month_variable=treatment_date_variable, df=df)"
   ]
  },
  {
   "cell_type": "code",
   "execution_count": null,
   "metadata": {
    "collapsed": false,
    "jupyter": {
     "outputs_hidden": false
    }
   },
   "outputs": [],
   "source": [
    "# Plot unconditional ATT(t)s.\n",
    "aggregate_by_time_and_plot(att_gt, int_to_month_dictionary, OUTPUT_FIGURES, \"att_gt_unconditional_time.png\",\n",
    "                           title=\"\")"
   ]
  },
  {
   "cell_type": "code",
   "execution_count": null,
   "metadata": {
    "collapsed": false,
    "jupyter": {
     "outputs_hidden": false
    },
    "scrolled": true,
    "tags": []
   },
   "outputs": [],
   "source": [
    "# Run DiD conditional on covariates.\n",
    "att_gt = ATTgt(data=df, cohort_name=treatment_date_variable, freq='M', base_period='universal')\n",
    "formula = f'{analysis} ~ ' + '+'.join(pre_treatment_covariates)\n",
    "result = att_gt.fit(formula=formula, control_group='not_yet_treated', n_jobs=-1, progress_bar=True)"
   ]
  },
  {
   "cell_type": "code",
   "execution_count": null,
   "metadata": {
    "collapsed": false,
    "jupyter": {
     "outputs_hidden": false
    }
   },
   "outputs": [],
   "source": [
    "# Plot D.R. ATT(t-g)s on a long horizon.\n",
    "aggregate_by_event_time_and_plot(att_gt, OUTPUT_FIGURES, \"att_gt_dr_event_study_long_horizon.png\", start_period=-6,\n",
    "                                 end_period=36,\n",
    "                                 title=\"\",\n",
    "                                 treatment_month_variable=treatment_date_variable, df=df)"
   ]
  },
  {
   "cell_type": "code",
   "execution_count": null,
   "metadata": {
    "collapsed": false,
    "jupyter": {
     "outputs_hidden": false
    }
   },
   "outputs": [],
   "source": [
    "# Plot D.R. ATT(t)s.\n",
    "aggregate_by_time_and_plot(att_gt, int_to_month_dictionary, OUTPUT_FIGURES, \"att_gt_dr_time.png\",\n",
    "                           title=\"\")"
   ]
  },
  {
   "cell_type": "code",
   "execution_count": null,
   "metadata": {
    "collapsed": false,
    "jupyter": {
     "outputs_hidden": false
    }
   },
   "outputs": [],
   "source": []
  }
 ],
 "metadata": {
  "kernelspec": {
   "display_name": "venv",
   "language": "python",
   "name": "venv"
  },
  "language_info": {
   "codemirror_mode": {
    "name": "ipython",
    "version": 3
   },
   "file_extension": ".py",
   "mimetype": "text/x-python",
   "name": "python",
   "nbconvert_exporter": "python",
   "pygments_lexer": "ipython3",
   "version": "3.10.8"
  }
 },
 "nbformat": 4,
 "nbformat_minor": 4
}
