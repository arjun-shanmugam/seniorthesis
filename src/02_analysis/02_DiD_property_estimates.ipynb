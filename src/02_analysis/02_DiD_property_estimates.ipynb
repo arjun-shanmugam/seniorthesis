{
 "cells": [
  {
   "cell_type": "markdown",
   "id": "9ec6250d",
   "metadata": {},
   "source": [
    "# 02_DiD_estimates.ipynb"
   ]
  },
  {
   "cell_type": "code",
   "execution_count": 8,
   "id": "cd77da53",
   "metadata": {},
   "outputs": [],
   "source": [
    "from differences import ATTgt\n",
    "from differences.did.pscore_cal import pscore_mle\n",
    "from matplotlib import pyplot as plt\n",
    "\n",
    "import figure_and_table_constants\n",
    "import figure_utilities\n",
    "from analysis_utilities import test_balance, aggregate_by_time_and_plot, \\\n",
    "    aggregate_by_event_time_and_plot, select_controls, add_missing_indicators, prepare_df\n",
    "\n",
    "plt.rcParams[\"figure.dpi\"] = 300\n",
    "plt.rcParams['savefig.dpi'] = 300\n",
    "import numpy as np\n",
    "import os\n",
    "import pandas as pd\n",
    "\n",
    "# Store paths.\n",
    "INPUT_DATA = \"/Users/arjunshanmugam/Documents/GitHub/seniorthesis/data/03_cleaned/zestimates_analysis.csv\"\n",
    "OUTPUT_FIGURES = \"/Users/arjunshanmugam/Documents/GitHub/seniorthesis/output/DiD/figures\"\n",
    "OUTPUT_TABLES = \"/Users/arjunshanmugam/Documents/GitHub/seniorthesis/output/DiD/tables\"\n",
    "\n",
    "# Read restricted sample panel dataset into memory.\n",
    "df = pd.read_csv(INPUT_DATA)"
   ]
  },
  {
   "cell_type": "code",
   "execution_count": 9,
   "outputs": [],
   "source": [
    "# Store list of Zestimate variable names and create dictionaries which map between month variable names to integers.\n",
    "years = [str(year) for year in range(2013, 2023)]\n",
    "months = [\"0\" + str(month) for month in range(1, 10)] + [str(month) for month in range(10, 13)]\n",
    "value_vars = [\"2012-12\"] + [str(year) + \"-\" + str(month) for year in years for month in months]\n",
    "value_vars_zestimates = [value_var + \"_zestimate\" for value_var in value_vars]\n",
    "month_to_int_dictionary = {key: value + 1 for value, key in enumerate(value_vars)}\n",
    "int_to_month_dictionary = {key + 1: value for key, value in enumerate(value_vars)}"
   ],
   "metadata": {
    "collapsed": false
   }
  },
  {
   "cell_type": "code",
   "execution_count": 10,
   "outputs": [
    {
     "data": {
      "text/plain": "                                                                               Dependent Variable  \\\n                                                                             Zestimate, Dec. 2022   \n                                                 \\emph{Independent Variable}                        \nPanel A: Pre-treatment Outcomes                  twenty_seventeen_zestimate          0.000000e+00   \n                                                 change_in_zestimates               1.264429e-118   \nPanel B: Census Tract Characteristics            frac_coll_plus2010                  3.096022e-12   \n                                                 job_density_2013                    1.355252e-03   \n                                                 med_hhinc2016                       6.304640e-05   \n                                                 poor_share2010                      6.944582e-01   \n                                                 popdensity2010                      1.542249e-46   \n                                                 rent_twobed2015                     5.705281e-21   \n                                                 share_white2010                     4.438206e-09   \n                                                 traveltime15_2010                   2.871181e-41   \nPanel C: Case Initiation                         for_cause                           1.375272e-02   \n                                                 no_cause                            9.857393e-01   \n                                                 non_payment                         3.114295e-01   \nPanel D: Defendant and Plaintiff Characteristics hasAttyD                            3.655513e-01   \n                                                 hasAttyP                            6.063359e-01   \n                                                 isEntityD                           2.171802e-02   \n                                                 isEntityP                           6.191860e-01   \n\n                                                                                                \n                                                                             Plaintiff victory  \n                                                 \\emph{Independent Variable}                    \nPanel A: Pre-treatment Outcomes                  twenty_seventeen_zestimate       7.869327e-04  \n                                                 change_in_zestimates             2.664968e-01  \nPanel B: Census Tract Characteristics            frac_coll_plus2010               9.264108e-02  \n                                                 job_density_2013                 6.372815e-01  \n                                                 med_hhinc2016                    2.869576e-02  \n                                                 poor_share2010                   7.594566e-03  \n                                                 popdensity2010                   7.473481e-03  \n                                                 rent_twobed2015                  5.231199e-02  \n                                                 share_white2010                  2.785888e-03  \n                                                 traveltime15_2010                1.962828e-02  \nPanel C: Case Initiation                         for_cause                        6.735141e-01  \n                                                 no_cause                         3.232651e-02  \n                                                 non_payment                      7.510882e-01  \nPanel D: Defendant and Plaintiff Characteristics hasAttyD                         3.382228e-30  \n                                                 hasAttyP                         4.867835e-01  \n                                                 isEntityD                        3.643074e-01  \n                                                 isEntityP                        1.137825e-01  ",
      "text/html": "<div>\n<style scoped>\n    .dataframe tbody tr th:only-of-type {\n        vertical-align: middle;\n    }\n\n    .dataframe tbody tr th {\n        vertical-align: top;\n    }\n\n    .dataframe thead tr th {\n        text-align: left;\n    }\n\n    .dataframe thead tr:last-of-type th {\n        text-align: right;\n    }\n</style>\n<table border=\"1\" class=\"dataframe\">\n  <thead>\n    <tr>\n      <th></th>\n      <th></th>\n      <th colspan=\"2\" halign=\"left\">Dependent Variable</th>\n    </tr>\n    <tr>\n      <th></th>\n      <th></th>\n      <th>Zestimate, Dec. 2022</th>\n      <th>Plaintiff victory</th>\n    </tr>\n    <tr>\n      <th></th>\n      <th>\\emph{Independent Variable}</th>\n      <th></th>\n      <th></th>\n    </tr>\n  </thead>\n  <tbody>\n    <tr>\n      <th rowspan=\"2\" valign=\"top\">Panel A: Pre-treatment Outcomes</th>\n      <th>twenty_seventeen_zestimate</th>\n      <td>0.000000e+00</td>\n      <td>7.869327e-04</td>\n    </tr>\n    <tr>\n      <th>change_in_zestimates</th>\n      <td>1.264429e-118</td>\n      <td>2.664968e-01</td>\n    </tr>\n    <tr>\n      <th rowspan=\"8\" valign=\"top\">Panel B: Census Tract Characteristics</th>\n      <th>frac_coll_plus2010</th>\n      <td>3.096022e-12</td>\n      <td>9.264108e-02</td>\n    </tr>\n    <tr>\n      <th>job_density_2013</th>\n      <td>1.355252e-03</td>\n      <td>6.372815e-01</td>\n    </tr>\n    <tr>\n      <th>med_hhinc2016</th>\n      <td>6.304640e-05</td>\n      <td>2.869576e-02</td>\n    </tr>\n    <tr>\n      <th>poor_share2010</th>\n      <td>6.944582e-01</td>\n      <td>7.594566e-03</td>\n    </tr>\n    <tr>\n      <th>popdensity2010</th>\n      <td>1.542249e-46</td>\n      <td>7.473481e-03</td>\n    </tr>\n    <tr>\n      <th>rent_twobed2015</th>\n      <td>5.705281e-21</td>\n      <td>5.231199e-02</td>\n    </tr>\n    <tr>\n      <th>share_white2010</th>\n      <td>4.438206e-09</td>\n      <td>2.785888e-03</td>\n    </tr>\n    <tr>\n      <th>traveltime15_2010</th>\n      <td>2.871181e-41</td>\n      <td>1.962828e-02</td>\n    </tr>\n    <tr>\n      <th rowspan=\"3\" valign=\"top\">Panel C: Case Initiation</th>\n      <th>for_cause</th>\n      <td>1.375272e-02</td>\n      <td>6.735141e-01</td>\n    </tr>\n    <tr>\n      <th>no_cause</th>\n      <td>9.857393e-01</td>\n      <td>3.232651e-02</td>\n    </tr>\n    <tr>\n      <th>non_payment</th>\n      <td>3.114295e-01</td>\n      <td>7.510882e-01</td>\n    </tr>\n    <tr>\n      <th rowspan=\"4\" valign=\"top\">Panel D: Defendant and Plaintiff Characteristics</th>\n      <th>hasAttyD</th>\n      <td>3.655513e-01</td>\n      <td>3.382228e-30</td>\n    </tr>\n    <tr>\n      <th>hasAttyP</th>\n      <td>6.063359e-01</td>\n      <td>4.867835e-01</td>\n    </tr>\n    <tr>\n      <th>isEntityD</th>\n      <td>2.171802e-02</td>\n      <td>3.643074e-01</td>\n    </tr>\n    <tr>\n      <th>isEntityP</th>\n      <td>6.191860e-01</td>\n      <td>1.137825e-01</td>\n    </tr>\n  </tbody>\n</table>\n</div>"
     },
     "execution_count": 10,
     "metadata": {},
     "output_type": "execute_result"
    }
   ],
   "source": [
    "covariate_exploration_df = select_controls(df, analysis='zestimate', output_directory=OUTPUT_TABLES)\n",
    "covariate_exploration_df"
   ],
   "metadata": {
    "collapsed": false
   }
  },
  {
   "cell_type": "code",
   "execution_count": 11,
   "outputs": [
    {
     "data": {
      "text/plain": "                                                                            \\\n                                                    Cases Won by Plaintiff   \nPanel A Zestimate, Jan. 2017                                 291945.810182   \n        Change in Zestimate, Jan. 2017 to Jan. 2019           50501.639374   \nPanel B Share with bachelor's degree                              0.253948   \n        Jobs per square mile (2010)                            4161.509187   \n        Median household income (2016)                        52084.777368   \n        Population density (2010)                              9018.271853   \n        Median two bedroom rent (2015)                         1093.516578   \n        Share white (2010)                                        0.602571   \n        Share with commute $<$15 minutes (2010)                   0.286995   \nPanel C For cause                                                 0.124231   \nPanel D Defendant is an entity                                    0.011890   \n\n                                                    Difference in Cases Won by Defendant  \\\n                                                                              Unweighted   \nPanel A Zestimate, Jan. 2017                                                26673.958474   \n        Change in Zestimate, Jan. 2017 to Jan. 2019                          2697.849425   \nPanel B Share with bachelor's degree                                            0.011026   \n        Jobs per square mile (2010)                                           259.780326   \n        Median household income (2016)                                       2271.041629   \n        Population density (2010)                                             962.558592   \n        Median two bedroom rent (2015)                                         33.189130   \n        Share white (2010)                                                      0.034148   \n        Share with commute $<$15 minutes (2010)                                -0.010680   \nPanel C For cause                                                               0.005489   \nPanel D Defendant is an entity                                                  0.003741   \n\n                                                                            \\\n                                                     \\emph{p}     Weighted   \nPanel A Zestimate, Jan. 2017                         0.000787  3189.168320   \n        Change in Zestimate, Jan. 2017 to Jan. 2019  0.266497 -3196.877779   \nPanel B Share with bachelor's degree                 0.092641    -0.000363   \n        Jobs per square mile (2010)                  0.637281   668.271013   \n        Median household income (2016)               0.028696  -211.136108   \n        Population density (2010)                    0.007473   644.234299   \n        Median two bedroom rent (2015)               0.052312     8.191448   \n        Share white (2010)                           0.002786    -0.001060   \n        Share with commute $<$15 minutes (2010)      0.019628    -0.005652   \nPanel C For cause                                    0.673514    -0.008957   \nPanel D Defendant is an entity                       0.364307     0.002656   \n\n                                                               \n                                                     \\emph{p}  \nPanel A Zestimate, Jan. 2017                         0.751626  \n        Change in Zestimate, Jan. 2017 to Jan. 2019  0.317073  \nPanel B Share with bachelor's degree                 0.964491  \n        Jobs per square mile (2010)                  0.365789  \n        Median household income (2016)               0.869612  \n        Population density (2010)                    0.173041  \n        Median two bedroom rent (2015)               0.693400  \n        Share white (2010)                           0.935938  \n        Share with commute $<$15 minutes (2010)      0.285774  \nPanel C For cause                                    0.562657  \nPanel D Defendant is an entity                       0.636932  ",
      "text/html": "<div>\n<style scoped>\n    .dataframe tbody tr th:only-of-type {\n        vertical-align: middle;\n    }\n\n    .dataframe tbody tr th {\n        vertical-align: top;\n    }\n\n    .dataframe thead tr th {\n        text-align: left;\n    }\n</style>\n<table border=\"1\" class=\"dataframe\">\n  <thead>\n    <tr>\n      <th></th>\n      <th></th>\n      <th></th>\n      <th colspan=\"4\" halign=\"left\">Difference in Cases Won by Defendant</th>\n    </tr>\n    <tr>\n      <th></th>\n      <th></th>\n      <th>Cases Won by Plaintiff</th>\n      <th>Unweighted</th>\n      <th>\\emph{p}</th>\n      <th>Weighted</th>\n      <th>\\emph{p}</th>\n    </tr>\n  </thead>\n  <tbody>\n    <tr>\n      <th rowspan=\"2\" valign=\"top\">Panel A</th>\n      <th>Zestimate, Jan. 2017</th>\n      <td>291945.810182</td>\n      <td>26673.958474</td>\n      <td>0.000787</td>\n      <td>3189.168320</td>\n      <td>0.751626</td>\n    </tr>\n    <tr>\n      <th>Change in Zestimate, Jan. 2017 to Jan. 2019</th>\n      <td>50501.639374</td>\n      <td>2697.849425</td>\n      <td>0.266497</td>\n      <td>-3196.877779</td>\n      <td>0.317073</td>\n    </tr>\n    <tr>\n      <th rowspan=\"7\" valign=\"top\">Panel B</th>\n      <th>Share with bachelor's degree</th>\n      <td>0.253948</td>\n      <td>0.011026</td>\n      <td>0.092641</td>\n      <td>-0.000363</td>\n      <td>0.964491</td>\n    </tr>\n    <tr>\n      <th>Jobs per square mile (2010)</th>\n      <td>4161.509187</td>\n      <td>259.780326</td>\n      <td>0.637281</td>\n      <td>668.271013</td>\n      <td>0.365789</td>\n    </tr>\n    <tr>\n      <th>Median household income (2016)</th>\n      <td>52084.777368</td>\n      <td>2271.041629</td>\n      <td>0.028696</td>\n      <td>-211.136108</td>\n      <td>0.869612</td>\n    </tr>\n    <tr>\n      <th>Population density (2010)</th>\n      <td>9018.271853</td>\n      <td>962.558592</td>\n      <td>0.007473</td>\n      <td>644.234299</td>\n      <td>0.173041</td>\n    </tr>\n    <tr>\n      <th>Median two bedroom rent (2015)</th>\n      <td>1093.516578</td>\n      <td>33.189130</td>\n      <td>0.052312</td>\n      <td>8.191448</td>\n      <td>0.693400</td>\n    </tr>\n    <tr>\n      <th>Share white (2010)</th>\n      <td>0.602571</td>\n      <td>0.034148</td>\n      <td>0.002786</td>\n      <td>-0.001060</td>\n      <td>0.935938</td>\n    </tr>\n    <tr>\n      <th>Share with commute $&lt;$15 minutes (2010)</th>\n      <td>0.286995</td>\n      <td>-0.010680</td>\n      <td>0.019628</td>\n      <td>-0.005652</td>\n      <td>0.285774</td>\n    </tr>\n    <tr>\n      <th>Panel C</th>\n      <th>For cause</th>\n      <td>0.124231</td>\n      <td>0.005489</td>\n      <td>0.673514</td>\n      <td>-0.008957</td>\n      <td>0.562657</td>\n    </tr>\n    <tr>\n      <th>Panel D</th>\n      <th>Defendant is an entity</th>\n      <td>0.011890</td>\n      <td>0.003741</td>\n      <td>0.364307</td>\n      <td>0.002656</td>\n      <td>0.636932</td>\n    </tr>\n  </tbody>\n</table>\n</div>"
     },
     "execution_count": 11,
     "metadata": {},
     "output_type": "execute_result"
    }
   ],
   "source": [
    "balance_table, pre_treatment_covariates = test_balance(df, 'zestimate', covariate_exploration_df, OUTPUT_TABLES)\n",
    "balance_table"
   ],
   "metadata": {
    "collapsed": false
   }
  },
  {
   "cell_type": "code",
   "execution_count": 12,
   "id": "743d1935",
   "metadata": {},
   "outputs": [
    {
     "data": {
      "text/plain": "0           1\n1           2\n2           3\n3           4\n4           5\n         ... \n399053    117\n399054    118\n399055    119\n399056    120\n399057    121\nName: month, Length: 399058, dtype: int64"
     },
     "execution_count": 12,
     "metadata": {},
     "output_type": "execute_result"
    }
   ],
   "source": [
    "# Store treatment date variable -- may be either file_date or latest_docket_date -- and drop rows where missing.\n",
    "treatment_date_variable = 'file_date'\n",
    "treatment_month_variable = treatment_date_variable.replace('date', 'month')\n",
    "\n",
    "# Generate indicators for missing data.\n",
    "add_missing_indicators(df, ['rent_twobed2015'], pre_treatment_covariates)\n",
    "\n",
    "# Prepare df for use with the differences package.\n",
    "df = prepare_df(df, 'zestimate', treatment_date_variable, pre_treatment_covariates, value_vars_zestimates, month_to_int_dictionary)"
   ]
  },
  {
   "cell_type": "code",
   "execution_count": 13,
   "id": "7607b1b0",
   "metadata": {},
   "outputs": [
    {
     "name": "stderr",
     "output_type": "stream",
     "text": [
      "Computing ATTgt [workers=10]   32%|██████▍             | 972/3000 [00:12<00:25, 80.94it/s] \n"
     ]
    },
    {
     "ename": "KeyboardInterrupt",
     "evalue": "",
     "output_type": "error",
     "traceback": [
      "\u001B[0;31m---------------------------------------------------------------------------\u001B[0m",
      "\u001B[0;31mKeyboardInterrupt\u001B[0m                         Traceback (most recent call last)",
      "Cell \u001B[0;32mIn[13], line 3\u001B[0m\n\u001B[1;32m      1\u001B[0m \u001B[38;5;66;03m# Run DiD without conditioning on covariates.\u001B[39;00m\n\u001B[1;32m      2\u001B[0m att_gt \u001B[38;5;241m=\u001B[39m ATTgt(data\u001B[38;5;241m=\u001B[39mdf, cohort_name\u001B[38;5;241m=\u001B[39mtreatment_month_variable, freq\u001B[38;5;241m=\u001B[39m\u001B[38;5;124m'\u001B[39m\u001B[38;5;124mM\u001B[39m\u001B[38;5;124m'\u001B[39m)\n\u001B[0;32m----> 3\u001B[0m result \u001B[38;5;241m=\u001B[39m \u001B[43matt_gt\u001B[49m\u001B[38;5;241;43m.\u001B[39;49m\u001B[43mfit\u001B[49m\u001B[43m(\u001B[49m\u001B[43mformula\u001B[49m\u001B[38;5;241;43m=\u001B[39;49m\u001B[38;5;124;43m'\u001B[39;49m\u001B[38;5;124;43mzestimate\u001B[39;49m\u001B[38;5;124;43m'\u001B[39;49m\u001B[43m,\u001B[49m\u001B[43m \u001B[49m\u001B[43mcontrol_group\u001B[49m\u001B[38;5;241;43m=\u001B[39;49m\u001B[38;5;124;43m'\u001B[39;49m\u001B[38;5;124;43mnever_treated\u001B[39;49m\u001B[38;5;124;43m'\u001B[39;49m\u001B[43m,\u001B[49m\u001B[43m \u001B[49m\u001B[43mn_jobs\u001B[49m\u001B[38;5;241;43m=\u001B[39;49m\u001B[38;5;241;43m-\u001B[39;49m\u001B[38;5;241;43m1\u001B[39;49m\u001B[43m)\u001B[49m\n",
      "File \u001B[0;32m~/Documents/GitHub/seniorthesis/venv/lib/python3.9/site-packages/differences/attgt/attgt.py:688\u001B[0m, in \u001B[0;36mATTgt.fit\u001B[0;34m(self, formula, weights_name, control_group, base_delta, est_method, as_repeated_cross_section, boot_iterations, random_state, alpha, cluster_var, split_sample_by, n_jobs, backend, progress_bar)\u001B[0m\n\u001B[1;32m    676\u001B[0m     cluster_groups \u001B[38;5;241m=\u001B[39m get_cluster_groups(\n\u001B[1;32m    677\u001B[0m         data\u001B[38;5;241m=\u001B[39m(\n\u001B[1;32m    678\u001B[0m             \u001B[38;5;28mself\u001B[39m\u001B[38;5;241m.\u001B[39m_data_matrix[cluster_var]\n\u001B[0;32m   (...)\u001B[0m\n\u001B[1;32m    684\u001B[0m         cluster_var\u001B[38;5;241m=\u001B[39mcluster_var,\n\u001B[1;32m    685\u001B[0m     )\n\u001B[1;32m    687\u001B[0m \u001B[38;5;66;03m# att\u001B[39;00m\n\u001B[0;32m--> 688\u001B[0m res \u001B[38;5;241m=\u001B[39m \u001B[43mget_att_gt\u001B[49m\u001B[43m(\u001B[49m\n\u001B[1;32m    689\u001B[0m \u001B[43m    \u001B[49m\u001B[43mdata\u001B[49m\u001B[38;5;241;43m=\u001B[39;49m\u001B[43m(\u001B[49m\n\u001B[1;32m    690\u001B[0m \u001B[43m        \u001B[49m\u001B[38;5;28;43mself\u001B[39;49m\u001B[38;5;241;43m.\u001B[39;49m\u001B[43m_data_matrix\u001B[49m\n\u001B[1;32m    691\u001B[0m \u001B[43m        \u001B[49m\u001B[38;5;28;43;01mif\u001B[39;49;00m\u001B[43m \u001B[49m\u001B[43ms\u001B[49m\u001B[43m \u001B[49m\u001B[38;5;241;43m==\u001B[39;49m\u001B[43m \u001B[49m\u001B[38;5;124;43m\"\u001B[39;49m\u001B[38;5;124;43mfull_sample\u001B[39;49m\u001B[38;5;124;43m\"\u001B[39;49m\n\u001B[1;32m    692\u001B[0m \u001B[43m        \u001B[49m\u001B[38;5;28;43;01melse\u001B[39;49;00m\u001B[43m \u001B[49m\u001B[38;5;28;43mself\u001B[39;49m\u001B[38;5;241;43m.\u001B[39;49m\u001B[43m_data_matrix\u001B[49m\u001B[43m[\u001B[49m\u001B[38;5;28;43mself\u001B[39;49m\u001B[38;5;241;43m.\u001B[39;49m\u001B[43m_result_dict\u001B[49m\u001B[43m[\u001B[49m\u001B[43ms\u001B[49m\u001B[43m]\u001B[49m\u001B[43m[\u001B[49m\u001B[38;5;124;43m\"\u001B[39;49m\u001B[38;5;124;43msample_mask\u001B[39;49m\u001B[38;5;124;43m\"\u001B[39;49m\u001B[43m]\u001B[49m\u001B[43m]\u001B[49m\u001B[38;5;241;43m.\u001B[39;49m\u001B[43mcopy\u001B[49m\u001B[43m(\u001B[49m\u001B[43m)\u001B[49m\n\u001B[1;32m    693\u001B[0m \u001B[43m    \u001B[49m\u001B[43m)\u001B[49m\u001B[43m,\u001B[49m\n\u001B[1;32m    694\u001B[0m \u001B[43m    \u001B[49m\u001B[43my_name\u001B[49m\u001B[38;5;241;43m=\u001B[39;49m\u001B[38;5;28;43mself\u001B[39;49m\u001B[38;5;241;43m.\u001B[39;49m\u001B[43m_y\u001B[49m\u001B[43m,\u001B[49m\n\u001B[1;32m    695\u001B[0m \u001B[43m    \u001B[49m\u001B[43mcohort_name\u001B[49m\u001B[38;5;241;43m=\u001B[39;49m\u001B[38;5;28;43mself\u001B[39;49m\u001B[38;5;241;43m.\u001B[39;49m\u001B[43mcohort_name\u001B[49m\u001B[43m,\u001B[49m\n\u001B[1;32m    696\u001B[0m \u001B[43m    \u001B[49m\u001B[43mstrata_name\u001B[49m\u001B[38;5;241;43m=\u001B[39;49m\u001B[38;5;28;43mself\u001B[39;49m\u001B[38;5;241;43m.\u001B[39;49m\u001B[43mstrata_name\u001B[49m\u001B[43m,\u001B[49m\n\u001B[1;32m    697\u001B[0m \u001B[43m    \u001B[49m\u001B[43mgroup_time\u001B[49m\u001B[38;5;241;43m=\u001B[39;49m\u001B[43mgroup_time\u001B[49m\u001B[43m,\u001B[49m\n\u001B[1;32m    698\u001B[0m \u001B[43m    \u001B[49m\u001B[43mweights_name\u001B[49m\u001B[38;5;241;43m=\u001B[39;49m\u001B[38;5;28;43mself\u001B[39;49m\u001B[38;5;241;43m.\u001B[39;49m\u001B[43m_weights_name\u001B[49m\u001B[43m,\u001B[49m\n\u001B[1;32m    699\u001B[0m \u001B[43m    \u001B[49m\u001B[43mcontrol_group\u001B[49m\u001B[38;5;241;43m=\u001B[39;49m\u001B[38;5;28;43mself\u001B[39;49m\u001B[38;5;241;43m.\u001B[39;49m\u001B[43m_control_group\u001B[49m\u001B[43m,\u001B[49m\n\u001B[1;32m    700\u001B[0m \u001B[43m    \u001B[49m\u001B[43manticipation\u001B[49m\u001B[38;5;241;43m=\u001B[39;49m\u001B[38;5;28;43mself\u001B[39;49m\u001B[38;5;241;43m.\u001B[39;49m\u001B[43manticipation\u001B[49m\u001B[43m,\u001B[49m\n\u001B[1;32m    701\u001B[0m \u001B[43m    \u001B[49m\u001B[43mx_covariates\u001B[49m\u001B[38;5;241;43m=\u001B[39;49m\u001B[38;5;28;43mself\u001B[39;49m\u001B[38;5;241;43m.\u001B[39;49m\u001B[43m_x_covariates\u001B[49m\u001B[43m,\u001B[49m\n\u001B[1;32m    702\u001B[0m \u001B[43m    \u001B[49m\u001B[43mx_base\u001B[49m\u001B[38;5;241;43m=\u001B[39;49m\u001B[38;5;28;43mself\u001B[39;49m\u001B[38;5;241;43m.\u001B[39;49m\u001B[43m_x_base\u001B[49m\u001B[43m,\u001B[49m\n\u001B[1;32m    703\u001B[0m \u001B[43m    \u001B[49m\u001B[43mx_delta\u001B[49m\u001B[38;5;241;43m=\u001B[39;49m\u001B[38;5;28;43mself\u001B[39;49m\u001B[38;5;241;43m.\u001B[39;49m\u001B[43m_x_delta\u001B[49m\u001B[43m,\u001B[49m\n\u001B[1;32m    704\u001B[0m \u001B[43m    \u001B[49m\u001B[43mis_panel\u001B[49m\u001B[38;5;241;43m=\u001B[39;49m\u001B[43mis_panel\u001B[49m\u001B[43m,\u001B[49m\n\u001B[1;32m    705\u001B[0m \u001B[43m    \u001B[49m\u001B[43mis_balanced_panel\u001B[49m\u001B[38;5;241;43m=\u001B[39;49m\u001B[43mis_balanced_panel\u001B[49m\u001B[43m,\u001B[49m\n\u001B[1;32m    706\u001B[0m \u001B[43m    \u001B[49m\u001B[43mcluster_by_entity\u001B[49m\u001B[38;5;241;43m=\u001B[39;49m\u001B[38;5;28;43mself\u001B[39;49m\u001B[38;5;241;43m.\u001B[39;49m\u001B[43m_cluster_by_entity\u001B[49m\u001B[43m,\u001B[49m\n\u001B[1;32m    707\u001B[0m \u001B[43m    \u001B[49m\u001B[43matt_function_ct\u001B[49m\u001B[38;5;241;43m=\u001B[39;49m\u001B[43matt_function_ct\u001B[49m\u001B[43m,\u001B[49m\n\u001B[1;32m    708\u001B[0m \u001B[43m    \u001B[49m\u001B[43mbackend_ct\u001B[49m\u001B[38;5;241;43m=\u001B[39;49m\u001B[43mbackend\u001B[49m\u001B[43m,\u001B[49m\n\u001B[1;32m    709\u001B[0m \u001B[43m    \u001B[49m\u001B[43mn_jobs_ct\u001B[49m\u001B[38;5;241;43m=\u001B[39;49m\u001B[43mn_jobs\u001B[49m\u001B[43m,\u001B[49m\n\u001B[1;32m    710\u001B[0m \u001B[43m    \u001B[49m\u001B[43mprogress_bar\u001B[49m\u001B[38;5;241;43m=\u001B[39;49m\u001B[43mprogress_bar\u001B[49m\u001B[43m,\u001B[49m\n\u001B[1;32m    711\u001B[0m \u001B[43m    \u001B[49m\u001B[43msample_name\u001B[49m\u001B[38;5;241;43m=\u001B[39;49m\u001B[43ms\u001B[49m\u001B[43m \u001B[49m\u001B[38;5;28;43;01mif\u001B[39;49;00m\u001B[43m \u001B[49m\u001B[43ms\u001B[49m\u001B[43m \u001B[49m\u001B[38;5;241;43m!=\u001B[39;49m\u001B[43m \u001B[49m\u001B[38;5;124;43m\"\u001B[39;49m\u001B[38;5;124;43mfull_sample\u001B[39;49m\u001B[38;5;124;43m\"\u001B[39;49m\u001B[43m \u001B[49m\u001B[38;5;28;43;01melse\u001B[39;49;00m\u001B[43m \u001B[49m\u001B[38;5;28;43;01mNone\u001B[39;49;00m\u001B[43m,\u001B[49m\u001B[43m  \u001B[49m\u001B[38;5;66;43;03m# just for progress_bar\u001B[39;49;00m\n\u001B[1;32m    712\u001B[0m \u001B[43m    \u001B[49m\u001B[43mrelease_workers\u001B[49m\u001B[38;5;241;43m=\u001B[39;49m\u001B[43m(\u001B[49m\n\u001B[1;32m    713\u001B[0m \u001B[43m        \u001B[49m\u001B[38;5;129;43;01mnot\u001B[39;49;00m\u001B[43m \u001B[49m\u001B[38;5;28;43mbool\u001B[39;49m\u001B[43m(\u001B[49m\u001B[43mboot_iterations\u001B[49m\u001B[43m)\u001B[49m\u001B[43m \u001B[49m\u001B[38;5;129;43;01mand\u001B[39;49;00m\u001B[43m \u001B[49m\u001B[43m(\u001B[49m\u001B[43ms_idx\u001B[49m\u001B[43m \u001B[49m\u001B[38;5;241;43m+\u001B[39;49m\u001B[43m \u001B[49m\u001B[38;5;241;43m1\u001B[39;49m\u001B[43m \u001B[49m\u001B[38;5;241;43m==\u001B[39;49m\u001B[43m \u001B[49m\u001B[43mn_sample_names\u001B[49m\u001B[43m)\u001B[49m\n\u001B[1;32m    714\u001B[0m \u001B[43m    \u001B[49m\u001B[43m)\u001B[49m\u001B[43m,\u001B[49m\n\u001B[1;32m    715\u001B[0m \u001B[43m\u001B[49m\u001B[43m)\u001B[49m\n\u001B[1;32m    717\u001B[0m \u001B[38;5;66;03m# standard errors & ci/cbands\u001B[39;00m\n\u001B[1;32m    718\u001B[0m res \u001B[38;5;241m=\u001B[39m get_standard_errors(\n\u001B[1;32m    719\u001B[0m     ntl\u001B[38;5;241m=\u001B[39mres,\n\u001B[1;32m    720\u001B[0m     cluster_groups\u001B[38;5;241m=\u001B[39mcluster_groups,\n\u001B[0;32m   (...)\u001B[0m\n\u001B[1;32m    728\u001B[0m     release_workers\u001B[38;5;241m=\u001B[39ms_idx \u001B[38;5;241m==\u001B[39m n_sample_names,\n\u001B[1;32m    729\u001B[0m )\n",
      "File \u001B[0;32m~/Documents/GitHub/seniorthesis/venv/lib/python3.9/site-packages/differences/attgt/attgt_cal.py:393\u001B[0m, in \u001B[0;36mget_att_gt\u001B[0;34m(group_time, data, y_name, cohort_name, is_panel, is_balanced_panel, cluster_by_entity, x_covariates, x_base, x_delta, strata_name, weights_name, control_group, anticipation, att_function_ct, n_jobs_ct, backend_ct, progress_bar, sample_name, release_workers)\u001B[0m\n\u001B[1;32m    381\u001B[0m sample_name \u001B[38;5;241m=\u001B[39m \u001B[38;5;124mf\u001B[39m\u001B[38;5;124m\"\u001B[39m\u001B[38;5;124mfor \u001B[39m\u001B[38;5;132;01m{\u001B[39;00msample_name\u001B[38;5;132;01m}\u001B[39;00m\u001B[38;5;124m \u001B[39m\u001B[38;5;124m\"\u001B[39m \u001B[38;5;28;01mif\u001B[39;00m sample_name \u001B[38;5;28;01melse\u001B[39;00m \u001B[38;5;124m\"\u001B[39m\u001B[38;5;124m\"\u001B[39m\n\u001B[1;32m    383\u001B[0m \u001B[38;5;28;01mwith\u001B[39;00m tqdm_joblib(\n\u001B[1;32m    384\u001B[0m     tqdm(\n\u001B[1;32m    385\u001B[0m         disable\u001B[38;5;241m=\u001B[39m\u001B[38;5;129;01mnot\u001B[39;00m progress_bar,\n\u001B[0;32m   (...)\u001B[0m\n\u001B[1;32m    391\u001B[0m \n\u001B[1;32m    392\u001B[0m     \u001B[38;5;66;03m# compute the ct att. order of parameters must conform to did_single_gt()\u001B[39;00m\n\u001B[0;32m--> 393\u001B[0m     res_ntl \u001B[38;5;241m=\u001B[39m \u001B[43mParallel\u001B[49m\u001B[43m(\u001B[49m\u001B[43mn_jobs\u001B[49m\u001B[38;5;241;43m=\u001B[39;49m\u001B[43mn_jobs_ct\u001B[49m\u001B[43m,\u001B[49m\u001B[43m \u001B[49m\u001B[43mbackend\u001B[49m\u001B[38;5;241;43m=\u001B[39;49m\u001B[43mbackend_ct\u001B[49m\u001B[43m,\u001B[49m\u001B[43m)\u001B[49m\u001B[43m(\u001B[49m\n\u001B[1;32m    394\u001B[0m \u001B[43m        \u001B[49m\u001B[43mdelayed\u001B[49m\u001B[43m(\u001B[49m\u001B[43mdid_single_gt\u001B[49m\u001B[43m)\u001B[49m\u001B[43m(\u001B[49m\n\u001B[1;32m    395\u001B[0m \u001B[43m            \u001B[49m\u001B[43mdata\u001B[49m\u001B[43m,\u001B[49m\n\u001B[1;32m    396\u001B[0m \u001B[43m            \u001B[49m\u001B[43mentities\u001B[49m\u001B[43m,\u001B[49m\n\u001B[1;32m    397\u001B[0m \u001B[43m            \u001B[49m\u001B[43mentity_name\u001B[49m\u001B[43m,\u001B[49m\n\u001B[1;32m    398\u001B[0m \u001B[43m            \u001B[49m\u001B[43mn_total\u001B[49m\u001B[43m,\u001B[49m\n\u001B[1;32m    399\u001B[0m \u001B[43m            \u001B[49m\u001B[43my_name\u001B[49m\u001B[43m,\u001B[49m\n\u001B[1;32m    400\u001B[0m \u001B[43m            \u001B[49m\u001B[43mcohort_name\u001B[49m\u001B[43m,\u001B[49m\n\u001B[1;32m    401\u001B[0m \u001B[43m            \u001B[49m\u001B[43mstrata_name\u001B[49m\u001B[43m,\u001B[49m\n\u001B[1;32m    402\u001B[0m \u001B[43m            \u001B[49m\u001B[43mweights_name\u001B[49m\u001B[43m,\u001B[49m\n\u001B[1;32m    403\u001B[0m \u001B[43m            \u001B[49m\u001B[43mx_covariates\u001B[49m\u001B[43m,\u001B[49m\n\u001B[1;32m    404\u001B[0m \u001B[43m            \u001B[49m\u001B[43mx_base\u001B[49m\u001B[43m,\u001B[49m\n\u001B[1;32m    405\u001B[0m \u001B[43m            \u001B[49m\u001B[43mx_delta\u001B[49m\u001B[43m,\u001B[49m\n\u001B[1;32m    406\u001B[0m \u001B[43m            \u001B[49m\u001B[43manticipation\u001B[49m\u001B[43m,\u001B[49m\n\u001B[1;32m    407\u001B[0m \u001B[43m            \u001B[49m\u001B[43mcontrol_group\u001B[49m\u001B[43m,\u001B[49m\n\u001B[1;32m    408\u001B[0m \u001B[43m            \u001B[49m\u001B[43mis_panel\u001B[49m\u001B[43m,\u001B[49m\n\u001B[1;32m    409\u001B[0m \u001B[43m            \u001B[49m\u001B[43mis_balanced_panel\u001B[49m\u001B[43m,\u001B[49m\n\u001B[1;32m    410\u001B[0m \u001B[43m            \u001B[49m\u001B[43mcluster_by_entity\u001B[49m\u001B[43m,\u001B[49m\n\u001B[1;32m    411\u001B[0m \u001B[43m            \u001B[49m\u001B[43matt_function_ct\u001B[49m\u001B[43m,\u001B[49m\n\u001B[1;32m    412\u001B[0m \u001B[43m            \u001B[49m\u001B[38;5;241;43m*\u001B[39;49m\u001B[38;5;241;43m*\u001B[39;49m\u001B[43mgt\u001B[49m\u001B[43m,\u001B[49m\n\u001B[1;32m    413\u001B[0m \u001B[43m        \u001B[49m\u001B[43m)\u001B[49m\n\u001B[1;32m    414\u001B[0m \u001B[43m        \u001B[49m\u001B[38;5;28;43;01mfor\u001B[39;49;00m\u001B[43m \u001B[49m\u001B[43mgt\u001B[49m\u001B[43m \u001B[49m\u001B[38;5;129;43;01min\u001B[39;49;00m\u001B[43m \u001B[49m\u001B[43mgroup_time\u001B[49m\n\u001B[1;32m    415\u001B[0m \u001B[43m    \u001B[49m\u001B[43m)\u001B[49m\n\u001B[1;32m    417\u001B[0m \u001B[38;5;28;01mif\u001B[39;00m release_workers:\n\u001B[1;32m    418\u001B[0m     get_reusable_executor()\u001B[38;5;241m.\u001B[39mshutdown(wait\u001B[38;5;241m=\u001B[39m\u001B[38;5;28;01mTrue\u001B[39;00m)\n",
      "File \u001B[0;32m~/Documents/GitHub/seniorthesis/venv/lib/python3.9/site-packages/joblib/parallel.py:1098\u001B[0m, in \u001B[0;36mParallel.__call__\u001B[0;34m(self, iterable)\u001B[0m\n\u001B[1;32m   1095\u001B[0m     \u001B[38;5;28mself\u001B[39m\u001B[38;5;241m.\u001B[39m_iterating \u001B[38;5;241m=\u001B[39m \u001B[38;5;28;01mFalse\u001B[39;00m\n\u001B[1;32m   1097\u001B[0m \u001B[38;5;28;01mwith\u001B[39;00m \u001B[38;5;28mself\u001B[39m\u001B[38;5;241m.\u001B[39m_backend\u001B[38;5;241m.\u001B[39mretrieval_context():\n\u001B[0;32m-> 1098\u001B[0m     \u001B[38;5;28;43mself\u001B[39;49m\u001B[38;5;241;43m.\u001B[39;49m\u001B[43mretrieve\u001B[49m\u001B[43m(\u001B[49m\u001B[43m)\u001B[49m\n\u001B[1;32m   1099\u001B[0m \u001B[38;5;66;03m# Make sure that we get a last message telling us we are done\u001B[39;00m\n\u001B[1;32m   1100\u001B[0m elapsed_time \u001B[38;5;241m=\u001B[39m time\u001B[38;5;241m.\u001B[39mtime() \u001B[38;5;241m-\u001B[39m \u001B[38;5;28mself\u001B[39m\u001B[38;5;241m.\u001B[39m_start_time\n",
      "File \u001B[0;32m~/Documents/GitHub/seniorthesis/venv/lib/python3.9/site-packages/joblib/parallel.py:975\u001B[0m, in \u001B[0;36mParallel.retrieve\u001B[0;34m(self)\u001B[0m\n\u001B[1;32m    973\u001B[0m \u001B[38;5;28;01mtry\u001B[39;00m:\n\u001B[1;32m    974\u001B[0m     \u001B[38;5;28;01mif\u001B[39;00m \u001B[38;5;28mgetattr\u001B[39m(\u001B[38;5;28mself\u001B[39m\u001B[38;5;241m.\u001B[39m_backend, \u001B[38;5;124m'\u001B[39m\u001B[38;5;124msupports_timeout\u001B[39m\u001B[38;5;124m'\u001B[39m, \u001B[38;5;28;01mFalse\u001B[39;00m):\n\u001B[0;32m--> 975\u001B[0m         \u001B[38;5;28mself\u001B[39m\u001B[38;5;241m.\u001B[39m_output\u001B[38;5;241m.\u001B[39mextend(\u001B[43mjob\u001B[49m\u001B[38;5;241;43m.\u001B[39;49m\u001B[43mget\u001B[49m\u001B[43m(\u001B[49m\u001B[43mtimeout\u001B[49m\u001B[38;5;241;43m=\u001B[39;49m\u001B[38;5;28;43mself\u001B[39;49m\u001B[38;5;241;43m.\u001B[39;49m\u001B[43mtimeout\u001B[49m\u001B[43m)\u001B[49m)\n\u001B[1;32m    976\u001B[0m     \u001B[38;5;28;01melse\u001B[39;00m:\n\u001B[1;32m    977\u001B[0m         \u001B[38;5;28mself\u001B[39m\u001B[38;5;241m.\u001B[39m_output\u001B[38;5;241m.\u001B[39mextend(job\u001B[38;5;241m.\u001B[39mget())\n",
      "File \u001B[0;32m~/Documents/GitHub/seniorthesis/venv/lib/python3.9/site-packages/joblib/_parallel_backends.py:567\u001B[0m, in \u001B[0;36mLokyBackend.wrap_future_result\u001B[0;34m(future, timeout)\u001B[0m\n\u001B[1;32m    564\u001B[0m \u001B[38;5;250m\u001B[39m\u001B[38;5;124;03m\"\"\"Wrapper for Future.result to implement the same behaviour as\u001B[39;00m\n\u001B[1;32m    565\u001B[0m \u001B[38;5;124;03mAsyncResults.get from multiprocessing.\"\"\"\u001B[39;00m\n\u001B[1;32m    566\u001B[0m \u001B[38;5;28;01mtry\u001B[39;00m:\n\u001B[0;32m--> 567\u001B[0m     \u001B[38;5;28;01mreturn\u001B[39;00m \u001B[43mfuture\u001B[49m\u001B[38;5;241;43m.\u001B[39;49m\u001B[43mresult\u001B[49m\u001B[43m(\u001B[49m\u001B[43mtimeout\u001B[49m\u001B[38;5;241;43m=\u001B[39;49m\u001B[43mtimeout\u001B[49m\u001B[43m)\u001B[49m\n\u001B[1;32m    568\u001B[0m \u001B[38;5;28;01mexcept\u001B[39;00m CfTimeoutError \u001B[38;5;28;01mas\u001B[39;00m e:\n\u001B[1;32m    569\u001B[0m     \u001B[38;5;28;01mraise\u001B[39;00m \u001B[38;5;167;01mTimeoutError\u001B[39;00m \u001B[38;5;28;01mfrom\u001B[39;00m \u001B[38;5;21;01me\u001B[39;00m\n",
      "File \u001B[0;32m/Library/Frameworks/Python.framework/Versions/3.9/lib/python3.9/concurrent/futures/_base.py:435\u001B[0m, in \u001B[0;36mFuture.result\u001B[0;34m(self, timeout)\u001B[0m\n\u001B[1;32m    432\u001B[0m \u001B[38;5;28;01melif\u001B[39;00m \u001B[38;5;28mself\u001B[39m\u001B[38;5;241m.\u001B[39m_state \u001B[38;5;241m==\u001B[39m FINISHED:\n\u001B[1;32m    433\u001B[0m     \u001B[38;5;28;01mreturn\u001B[39;00m \u001B[38;5;28mself\u001B[39m\u001B[38;5;241m.\u001B[39m__get_result()\n\u001B[0;32m--> 435\u001B[0m \u001B[38;5;28;43mself\u001B[39;49m\u001B[38;5;241;43m.\u001B[39;49m\u001B[43m_condition\u001B[49m\u001B[38;5;241;43m.\u001B[39;49m\u001B[43mwait\u001B[49m\u001B[43m(\u001B[49m\u001B[43mtimeout\u001B[49m\u001B[43m)\u001B[49m\n\u001B[1;32m    437\u001B[0m \u001B[38;5;28;01mif\u001B[39;00m \u001B[38;5;28mself\u001B[39m\u001B[38;5;241m.\u001B[39m_state \u001B[38;5;129;01min\u001B[39;00m [CANCELLED, CANCELLED_AND_NOTIFIED]:\n\u001B[1;32m    438\u001B[0m     \u001B[38;5;28;01mraise\u001B[39;00m CancelledError()\n",
      "File \u001B[0;32m/Library/Frameworks/Python.framework/Versions/3.9/lib/python3.9/threading.py:312\u001B[0m, in \u001B[0;36mCondition.wait\u001B[0;34m(self, timeout)\u001B[0m\n\u001B[1;32m    310\u001B[0m \u001B[38;5;28;01mtry\u001B[39;00m:    \u001B[38;5;66;03m# restore state no matter what (e.g., KeyboardInterrupt)\u001B[39;00m\n\u001B[1;32m    311\u001B[0m     \u001B[38;5;28;01mif\u001B[39;00m timeout \u001B[38;5;129;01mis\u001B[39;00m \u001B[38;5;28;01mNone\u001B[39;00m:\n\u001B[0;32m--> 312\u001B[0m         \u001B[43mwaiter\u001B[49m\u001B[38;5;241;43m.\u001B[39;49m\u001B[43macquire\u001B[49m\u001B[43m(\u001B[49m\u001B[43m)\u001B[49m\n\u001B[1;32m    313\u001B[0m         gotit \u001B[38;5;241m=\u001B[39m \u001B[38;5;28;01mTrue\u001B[39;00m\n\u001B[1;32m    314\u001B[0m     \u001B[38;5;28;01melse\u001B[39;00m:\n",
      "\u001B[0;31mKeyboardInterrupt\u001B[0m: "
     ]
    }
   ],
   "source": [
    "# Run DiD without conditioning on covariates.\n",
    "att_gt = ATTgt(data=df, cohort_name=treatment_month_variable, freq='M')\n",
    "result = att_gt.fit(formula='zestimate', control_group='never_treated', n_jobs=-1)"
   ]
  },
  {
   "cell_type": "code",
   "execution_count": null,
   "id": "f3e0949d",
   "metadata": {},
   "outputs": [],
   "source": [
    "# Plot unconditional ATT(t-g)s on a long horizon.\n",
    "aggregate_by_event_time_and_plot(att_gt, OUTPUT_FIGURES, \"att_gt_unconditional_event_study_long_horizon.png\",\n",
    "                                 start_period=-12, end_period=24,\n",
    "                                 title=\"Unconditional Estimates of ATT(g, t), Aggregated by Month Relative to Treatment \\n (Long Horizon)\",\n",
    "                                 treatment_month_variable=treatment_month_variable, df=df)"
   ]
  },
  {
   "cell_type": "code",
   "execution_count": null,
   "outputs": [],
   "source": [
    "# Plot unconditional ATT(t-g)s on a short horizon.\n",
    "aggregate_by_event_time_and_plot(att_gt, OUTPUT_FIGURES, \"att_gt_unconditional_event_study_short_horizon.png\",\n",
    "                                 start_period=-12, end_period=3,\n",
    "                                 title=\"Unconditional Estimates of ATT(g, t), Aggregated by Month Relative to Treatment \\n (Short Horizon)\",\n",
    "                                 treatment_month_variable=treatment_month_variable, df=df)"
   ],
   "metadata": {
    "collapsed": false
   }
  },
  {
   "cell_type": "code",
   "execution_count": null,
   "outputs": [],
   "source": [
    "# Plot unconditional ATT(t)s.\n",
    "aggregate_by_time_and_plot(att_gt, int_to_month_dictionary, OUTPUT_FIGURES, \"att_gt_unconditional_time.png\",\n",
    "                           title=\"Unconditional Estimates of ATT(g, t), Aggregated by Month\")"
   ],
   "metadata": {
    "collapsed": false
   }
  },
  {
   "cell_type": "code",
   "execution_count": null,
   "outputs": [],
   "source": [
    "# Analyze heterogeneity in event-time 2 and 3 effects.\n",
    "\n",
    "# Remove the outer indices of the columns so that we can easily access the ATT estimate and the significance of the estimate.\n",
    "att_gts = result.copy()\n",
    "att_gts.columns = att_gts.columns.droplevel(0).droplevel(0)\n",
    "\n",
    "# Select ATT estimates from event time 2.\n",
    "event_time_2_ATTs = att_gts.loc[att_gts.index.get_level_values(0) == att_gts.index.get_level_values(2) - 2, 'ATT']\n",
    "event_time_2_significance = att_gts.loc[att_gts.index.get_level_values(0) == att_gts.index.get_level_values(2) - 2, 'zero_not_in_cband']\n",
    "\n",
    "# Select ATT estimates from event time 3.\n",
    "event_time_3_ATTs = att_gts.loc[att_gts.index.get_level_values(0) == att_gts.index.get_level_values(2) - 3, 'ATT']\n",
    "event_time_3_significance = att_gts.loc[att_gts.index.get_level_values(0) == att_gts.index.get_level_values(2) - 3, 'zero_not_in_cband']\n",
    "\n",
    "fig, axes = plt.subplots(2, 1, sharex=True, layout='constrained')\n",
    "\n",
    "for event_time_i_ATTS, event_time_i_significance, xlabel, ylabel, title, ax in zip([event_time_2_ATTs, event_time_3_ATTs],\n",
    "                                                                                   [event_time_2_significance, event_time_3_significance],\n",
    "                                                                                   [\"\", \"Treatment Cohort\"],\n",
    "                                                                                   [\"Point Estimate of ATT\", \"Point Estimate of ATT\"],\n",
    "                                                                                   [\"ATT at Event-Time 2, Separately by Cohort\",\n",
    "                                                                                    \"ATT at Event-Time 3, Separately by Cohort\"],\n",
    "                                                                                   axes):\n",
    "    x = pd.Series(event_time_i_ATTS.index.get_level_values(0)).replace(int_to_month_dictionary).values.tolist()\n",
    "    y = event_time_i_ATTS.values.tolist()\n",
    "    colors = event_time_i_significance.replace({'*': 'blue', '': 'black'}).values.tolist()\n",
    "    ax.scatter(x,\n",
    "               y,\n",
    "               color=colors)\n",
    "    ax.set_xlabel(xlabel)\n",
    "    ax.set_ylabel(ylabel)\n",
    "    ax.set_title(title)\n",
    "    ax.grid(True)\n",
    "axes[1].tick_params('x', rotation=45)\n",
    "plt.show()"
   ],
   "metadata": {
    "collapsed": false
   }
  },
  {
   "cell_type": "code",
   "execution_count": null,
   "outputs": [],
   "source": [
    "# Run DiD conditional on covariates.\n",
    "att_gt = ATTgt(data=df, cohort_name=treatment_month_variable, freq='M')\n",
    "formula = 'zestimate ~ ' + '+'.join(pre_treatment_covariates)\n",
    "result = att_gt.fit(formula=formula, control_group='never_treated', n_jobs=-1)"
   ],
   "metadata": {
    "collapsed": false
   }
  },
  {
   "cell_type": "code",
   "execution_count": null,
   "outputs": [],
   "source": [
    "# Plot D.R. ATT(t-g)s on a long horizon.\n",
    "aggregate_by_event_time_and_plot(att_gt, OUTPUT_FIGURES, \"att_gt_dr_event_study_long_horizon.png\", start_period=-12,\n",
    "                                 end_period=24,\n",
    "                                 title=\"D.R. Estimates of ATT(g, t), Aggregated by Month Relative to Treatment \\n (Long Horizon)\",\n",
    "                                 treatment_month_variable=treatment_month_variable, df=df)"
   ],
   "metadata": {
    "collapsed": false
   }
  },
  {
   "cell_type": "code",
   "execution_count": null,
   "outputs": [],
   "source": [
    "# Plot D.R. ATT(t-g)s on a short horizon.\n",
    "aggregate_by_event_time_and_plot(att_gt, OUTPUT_FIGURES, \"att_gt_dr_event_study_short_horizon.png\", start_period=-12,\n",
    "                                 end_period=3,\n",
    "                                 title=\"D.R. Estimates of ATT(g, t), Aggregated by Month Relative to Treatment \\n (Short Horizon)\",\n",
    "                                 treatment_month_variable=treatment_month_variable, df=df)"
   ],
   "metadata": {
    "collapsed": false
   }
  },
  {
   "cell_type": "code",
   "execution_count": null,
   "outputs": [],
   "source": [
    "# Plot D.R. ATT(t)s.\n",
    "aggregate_by_time_and_plot(att_gt, int_to_month_dictionary, OUTPUT_FIGURES, \"att_gt_dr_time.png\",\n",
    "                           title=\"D.R. Estimates of ATT(g, t), Aggregated by Month\")"
   ],
   "metadata": {
    "collapsed": false
   }
  },
  {
   "cell_type": "code",
   "execution_count": null,
   "outputs": [],
   "source": [
    "# Analyze heterogeneity in event-time 2 and 3 effects.\n",
    "\n",
    "# Remove the outer indices of the columns so that we can easily access the ATT estimate and the significance of the estimate.\n",
    "att_gts = result.copy()\n",
    "att_gts.columns = att_gts.columns.droplevel(0).droplevel(0)\n",
    "\n",
    "# Select ATT estimates from event time 2.\n",
    "event_time_2_ATTs = att_gts.loc[att_gts.index.get_level_values(0) == att_gts.index.get_level_values(2) - 2, 'ATT']\n",
    "event_time_2_significance = att_gts.loc[att_gts.index.get_level_values(0) == att_gts.index.get_level_values(2) - 2, 'zero_not_in_cband']\n",
    "\n",
    "# Select ATT estimates from event time 3.\n",
    "event_time_3_ATTs = att_gts.loc[att_gts.index.get_level_values(0) == att_gts.index.get_level_values(2) - 3, 'ATT']\n",
    "event_time_3_significance = att_gts.loc[att_gts.index.get_level_values(0) == att_gts.index.get_level_values(2) - 3, 'zero_not_in_cband']\n",
    "\n",
    "fig, axes = plt.subplots(2, 1, sharex=True, layout='constrained')\n",
    "\n",
    "for event_time_i_ATTS, event_time_i_significance, xlabel, ylabel, title, ax in zip([event_time_2_ATTs, event_time_3_ATTs],\n",
    "                                                                                   [event_time_2_significance, event_time_3_significance],\n",
    "                                                                                   [\"\", \"Treatment Cohort\"],\n",
    "                                                                                   [\"Point Estimate of ATT\", \"Point Estimate of ATT\"],\n",
    "                                                                                   [\"ATT at Event-Time 2, Separately by Cohort\",\n",
    "                                                                                    \"ATT at Event-Time 3, Separately by Cohort\"],\n",
    "                                                                                   axes):\n",
    "    x = pd.Series(event_time_i_ATTS.index.get_level_values(0)).replace(int_to_month_dictionary).values.tolist()\n",
    "    y = event_time_i_ATTS.values.tolist()\n",
    "    colors = event_time_i_significance.replace({'*': 'blue', '': 'black'}).values.tolist()\n",
    "    ax.scatter(x,\n",
    "               y,\n",
    "               color=colors)\n",
    "    ax.set_xlabel(xlabel)\n",
    "    ax.set_ylabel(ylabel)\n",
    "    ax.set_title(title)\n",
    "    ax.grid(True)\n",
    "axes[1].tick_params('x', rotation=45)\n",
    "plt.show()"
   ],
   "metadata": {
    "collapsed": false
   }
  },
  {
   "cell_type": "code",
   "execution_count": null,
   "outputs": [],
   "source": [],
   "metadata": {
    "collapsed": false
   }
  }
 ],
 "metadata": {
  "kernelspec": {
   "display_name": "seniorthesis",
   "language": "python",
   "name": "venv"
  },
  "language_info": {
   "codemirror_mode": {
    "name": "ipython",
    "version": 3
   },
   "file_extension": ".py",
   "mimetype": "text/x-python",
   "name": "python",
   "nbconvert_exporter": "python",
   "pygments_lexer": "ipython3",
   "version": "3.9.0"
  }
 },
 "nbformat": 4,
 "nbformat_minor": 5
}
