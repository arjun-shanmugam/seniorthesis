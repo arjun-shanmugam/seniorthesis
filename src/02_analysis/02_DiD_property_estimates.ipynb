{
 "cells": [
  {
   "cell_type": "markdown",
   "id": "9ec6250d",
   "metadata": {},
   "source": [
    "# 02_DiD_estimates.ipynb"
   ]
  },
  {
   "cell_type": "code",
   "execution_count": 1,
   "id": "cd77da53",
   "metadata": {},
   "outputs": [],
   "source": [
    "import statsmodels.formula.api as smf\n",
    "from differences import ATTgt\n",
    "from differences.did.pscore_cal import pscore_mle\n",
    "from matplotlib import pyplot as plt\n",
    "from statsmodels.stats.weightstats import ttest_ind\n",
    "\n",
    "import figure_and_table_constants\n",
    "import figure_utilities\n",
    "from analysis_utilities import produce_summary_statistics, aggregate_by_time_and_plot, aggregate_by_event_time_and_plot\n",
    "\n",
    "plt.rcParams[\"figure.dpi\"] = 300\n",
    "plt.rcParams['savefig.dpi'] = 300\n",
    "import numpy as np\n",
    "import os\n",
    "import pandas as pd\n",
    "\n",
    "# Store paths.\n",
    "INPUT_DATA = \"/Users/arjunshanmugam/Documents/GitHub/seniorthesis/data/03_cleaned/restricted.csv\"\n",
    "OUTPUT_FIGURES = \"/Users/arjunshanmugam/Documents/GitHub/seniorthesis/output/DiD/figures\"\n",
    "OUTPUT_TABLES = \"/Users/arjunshanmugam/Documents/GitHub/seniorthesis/output/DiD/tables\"\n",
    "\n",
    "# Read restricted sample panel dataset into memory.\n",
    "df = pd.read_csv(INPUT_DATA)"
   ]
  },
  {
   "cell_type": "code",
   "execution_count": 2,
   "id": "caae0b8f",
   "metadata": {},
   "outputs": [],
   "source": [
    "# Create dictionaries to map between string represetation and integer representation of each month.\n",
    "years = [str(year) for year in range(2013, 2023)]\n",
    "months = [\"0\" + str(month) for month in range(1, 10)] + [str(month) for month in range(10, 13)]\n",
    "value_vars = [\"2012-12\"] + [str(year) + \"-\" + str(month) for year in years for month in months]\n",
    "month_to_int_dictionary = {key: value + 1 for value, key in enumerate(value_vars)}\n",
    "int_to_month_dictionary = {key + 1: value for key, value in enumerate(value_vars)}"
   ]
  },
  {
   "cell_type": "code",
   "execution_count": 3,
   "outputs": [
    {
     "data": {
      "text/plain": "                                                                               Dependent Variable  \\\n                                                                             Zestimate, Dec. 2022   \n                                                 \\emph{Independent Variable}                        \nPanel A: Pre-treatment Zestimates                twenty_seventeen                    0.000000e+00   \n                                                 change_in_zestimates               1.333639e-118   \nPanel B: Census Tract Characteristics            frac_coll_plus2010                  3.717161e-12   \n                                                 job_density_2013                    1.395642e-03   \n                                                 med_hhinc2016                       6.404776e-05   \n                                                 poor_share2010                      6.968171e-01   \n                                                 popdensity2010                      5.573163e-47   \n                                                 share_white2010                     3.438580e-09   \n                                                 traveltime15_2010                   2.084840e-41   \nPanel C: Case Initiation                         for_cause                           1.382887e-02   \n                                                 no_cause                            9.841596e-01   \n                                                 non_payment                         3.130263e-01   \nPanel D: Defendant and Plaintiff Characteristics hasAttyD                            3.665050e-01   \n                                                 hasAttyP                            6.082612e-01   \n                                                 isEntityD                           2.174817e-02   \n                                                 isEntityP                           6.244069e-01   \n\n                                                                                                \n                                                                             Plaintiff victory  \n                                                 \\emph{Independent Variable}                    \nPanel A: Pre-treatment Zestimates                twenty_seventeen                 8.297724e-04  \n                                                 change_in_zestimates             2.744060e-01  \nPanel B: Census Tract Characteristics            frac_coll_plus2010               6.527090e-02  \n                                                 job_density_2013                 6.321597e-01  \n                                                 med_hhinc2016                    1.312078e-02  \n                                                 poor_share2010                   5.684150e-03  \n                                                 popdensity2010                   9.170102e-03  \n                                                 share_white2010                  2.113541e-03  \n                                                 traveltime15_2010                1.571842e-02  \nPanel C: Case Initiation                         for_cause                        6.842697e-01  \n                                                 no_cause                         3.110684e-02  \n                                                 non_payment                      7.697358e-01  \nPanel D: Defendant and Plaintiff Characteristics hasAttyD                         2.745403e-30  \n                                                 hasAttyP                         4.740066e-01  \n                                                 isEntityD                        3.663339e-01  \n                                                 isEntityP                        1.265898e-01  ",
      "text/html": "<div>\n<style scoped>\n    .dataframe tbody tr th:only-of-type {\n        vertical-align: middle;\n    }\n\n    .dataframe tbody tr th {\n        vertical-align: top;\n    }\n\n    .dataframe thead tr th {\n        text-align: left;\n    }\n\n    .dataframe thead tr:last-of-type th {\n        text-align: right;\n    }\n</style>\n<table border=\"1\" class=\"dataframe\">\n  <thead>\n    <tr>\n      <th></th>\n      <th></th>\n      <th colspan=\"2\" halign=\"left\">Dependent Variable</th>\n    </tr>\n    <tr>\n      <th></th>\n      <th></th>\n      <th>Zestimate, Dec. 2022</th>\n      <th>Plaintiff victory</th>\n    </tr>\n    <tr>\n      <th></th>\n      <th>\\emph{Independent Variable}</th>\n      <th></th>\n      <th></th>\n    </tr>\n  </thead>\n  <tbody>\n    <tr>\n      <th rowspan=\"2\" valign=\"top\">Panel A: Pre-treatment Zestimates</th>\n      <th>twenty_seventeen</th>\n      <td>0.000000e+00</td>\n      <td>8.297724e-04</td>\n    </tr>\n    <tr>\n      <th>change_in_zestimates</th>\n      <td>1.333639e-118</td>\n      <td>2.744060e-01</td>\n    </tr>\n    <tr>\n      <th rowspan=\"7\" valign=\"top\">Panel B: Census Tract Characteristics</th>\n      <th>frac_coll_plus2010</th>\n      <td>3.717161e-12</td>\n      <td>6.527090e-02</td>\n    </tr>\n    <tr>\n      <th>job_density_2013</th>\n      <td>1.395642e-03</td>\n      <td>6.321597e-01</td>\n    </tr>\n    <tr>\n      <th>med_hhinc2016</th>\n      <td>6.404776e-05</td>\n      <td>1.312078e-02</td>\n    </tr>\n    <tr>\n      <th>poor_share2010</th>\n      <td>6.968171e-01</td>\n      <td>5.684150e-03</td>\n    </tr>\n    <tr>\n      <th>popdensity2010</th>\n      <td>5.573163e-47</td>\n      <td>9.170102e-03</td>\n    </tr>\n    <tr>\n      <th>share_white2010</th>\n      <td>3.438580e-09</td>\n      <td>2.113541e-03</td>\n    </tr>\n    <tr>\n      <th>traveltime15_2010</th>\n      <td>2.084840e-41</td>\n      <td>1.571842e-02</td>\n    </tr>\n    <tr>\n      <th rowspan=\"3\" valign=\"top\">Panel C: Case Initiation</th>\n      <th>for_cause</th>\n      <td>1.382887e-02</td>\n      <td>6.842697e-01</td>\n    </tr>\n    <tr>\n      <th>no_cause</th>\n      <td>9.841596e-01</td>\n      <td>3.110684e-02</td>\n    </tr>\n    <tr>\n      <th>non_payment</th>\n      <td>3.130263e-01</td>\n      <td>7.697358e-01</td>\n    </tr>\n    <tr>\n      <th rowspan=\"4\" valign=\"top\">Panel D: Defendant and Plaintiff Characteristics</th>\n      <th>hasAttyD</th>\n      <td>3.665050e-01</td>\n      <td>2.745403e-30</td>\n    </tr>\n    <tr>\n      <th>hasAttyP</th>\n      <td>6.082612e-01</td>\n      <td>4.740066e-01</td>\n    </tr>\n    <tr>\n      <th>isEntityD</th>\n      <td>2.174817e-02</td>\n      <td>3.663339e-01</td>\n    </tr>\n    <tr>\n      <th>isEntityP</th>\n      <td>6.244069e-01</td>\n      <td>1.265898e-01</td>\n    </tr>\n  </tbody>\n</table>\n</div>"
     },
     "execution_count": 3,
     "metadata": {},
     "output_type": "execute_result"
    }
   ],
   "source": [
    "# Choose covariates to include in D.R. model.\n",
    "\n",
    "# Run produce summary statistics on the DataFrame to add pre-treatment covariate columns.\n",
    "summary_statistics, variable_display_names_dict = produce_summary_statistics(df, 'file_date')\n",
    "variable_display_names_dict['twenty_seventeen'] = 'Zestimate, Jan. 2017'\n",
    "variable_display_names_dict['twenty_eighteen'] = 'Zestimate, Jan. 2018'\n",
    "pre_treatment_panels = [\"Panel A: Pre-treatment Zestimates\",\n",
    "                        \"Panel B: Census Tract Characteristics\",\n",
    "                        \"Panel C: Case Initiation\",\n",
    "                        \"Panel D: Defendant and Plaintiff Characteristics\"]\n",
    "summary_statistics = summary_statistics.loc[pre_treatment_panels, :]\n",
    "potential_covariates = summary_statistics.index.get_level_values(1)\n",
    "p_values = []\n",
    "df.loc[:, 'final_month_of_panel_zestimate'] = df.loc[:, '2022-12']  # Create alias column for Patchy.\n",
    "for potential_covariate in potential_covariates:\n",
    "    # Get p-value from regression of outcome on covariates.\n",
    "    p_y = (smf.ols(formula=f\"final_month_of_panel_zestimate ~ {potential_covariate}\",\n",
    "                   data=df,\n",
    "                   missing='drop')\n",
    "           .fit().pvalues.loc[potential_covariate])\n",
    "    # Get p-value from regression of treatment on covariates.\n",
    "    p_x = (smf.ols(formula=f\"judgment_for_plaintiff ~ {potential_covariate}\",\n",
    "                   data=df,\n",
    "                   missing='drop')\n",
    "           .fit().pvalues.loc[potential_covariate])\n",
    "    p_values.append((p_y, p_x))\n",
    "covariate_exploration_df = (pd.DataFrame(p_values,\n",
    "                                        columns=[\"Zestimate, Dec. 2022\", \"Plaintiff victory\"],\n",
    "                                        index=summary_statistics.index))\n",
    "covariate_exploration_df = pd.concat([covariate_exploration_df], axis=1, keys=['Dependent Variable'])\n",
    "covariate_exploration_df.index = covariate_exploration_df.index.set_names(['',\n",
    "                                                                          '\\\\emph{Independent Variable}'])\n",
    "# Export to LaTeX.\n",
    "filename = os.path.join(OUTPUT_TABLES, \"pre_treatment_covariate_tests.tex\")\n",
    "latex = (covariate_exploration_df\n",
    "         .rename(index=variable_display_names_dict)\n",
    "         .style\n",
    "         .format(formatter=\"{:0.2f}\")\n",
    "         .format_index(\"\\\\textit{{{}}}\", escape=\"latex\", axis=0, level=0)\n",
    "         .format_index(\"\\\\textit{{{}}}\", escape=\"latex\", axis=1, level=0)\n",
    "         .to_latex(None,\n",
    "                   column_format=\"llcc\",\n",
    "                   hrules=True,\n",
    "                   multicol_align='c',\n",
    "                   clines=\"skip-last;data\")\n",
    "         .replace(\"{*}\", \"{3cm}\"))\n",
    "latex = latex.split(\"\\\\\\\\\\n\")\n",
    "latex.insert(1, \"\\\\cline{3-4}\\n\")\n",
    "latex = \"\\\\\\\\\\n\".join(latex)\n",
    "with open(filename, 'w') as file:\n",
    "    file.write(latex)\n",
    "covariate_exploration_df"
   ],
   "metadata": {
    "collapsed": false
   }
  },
  {
   "cell_type": "code",
   "execution_count": null,
   "outputs": [],
   "source": [
    "# Balance only on covariates which predict the outcome variable.\n",
    "predicts_zestimates_mask = covariate_exploration_df.iloc[:, 0] <= 0.05\n",
    "\n",
    "# Build treatment mean columns.\n",
    "pd.options.mode.chained_assignment = None\n",
    "treatment_means, variable_display_names_dict = produce_summary_statistics(df.copy().loc[df['judgment_for_plaintiff'] == 1, :], 'file_date')\n",
    "treatment_means = (treatment_means.loc[pre_treatment_panels, :]\n",
    "                   .loc[predicts_zestimates_mask, 'mean']\n",
    "                   .rename(\"Cases Won by Plaintiff\"))\n",
    "pre_treatment_covariates = treatment_means.index.get_level_values(1).tolist()  # Save pre-treatment covariates for use in D.R. DiD estimator.\n",
    "df = df.dropna(subset=pre_treatment_covariates)\n",
    "pd.options.mode.chained_assignment = 'warn'\n",
    "\n",
    "# Calculate propensity scores for every observation.\n",
    "df.loc[:, 'propensity_score'] = pd.Series(pscore_mle(df['judgment_for_plaintiff'],  # Calculate propensity scores.\n",
    "                                                     exog=df[pre_treatment_covariates],\n",
    "                                                     weights=None)[0])\n",
    "\n",
    "# Build unweighted columns.\n",
    "difference_unadjusted = []\n",
    "p_values_unadjusted = []\n",
    "for covariate in pre_treatment_covariates:\n",
    "    result = smf.ols(formula=f\"{covariate} ~ judgment_for_plaintiff\",\n",
    "                     data=df,\n",
    "                     missing='drop').fit()\n",
    "    difference_unadjusted.append(result.params.loc['judgment_for_plaintiff'])\n",
    "    p_values_unadjusted.append(result.pvalues.loc['judgment_for_plaintiff'])\n",
    "difference_unadjusted = pd.Series(difference_unadjusted, index=treatment_means.index)\n",
    "p_values_unadjusted = pd.Series(p_values_unadjusted, index=treatment_means.index)\n",
    "unweighted_columns = pd.concat([difference_unadjusted, p_values_unadjusted], axis=1)\n",
    "unweighted_columns.columns = ['Unweighted', '\\\\emph{p}']\n",
    "\n",
    "# Build propensity score-weighted columns.\n",
    "differences_propensity_score_adjusted = []\n",
    "p_values_propensity_score_adjusted = []\n",
    "for covariate in pre_treatment_covariates:\n",
    "    propensity_score_adjusted_result = smf.ols(formula=f\"{covariate} ~ judgment_for_plaintiff + propensity_score\",\n",
    "                                               data=df,\n",
    "                                               missing='drop').fit()\n",
    "    differences_propensity_score_adjusted.append(propensity_score_adjusted_result.params.loc['judgment_for_plaintiff'])\n",
    "    p_values_propensity_score_adjusted.append(propensity_score_adjusted_result.pvalues.loc['judgment_for_plaintiff'])\n",
    "differences_propensity_score_adjusted = pd.Series(differences_propensity_score_adjusted, index=treatment_means.index)\n",
    "p_values_propensity_score_adjusted = pd.Series(p_values_propensity_score_adjusted, index=treatment_means.index)\n",
    "propensity_score_weighted_columns = pd.concat(\n",
    "    [differences_propensity_score_adjusted, p_values_propensity_score_adjusted], axis=1)\n",
    "propensity_score_weighted_columns.columns = ['Weighted', '\\\\emph{p}']\n",
    "\n",
    "difference_columns = pd.concat([unweighted_columns, propensity_score_weighted_columns], axis=1)\n",
    "table_columns = [treatment_means, difference_columns]\n",
    "balance_table = pd.concat(table_columns, axis=1, keys=['', 'Difference in Cases Won by Defendant'])\n",
    "\n",
    "balance_table = balance_table.rename(index=variable_display_names_dict)\n",
    "# TODO: Figure out how to make the outermost index labels wrap in LaTeX so that I don't hae to shorten the panel labels below!\n",
    "balance_table = balance_table.rename(index={\"Panel A: Pre-treatment Zestimates\": \"Panel A\",\n",
    "                                             \"Panel B: Census Tract Characteristics\": \"Panel B\",\n",
    "                                             \"Panel C: Case Initiation\": \"Panel C\",\n",
    "                                             \"Panel D: Defendant and Plaintiff Characteristics\": \"Panel D\"})\n",
    "\n",
    "# Export to LaTeX.\n",
    "filename = os.path.join(OUTPUT_TABLES, \"balance_table.tex\")\n",
    "latex = (balance_table\n",
    "         .style\n",
    "         .format(thousands=\",\",\n",
    "                 na_rep='',\n",
    "                 formatter={('', 'Cases Won by Plaintiff'): \"{:,.2f}\",\n",
    "                            ('Difference in Cases Won by Defendant', 'Unweighted'): \"{:,.2f}\",\n",
    "                            ('Difference in Cases Won by Defendant', '\\\\emph{p}'): \"{:,.2f}\",\n",
    "                            ('Difference in Cases Won by Defendant', 'Weighted'): \"{:,.2f}\",\n",
    "                            ('', 'N'): \"{:,.0f}\"})\n",
    "         .format_index(\"\\\\textit{{{}}}\", escape=\"latex\", axis=0, level=0)\n",
    "         .format_index(\"\\\\textit{{{}}}\", escape=\"latex\", axis=1, level=0)\n",
    "         .to_latex(None,\n",
    "                   column_format=\"llccccc\",\n",
    "                   hrules=True,\n",
    "                   multicol_align='c',\n",
    "                   clines=\"skip-last;data\")).replace(\"{*}\", \"{3cm}\")\n",
    "latex = latex.split(\"\\\\\\\\\\n\")\n",
    "latex.insert(1, \"\\\\cline{4-7}\\n\")\n",
    "latex = \"\\\\\\\\\\n\".join(latex)\n",
    "with open(filename, 'w') as file:\n",
    "    file.write(latex)\n",
    "balance_table"
   ],
   "metadata": {
    "collapsed": false,
    "pycharm": {
     "is_executing": true
    }
   }
  },
  {
   "cell_type": "code",
   "execution_count": null,
   "id": "743d1935",
   "metadata": {
    "pycharm": {
     "is_executing": true
    }
   },
   "outputs": [],
   "source": [
    "# Store treatment date variable -- may be either file_date or latest_docket_date -- and drop rows where missing.\n",
    "treatment_date_variable = 'file_date'\n",
    "treatment_year_variable = treatment_date_variable.replace(\"date\", \"year\")\n",
    "treatment_month_variable = treatment_date_variable.replace(\"date\", \"month\")\n",
    "df = df.dropna(subset=['file_date', 'latest_docket_date'])\n",
    "print(f\"Limiting sample to {len(df)} evictions for which we observe the filing date and the latest docket\"\n",
    "      f\"date.\")\n",
    "cases_per_year = df[\n",
    "    treatment_year_variable].value_counts()  # Store yearly case counts for use in figure titles in next cell.\n",
    "\n",
    "# Reshape from wide to long.\n",
    "df = pd.melt(df,\n",
    "             id_vars=['case_number', treatment_month_variable, treatment_year_variable,\n",
    "                      'judgment_for_plaintiff'] + pre_treatment_covariates,\n",
    "             value_vars=value_vars, var_name='month', value_name='zestimate')\n",
    "df = df.sort_values(by=['case_number', 'month'])\n",
    "\n",
    "# Convert months from string format to integer format.\n",
    "df.loc[:, 'month'] = df['month'].replace(month_to_int_dictionary)\n",
    "df.loc[:, treatment_month_variable] = df[treatment_month_variable].replace(month_to_int_dictionary)\n",
    "# Set treatment month to 0 for untreated observations.\n",
    "never_treated_mask = (df['judgment_for_plaintiff'] == 0)\n",
    "df.loc[never_treated_mask, treatment_month_variable] = np.NaN\n",
    "df.loc[never_treated_mask, treatment_year_variable] = np.NaN\n",
    "\n",
    "# Generate numeric version of case_number.\n",
    "df.loc[:, 'case_number_numeric'] = df['case_number'].astype('category').cat.codes\n",
    "\n",
    "# Set index.\n",
    "df = df.set_index(['case_number', 'month'])"
   ]
  },
  {
   "cell_type": "code",
   "execution_count": null,
   "id": "6dffe5f5",
   "metadata": {
    "pycharm": {
     "is_executing": true
    }
   },
   "outputs": [],
   "source": [
    "# Plot path of outcomes in treated group vs. control group, separately by year of filing.\n",
    "# Plot.\n",
    "aggregated_zestimates = (df\n",
    "                         .copy().loc[(slice(None), slice(60, 120)),]\n",
    "                         .groupby([treatment_year_variable, 'month'], dropna=False)['zestimate']\n",
    "                         .agg([np.mean, np.std, 'count']))\n",
    "aggregated_zestimates.loc[:, 'se'] = aggregated_zestimates['std'] / np.sqrt(aggregated_zestimates['count'])\n",
    "aggregated_zestimates.loc[:, 'y_upper'] = aggregated_zestimates['mean'] + 1.96 * aggregated_zestimates['se']\n",
    "aggregated_zestimates.loc[:, 'y_lower'] = aggregated_zestimates['mean'] - 1.96 * aggregated_zestimates['se']\n",
    "treatment_times = aggregated_zestimates.index.get_level_values(treatment_year_variable).unique()\n",
    "fig, axes = plt.subplots(3, 1, layout='constrained', figsize=(8.5, 11))\n",
    "for ax, aggregated_cohort in zip(axes, treatment_times):\n",
    "    # No need to plot trends for untreated cohort.\n",
    "    if np.isnan(aggregated_cohort):\n",
    "        continue\n",
    "    # Shade months during which treatment occurred in each aggregated cohort.\n",
    "    start_shading = 12 * (int(aggregated_cohort) - 2017 - 1)\n",
    "    end_shading = start_shading + 12\n",
    "    ax.axvspan(start_shading, end_shading, color=figure_and_table_constants.Colors.LABELING_COLOR,\n",
    "               alpha=0.25)\n",
    "    sub_df_treatment = aggregated_zestimates.loc[aggregated_cohort, :]\n",
    "    count_treatment = sub_df_treatment['count'].sum()\n",
    "    y_treatment = sub_df_treatment['mean'].values\n",
    "    x_treatment = pd.Series(sub_df_treatment.index.get_level_values('month')).replace(int_to_month_dictionary).values\n",
    "    y_upper_treatment = sub_df_treatment['y_upper'].values\n",
    "    y_lower_treatment = sub_df_treatment['y_lower'].values\n",
    "\n",
    "    figure_utilities.plot_scatter_with_shaded_errors(ax,\n",
    "                                                     x_treatment,\n",
    "                                                     y_treatment,\n",
    "                                                     y_upper_treatment,\n",
    "                                                     y_lower_treatment,\n",
    "                                                     point_color=figure_and_table_constants.Colors.TREATMENT_COLOR,\n",
    "                                                     error_color=figure_and_table_constants.Colors.TREATMENT_COLOR,\n",
    "                                                     edge_color=figure_and_table_constants.Colors.TREATMENT_COLOR,\n",
    "                                                     edge_style='-',\n",
    "                                                     error_opacity=0.5)\n",
    "\n",
    "    sub_df_control = (aggregated_zestimates.loc[aggregated_zestimates.index.get_level_values(treatment_year_variable)\n",
    "                                                .isna(), :])\n",
    "    count_control = sub_df_control['count'].sum()\n",
    "    y_control = sub_df_control['mean'].values\n",
    "    x_control = pd.Series(sub_df_control.index.get_level_values('month')).replace(int_to_month_dictionary).values\n",
    "    y_upper_control = sub_df_control['y_upper'].values\n",
    "    y_lower_control = sub_df_control['y_lower'].values\n",
    "    figure_utilities.plot_scatter_with_shaded_errors(ax,\n",
    "                                                     x_control,\n",
    "                                                     y_control,\n",
    "                                                     y_upper_control,\n",
    "                                                     y_lower_control,\n",
    "                                                     point_color=figure_and_table_constants.Colors.CONTROL_COLOR,\n",
    "                                                     error_color=figure_and_table_constants.Colors.CONTROL_COLOR,\n",
    "                                                     edge_color=figure_and_table_constants.Colors.CONTROL_COLOR,\n",
    "                                                     edge_style='-',\n",
    "                                                     error_opacity=0.5)\n",
    "    ax.set_xticks(range(0, len(x_treatment), 12))\n",
    "    ax.grid(True)\n",
    "\n",
    "    if treatment_date_variable == 'file_date':\n",
    "        verb = 'Filed'\n",
    "    elif treatment_date_variable == 'latest_docket_date':\n",
    "        verb = 'Concluded'\n",
    "    else:\n",
    "        raise ValueError(\"Invalid treatment_date_variable.\")\n",
    "    ax.set_title(f\"Eviction Cases {verb} in {int(aggregated_cohort)}\\n\"\n",
    "                 f\"({cases_per_year.loc[int(aggregated_cohort)]} Eviction Cases)\")\n",
    "plt.show()\n",
    "figure_utilities.save_figure_and_close(fig, os.path.join(OUTPUT_FIGURES, \"trends_in_zestimates_by_cohort.png\"))"
   ]
  },
  {
   "cell_type": "code",
   "execution_count": null,
   "id": "7607b1b0",
   "metadata": {
    "pycharm": {
     "is_executing": true
    }
   },
   "outputs": [],
   "source": [
    "# Run DiD without conditioning on covariates.\n",
    "att_gt = ATTgt(data=df, cohort_name=treatment_month_variable, freq='M')\n",
    "result = att_gt.fit(formula='zestimate', control_group='never_treated', n_jobs=-1)"
   ]
  },
  {
   "cell_type": "code",
   "execution_count": null,
   "id": "f3e0949d",
   "metadata": {
    "pycharm": {
     "is_executing": true
    }
   },
   "outputs": [],
   "source": [
    "# Plot unconditional ATT(t-g)s on a long horizon.\n",
    "aggregate_by_event_time_and_plot(att_gt, OUTPUT_FIGURES, \"att_gt_unconditional_event_study_long_horizon.png\",\n",
    "                                 start_period=-12, end_period=24,\n",
    "                                 title=\"Unconditional Estimates of ATT(g, t), Aggregated by Month Relative to Treatment \\n (Long Horizon)\",\n",
    "                                 treatment_month_variable=treatment_month_variable, df=df)"
   ]
  },
  {
   "cell_type": "code",
   "execution_count": null,
   "outputs": [],
   "source": [
    "# Plot unconditional ATT(t-g)s on a short horizon.\n",
    "aggregate_by_event_time_and_plot(att_gt, OUTPUT_FIGURES, \"att_gt_unconditional_event_study_short_horizon.png\",\n",
    "                                 start_period=-12, end_period=3,\n",
    "                                 title=\"Unconditional Estimates of ATT(g, t), Aggregated by Month Relative to Treatment \\n (Short Horizon)\",\n",
    "                                 treatment_month_variable=treatment_month_variable, df=df)"
   ],
   "metadata": {
    "collapsed": false,
    "pycharm": {
     "is_executing": true
    }
   }
  },
  {
   "cell_type": "code",
   "execution_count": null,
   "outputs": [],
   "source": [
    "# Plot unconditional ATT(t)s.\n",
    "aggregate_by_time_and_plot(att_gt, int_to_month_dictionary, OUTPUT_FIGURES, \"att_gt_unconditional_time.png\",\n",
    "                           title=\"Unconditional Estimates of ATT(g, t), Aggregated by Month\")"
   ],
   "metadata": {
    "collapsed": false,
    "pycharm": {
     "is_executing": true
    }
   }
  },
  {
   "cell_type": "code",
   "execution_count": null,
   "outputs": [],
   "source": [
    "# Run DiD conditional on covariates.\n",
    "att_gt = ATTgt(data=df, cohort_name=treatment_month_variable, freq='M')\n",
    "formula = 'zestimate ~ ' + '+'.join(pre_treatment_covariates)\n",
    "result = att_gt.fit(formula=formula, control_group='never_treated', n_jobs=-1)"
   ],
   "metadata": {
    "collapsed": false,
    "pycharm": {
     "is_executing": true
    }
   }
  },
  {
   "cell_type": "code",
   "execution_count": null,
   "outputs": [],
   "source": [
    "# Plot D.R. ATT(t-g)s on a long horizon.\n",
    "aggregate_by_event_time_and_plot(att_gt, OUTPUT_FIGURES, \"att_gt_dr_event_study_long_horizon.png\", start_period=-12,\n",
    "                                 end_period=24,\n",
    "                                 title=\"D.R. Estimates of ATT(g, t), Aggregated by Month Relative to Treatment \\n (Long Horizon)\",\n",
    "                                 treatment_month_variable=treatment_month_variable, df=df)"
   ],
   "metadata": {
    "collapsed": false,
    "pycharm": {
     "is_executing": true
    }
   }
  },
  {
   "cell_type": "code",
   "execution_count": null,
   "outputs": [],
   "source": [
    "# Plot D.R. ATT(t-g)s on a short horizon.\n",
    "aggregate_by_event_time_and_plot(att_gt, OUTPUT_FIGURES, \"att_gt_dr_event_study_short_horizon.png\", start_period=-12,\n",
    "                                 end_period=3,\n",
    "                                 title=\"D.R. Estimates of ATT(g, t), Aggregated by Month Relative to Treatment \\n (Short Horizon)\",\n",
    "                                 treatment_month_variable=treatment_month_variable, df=df)"
   ],
   "metadata": {
    "collapsed": false,
    "pycharm": {
     "is_executing": true
    }
   }
  },
  {
   "cell_type": "code",
   "execution_count": null,
   "outputs": [],
   "source": [
    "# Plot D.R. ATT(t)s.\n",
    "aggregate_by_time_and_plot(att_gt, int_to_month_dictionary, OUTPUT_FIGURES, \"att_gt_dr_time.png\",\n",
    "                           title=\"D.R. Estimates of ATT(g, t), Aggregated by Month\")"
   ],
   "metadata": {
    "collapsed": false,
    "pycharm": {
     "is_executing": true
    }
   }
  },
  {
   "cell_type": "code",
   "execution_count": null,
   "outputs": [],
   "source": [],
   "metadata": {
    "collapsed": false,
    "pycharm": {
     "is_executing": true
    }
   }
  }
 ],
 "metadata": {
  "kernelspec": {
   "display_name": "seniorthesis",
   "language": "python",
   "name": "venv"
  },
  "language_info": {
   "codemirror_mode": {
    "name": "ipython",
    "version": 3
   },
   "file_extension": ".py",
   "mimetype": "text/x-python",
   "name": "python",
   "nbconvert_exporter": "python",
   "pygments_lexer": "ipython3",
   "version": "3.9.0"
  }
 },
 "nbformat": 4,
 "nbformat_minor": 5
}
