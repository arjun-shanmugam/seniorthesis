{
 "cells": [
  {
   "cell_type": "markdown",
   "id": "9ec6250d",
   "metadata": {},
   "source": [
    "# 02_DiD_estimates.ipynb"
   ]
  },
  {
   "cell_type": "code",
   "execution_count": 259,
   "id": "cd77da53",
   "metadata": {},
   "outputs": [],
   "source": [
    "from differences import ATTgt\n",
    "import figure_utilities\n",
    "from analysis_utilities import produce_summary_statistics\n",
    "import figure_and_table_constants\n",
    "from matplotlib import pyplot as plt\n",
    "from scipy import stats\n",
    "\n",
    "plt.rcParams[\"figure.dpi\"] = 300\n",
    "plt.rcParams['savefig.dpi'] = 300\n",
    "import numpy as np\n",
    "import os\n",
    "import pandas as pd\n",
    "\n",
    "# Store paths.\n",
    "INPUT_DATA = \"/Users/arjunshanmugam/Documents/GitHub/seniorthesis/data/03_cleaned/restricted.csv\"\n",
    "OUTPUT_FIGURES = \"/Users/arjunshanmugam/Documents/GitHub/seniorthesis/output/DiD/figures\"\n",
    "OUTPUT_TABLES = \"/Users/arjunshanmugam/Documents/GitHub/seniorthesis/output/DiD/tables\"\n",
    "\n",
    "# Read restricted sample panel dataset into memory.\n",
    "df = pd.read_csv(INPUT_DATA)"
   ]
  },
  {
   "cell_type": "code",
   "execution_count": 260,
   "id": "caae0b8f",
   "metadata": {},
   "outputs": [],
   "source": [
    "# Create dictionaries to map between string represetation and integer representation of each month.\n",
    "years = [str(year) for year in range(2013, 2023)]\n",
    "months = [\"0\" + str(month) for month in range(1, 10)] + [str(month) for month in range(10, 13)]\n",
    "value_vars = [\"2012-12\"] + [str(year) + \"-\" + str(month) for year in years for month in months]\n",
    "month_to_int_dictionary = {key: value for value, key in enumerate(value_vars)}\n",
    "int_to_month_dictionary = {key: value for key, value in enumerate(value_vars)}"
   ]
  },
  {
   "cell_type": "code",
   "execution_count": 261,
   "outputs": [
    {
     "data": {
      "text/plain": "                                                                                                          \\\n                                                                                  Cases Won by Plaintiff   \nPanel A: Case Initiation                           For cause                                1.241803e-01   \n                                                   No cause                                 4.385246e-02   \n                                                   Non-payment of rent                      1.110656e-01   \n                                                   Defendant has an attorney                7.209016e-01   \n                                                   Plaintiff has an attorney                2.172131e-02   \nPanel C: Defendant and Plaintiff Characteristics   Defendant is an entity                   6.598361e-02   \n                                                   Plaintiff is an entity                   7.959016e-01   \n                                                   Total property value                     1.188525e-02   \n                                                   Building value                           6.594262e-01   \nPanel D: Assessor Records From Most Recent Pre-... Land value                               6.554744e+06   \n                                                   Other value                              1.897711e+06   \n                                                   Median household income (2016)           8.758564e+04   \n                                                   Population density (2010)                8.535626e+06   \nPanel E: Census Tract Characteristics              Median two bedroom rent (2015)           5.208732e+04   \n                                                   Portion white (2010)                     9.031635e+03   \n                                                   rent_twobed2015                          1.093360e+03   \n                                                   share_white2010                          6.020995e-01   \n\n                                                                                  Difference in Cases Won by Defendant  \\\n                                                                                                            Unweighted   \nPanel A: Case Initiation                           For cause                                                  0.005299   \n                                                   No cause                                                   0.027535   \n                                                   Non-payment of rent                                       -0.027629   \n                                                   Defendant has an attorney                                 -0.005206   \n                                                   Plaintiff has an attorney                                 -0.023733   \nPanel C: Defendant and Plaintiff Characteristics   Defendant is an entity                                    -0.135648   \n                                                   Plaintiff is an entity                                     0.011519   \n                                                   Total property value                                       0.003727   \n                                                   Building value                                             0.028890   \nPanel D: Assessor Records From Most Recent Pre-... Land value                                            184134.628913   \n                                                   Other value                                            25986.913258   \n                                                   Median household income (2016)                         22095.386351   \n                                                   Population density (2010)                             232361.889704   \nPanel E: Census Tract Characteristics              Median two bedroom rent (2015)                          2566.821918   \n                                                   Portion white (2010)                                     944.988233   \n                                                   rent_twobed2015                                           34.255627   \n                                                   share_white2010                                            0.035089   \n\n                                                                                                 \n                                                                                        P-Value  \nPanel A: Case Initiation                           For cause                       6.842697e-01  \n                                                   No cause                        2.219224e-04  \n                                                   Non-payment of rent             3.110684e-02  \n                                                   Defendant has an attorney       7.697358e-01  \n                                                   Plaintiff has an attorney       2.796922e-04  \nPanel C: Defendant and Plaintiff Characteristics   Defendant is an entity          2.745403e-30  \n                                                   Plaintiff is an entity          4.740066e-01  \n                                                   Total property value            3.663339e-01  \n                                                   Building value                  1.265898e-01  \nPanel D: Assessor Records From Most Recent Pre-... Land value                      7.850663e-01  \n                                                   Other value                     8.985413e-01  \n                                                   Median household income (2016)  2.120297e-01  \n                                                   Population density (2010)       7.848722e-01  \nPanel E: Census Tract Characteristics              Median two bedroom rent (2015)  1.312078e-02  \n                                                   Portion white (2010)            9.170102e-03  \n                                                   rent_twobed2015                 4.541611e-02  \n                                                   share_white2010                 2.113541e-03  ",
      "text/html": "<div>\n<style scoped>\n    .dataframe tbody tr th:only-of-type {\n        vertical-align: middle;\n    }\n\n    .dataframe tbody tr th {\n        vertical-align: top;\n    }\n\n    .dataframe thead tr th {\n        text-align: left;\n    }\n</style>\n<table border=\"1\" class=\"dataframe\">\n  <thead>\n    <tr>\n      <th></th>\n      <th></th>\n      <th></th>\n      <th colspan=\"2\" halign=\"left\">Difference in Cases Won by Defendant</th>\n    </tr>\n    <tr>\n      <th></th>\n      <th></th>\n      <th>Cases Won by Plaintiff</th>\n      <th>Unweighted</th>\n      <th>P-Value</th>\n    </tr>\n  </thead>\n  <tbody>\n    <tr>\n      <th rowspan=\"5\" valign=\"top\">Panel A: Case Initiation</th>\n      <th>For cause</th>\n      <td>1.241803e-01</td>\n      <td>0.005299</td>\n      <td>6.842697e-01</td>\n    </tr>\n    <tr>\n      <th>No cause</th>\n      <td>4.385246e-02</td>\n      <td>0.027535</td>\n      <td>2.219224e-04</td>\n    </tr>\n    <tr>\n      <th>Non-payment of rent</th>\n      <td>1.110656e-01</td>\n      <td>-0.027629</td>\n      <td>3.110684e-02</td>\n    </tr>\n    <tr>\n      <th>Defendant has an attorney</th>\n      <td>7.209016e-01</td>\n      <td>-0.005206</td>\n      <td>7.697358e-01</td>\n    </tr>\n    <tr>\n      <th>Plaintiff has an attorney</th>\n      <td>2.172131e-02</td>\n      <td>-0.023733</td>\n      <td>2.796922e-04</td>\n    </tr>\n    <tr>\n      <th rowspan=\"4\" valign=\"top\">Panel C: Defendant and Plaintiff Characteristics</th>\n      <th>Defendant is an entity</th>\n      <td>6.598361e-02</td>\n      <td>-0.135648</td>\n      <td>2.745403e-30</td>\n    </tr>\n    <tr>\n      <th>Plaintiff is an entity</th>\n      <td>7.959016e-01</td>\n      <td>0.011519</td>\n      <td>4.740066e-01</td>\n    </tr>\n    <tr>\n      <th>Total property value</th>\n      <td>1.188525e-02</td>\n      <td>0.003727</td>\n      <td>3.663339e-01</td>\n    </tr>\n    <tr>\n      <th>Building value</th>\n      <td>6.594262e-01</td>\n      <td>0.028890</td>\n      <td>1.265898e-01</td>\n    </tr>\n    <tr>\n      <th rowspan=\"4\" valign=\"top\">Panel D: Assessor Records From Most Recent Pre-Filing F.Y.</th>\n      <th>Land value</th>\n      <td>6.554744e+06</td>\n      <td>184134.628913</td>\n      <td>7.850663e-01</td>\n    </tr>\n    <tr>\n      <th>Other value</th>\n      <td>1.897711e+06</td>\n      <td>25986.913258</td>\n      <td>8.985413e-01</td>\n    </tr>\n    <tr>\n      <th>Median household income (2016)</th>\n      <td>8.758564e+04</td>\n      <td>22095.386351</td>\n      <td>2.120297e-01</td>\n    </tr>\n    <tr>\n      <th>Population density (2010)</th>\n      <td>8.535626e+06</td>\n      <td>232361.889704</td>\n      <td>7.848722e-01</td>\n    </tr>\n    <tr>\n      <th rowspan=\"4\" valign=\"top\">Panel E: Census Tract Characteristics</th>\n      <th>Median two bedroom rent (2015)</th>\n      <td>5.208732e+04</td>\n      <td>2566.821918</td>\n      <td>1.312078e-02</td>\n    </tr>\n    <tr>\n      <th>Portion white (2010)</th>\n      <td>9.031635e+03</td>\n      <td>944.988233</td>\n      <td>9.170102e-03</td>\n    </tr>\n    <tr>\n      <th>rent_twobed2015</th>\n      <td>1.093360e+03</td>\n      <td>34.255627</td>\n      <td>4.541611e-02</td>\n    </tr>\n    <tr>\n      <th>share_white2010</th>\n      <td>6.020995e-01</td>\n      <td>0.035089</td>\n      <td>2.113541e-03</td>\n    </tr>\n  </tbody>\n</table>\n</div>"
     },
     "execution_count": 261,
     "metadata": {},
     "output_type": "execute_result"
    }
   ],
   "source": [
    "# TODO: Build balance table of pretreatment characteristics.\n",
    "treated_obs = df.loc[df['judgment_for_plaintiff'] == 1, :]\n",
    "control_obs = df.loc[df['judgment_for_plaintiff'] == 0, :]\n",
    "\n",
    "# Build treatment, control mean columns and add recoded variables to treatment and control DataFrames in memory.\n",
    "pd.options.mode.chained_assignment = None\n",
    "# Return treatment means and add covariate columns.\n",
    "treatment_means = produce_summary_statistics(treated_obs, 'file_date').loc[[\"Panel A: Case Initiation\",\n",
    "                                                                        \"Panel C: Defendant and Plaintiff Characteristics\",\n",
    "                                                                        \"Panel D: Assessor Records From Most Recent Pre-Filing F.Y.\",\n",
    "                                                                            \"Panel E: Census Tract Characteristics\"], 'mean']\n",
    "treatment_means = treatment_means.rename(\"Cases Won by Plaintiff\")\n",
    "# Return control means and add covariate columns to the control D.F. in memory.\n",
    "control_means = produce_summary_statistics(control_obs, 'file_date').loc[[\"Panel A: Case Initiation\",\n",
    "                                                                      \"Panel C: Defendant and Plaintiff Characteristics\",\n",
    "                                                                      \"Panel D: Assessor Records From Most Recent Pre-Filing F.Y.\",\n",
    "                                                                          \"Panel E: Census Tract Characteristics\"], 'mean']\n",
    "pd.options.mode.chained_assignment = 'warn'\n",
    "\n",
    "# Build unweighted columns.\n",
    "difference_unadjusted = treatment_means - control_means\n",
    "p_values_unadjusted = []\n",
    "for covariate in treatment_means.index.get_level_values(1):\n",
    "    p_values_unadjusted.append(stats.ttest_ind(treated_obs[covariate], control_obs[covariate], nan_policy='omit').pvalue)\n",
    "p_values_unadjusted = pd.Series(p_values_unadjusted, index=treatment_means.index)\n",
    "unweighted_columns = pd.concat([difference_unadjusted, p_values_unadjusted], axis=1)\n",
    "unweighted_columns.columns = ['Unweighted', 'P-Value']\n",
    "table_columns = [treatment_means, unweighted_columns]\n",
    "balance_table = pd.concat(table_columns, axis=1, keys=['', 'Difference in Cases Won by Defendant'])\n",
    "pre_treatment_covariates = balance_table.index.get_level_values(1).tolist()  # Save pre-treatment covariates for use in D.R. DiD estimator.\n",
    "\n",
    "\n",
    "\n",
    "# Rename rows.\n",
    "variable_display_names_dict = {'for_cause': \"For cause\", 'no_cause': \"No cause\", 'non_payment': \"Non-payment of rent\",  # Panel A\n",
    "                               'case_duration': \"Case duration\", 'defaulted': \"Case defaulted\", 'heard': \"Case heard\",  # Panel B\n",
    "                               'judgment': \"Money judgment\", 'mediated': \"Case mediated\", 'dismissed': 'Case dismised', # Panel B\n",
    "                               'hasAttyD': \"Defendant has an attorney\", 'hasAttyP': \"Plaintiff has an attorney\",  # Panel C\n",
    "                               'isEntityD': \"Defendant is an entity\", 'isEntityP': \"Plaintiff is an entity\",  # Panel C\n",
    "                               'TOTAL_VAL': \"Total property value\", 'BLDG_VAL': \"Building value\", 'LAND_VAL': \"Land value\",  # Panel D\n",
    "                               'OTHER_VAL': \"Other value\",  # Panel D\n",
    "                               'med_hhinc2016': 'Median household income (2016)', 'popdensity2010': 'Population density (2010)',  # Panel E\n",
    "                               'rent_twobed2015': 'Median two bedroom rent (2015)', 'share_white2010': 'Portion white (2010)',  # Panel E\n",
    "                               'zestimate_-5_years_relative_to_treatment': \"Five years before filing date\",\n",
    "                               'zestimate_-4_years_relative_to_treatment': \"Four years before filing date\",\n",
    "                               'zestimate_-3_years_relative_to_treatment': \"Three years before filing date\",\n",
    "                               'zestimate_-2_years_relative_to_treatment': \"Two years before filing date\",\n",
    "                               'zestimate_-1_years_relative_to_treatment': \"One year before filing date\",\n",
    "                               'zestimate_0_years_relative_to_treatment': \"Filing date\",\n",
    "                               'zestimate_1_years_relative_to_treatment': \"One year after filing date\",\n",
    "                               'zestimate_2_years_relative_to_treatment': \"Two years after filing date\",\n",
    "                               'zestimate_3_years_relative_to_treatment': \"Three years after filing date\"}\n",
    "variable_display_names_dict = {key: value for key, value in zip(treatment_means.index.get_level_values(1), display_names)}\n",
    "balance_table = balance_table.rename(index=variable_display_names_dict)\n",
    "\n",
    "# Export to LaTeX.\n",
    "filename = os.path.join(OUTPUT_TABLES, \"balance_table.tex\")\n",
    "latex = (balance_table\n",
    "         .style\n",
    "         .format(thousands=\",\",\n",
    "                 formatter=\"{:.2f}\")\n",
    "         .format_index(\"\\\\textit{{{}}}\", escape=\"latex\", axis=0, level=0)\n",
    "         .format_index(\"\\\\textit{{{}}}\", escape=\"latex\", axis=1, level=0)\n",
    "         .to_latex(None,\n",
    "                   column_format=\"llccc\",\n",
    "                   hrules=True,\n",
    "                   multicol_align='|c|',\n",
    "                   clines=\"skip-last;data\")).replace(\"{*}\", \"{4cm}\")\n",
    "with open(filename, 'w') as file:\n",
    "    file.write(latex)\n",
    "balance_table"
   ],
   "metadata": {
    "collapsed": false
   }
  },
  {
   "cell_type": "code",
   "execution_count": null,
   "id": "743d1935",
   "metadata": {
    "pycharm": {
     "is_executing": true
    }
   },
   "outputs": [
    {
     "name": "stdout",
     "output_type": "stream",
     "text": [
      "Limiting sample to 2964 evictions for which we observe the filing date and the latest docketdate.\n"
     ]
    }
   ],
   "source": [
    "# Store treatment date variable -- may be either file_date or latest_docket_date -- and drop rows where missing.\n",
    "treatment_date_variable = 'file_date'\n",
    "treatment_year_variable = treatment_date_variable.replace(\"date\", \"year\")\n",
    "treatment_month_variable = treatment_date_variable.replace(\"date\", \"month\")\n",
    "df = df.dropna(subset=['file_date', 'latest_docket_date'])\n",
    "print(f\"Limiting sample to {len(df)} evictions for which we observe the filing date and the latest docket\"\n",
    "      f\"date.\")\n",
    "cases_per_year = df[treatment_year_variable].value_counts()  # Store yearly case counts for use in figure titles in next cell.\n",
    "\n",
    "# Run produce summary statistics on the DataFrame to add pre-treatment covariate columns.\n",
    "produce_summary_statistics(df, 'file_date')\n",
    "# Reshape from wide to long.\n",
    "df = pd.melt(df,\n",
    "             id_vars=['case_number', treatment_month_variable, treatment_year_variable, 'judgment_for_plaintiff'] + pre_treatment_covariates,\n",
    "             value_vars=value_vars, var_name='month', value_name='zestimate')\n",
    "df = df.sort_values(by=['case_number', 'month'])\n",
    "\n",
    "# Convert months from string format to integer format.\n",
    "df.loc[:, 'month'] = df['month'].replace(month_to_int_dictionary)\n",
    "df.loc[:, treatment_month_variable] = df[treatment_month_variable].replace(month_to_int_dictionary)\n",
    "\n",
    "# Set treatment month to 0 for untreated observations.\n",
    "never_treated_mask = (df['judgment_for_plaintiff'] == 0)\n",
    "df.loc[never_treated_mask, treatment_month_variable] = np.NaN\n",
    "df.loc[never_treated_mask, treatment_year_variable] = np.NaN\n",
    "\n",
    "# Generate numeric version of case_number.\n",
    "df.loc[:, 'case_number_numeric'] = df['case_number'].astype('category').cat.codes\n",
    "\n",
    "# Set index.\n",
    "df = df.set_index(['case_number', 'month'])"
   ]
  },
  {
   "cell_type": "code",
   "execution_count": null,
   "id": "6dffe5f5",
   "metadata": {
    "pycharm": {
     "is_executing": true
    }
   },
   "outputs": [],
   "source": [
    "# Plot path of outcomes in treated group vs. control group, separately by year of filing.\n",
    "# Plot.\n",
    "aggregated_zestimates = (df\n",
    "                         .copy().loc[(slice(None), slice(60, 120)), ]\n",
    "                         .groupby([treatment_year_variable, 'month'], dropna=False)['zestimate']\n",
    "                         .agg([np.mean, np.std, 'count']))\n",
    "aggregated_zestimates.loc[:, 'se'] = aggregated_zestimates['std'] / np.sqrt(aggregated_zestimates['count'])\n",
    "aggregated_zestimates.loc[:, 'y_upper'] = aggregated_zestimates['mean'] + 1.96 * aggregated_zestimates['se']\n",
    "aggregated_zestimates.loc[:, 'y_lower'] = aggregated_zestimates['mean'] - 1.96 * aggregated_zestimates['se']\n",
    "treatment_times = aggregated_zestimates.index.get_level_values(treatment_year_variable).unique()\n",
    "fig, axes = plt.subplots(3, 1, layout='constrained', figsize=(8.5, 11))\n",
    "for ax, aggregated_cohort in zip(axes, treatment_times):\n",
    "    # No need to plot trends for untreated cohort.\n",
    "    if np.isnan(aggregated_cohort):\n",
    "        continue\n",
    "    # Shade months during which treatment occurred in each aggregated cohort.\n",
    "    start_shading = 12*(int(aggregated_cohort) - 2017 - 1)\n",
    "    end_shading = start_shading + 12\n",
    "    ax.axvspan(start_shading, end_shading, color=figure_and_table_constants.Colors.LABELING_COLOR,\n",
    "               alpha=0.25)\n",
    "    sub_df_treatment = aggregated_zestimates.loc[aggregated_cohort, :]\n",
    "    count_treatment = sub_df_treatment['count'].sum()\n",
    "    y_treatment = sub_df_treatment['mean'].values\n",
    "    x_treatment = pd.Series(sub_df_treatment.index.get_level_values('month')).replace(int_to_month_dictionary).values\n",
    "    y_upper_treatment = sub_df_treatment['y_upper'].values\n",
    "    y_lower_treatment = sub_df_treatment['y_lower'].values\n",
    "\n",
    "    figure_utilities.plot_scatter_with_shaded_errors(ax,\n",
    "                                                     x_treatment,\n",
    "                                                     y_treatment,\n",
    "                                                     y_upper_treatment,\n",
    "                                                     y_lower_treatment,\n",
    "                                                     point_color=figure_and_table_constants.Colors.TREATMENT_COLOR,\n",
    "                                                     error_color=figure_and_table_constants.Colors.TREATMENT_COLOR)\n",
    "\n",
    "    sub_df_control = (aggregated_zestimates.loc[aggregated_zestimates.index.get_level_values(treatment_year_variable)\n",
    "                                                .isna(), :])\n",
    "    count_control = sub_df_control['count'].sum()\n",
    "    y_control = sub_df_control['mean'].values\n",
    "    x_control = pd.Series(sub_df_control.index.get_level_values('month')).replace(int_to_month_dictionary).values\n",
    "    y_upper_control = sub_df_control['y_upper'].values\n",
    "    y_lower_control = sub_df_control['y_lower'].values\n",
    "    figure_utilities.plot_scatter_with_shaded_errors(ax,\n",
    "                                                     x_control,\n",
    "                                                     y_control,\n",
    "                                                     y_upper_control,\n",
    "                                                     y_lower_control,\n",
    "                                                     point_color=figure_and_table_constants.Colors.CONTROL_COLOR,\n",
    "                                                     error_color=figure_and_table_constants.Colors.CONTROL_COLOR)\n",
    "    ax.set_xticks(range(0, len(x_treatment), 12))\n",
    "    ax.grid(True)\n",
    "\n",
    "\n",
    "    if treatment_date_variable == 'file_date':\n",
    "        verb = 'Filed'\n",
    "    elif treatment_date_variable == 'latest_docket_date':\n",
    "        verb = 'Concluded'\n",
    "    else:\n",
    "        raise ValueError(\"Invalid treatment_date_variable.\")\n",
    "    ax.set_title(f\"Eviction Cases {verb} in {int(aggregated_cohort)}\\n\"\n",
    "                 f\"({cases_per_year.loc[int(aggregated_cohort)]} Eviction Cases)\")\n",
    "plt.show()\n",
    "figure_utilities.save_figure_and_close(fig, os.path.join(OUTPUT_FIGURES, \"trends_in_zestimates_by_cohort.png\"))"
   ]
  },
  {
   "cell_type": "code",
   "execution_count": null,
   "id": "7607b1b0",
   "metadata": {
    "pycharm": {
     "is_executing": true
    }
   },
   "outputs": [],
   "source": [
    "# Run DiD without conditional on covariates.\n",
    "att_gt = ATTgt(data=df, cohort_name=treatment_month_variable, freq='M')\n",
    "result = att_gt.fit(formula='zestimate', control_group='never_treated', n_jobs=-1)"
   ]
  },
  {
   "cell_type": "code",
   "execution_count": null,
   "id": "f3e0949d",
   "metadata": {
    "pycharm": {
     "is_executing": true
    }
   },
   "outputs": [],
   "source": [
    "# Get event study-aggregated ATT(t)s.\n",
    "results_df = att_gt.aggregate('event')\n",
    "results_df = results_df.loc[-8:24]\n",
    "results_df.columns = results_df.columns.droplevel().droplevel()\n",
    "\n",
    "# Plot event study-style plot of ATTs.\n",
    "fig, ax = plt.subplots()\n",
    "x = results_df.index\n",
    "y = results_df['ATT']\n",
    "y_upper = results_df['upper']\n",
    "y_lower = results_df['lower']\n",
    "ax.set_xlabel(\"Month Relative to Treatment\")\n",
    "ax.set_ylabel(\"ATT\")\n",
    "ax.set_title(\"Unconditional Estimates of ATT(g, t), Aggregated by Month Relative to Treatment\")\n",
    "figure_utilities.plot_labeled_vline(ax, x=0, text=\"Treatment Month\", color='black', linestyle='-',\n",
    "                                    text_y_location_normalized=0.95)\n",
    "figure_utilities.plot_labeled_hline(ax, y=0, text=\"\", color='black', linestyle='-')\n",
    "figure_utilities.plot_scatter_with_error_bars(ax,\n",
    "                                              x,\n",
    "                                              y,\n",
    "                                              y_upper,\n",
    "                                              y_lower,\n",
    "                                              point_color='black',\n",
    "                                              error_color='black')\n",
    "plt.show()\n",
    "figure_utilities.save_figure_and_close(fig, os.path.join(OUTPUT_FIGURES, \"att_gt_unconditional_event_study.png\"))\n"
   ]
  },
  {
   "cell_type": "code",
   "execution_count": null,
   "outputs": [],
   "source": [
    "# Get time-aggregated ATTs.\n",
    "results_df = att_gt.aggregate('time')\n",
    "\n",
    "# Plot event study-style plot of ATTs.\n",
    "fig, ax = plt.subplots()\n",
    "results_df = results_df.rename(index=int_to_month_dictionary)\n",
    "x = results_df.index\n",
    "y = results_df.iloc[:, 0]\n",
    "y_upper = results_df.iloc[:, 3]\n",
    "y_lower = results_df.iloc[:, 2]\n",
    "ax.set_xlabel(\"Month\")\n",
    "ax.set_ylabel(\"ATT\")\n",
    "ax.set_title(\"Unconditional Estimates of ATT(g, t), Aggregated by Month\")\n",
    "figure_utilities.plot_labeled_vline(ax, x=results_df.index.tolist()[0], text=\"Earliest Treatment Date in Sample\", color='black', linestyle='-',\n",
    "                                    text_y_location_normalized=0.95)\n",
    "figure_utilities.plot_labeled_hline(ax, y=0, text=\"\", color='black', linestyle='-')\n",
    "figure_utilities.plot_scatter_with_error_bars(ax,\n",
    "                                              x,\n",
    "                                              y,\n",
    "                                              y_upper,\n",
    "                                              y_lower,\n",
    "                                              point_color='black',\n",
    "                                              error_color='black')\n",
    "ax.set_xticks(range(0, len(x), 12))\n",
    "plt.show()\n",
    "figure_utilities.save_figure_and_close(fig, os.path.join(OUTPUT_FIGURES, \"att_gt_unconditional_time.png\"))\n"
   ],
   "metadata": {
    "collapsed": false,
    "pycharm": {
     "is_executing": true
    }
   }
  },
  {
   "cell_type": "code",
   "execution_count": null,
   "outputs": [],
   "source": [
    "# Run DiD conditional on covariates.\n",
    "[pre_treatment_covariates.remove(var) for var in ['BLDG_VAL', 'LAND_VAL', 'OTHER_VAL', 'TOTAL_VAL', 'rent_twobed2015',\n",
    "                                                  'transfer', 'foreclosure', 'isEntityD']]\n",
    "df = df.dropna(subset=pre_treatment_covariates)\n",
    "print(pre_treatment_covariates)\n",
    "print(len(df))\n",
    "df.loc[:, 'med_hhinc2016'] = np.log(df['med_hhinc2016'])\n",
    "att_gt = ATTgt(data=df, cohort_name=treatment_month_variable, freq='M')\n",
    "formula = 'zestimate ~ ' + '+'.join(pre_treatment_covariates)\n",
    "print(formula)\n",
    "result = att_gt.fit(formula=formula, control_group='never_treated', n_jobs=-1)"
   ],
   "metadata": {
    "collapsed": false,
    "pycharm": {
     "is_executing": true
    }
   }
  },
  {
   "cell_type": "code",
   "execution_count": null,
   "outputs": [],
   "source": [
    "# Get cohort-aggregated ATT(t)s.\n",
    "results_df = att_gt.aggregate('event')\n",
    "results_df = results_df.loc[-8:24]\n",
    "results_df.columns = results_df.columns.droplevel().droplevel()\n",
    "\n",
    "# Plot event study-style plot of ATTs.\n",
    "fig, ax = plt.subplots()\n",
    "x = results_df.index\n",
    "y = results_df['ATT']\n",
    "y_upper = results_df['upper']\n",
    "y_lower = results_df['lower']\n",
    "ax.set_xlabel(\"Month Relative to Treatment\")\n",
    "ax.set_ylabel(\"ATT\")\n",
    "ax.set_title(\"Conditional Estimates of ATT(g, t), Aggregated by Month Relative to Treatment\")\n",
    "figure_utilities.plot_labeled_vline(ax, x=0, text=\"Treatment Month\", color='black', linestyle='-',\n",
    "                                    text_y_location_normalized=0.95)\n",
    "figure_utilities.plot_labeled_hline(ax, y=0, text=\"\", color='black', linestyle='-')\n",
    "figure_utilities.plot_scatter_with_error_bars(ax,\n",
    "                                              x,\n",
    "                                              y,\n",
    "                                              y_upper,\n",
    "                                              y_lower,\n",
    "                                              point_color='black',\n",
    "                                              error_color='black')\n",
    "plt.show()\n",
    "figure_utilities.save_figure_and_close(fig, os.path.join(OUTPUT_FIGURES, \"att_gt_estimates_event_study.png\"))\n"
   ],
   "metadata": {
    "collapsed": false,
    "pycharm": {
     "is_executing": true
    }
   }
  },
  {
   "cell_type": "code",
   "execution_count": null,
   "outputs": [],
   "source": [],
   "metadata": {
    "collapsed": false,
    "pycharm": {
     "is_executing": true
    }
   }
  }
 ],
 "metadata": {
  "kernelspec": {
   "display_name": "seniorthesis",
   "language": "python",
   "name": "venv"
  },
  "language_info": {
   "codemirror_mode": {
    "name": "ipython",
    "version": 3
   },
   "file_extension": ".py",
   "mimetype": "text/x-python",
   "name": "python",
   "nbconvert_exporter": "python",
   "pygments_lexer": "ipython3",
   "version": "3.9.0"
  }
 },
 "nbformat": 4,
 "nbformat_minor": 5
}
