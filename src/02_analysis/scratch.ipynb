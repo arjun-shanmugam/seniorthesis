{
 "cells": [
  {
   "cell_type": "code",
   "execution_count": 14,
   "metadata": {
    "collapsed": true
   },
   "outputs": [],
   "source": [
    "import pandas as pd\n",
    "import statsmodels.formula.api as smf\n",
    "from analysis_utilities import produce_summary_statistics\n",
    "INPUT_DATA = \"/Users/arjunshanmugam/Documents/GitHub/seniorthesis/data/03_cleaned/restricted.csv\"\n",
    "df = pd.read_csv(INPUT_DATA)"
   ]
  },
  {
   "cell_type": "code",
   "execution_count": 15,
   "outputs": [
    {
     "name": "stdout",
     "output_type": "stream",
     "text": [
      "twenty_seventeen predicts zestimates with p-value 0.0\n",
      "twenty_seventeen predicts judgment_for_plaintiff with p-value 0.000829772445256228\n",
      "\n",
      "\n",
      "\n",
      "\n",
      "\n",
      "twenty_eighteen predicts zestimates with p-value 0.0\n",
      "twenty_eighteen predicts judgment_for_plaintiff with p-value 0.0019413169128480888\n",
      "\n",
      "\n",
      "\n",
      "\n",
      "\n",
      "change_in_zestimates predicts zestimates with p-value 0.0\n",
      "change_in_zestimates predicts judgment_for_plaintiff with p-value 0.27440596716761184\n",
      "\n",
      "\n",
      "\n",
      "\n",
      "\n",
      "med_hhinc2016 predicts zestimates with p-value 5.2973282956534876e-08\n",
      "med_hhinc2016 predicts judgment_for_plaintiff with p-value 0.013120777025087673\n",
      "\n",
      "\n",
      "\n",
      "\n",
      "\n",
      "popdensity2010 predicts zestimates with p-value 1.021761699944857e-108\n",
      "popdensity2010 predicts judgment_for_plaintiff with p-value 0.009170101651990616\n",
      "\n",
      "\n",
      "\n",
      "\n",
      "\n",
      "share_white2010 predicts zestimates with p-value 1.3092986670764233e-18\n",
      "share_white2010 predicts judgment_for_plaintiff with p-value 0.002113541151046889\n",
      "\n",
      "\n",
      "\n",
      "\n",
      "\n",
      "for_cause predicts zestimates with p-value 0.09682962619165883\n",
      "for_cause predicts judgment_for_plaintiff with p-value 0.6842697401349715\n",
      "\n",
      "\n",
      "\n",
      "\n",
      "\n",
      "no_cause predicts zestimates with p-value 0.6778721082538406\n",
      "no_cause predicts judgment_for_plaintiff with p-value 0.031106839843825583\n",
      "\n",
      "\n",
      "\n",
      "\n",
      "\n",
      "non_payment predicts zestimates with p-value 0.7952900137739949\n",
      "non_payment predicts judgment_for_plaintiff with p-value 0.7697358113819397\n",
      "\n",
      "\n",
      "\n",
      "\n",
      "\n",
      "hasAttyD predicts zestimates with p-value 0.1466583900423072\n",
      "hasAttyD predicts judgment_for_plaintiff with p-value 2.7454033568902225e-30\n",
      "\n",
      "\n",
      "\n",
      "\n",
      "\n",
      "hasAttyP predicts zestimates with p-value 0.04145001557343492\n",
      "hasAttyP predicts judgment_for_plaintiff with p-value 0.4740065710552954\n",
      "\n",
      "\n",
      "\n",
      "\n",
      "\n",
      "isEntityD predicts zestimates with p-value 5.1138747441314554e-05\n",
      "isEntityD predicts judgment_for_plaintiff with p-value 0.36633392364739215\n",
      "\n",
      "\n",
      "\n",
      "\n",
      "\n",
      "isEntityP predicts zestimates with p-value 0.0005891765429956667\n",
      "isEntityP predicts judgment_for_plaintiff with p-value 0.1265897640841388\n",
      "\n",
      "\n",
      "\n",
      "\n",
      "\n"
     ]
    }
   ],
   "source": [
    "\n",
    "produce_summary_statistics(df, 'file_date')\n",
    "df = df.rename(columns={'2019-01': 'zest'})\n",
    "\n",
    "\n",
    "covariates = ['twenty_seventeen', 'twenty_eighteen', 'change_in_zestimates', 'med_hhinc2016', 'popdensity2010', 'share_white2010', 'for_cause', 'no_cause', 'non_payment', 'hasAttyD', 'hasAttyP', 'isEntityD', 'isEntityP']\n",
    "\n",
    "for covariate in covariates:\n",
    "    result_y = smf.ols(formula=f\"zest ~ {covariate}\", data=df, missing='drop').fit()\n",
    "    print(f\"{covariate} predicts zestimates with p-value {result_y.pvalues.loc[covariate]}\")\n",
    "    result_x = smf.ols(formula=f\"judgment_for_plaintiff ~ {covariate}\", data=df, missing='drop').fit()\n",
    "    print(f\"{covariate} predicts judgment_for_plaintiff with p-value {result_x.pvalues.loc[covariate]}\")\n",
    "    print(\"\\n\\n\\n\\n\")\n"
   ],
   "metadata": {
    "collapsed": false
   }
  },
  {
   "cell_type": "code",
   "execution_count": null,
   "outputs": [],
   "source": [],
   "metadata": {
    "collapsed": false
   }
  }
 ],
 "metadata": {
  "kernelspec": {
   "display_name": "Python 3",
   "language": "python",
   "name": "python3"
  },
  "language_info": {
   "codemirror_mode": {
    "name": "ipython",
    "version": 2
   },
   "file_extension": ".py",
   "mimetype": "text/x-python",
   "name": "python",
   "nbconvert_exporter": "python",
   "pygments_lexer": "ipython2",
   "version": "2.7.6"
  }
 },
 "nbformat": 4,
 "nbformat_minor": 0
}
