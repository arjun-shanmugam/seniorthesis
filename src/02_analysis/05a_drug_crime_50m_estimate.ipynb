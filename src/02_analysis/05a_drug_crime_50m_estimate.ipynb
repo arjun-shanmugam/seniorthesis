{
 "cells": [
  {
   "cell_type": "code",
   "execution_count": 1,
   "metadata": {
    "collapsed": true
   },
   "outputs": [],
   "source": [
    "from differences import ATTgt\n",
    "from matplotlib import pyplot as plt\n",
    "from analysis_utilities import aggregate_by_time_and_plot, aggregate_by_event_time_and_plot, \\\n",
    "    select_controls, test_balance, add_missing_indicators, prepare_df, generate_variable_names\n",
    "\n",
    "plt.rcParams[\"figure.dpi\"] = 300\n",
    "plt.rcParams['savefig.dpi'] = 300\n",
    "import pandas as pd\n",
    "\n",
    "# Store paths.\n",
    "INPUT_DATA = \"/Users/arjunshanmugam/Documents/GitHub/seniorthesis/data/03_cleaned/crime_analysis.csv\"\n",
    "OUTPUT_FIGURES = \"/Users/arjunshanmugam/Documents/GitHub/seniorthesis/output/crime_200m/figures\"\n",
    "OUTPUT_TABLES = \"/Users/arjunshanmugam/Documents/GitHub/seniorthesis/output/crime_200m/tables\"\n",
    "\n",
    "\n",
    "# Read restricted sample panel dataset into memory.\n",
    "df = pd.read_csv(INPUT_DATA)\n",
    "\n",
    "analysis='group_2_crimes_50m'"
   ]
  },
  {
   "cell_type": "code",
   "execution_count": 2,
   "outputs": [],
   "source": [
    "import numpy as np\n",
    "\n",
    "value_vars_crime, month_to_int_dictionary, int_to_month_dictionary = generate_variable_names(analysis=analysis)\n",
    "\n",
    "# Uncomment below line for \"any crime\" analysis\n",
    "# df[value_vars_crime] = np.where(df[value_vars_crime] > 0, 1, 0)"
   ],
   "metadata": {
    "collapsed": false
   }
  },
  {
   "cell_type": "code",
   "execution_count": 3,
   "outputs": [
    {
     "data": {
      "text/plain": "                                                                                                                            Dependent Variable  \\\n                                                                                            Drug-Related Crime Incidents Within 50m, Oct. 2022   \n                                                 \\emph{Independent Variable}                                                                     \nPanel A: Pre-treatment Outcomes                  twenty_seventeen_group_2_crimes_50m                                                       NaN   \n                                                 pre_treatment_change_in_group_2_crimes_50m                                                NaN   \nPanel B: Census Tract Characteristics            frac_coll_plus2010                                                                        NaN   \n                                                 job_density_2013                                                                          NaN   \n                                                 med_hhinc2016                                                                             NaN   \n                                                 poor_share2010                                                                            NaN   \n                                                 popdensity2010                                                                            NaN   \n                                                 rent_twobed2015                                                                           NaN   \n                                                 share_white2010                                                                           NaN   \n                                                 traveltime15_2010                                                                         NaN   \nPanel C: Case Initiation                         for_cause                                                                                 NaN   \n                                                 no_cause                                                                                  NaN   \n                                                 non_payment                                                                               NaN   \nPanel D: Defendant and Plaintiff Characteristics hasAttyD                                                                                  NaN   \n                                                 hasAttyP                                                                                  NaN   \n                                                 isEntityD                                                                                 NaN   \n                                                 isEntityP                                                                                 NaN   \n\n                                                                                                               \n                                                                                            Plaintiff Victory  \n                                                 \\emph{Independent Variable}                                   \nPanel A: Pre-treatment Outcomes                  twenty_seventeen_group_2_crimes_50m             1.599600e-01  \n                                                 pre_treatment_change_in_group_2_crimes_50m      4.083364e-01  \nPanel B: Census Tract Characteristics            frac_coll_plus2010                              2.403331e-01  \n                                                 job_density_2013                                1.626836e-01  \n                                                 med_hhinc2016                                   1.910501e-01  \n                                                 poor_share2010                                  1.428679e-01  \n                                                 popdensity2010                                  5.946111e-02  \n                                                 rent_twobed2015                                 5.003043e-01  \n                                                 share_white2010                                 9.829904e-02  \n                                                 traveltime15_2010                               2.271578e-01  \nPanel C: Case Initiation                         for_cause                                       4.801045e-01  \n                                                 no_cause                                        3.835665e-05  \n                                                 non_payment                                     2.880676e-03  \nPanel D: Defendant and Plaintiff Characteristics hasAttyD                                        5.780991e-31  \n                                                 hasAttyP                                        1.016046e-04  \n                                                 isEntityD                                       4.881644e-07  \n                                                 isEntityP                                       6.134468e-06  ",
      "text/html": "<div>\n<style scoped>\n    .dataframe tbody tr th:only-of-type {\n        vertical-align: middle;\n    }\n\n    .dataframe tbody tr th {\n        vertical-align: top;\n    }\n\n    .dataframe thead tr th {\n        text-align: left;\n    }\n\n    .dataframe thead tr:last-of-type th {\n        text-align: right;\n    }\n</style>\n<table border=\"1\" class=\"dataframe\">\n  <thead>\n    <tr>\n      <th></th>\n      <th></th>\n      <th colspan=\"2\" halign=\"left\">Dependent Variable</th>\n    </tr>\n    <tr>\n      <th></th>\n      <th></th>\n      <th>Drug-Related Crime Incidents Within 50m, Oct. 2022</th>\n      <th>Plaintiff Victory</th>\n    </tr>\n    <tr>\n      <th></th>\n      <th>\\emph{Independent Variable}</th>\n      <th></th>\n      <th></th>\n    </tr>\n  </thead>\n  <tbody>\n    <tr>\n      <th rowspan=\"2\" valign=\"top\">Panel A: Pre-treatment Outcomes</th>\n      <th>twenty_seventeen_group_2_crimes_50m</th>\n      <td>NaN</td>\n      <td>1.599600e-01</td>\n    </tr>\n    <tr>\n      <th>pre_treatment_change_in_group_2_crimes_50m</th>\n      <td>NaN</td>\n      <td>4.083364e-01</td>\n    </tr>\n    <tr>\n      <th rowspan=\"8\" valign=\"top\">Panel B: Census Tract Characteristics</th>\n      <th>frac_coll_plus2010</th>\n      <td>NaN</td>\n      <td>2.403331e-01</td>\n    </tr>\n    <tr>\n      <th>job_density_2013</th>\n      <td>NaN</td>\n      <td>1.626836e-01</td>\n    </tr>\n    <tr>\n      <th>med_hhinc2016</th>\n      <td>NaN</td>\n      <td>1.910501e-01</td>\n    </tr>\n    <tr>\n      <th>poor_share2010</th>\n      <td>NaN</td>\n      <td>1.428679e-01</td>\n    </tr>\n    <tr>\n      <th>popdensity2010</th>\n      <td>NaN</td>\n      <td>5.946111e-02</td>\n    </tr>\n    <tr>\n      <th>rent_twobed2015</th>\n      <td>NaN</td>\n      <td>5.003043e-01</td>\n    </tr>\n    <tr>\n      <th>share_white2010</th>\n      <td>NaN</td>\n      <td>9.829904e-02</td>\n    </tr>\n    <tr>\n      <th>traveltime15_2010</th>\n      <td>NaN</td>\n      <td>2.271578e-01</td>\n    </tr>\n    <tr>\n      <th rowspan=\"3\" valign=\"top\">Panel C: Case Initiation</th>\n      <th>for_cause</th>\n      <td>NaN</td>\n      <td>4.801045e-01</td>\n    </tr>\n    <tr>\n      <th>no_cause</th>\n      <td>NaN</td>\n      <td>3.835665e-05</td>\n    </tr>\n    <tr>\n      <th>non_payment</th>\n      <td>NaN</td>\n      <td>2.880676e-03</td>\n    </tr>\n    <tr>\n      <th rowspan=\"4\" valign=\"top\">Panel D: Defendant and Plaintiff Characteristics</th>\n      <th>hasAttyD</th>\n      <td>NaN</td>\n      <td>5.780991e-31</td>\n    </tr>\n    <tr>\n      <th>hasAttyP</th>\n      <td>NaN</td>\n      <td>1.016046e-04</td>\n    </tr>\n    <tr>\n      <th>isEntityD</th>\n      <td>NaN</td>\n      <td>4.881644e-07</td>\n    </tr>\n    <tr>\n      <th>isEntityP</th>\n      <td>NaN</td>\n      <td>6.134468e-06</td>\n    </tr>\n  </tbody>\n</table>\n</div>"
     },
     "execution_count": 3,
     "metadata": {},
     "output_type": "execute_result"
    }
   ],
   "source": [
    "covariates_exploration_df = select_controls(df=df, analysis=analysis, output_directory=OUTPUT_TABLES)\n",
    "covariates_exploration_df"
   ],
   "metadata": {
    "collapsed": false
   }
  },
  {
   "cell_type": "code",
   "execution_count": 4,
   "outputs": [
    {
     "ename": "ValueError",
     "evalue": "zero-size array to reduction operation maximum which has no identity",
     "output_type": "error",
     "traceback": [
      "\u001B[0;31m---------------------------------------------------------------------------\u001B[0m",
      "\u001B[0;31mValueError\u001B[0m                                Traceback (most recent call last)",
      "Cell \u001B[0;32mIn[4], line 1\u001B[0m\n\u001B[0;32m----> 1\u001B[0m balance_table, pre_treatment_covariates \u001B[38;5;241m=\u001B[39m \u001B[43mtest_balance\u001B[49m\u001B[43m(\u001B[49m\u001B[43mdf\u001B[49m\u001B[43m,\u001B[49m\u001B[43m \u001B[49m\u001B[43manalysis\u001B[49m\u001B[43m,\u001B[49m\u001B[43m \u001B[49m\u001B[43mcovariates_exploration_df\u001B[49m\u001B[43m,\u001B[49m\u001B[43m \u001B[49m\u001B[43mOUTPUT_TABLES\u001B[49m\u001B[43m)\u001B[49m\n\u001B[1;32m      2\u001B[0m balance_table\n",
      "File \u001B[0;32m~/Documents/GitHub/seniorthesis/src/02_analysis/analysis_utilities.py:111\u001B[0m, in \u001B[0;36mtest_balance\u001B[0;34m(df, analysis, covariate_exploration_df, output_directory)\u001B[0m\n\u001B[1;32m    107\u001B[0m pd\u001B[38;5;241m.\u001B[39moptions\u001B[38;5;241m.\u001B[39mmode\u001B[38;5;241m.\u001B[39mchained_assignment \u001B[38;5;241m=\u001B[39m \u001B[38;5;124m'\u001B[39m\u001B[38;5;124mwarn\u001B[39m\u001B[38;5;124m'\u001B[39m\n\u001B[1;32m    109\u001B[0m \u001B[38;5;66;03m# Calculate propensity scores for every observation.\u001B[39;00m\n\u001B[1;32m    110\u001B[0m df\u001B[38;5;241m.\u001B[39mloc[:, \u001B[38;5;124m'\u001B[39m\u001B[38;5;124mpropensity_score\u001B[39m\u001B[38;5;124m'\u001B[39m] \u001B[38;5;241m=\u001B[39m pd\u001B[38;5;241m.\u001B[39mSeries(\n\u001B[0;32m--> 111\u001B[0m     \u001B[43mpscore_mle\u001B[49m\u001B[43m(\u001B[49m\u001B[43mdf\u001B[49m\u001B[38;5;241;43m.\u001B[39;49m\u001B[43mdropna\u001B[49m\u001B[43m(\u001B[49m\u001B[43msubset\u001B[49m\u001B[38;5;241;43m=\u001B[39;49m\u001B[43mpre_treatment_covariates\u001B[49m\u001B[43m)\u001B[49m\u001B[43m[\u001B[49m\u001B[38;5;124;43m'\u001B[39;49m\u001B[38;5;124;43mjudgment_for_plaintiff\u001B[39;49m\u001B[38;5;124;43m'\u001B[39;49m\u001B[43m]\u001B[49m\u001B[43m,\u001B[49m\n\u001B[1;32m    112\u001B[0m \u001B[43m               \u001B[49m\u001B[43mexog\u001B[49m\u001B[38;5;241;43m=\u001B[39;49m\u001B[43mdf\u001B[49m\u001B[38;5;241;43m.\u001B[39;49m\u001B[43mdropna\u001B[49m\u001B[43m(\u001B[49m\u001B[43msubset\u001B[49m\u001B[38;5;241;43m=\u001B[39;49m\u001B[43mpre_treatment_covariates\u001B[49m\u001B[43m)\u001B[49m\u001B[43m[\u001B[49m\u001B[43mpre_treatment_covariates\u001B[49m\u001B[43m]\u001B[49m\u001B[43m,\u001B[49m\n\u001B[1;32m    113\u001B[0m \u001B[43m               \u001B[49m\u001B[43mweights\u001B[49m\u001B[38;5;241;43m=\u001B[39;49m\u001B[38;5;28;43;01mNone\u001B[39;49;00m\u001B[43m)\u001B[49m[\u001B[38;5;241m0\u001B[39m])  \u001B[38;5;66;03m# Calculate propensity scores.\u001B[39;00m\n\u001B[1;32m    115\u001B[0m \u001B[38;5;66;03m# Build unweighted columns.\u001B[39;00m\n\u001B[1;32m    116\u001B[0m difference_unadjusted \u001B[38;5;241m=\u001B[39m []\n",
      "File \u001B[0;32m~/Documents/GitHub/seniorthesis/venv/lib/python3.9/site-packages/differences/did/pscore_cal.py:23\u001B[0m, in \u001B[0;36mpscore_mle\u001B[0;34m(treated, exog, weights, _freq_weights_flag)\u001B[0m\n\u001B[1;32m     20\u001B[0m \u001B[38;5;28;01melse\u001B[39;00m:\n\u001B[1;32m     21\u001B[0m     weights_arg \u001B[38;5;241m=\u001B[39m {\u001B[38;5;124m\"\u001B[39m\u001B[38;5;124mvar_weights\u001B[39m\u001B[38;5;124m\"\u001B[39m: weights}\n\u001B[0;32m---> 23\u001B[0m ps_mle \u001B[38;5;241m=\u001B[39m \u001B[43msm\u001B[49m\u001B[38;5;241;43m.\u001B[39;49m\u001B[43mGLM\u001B[49m\u001B[43m(\u001B[49m\u001B[43mtreated\u001B[49m\u001B[43m,\u001B[49m\u001B[43m \u001B[49m\u001B[43mexog\u001B[49m\u001B[43m,\u001B[49m\u001B[43m \u001B[49m\u001B[43mfamily\u001B[49m\u001B[38;5;241;43m=\u001B[39;49m\u001B[43msm\u001B[49m\u001B[38;5;241;43m.\u001B[39;49m\u001B[43mfamilies\u001B[49m\u001B[38;5;241;43m.\u001B[39;49m\u001B[43mBinomial\u001B[49m\u001B[43m(\u001B[49m\u001B[43m)\u001B[49m\u001B[43m,\u001B[49m\u001B[43m \u001B[49m\u001B[38;5;241;43m*\u001B[39;49m\u001B[38;5;241;43m*\u001B[39;49m\u001B[43mweights_arg\u001B[49m\u001B[43m)\u001B[49m\u001B[38;5;241m.\u001B[39mfit()\n\u001B[1;32m     25\u001B[0m ps_fit \u001B[38;5;241m=\u001B[39m ps_mle\u001B[38;5;241m.\u001B[39mpredict()\n\u001B[1;32m     26\u001B[0m ps_fit \u001B[38;5;241m=\u001B[39m np\u001B[38;5;241m.\u001B[39mwhere(ps_fit \u001B[38;5;241m>\u001B[39m \u001B[38;5;241m1\u001B[39m \u001B[38;5;241m-\u001B[39m \u001B[38;5;241m1e-16\u001B[39m, \u001B[38;5;241m1\u001B[39m, ps_fit)\n",
      "File \u001B[0;32m~/Documents/GitHub/seniorthesis/venv/lib/python3.9/site-packages/statsmodels/genmod/generalized_linear_model.py:316\u001B[0m, in \u001B[0;36mGLM.__init__\u001B[0;34m(self, endog, exog, family, offset, exposure, freq_weights, var_weights, missing, **kwargs)\u001B[0m\n\u001B[1;32m    313\u001B[0m \u001B[38;5;28mself\u001B[39m\u001B[38;5;241m.\u001B[39mfreq_weights \u001B[38;5;241m=\u001B[39m freq_weights\n\u001B[1;32m    314\u001B[0m \u001B[38;5;28mself\u001B[39m\u001B[38;5;241m.\u001B[39mvar_weights \u001B[38;5;241m=\u001B[39m var_weights\n\u001B[0;32m--> 316\u001B[0m \u001B[38;5;28;43msuper\u001B[39;49m\u001B[43m(\u001B[49m\u001B[43mGLM\u001B[49m\u001B[43m,\u001B[49m\u001B[43m \u001B[49m\u001B[38;5;28;43mself\u001B[39;49m\u001B[43m)\u001B[49m\u001B[38;5;241;43m.\u001B[39;49m\u001B[38;5;21;43m__init__\u001B[39;49m\u001B[43m(\u001B[49m\u001B[43mendog\u001B[49m\u001B[43m,\u001B[49m\u001B[43m \u001B[49m\u001B[43mexog\u001B[49m\u001B[43m,\u001B[49m\u001B[43m \u001B[49m\u001B[43mmissing\u001B[49m\u001B[38;5;241;43m=\u001B[39;49m\u001B[43mmissing\u001B[49m\u001B[43m,\u001B[49m\n\u001B[1;32m    317\u001B[0m \u001B[43m                          \u001B[49m\u001B[43moffset\u001B[49m\u001B[38;5;241;43m=\u001B[39;49m\u001B[43moffset\u001B[49m\u001B[43m,\u001B[49m\u001B[43m \u001B[49m\u001B[43mexposure\u001B[49m\u001B[38;5;241;43m=\u001B[39;49m\u001B[43mexposure\u001B[49m\u001B[43m,\u001B[49m\n\u001B[1;32m    318\u001B[0m \u001B[43m                          \u001B[49m\u001B[43mfreq_weights\u001B[49m\u001B[38;5;241;43m=\u001B[39;49m\u001B[43mfreq_weights\u001B[49m\u001B[43m,\u001B[49m\n\u001B[1;32m    319\u001B[0m \u001B[43m                          \u001B[49m\u001B[43mvar_weights\u001B[49m\u001B[38;5;241;43m=\u001B[39;49m\u001B[43mvar_weights\u001B[49m\u001B[43m,\u001B[49m\u001B[43m \u001B[49m\u001B[38;5;241;43m*\u001B[39;49m\u001B[38;5;241;43m*\u001B[39;49m\u001B[43mkwargs\u001B[49m\u001B[43m)\u001B[49m\n\u001B[1;32m    320\u001B[0m \u001B[38;5;28mself\u001B[39m\u001B[38;5;241m.\u001B[39m_check_inputs(family, \u001B[38;5;28mself\u001B[39m\u001B[38;5;241m.\u001B[39moffset, \u001B[38;5;28mself\u001B[39m\u001B[38;5;241m.\u001B[39mexposure, \u001B[38;5;28mself\u001B[39m\u001B[38;5;241m.\u001B[39mendog,\n\u001B[1;32m    321\u001B[0m                    \u001B[38;5;28mself\u001B[39m\u001B[38;5;241m.\u001B[39mfreq_weights, \u001B[38;5;28mself\u001B[39m\u001B[38;5;241m.\u001B[39mvar_weights)\n\u001B[1;32m    322\u001B[0m \u001B[38;5;28;01mif\u001B[39;00m offset \u001B[38;5;129;01mis\u001B[39;00m \u001B[38;5;28;01mNone\u001B[39;00m:\n",
      "File \u001B[0;32m~/Documents/GitHub/seniorthesis/venv/lib/python3.9/site-packages/statsmodels/base/model.py:267\u001B[0m, in \u001B[0;36mLikelihoodModel.__init__\u001B[0;34m(self, endog, exog, **kwargs)\u001B[0m\n\u001B[1;32m    266\u001B[0m \u001B[38;5;28;01mdef\u001B[39;00m \u001B[38;5;21m__init__\u001B[39m(\u001B[38;5;28mself\u001B[39m, endog, exog\u001B[38;5;241m=\u001B[39m\u001B[38;5;28;01mNone\u001B[39;00m, \u001B[38;5;241m*\u001B[39m\u001B[38;5;241m*\u001B[39mkwargs):\n\u001B[0;32m--> 267\u001B[0m     \u001B[38;5;28;43msuper\u001B[39;49m\u001B[43m(\u001B[49m\u001B[43m)\u001B[49m\u001B[38;5;241;43m.\u001B[39;49m\u001B[38;5;21;43m__init__\u001B[39;49m\u001B[43m(\u001B[49m\u001B[43mendog\u001B[49m\u001B[43m,\u001B[49m\u001B[43m \u001B[49m\u001B[43mexog\u001B[49m\u001B[43m,\u001B[49m\u001B[43m \u001B[49m\u001B[38;5;241;43m*\u001B[39;49m\u001B[38;5;241;43m*\u001B[39;49m\u001B[43mkwargs\u001B[49m\u001B[43m)\u001B[49m\n\u001B[1;32m    268\u001B[0m     \u001B[38;5;28mself\u001B[39m\u001B[38;5;241m.\u001B[39minitialize()\n",
      "File \u001B[0;32m~/Documents/GitHub/seniorthesis/venv/lib/python3.9/site-packages/statsmodels/base/model.py:92\u001B[0m, in \u001B[0;36mModel.__init__\u001B[0;34m(self, endog, exog, **kwargs)\u001B[0m\n\u001B[1;32m     90\u001B[0m missing \u001B[38;5;241m=\u001B[39m kwargs\u001B[38;5;241m.\u001B[39mpop(\u001B[38;5;124m'\u001B[39m\u001B[38;5;124mmissing\u001B[39m\u001B[38;5;124m'\u001B[39m, \u001B[38;5;124m'\u001B[39m\u001B[38;5;124mnone\u001B[39m\u001B[38;5;124m'\u001B[39m)\n\u001B[1;32m     91\u001B[0m hasconst \u001B[38;5;241m=\u001B[39m kwargs\u001B[38;5;241m.\u001B[39mpop(\u001B[38;5;124m'\u001B[39m\u001B[38;5;124mhasconst\u001B[39m\u001B[38;5;124m'\u001B[39m, \u001B[38;5;28;01mNone\u001B[39;00m)\n\u001B[0;32m---> 92\u001B[0m \u001B[38;5;28mself\u001B[39m\u001B[38;5;241m.\u001B[39mdata \u001B[38;5;241m=\u001B[39m \u001B[38;5;28;43mself\u001B[39;49m\u001B[38;5;241;43m.\u001B[39;49m\u001B[43m_handle_data\u001B[49m\u001B[43m(\u001B[49m\u001B[43mendog\u001B[49m\u001B[43m,\u001B[49m\u001B[43m \u001B[49m\u001B[43mexog\u001B[49m\u001B[43m,\u001B[49m\u001B[43m \u001B[49m\u001B[43mmissing\u001B[49m\u001B[43m,\u001B[49m\u001B[43m \u001B[49m\u001B[43mhasconst\u001B[49m\u001B[43m,\u001B[49m\n\u001B[1;32m     93\u001B[0m \u001B[43m                              \u001B[49m\u001B[38;5;241;43m*\u001B[39;49m\u001B[38;5;241;43m*\u001B[39;49m\u001B[43mkwargs\u001B[49m\u001B[43m)\u001B[49m\n\u001B[1;32m     94\u001B[0m \u001B[38;5;28mself\u001B[39m\u001B[38;5;241m.\u001B[39mk_constant \u001B[38;5;241m=\u001B[39m \u001B[38;5;28mself\u001B[39m\u001B[38;5;241m.\u001B[39mdata\u001B[38;5;241m.\u001B[39mk_constant\n\u001B[1;32m     95\u001B[0m \u001B[38;5;28mself\u001B[39m\u001B[38;5;241m.\u001B[39mexog \u001B[38;5;241m=\u001B[39m \u001B[38;5;28mself\u001B[39m\u001B[38;5;241m.\u001B[39mdata\u001B[38;5;241m.\u001B[39mexog\n",
      "File \u001B[0;32m~/Documents/GitHub/seniorthesis/venv/lib/python3.9/site-packages/statsmodels/base/model.py:132\u001B[0m, in \u001B[0;36mModel._handle_data\u001B[0;34m(self, endog, exog, missing, hasconst, **kwargs)\u001B[0m\n\u001B[1;32m    131\u001B[0m \u001B[38;5;28;01mdef\u001B[39;00m \u001B[38;5;21m_handle_data\u001B[39m(\u001B[38;5;28mself\u001B[39m, endog, exog, missing, hasconst, \u001B[38;5;241m*\u001B[39m\u001B[38;5;241m*\u001B[39mkwargs):\n\u001B[0;32m--> 132\u001B[0m     data \u001B[38;5;241m=\u001B[39m \u001B[43mhandle_data\u001B[49m\u001B[43m(\u001B[49m\u001B[43mendog\u001B[49m\u001B[43m,\u001B[49m\u001B[43m \u001B[49m\u001B[43mexog\u001B[49m\u001B[43m,\u001B[49m\u001B[43m \u001B[49m\u001B[43mmissing\u001B[49m\u001B[43m,\u001B[49m\u001B[43m \u001B[49m\u001B[43mhasconst\u001B[49m\u001B[43m,\u001B[49m\u001B[43m \u001B[49m\u001B[38;5;241;43m*\u001B[39;49m\u001B[38;5;241;43m*\u001B[39;49m\u001B[43mkwargs\u001B[49m\u001B[43m)\u001B[49m\n\u001B[1;32m    133\u001B[0m     \u001B[38;5;66;03m# kwargs arrays could have changed, easier to just attach here\u001B[39;00m\n\u001B[1;32m    134\u001B[0m     \u001B[38;5;28;01mfor\u001B[39;00m key \u001B[38;5;129;01min\u001B[39;00m kwargs:\n",
      "File \u001B[0;32m~/Documents/GitHub/seniorthesis/venv/lib/python3.9/site-packages/statsmodels/base/data.py:700\u001B[0m, in \u001B[0;36mhandle_data\u001B[0;34m(endog, exog, missing, hasconst, **kwargs)\u001B[0m\n\u001B[1;32m    697\u001B[0m     exog \u001B[38;5;241m=\u001B[39m np\u001B[38;5;241m.\u001B[39masarray(exog)\n\u001B[1;32m    699\u001B[0m klass \u001B[38;5;241m=\u001B[39m handle_data_class_factory(endog, exog)\n\u001B[0;32m--> 700\u001B[0m \u001B[38;5;28;01mreturn\u001B[39;00m \u001B[43mklass\u001B[49m\u001B[43m(\u001B[49m\u001B[43mendog\u001B[49m\u001B[43m,\u001B[49m\u001B[43m \u001B[49m\u001B[43mexog\u001B[49m\u001B[38;5;241;43m=\u001B[39;49m\u001B[43mexog\u001B[49m\u001B[43m,\u001B[49m\u001B[43m \u001B[49m\u001B[43mmissing\u001B[49m\u001B[38;5;241;43m=\u001B[39;49m\u001B[43mmissing\u001B[49m\u001B[43m,\u001B[49m\u001B[43m \u001B[49m\u001B[43mhasconst\u001B[49m\u001B[38;5;241;43m=\u001B[39;49m\u001B[43mhasconst\u001B[49m\u001B[43m,\u001B[49m\n\u001B[1;32m    701\u001B[0m \u001B[43m             \u001B[49m\u001B[38;5;241;43m*\u001B[39;49m\u001B[38;5;241;43m*\u001B[39;49m\u001B[43mkwargs\u001B[49m\u001B[43m)\u001B[49m\n",
      "File \u001B[0;32m~/Documents/GitHub/seniorthesis/venv/lib/python3.9/site-packages/statsmodels/base/data.py:88\u001B[0m, in \u001B[0;36mModelData.__init__\u001B[0;34m(self, endog, exog, missing, hasconst, **kwargs)\u001B[0m\n\u001B[1;32m     86\u001B[0m \u001B[38;5;28mself\u001B[39m\u001B[38;5;241m.\u001B[39mconst_idx \u001B[38;5;241m=\u001B[39m \u001B[38;5;28;01mNone\u001B[39;00m\n\u001B[1;32m     87\u001B[0m \u001B[38;5;28mself\u001B[39m\u001B[38;5;241m.\u001B[39mk_constant \u001B[38;5;241m=\u001B[39m \u001B[38;5;241m0\u001B[39m\n\u001B[0;32m---> 88\u001B[0m \u001B[38;5;28;43mself\u001B[39;49m\u001B[38;5;241;43m.\u001B[39;49m\u001B[43m_handle_constant\u001B[49m\u001B[43m(\u001B[49m\u001B[43mhasconst\u001B[49m\u001B[43m)\u001B[49m\n\u001B[1;32m     89\u001B[0m \u001B[38;5;28mself\u001B[39m\u001B[38;5;241m.\u001B[39m_check_integrity()\n\u001B[1;32m     90\u001B[0m \u001B[38;5;28mself\u001B[39m\u001B[38;5;241m.\u001B[39m_cache \u001B[38;5;241m=\u001B[39m {}\n",
      "File \u001B[0;32m~/Documents/GitHub/seniorthesis/venv/lib/python3.9/site-packages/statsmodels/base/data.py:178\u001B[0m, in \u001B[0;36mModelData._handle_constant\u001B[0;34m(self, hasconst)\u001B[0m\n\u001B[1;32m    175\u001B[0m augmented_exog \u001B[38;5;241m=\u001B[39m np\u001B[38;5;241m.\u001B[39mcolumn_stack(\n\u001B[1;32m    176\u001B[0m             (np\u001B[38;5;241m.\u001B[39mones(\u001B[38;5;28mself\u001B[39m\u001B[38;5;241m.\u001B[39mexog\u001B[38;5;241m.\u001B[39mshape[\u001B[38;5;241m0\u001B[39m]), \u001B[38;5;28mself\u001B[39m\u001B[38;5;241m.\u001B[39mexog))\n\u001B[1;32m    177\u001B[0m rank_augm \u001B[38;5;241m=\u001B[39m np\u001B[38;5;241m.\u001B[39mlinalg\u001B[38;5;241m.\u001B[39mmatrix_rank(augmented_exog)\n\u001B[0;32m--> 178\u001B[0m rank_orig \u001B[38;5;241m=\u001B[39m \u001B[43mnp\u001B[49m\u001B[38;5;241;43m.\u001B[39;49m\u001B[43mlinalg\u001B[49m\u001B[38;5;241;43m.\u001B[39;49m\u001B[43mmatrix_rank\u001B[49m\u001B[43m(\u001B[49m\u001B[38;5;28;43mself\u001B[39;49m\u001B[38;5;241;43m.\u001B[39;49m\u001B[43mexog\u001B[49m\u001B[43m)\u001B[49m\n\u001B[1;32m    179\u001B[0m \u001B[38;5;28mself\u001B[39m\u001B[38;5;241m.\u001B[39mk_constant \u001B[38;5;241m=\u001B[39m \u001B[38;5;28mint\u001B[39m(rank_orig \u001B[38;5;241m==\u001B[39m rank_augm)\n\u001B[1;32m    180\u001B[0m \u001B[38;5;28mself\u001B[39m\u001B[38;5;241m.\u001B[39mconst_idx \u001B[38;5;241m=\u001B[39m \u001B[38;5;28;01mNone\u001B[39;00m\n",
      "File \u001B[0;32m<__array_function__ internals>:200\u001B[0m, in \u001B[0;36mmatrix_rank\u001B[0;34m(*args, **kwargs)\u001B[0m\n",
      "File \u001B[0;32m~/Documents/GitHub/seniorthesis/venv/lib/python3.9/site-packages/numpy/linalg/linalg.py:1885\u001B[0m, in \u001B[0;36mmatrix_rank\u001B[0;34m(A, tol, hermitian)\u001B[0m\n\u001B[1;32m   1883\u001B[0m S \u001B[38;5;241m=\u001B[39m svd(A, compute_uv\u001B[38;5;241m=\u001B[39m\u001B[38;5;28;01mFalse\u001B[39;00m, hermitian\u001B[38;5;241m=\u001B[39mhermitian)\n\u001B[1;32m   1884\u001B[0m \u001B[38;5;28;01mif\u001B[39;00m tol \u001B[38;5;129;01mis\u001B[39;00m \u001B[38;5;28;01mNone\u001B[39;00m:\n\u001B[0;32m-> 1885\u001B[0m     tol \u001B[38;5;241m=\u001B[39m \u001B[43mS\u001B[49m\u001B[38;5;241;43m.\u001B[39;49m\u001B[43mmax\u001B[49m\u001B[43m(\u001B[49m\u001B[43maxis\u001B[49m\u001B[38;5;241;43m=\u001B[39;49m\u001B[38;5;241;43m-\u001B[39;49m\u001B[38;5;241;43m1\u001B[39;49m\u001B[43m,\u001B[49m\u001B[43m \u001B[49m\u001B[43mkeepdims\u001B[49m\u001B[38;5;241;43m=\u001B[39;49m\u001B[38;5;28;43;01mTrue\u001B[39;49;00m\u001B[43m)\u001B[49m \u001B[38;5;241m*\u001B[39m \u001B[38;5;28mmax\u001B[39m(A\u001B[38;5;241m.\u001B[39mshape[\u001B[38;5;241m-\u001B[39m\u001B[38;5;241m2\u001B[39m:]) \u001B[38;5;241m*\u001B[39m finfo(S\u001B[38;5;241m.\u001B[39mdtype)\u001B[38;5;241m.\u001B[39meps\n\u001B[1;32m   1886\u001B[0m \u001B[38;5;28;01melse\u001B[39;00m:\n\u001B[1;32m   1887\u001B[0m     tol \u001B[38;5;241m=\u001B[39m asarray(tol)[\u001B[38;5;241m.\u001B[39m\u001B[38;5;241m.\u001B[39m\u001B[38;5;241m.\u001B[39m, newaxis]\n",
      "File \u001B[0;32m~/Documents/GitHub/seniorthesis/venv/lib/python3.9/site-packages/numpy/core/_methods.py:41\u001B[0m, in \u001B[0;36m_amax\u001B[0;34m(a, axis, out, keepdims, initial, where)\u001B[0m\n\u001B[1;32m     39\u001B[0m \u001B[38;5;28;01mdef\u001B[39;00m \u001B[38;5;21m_amax\u001B[39m(a, axis\u001B[38;5;241m=\u001B[39m\u001B[38;5;28;01mNone\u001B[39;00m, out\u001B[38;5;241m=\u001B[39m\u001B[38;5;28;01mNone\u001B[39;00m, keepdims\u001B[38;5;241m=\u001B[39m\u001B[38;5;28;01mFalse\u001B[39;00m,\n\u001B[1;32m     40\u001B[0m           initial\u001B[38;5;241m=\u001B[39m_NoValue, where\u001B[38;5;241m=\u001B[39m\u001B[38;5;28;01mTrue\u001B[39;00m):\n\u001B[0;32m---> 41\u001B[0m     \u001B[38;5;28;01mreturn\u001B[39;00m \u001B[43mumr_maximum\u001B[49m\u001B[43m(\u001B[49m\u001B[43ma\u001B[49m\u001B[43m,\u001B[49m\u001B[43m \u001B[49m\u001B[43maxis\u001B[49m\u001B[43m,\u001B[49m\u001B[43m \u001B[49m\u001B[38;5;28;43;01mNone\u001B[39;49;00m\u001B[43m,\u001B[49m\u001B[43m \u001B[49m\u001B[43mout\u001B[49m\u001B[43m,\u001B[49m\u001B[43m \u001B[49m\u001B[43mkeepdims\u001B[49m\u001B[43m,\u001B[49m\u001B[43m \u001B[49m\u001B[43minitial\u001B[49m\u001B[43m,\u001B[49m\u001B[43m \u001B[49m\u001B[43mwhere\u001B[49m\u001B[43m)\u001B[49m\n",
      "\u001B[0;31mValueError\u001B[0m: zero-size array to reduction operation maximum which has no identity"
     ]
    }
   ],
   "source": [
    "balance_table, pre_treatment_covariates = test_balance(df, analysis, covariates_exploration_df, OUTPUT_TABLES)\n",
    "balance_table"
   ],
   "metadata": {
    "collapsed": false
   }
  },
  {
   "cell_type": "code",
   "execution_count": 7,
   "outputs": [
    {
     "ename": "NameError",
     "evalue": "name 'pre_treatment_covariates' is not defined",
     "output_type": "error",
     "traceback": [
      "\u001B[0;31m---------------------------------------------------------------------------\u001B[0m",
      "\u001B[0;31mNameError\u001B[0m                                 Traceback (most recent call last)",
      "Cell \u001B[0;32mIn[7], line 9\u001B[0m\n\u001B[1;32m      3\u001B[0m treatment_month_variable \u001B[38;5;241m=\u001B[39m treatment_date_variable\u001B[38;5;241m.\u001B[39mreplace(\u001B[38;5;124m'\u001B[39m\u001B[38;5;124mdate\u001B[39m\u001B[38;5;124m'\u001B[39m, \u001B[38;5;124m'\u001B[39m\u001B[38;5;124mmonth\u001B[39m\u001B[38;5;124m'\u001B[39m)\n\u001B[1;32m      5\u001B[0m \u001B[38;5;66;03m# # Generate indicators for missing data.\u001B[39;00m\n\u001B[1;32m      6\u001B[0m \u001B[38;5;66;03m# add_missing_indicators(df, ['rent_twobed2015'], pre_treatment_covariates)\u001B[39;00m\n\u001B[1;32m      7\u001B[0m \n\u001B[1;32m      8\u001B[0m \u001B[38;5;66;03m# Prepare df for use with the differences package.\u001B[39;00m\n\u001B[0;32m----> 9\u001B[0m df \u001B[38;5;241m=\u001B[39m prepare_df(df, analysis, treatment_date_variable, \u001B[43mpre_treatment_covariates\u001B[49m, value_vars_crime, month_to_int_dictionary)\n",
      "\u001B[0;31mNameError\u001B[0m: name 'pre_treatment_covariates' is not defined"
     ]
    }
   ],
   "source": [
    "# Store treatment date variable -- may be either file_date or latest_docket_date -- and drop rows where missing.\n",
    "treatment_date_variable = 'file_date'\n",
    "treatment_month_variable = treatment_date_variable.replace('date', 'month')\n",
    "\n",
    "# Generate indicators for missing data.\n",
    "add_missing_indicators(df, ['rent_twobed2015'], pre_treatment_covariates)\n",
    "\n",
    "# Prepare df for use with the differences package.\n",
    "df = prepare_df(df, analysis, treatment_date_variable, pre_treatment_covariates, value_vars_crime, month_to_int_dictionary)"
   ],
   "metadata": {
    "collapsed": false
   }
  },
  {
   "cell_type": "code",
   "execution_count": 6,
   "outputs": [
    {
     "ename": "ValueError",
     "evalue": "DataFrame must be MultiIndex with two levels: entity & time",
     "output_type": "error",
     "traceback": [
      "\u001B[0;31m---------------------------------------------------------------------------\u001B[0m",
      "\u001B[0;31mValueError\u001B[0m                                Traceback (most recent call last)",
      "Cell \u001B[0;32mIn[6], line 2\u001B[0m\n\u001B[1;32m      1\u001B[0m \u001B[38;5;66;03m# Run DiD without conditioning on covariates.\u001B[39;00m\n\u001B[0;32m----> 2\u001B[0m att_gt \u001B[38;5;241m=\u001B[39m \u001B[43mATTgt\u001B[49m\u001B[43m(\u001B[49m\u001B[43mdata\u001B[49m\u001B[38;5;241;43m=\u001B[39;49m\u001B[43mdf\u001B[49m\u001B[43m,\u001B[49m\u001B[43m \u001B[49m\u001B[43mcohort_name\u001B[49m\u001B[38;5;241;43m=\u001B[39;49m\u001B[43mtreatment_month_variable\u001B[49m\u001B[43m,\u001B[49m\u001B[43m \u001B[49m\u001B[43mfreq\u001B[49m\u001B[38;5;241;43m=\u001B[39;49m\u001B[38;5;124;43m'\u001B[39;49m\u001B[38;5;124;43mM\u001B[39;49m\u001B[38;5;124;43m'\u001B[39;49m\u001B[43m)\u001B[49m\n\u001B[1;32m      3\u001B[0m result \u001B[38;5;241m=\u001B[39m att_gt\u001B[38;5;241m.\u001B[39mfit(formula\u001B[38;5;241m=\u001B[39manalysis, control_group\u001B[38;5;241m=\u001B[39m\u001B[38;5;124m'\u001B[39m\u001B[38;5;124mnever_treated\u001B[39m\u001B[38;5;124m'\u001B[39m, n_jobs\u001B[38;5;241m=\u001B[39m\u001B[38;5;241m-\u001B[39m\u001B[38;5;241m1\u001B[39m)\n",
      "File \u001B[0;32m~/Documents/GitHub/seniorthesis/venv/lib/python3.9/site-packages/differences/attgt/attgt.py:114\u001B[0m, in \u001B[0;36mATTgt.__init__\u001B[0;34m(self, data, cohort_name, strata_name, base_period, anticipation, freq)\u001B[0m\n\u001B[1;32m    111\u001B[0m \u001B[38;5;28mself\u001B[39m\u001B[38;5;241m.\u001B[39manticipation \u001B[38;5;241m=\u001B[39m anticipation\n\u001B[1;32m    112\u001B[0m \u001B[38;5;28mself\u001B[39m\u001B[38;5;241m.\u001B[39mcopy_data \u001B[38;5;241m=\u001B[39m \u001B[38;5;28;01mTrue\u001B[39;00m  \u001B[38;5;66;03m# maybe make an option to the user\u001B[39;00m\n\u001B[0;32m--> 114\u001B[0m \u001B[38;5;28;43mself\u001B[39;49m\u001B[38;5;241;43m.\u001B[39;49m\u001B[43mdata\u001B[49m \u001B[38;5;241m=\u001B[39m data\n\u001B[1;32m    116\u001B[0m \u001B[38;5;28mself\u001B[39m\u001B[38;5;241m.\u001B[39m_data_matrix \u001B[38;5;241m=\u001B[39m \u001B[38;5;28;01mNone\u001B[39;00m\n\u001B[1;32m    118\u001B[0m \u001B[38;5;28mself\u001B[39m\u001B[38;5;241m.\u001B[39m_result_dict \u001B[38;5;241m=\u001B[39m \u001B[38;5;28;01mNone\u001B[39;00m\n",
      "File \u001B[0;32m~/Documents/GitHub/seniorthesis/venv/lib/python3.9/site-packages/differences/tools/panel_validation.py:53\u001B[0m, in \u001B[0;36m_ValiDIData.__set__\u001B[0;34m(self, instance, data)\u001B[0m\n\u001B[1;32m     50\u001B[0m \u001B[38;5;66;03m# ------------------- multi-index: too may ---------------------\u001B[39;00m\n\u001B[1;32m     52\u001B[0m \u001B[38;5;28;01mif\u001B[39;00m data\u001B[38;5;241m.\u001B[39mindex\u001B[38;5;241m.\u001B[39mnlevels \u001B[38;5;241m!=\u001B[39m \u001B[38;5;241m2\u001B[39m:\n\u001B[0;32m---> 53\u001B[0m     \u001B[38;5;28;01mraise\u001B[39;00m \u001B[38;5;167;01mValueError\u001B[39;00m(\n\u001B[1;32m     54\u001B[0m         \u001B[38;5;124m\"\u001B[39m\u001B[38;5;124mDataFrame must be MultiIndex with two levels: entity & time\u001B[39m\u001B[38;5;124m\"\u001B[39m\n\u001B[1;32m     55\u001B[0m     )\n\u001B[1;32m     57\u001B[0m \u001B[38;5;66;03m# ----------------- multi-index: entity - time -----------------\u001B[39;00m\n\u001B[1;32m     59\u001B[0m \u001B[38;5;28;01melif\u001B[39;00m data\u001B[38;5;241m.\u001B[39mindex\u001B[38;5;241m.\u001B[39mnlevels \u001B[38;5;241m==\u001B[39m \u001B[38;5;241m2\u001B[39m:\n",
      "\u001B[0;31mValueError\u001B[0m: DataFrame must be MultiIndex with two levels: entity & time"
     ]
    }
   ],
   "source": [
    "# Run DiD without conditioning on covariates.\n",
    "att_gt = ATTgt(data=df, cohort_name=treatment_month_variable, freq='M')\n",
    "result = att_gt.fit(formula=analysis, control_group='never_treated', n_jobs=-1)"
   ],
   "metadata": {
    "collapsed": false
   }
  },
  {
   "cell_type": "code",
   "execution_count": null,
   "outputs": [],
   "source": [
    "# Plot unconditional ATT(t-g)s on a long horizon.\n",
    "aggregate_by_event_time_and_plot(att_gt, OUTPUT_FIGURES, \"att_gt_unconditional_event_study_long_horizon.png\",\n",
    "                                 start_period=-12, end_period=20,\n",
    "                                 title=\"Unconditional Estimates of ATT(g, t), Aggregated by Month Relative to Treatment \\n (Long Horizon)\",\n",
    "                                 treatment_month_variable=treatment_month_variable, df=df)"
   ],
   "metadata": {
    "collapsed": false
   }
  },
  {
   "cell_type": "code",
   "execution_count": null,
   "outputs": [],
   "source": [
    "# Plot unconditional ATT(t)s.\n",
    "aggregate_by_time_and_plot(att_gt, int_to_month_dictionary, OUTPUT_FIGURES, \"att_gt_unconditional_time.png\",\n",
    "                           title=\"Unconditional Estimates of ATT(g, t), Aggregated by Month\")"
   ],
   "metadata": {
    "collapsed": false
   }
  },
  {
   "cell_type": "code",
   "execution_count": null,
   "outputs": [],
   "source": [
    "# Run DiD conditional on covariates.\n",
    "att_gt = ATTgt(data=df, cohort_name=treatment_month_variable, freq='M')\n",
    "formula = f'{analysis} ~ ' + '+'.join(pre_treatment_covariates)\n",
    "result = att_gt.fit(formula=formula, control_group='never_treated', n_jobs=-1)"
   ],
   "metadata": {
    "collapsed": false
   }
  },
  {
   "cell_type": "code",
   "execution_count": null,
   "outputs": [],
   "source": [
    "# Plot D.R. ATT(t-g)s on a long horizon.\n",
    "aggregate_by_event_time_and_plot(att_gt, OUTPUT_FIGURES, \"att_gt_dr_event_study_long_horizon.png\", start_period=-12,\n",
    "                                 end_period=20,\n",
    "                                 title=\"D.R. Estimates of ATT(g, t), Aggregated by Month Relative to Treatment \\n (Long Horizon)\",\n",
    "                                 treatment_month_variable=treatment_month_variable, df=df)"
   ],
   "metadata": {
    "collapsed": false
   }
  },
  {
   "cell_type": "code",
   "execution_count": null,
   "outputs": [],
   "source": [
    "# Plot D.R. ATT(t)s.\n",
    "aggregate_by_time_and_plot(att_gt, int_to_month_dictionary, OUTPUT_FIGURES, \"att_gt_dr_time.png\",\n",
    "                           title=\"D.R. Estimates of ATT(g, t), Aggregated by Month\")"
   ],
   "metadata": {
    "collapsed": false
   }
  },
  {
   "cell_type": "code",
   "execution_count": null,
   "outputs": [],
   "source": [],
   "metadata": {
    "collapsed": false
   }
  }
 ],
 "metadata": {
  "kernelspec": {
   "name": "venv",
   "language": "python",
   "display_name": "seniorthesis"
  },
  "language_info": {
   "codemirror_mode": {
    "name": "ipython",
    "version": 2
   },
   "file_extension": ".py",
   "mimetype": "text/x-python",
   "name": "python",
   "nbconvert_exporter": "python",
   "pygments_lexer": "ipython2",
   "version": "2.7.6"
  }
 },
 "nbformat": 4,
 "nbformat_minor": 0
}
