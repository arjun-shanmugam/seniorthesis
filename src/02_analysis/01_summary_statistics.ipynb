{
 "cells": [
  {
   "cell_type": "markdown",
   "id": "ed69fda0",
   "metadata": {},
   "source": [
    "# 01_summary_statistics.ipynb"
   ]
  },
  {
   "cell_type": "code",
   "execution_count": 9,
   "id": "68e38172",
   "metadata": {},
   "outputs": [
    {
     "name": "stderr",
     "output_type": "stream",
     "text": [
      "/var/folders/lm/j45l41m16cs8sd5r9sh4gj6w0000gn/T/ipykernel_67146/795176550.py:26: DtypeWarning: Columns (149,151) have mixed types. Specify dtype option on import or set low_memory=False.\n",
      "  unrestricted_df = pd.read_csv(INPUT_DATA_UNRESTRICTED)\n"
     ]
    }
   ],
   "source": [
    "import contextily as cx\n",
    "import figure_utilities\n",
    "import figure_and_table_constants\n",
    "from analysis_utilities import produce_summary_statistics\n",
    "import geopandas as gpd\n",
    "import matplotlib.pyplot as plt\n",
    "import matplotlib\n",
    "from matplotlib.patches import Patch\n",
    "from matplotlib.lines import Line2D\n",
    "\n",
    "plt.rcParams[\"figure.dpi\"] = 300\n",
    "plt.rcParams['savefig.dpi'] = 300\n",
    "import numpy as np\n",
    "import os\n",
    "import pandas as pd\n",
    "from scipy import stats\n",
    "import xyzservices.providers as xyz\n",
    "\n",
    "# Store paths.\n",
    "INPUT_DATA_UNRESTRICTED = \"/Users/arjunshanmugam/Documents/GitHub/seniorthesis/data/03_cleaned/unrestricted.csv\"\n",
    "INPUT_DATA_RESTRICTED = \"/Users/arjunshanmugam/Documents/GitHub/seniorthesis/data/03_cleaned/restricted.csv\"\n",
    "OUTPUT_TABLES = \"/Users/arjunshanmugam/Documents/GitHub/seniorthesis/output/summary_statistics/tables\"\n",
    "OUTPUT_FIGURES = \"/Users/arjunshanmugam/Documents/GitHub/seniorthesis/output/summary_statistics/figures\"\n",
    "\n",
    "# Read unrestricted dataset into memory.\n",
    "unrestricted_df = pd.read_csv(INPUT_DATA_UNRESTRICTED)\n",
    "\n",
    "# Drop malformed addresses.\n",
    "unrestricted_df = unrestricted_df.loc[~unrestricted_df['property_address_full'].str.contains(\"span, span span\"), :]"
   ]
  },
  {
   "cell_type": "code",
   "execution_count": null,
   "id": "25987202",
   "metadata": {
    "pycharm": {
     "is_executing": true
    }
   },
   "outputs": [],
   "source": [
    "# Plot evictions spatially.\n",
    "unrestricted_gdf = gpd.GeoDataFrame(unrestricted_df,\n",
    "                                    geometry=gpd.points_from_xy(unrestricted_df['longitude'],\n",
    "                                                                unrestricted_df['latitude']))\n",
    "unrestricted_gdf = unrestricted_gdf.set_crs(\"EPSG:4326\")\n",
    "unrestricted_gdf = unrestricted_gdf.to_crs(\"EPSG:3857\")\n",
    "fig, ax = plt.subplots(figsize=(7, 9))\n",
    "ax.set_yticklabels([])\n",
    "ax.set_yticks([])\n",
    "ax.set_xticklabels([])\n",
    "ax.set_xticks([])\n",
    "unrestricted_gdf.plot(ax=ax,\n",
    "                      color=figure_and_table_constants.Colors.P3,\n",
    "                      markersize=0.05,\n",
    "                      alpha=0.5)\n",
    "cx.add_basemap(ax=ax, crs=\"EPSG:3857\", source=cx.providers.Stamen.TonerLite)\n",
    "plt.show()\n",
    "figure_utilities.save_figure_and_close(fig, os.path.join(OUTPUT_FIGURES, \"evictions_map.png\"))"
   ]
  },
  {
   "cell_type": "code",
   "execution_count": null,
   "id": "227967aa",
   "metadata": {
    "pycharm": {
     "is_executing": true
    }
   },
   "outputs": [],
   "source": [
    "# Plot the number of eviction filings over time.\n",
    "unrestricted_df.loc[:, 'last_day_of_file_month'] = (pd.to_datetime(unrestricted_df['file_date']) +\n",
    "                                                    pd.tseries.offsets.MonthEnd(0))\n",
    "filings_per_month = unrestricted_df.groupby('last_day_of_file_month')['case_number'].count()\n",
    "\n",
    "# Plot eviction filing counts.\n",
    "fig, ax = plt.subplots()\n",
    "filings_per_month.plot(ax=ax, kind='line', color=figure_and_table_constants.Colors.SUMMARY_STATISTICS_COLOR,\n",
    "                       zorder=100)\n",
    "ax.set_title(\"Prevalence of Eviction Filings Over Time in Massachusetts\")\n",
    "ax.set_ylabel(\"Number of Evictions\")\n",
    "ax.set_xlabel(\"Month\")\n",
    "ax.grid(True)\n",
    "\n",
    "# Plot the beginning and end of the CARES act moratorium.\n",
    "CARES_beginning = pd.Timestamp(\"2020-03-27\")\n",
    "CARES_end = pd.Timestamp(\"2020-08-23\")\n",
    "CARES_color = figure_and_table_constants.Colors.P1\n",
    "figure_utilities.plot_labeled_vline(ax=ax, x=CARES_beginning, text='', color=CARES_color)\n",
    "figure_utilities.plot_labeled_vline(ax=ax, x=CARES_end, text='', color=CARES_color)\n",
    "ax.axvspan(CARES_beginning, CARES_end, color=CARES_color, alpha=0.5)\n",
    "\n",
    "# Plot the beginning and end of the CDC moratorium.\n",
    "CDC_beginning = pd.Timestamp(\"2020-09-04\")\n",
    "CDC_end = pd.Timestamp(\"2021-08-26\")\n",
    "CDC_color = figure_and_table_constants.Colors.P2\n",
    "figure_utilities.plot_labeled_vline(ax=ax, x=CDC_beginning, text='', color=CDC_color)\n",
    "figure_utilities.plot_labeled_vline(ax=ax, x=CDC_end, text='', color=CDC_color)\n",
    "ax.axvspan(CDC_beginning, CDC_end, color=CDC_color, alpha=0.5)\n",
    "\n",
    "# Plot the beginning and end of the MA state moratorium.\n",
    "MA_beginning = pd.Timestamp(\"2020-04-20\")\n",
    "MA_end = pd.Timestamp(\"2020-10-17\")\n",
    "MA_color = figure_and_table_constants.Colors.P7\n",
    "figure_utilities.plot_labeled_vline(ax=ax, x=MA_beginning, text='', color=MA_color)\n",
    "figure_utilities.plot_labeled_vline(ax=ax, x=MA_end, text='', color=MA_color)\n",
    "ax.axvspan(MA_beginning, MA_end, color=MA_color, alpha=0.5)\n",
    "\n",
    "# Build legend.\n",
    "legend_elements = [Line2D([0], [0], color='black', label='Evictions per Month'),\n",
    "                   Patch(facecolor=CARES_color, edgecolor=CARES_color, label='CARES Act Eviction Moratorium',\n",
    "                         alpha=0.5, linestyle='--'),\n",
    "                   Patch(facecolor=MA_color, edgecolor=MA_color, label='MA Bill H.4647', alpha=0.5,\n",
    "                         linestyle='--'),\n",
    "                   Patch(facecolor=CDC_color, edgecolor=CDC_color, label='CDC Eviction Moratorium', alpha=0.5,\n",
    "                         linestyle='--')]\n",
    "ax.legend(handles=legend_elements, bbox_to_anchor=(1.05, 1.0), loc='upper left')\n",
    "plt.show()\n",
    "figure_utilities.save_figure_and_close(fig, os.path.join(OUTPUT_FIGURES, \"filings_over_time.png\"))"
   ]
  },
  {
   "cell_type": "code",
   "execution_count": null,
   "id": "64d621c7",
   "metadata": {
    "pycharm": {
     "is_executing": true
    }
   },
   "outputs": [],
   "source": [
    "# Produce summary statistics for unrestricted sample.\n",
    "treatment_date_variable = 'file_date'\n",
    "summary_statistics_unrestricted = produce_summary_statistics(unrestricted_df, treatment_date_variable=treatment_date_variable)\n",
    "\n",
    "# Rename rows.\n",
    "variable_names = summary_statistics_unrestricted.index.get_level_values(1)\n",
    "variable_display_names_dict = {'for_cause': \"For cause\", 'no_cause': \"No cause\", 'non_payment': \"Non-payment of rent\",  # Panel A\n",
    "                               'case_duration': \"Case duration\", 'defaulted': \"Case defaulted\", 'heard': \"Case heard\",  # Panel B\n",
    "                               'judgment': \"Money judgment\", 'mediated': \"Case mediated\", 'dismissed': 'Case dismised', # Panel B\n",
    "                               'hasAttyD': \"Defendant has an attorney\", 'hasAttyP': \"Plaintiff has an attorney\",  # Panel C\n",
    "                               'isEntityD': \"Defendant is an entity\", 'isEntityP': \"Plaintiff is an entity\",  # Panel C\n",
    "                               'TOTAL_VAL': \"Total property value\", 'BLDG_VAL': \"Building value\", 'LAND_VAL': \"Land value\",  # Panel D\n",
    "                               'OTHER_VAL': \"Other value\",  # Panel D\n",
    "                               'med_hhinc2016': 'Median household income (2016)', 'popdensity2010': 'Population density (2010)',  # Panel E\n",
    "                               'rent_twobed2015': 'Median two bedroom rent (2015)', 'share_white2010': 'Portion white (2010)',  # Panel E\n",
    "                               'zestimate_-5_years_relative_to_treatment': \"Five years before filing date\",\n",
    "                               'zestimate_-4_years_relative_to_treatment': \"Four years before filing date\",\n",
    "                               'zestimate_-3_years_relative_to_treatment': \"Three years before filing date\",\n",
    "                               'zestimate_-2_years_relative_to_treatment': \"Two years before filing date\",\n",
    "                               'zestimate_-1_years_relative_to_treatment': \"One year before filing date\",\n",
    "                               'zestimate_0_years_relative_to_treatment': \"Filing date\",\n",
    "                               'zestimate_1_years_relative_to_treatment': \"One year after filing date\",\n",
    "                               'zestimate_2_years_relative_to_treatment': \"Two years after filing date\",\n",
    "                               'zestimate_3_years_relative_to_treatment': \"Three years after filing date\"}\n",
    "\n",
    "summary_statistics_unrestricted = summary_statistics_unrestricted.rename(index=variable_display_names_dict)\n",
    "\n",
    "# Rename columns.\n",
    "summary_statistics_unrestricted.index = summary_statistics_unrestricted.index.set_names([\"Panel\", \"Variable\"])\n",
    "column_display_names_dict = {'mean': \"Mean\", 'std': \"S.D.\", 'count': \"N\", '50%': 'Median'}\n",
    "summary_statistics_unrestricted = summary_statistics_unrestricted.rename(columns=column_display_names_dict)\n",
    "summary_statistics_unrestricted = summary_statistics_unrestricted.sort_values(['Panel', 'Variable'])\n",
    "\n",
    "# Export to LaTeX.\n",
    "filename = os.path.join(OUTPUT_TABLES, \"summary_statistics.tex\")\n",
    "latex = (summary_statistics_unrestricted\n",
    "         .style\n",
    "         .format(formatter={\n",
    "                            'Mean': \"{:,.2f}\",\n",
    "                            'Median': \"{:,.2f}\",\n",
    "                            'S.D.': \"{:,.2f}\",\n",
    "                            'N': \"{:,.0f}\"})\n",
    "         .format_index(\"\\\\textit{{{}}}\", escape=\"latex\", axis=0, level=0)\n",
    "         .to_latex(None,\n",
    "                   column_format=\"llcccc\",\n",
    "                   hrules=True,\n",
    "                   clines=\"skip-last;data\")).replace(\"{*}\", \"{4cm}\")\n",
    "with open(filename, 'w') as file:\n",
    "    file.write(latex)\n",
    "summary_statistics_unrestricted"
   ]
  },
  {
   "cell_type": "code",
   "execution_count": null,
   "outputs": [],
   "source": [
    "# Load restricted data.\n",
    "restricted_df = pd.read_csv(INPUT_DATA_RESTRICTED)\n",
    "# Store treatment date variable -- may be either file_date or latest_docket_date -- and drop rows where missing.\n",
    "treatment_date_variable = 'file_date'\n",
    "treatment_year_variable = treatment_date_variable.replace(\"date\", \"year\")\n",
    "treatment_month_variable = treatment_date_variable.replace(\"date\", \"month\")\n",
    "restricted_df = restricted_df.dropna(subset=['file_date', 'latest_docket_date'])\n",
    "print(f\"Limiting sample to {len(restricted_df)} evictions for which we observe the filing date and the latest docket date.\")\n",
    "\n",
    "\n",
    "# Create dictionaries to map between string representation and integer representation of each month.\n",
    "years = [str(year) for year in range(2013, 2023)]\n",
    "months = [\"0\" + str(month) for month in range(1, 10)] + [str(month) for month in range(10, 13)]\n",
    "value_vars = [\"2012-12\"] + [str(year) + \"-\" + str(month) for year in years for month in months]\n",
    "month_to_int_dictionary = {key: value for value, key in enumerate(value_vars)}\n",
    "int_to_month_dictionary = {key: value for key, value in enumerate(value_vars)}\n"
   ],
   "metadata": {
    "collapsed": false,
    "pycharm": {
     "is_executing": true
    }
   }
  },
  {
   "cell_type": "code",
   "execution_count": null,
   "outputs": [],
   "source": [
    "treatment_timings = (restricted_df\n",
    "                     .groupby([treatment_month_variable, 'judgment_for_plaintiff'])['case_number']\n",
    "                     .count()\n",
    "                     .reset_index()\n",
    "                     .fillna(0))\n",
    "treatment_timings = treatment_timings.pivot(index=treatment_month_variable, columns='judgment_for_plaintiff').fillna(0)\n",
    "treatment_timings.columns = [\"Cases Won By Defendant\", \"Cases Won By Plaintiff\"]\n",
    "portion_of_all_cases = (treatment_timings['Cases Won By Plaintiff'] + treatment_timings['Cases Won By Defendant']) / len(restricted_df)\n",
    "treatment_timings = pd.concat([treatment_timings, portion_of_all_cases.rename('Portion of All Cases')], axis=1)\n",
    "sum_across_filing_date = pd.DataFrame(treatment_timings.sum(axis=0)).T\n",
    "sum_across_filing_date.index = [\"All Filing Months\"]\n",
    "treatment_timings = pd.concat([sum_across_filing_date, treatment_timings], axis=0)\n",
    "treatment_timings.index = treatment_timings.index.rename(\"Filing Month\")\n",
    "\n",
    "# Export to LaTeX.\n",
    "filename = os.path.join(OUTPUT_TABLES, \"treatment_timings.tex\")\n",
    "treatment_timings.style.format(formatter={'Cases Won By Plaintiff': '{:,.0f}',\n",
    "                                          'Cases Won By Defendant': '{:,.0f}',\n",
    "                                          'Portion of All Cases': '{:0.2f}'}).to_latex(filename, column_format=\"lccc\", hrules=True)\n",
    "treatment_timings"
   ],
   "metadata": {
    "collapsed": false,
    "pycharm": {
     "is_executing": true
    }
   }
  },
  {
   "cell_type": "code",
   "execution_count": null,
   "outputs": [],
   "source": [
    "# Reshape from wide to long.\n",
    "restricted_df = pd.melt(restricted_df,\n",
    "                        id_vars=['case_number', treatment_month_variable, 'judgment_for_plaintiff'],\n",
    "                        value_vars=value_vars, var_name='month', value_name='zestimate')\n",
    "restricted_df = restricted_df.sort_values(by=['case_number', 'month'])"
   ],
   "metadata": {
    "collapsed": false,
    "pycharm": {
     "is_executing": true
    }
   }
  },
  {
   "cell_type": "code",
   "execution_count": null,
   "id": "9453b2fb",
   "metadata": {
    "scrolled": false,
    "pycharm": {
     "is_executing": true
    }
   },
   "outputs": [],
   "source": [
    "# Plot path of the outcome in the treated vs. control group.\n",
    "\n",
    "# Convert months from string format to integer format.\n",
    "restricted_df.loc[:, 'month'] = restricted_df['month'].replace(month_to_int_dictionary)\n",
    "restricted_df.loc[:, treatment_month_variable] = restricted_df[treatment_month_variable].replace(month_to_int_dictionary)\n",
    "\n",
    "# Generate month relative to treatment.\n",
    "restricted_df.loc[:, 'month_relative_to_treatment'] = ((restricted_df['month'] - restricted_df[treatment_month_variable])\n",
    "                                                       .astype(int))\n",
    "\n",
    "# Keep only rows corresponding to cases which are actually observed during the months (relative to treatment) that we care about.\n",
    "def check_if_time_periods_observed(s: pd.Series, start: int, end: int):\n",
    "    values = pd.Series(range(start, end + 1))\n",
    "    check = values.isin(s)\n",
    "    return check.all()\n",
    "\n",
    "\n",
    "start_month_relative_to_treatment = -12\n",
    "end_month_relative_to_treatment = 24\n",
    "valid_case_numbers = (restricted_df\n",
    "                      .groupby('case_number')['month_relative_to_treatment']\n",
    "                      .apply(lambda col: check_if_time_periods_observed(col, start_month_relative_to_treatment,\n",
    "                                                                        end_month_relative_to_treatment)))\n",
    "valid_case_numbers = valid_case_numbers[valid_case_numbers].index\n",
    "valid_case_numbers_mask = restricted_df['case_number'].isin(valid_case_numbers)\n",
    "print(f\"Limiting the sample to {valid_case_numbers_mask.sum()} evictions which are observed \"\n",
    "      f\"during every month from treatment-relative month {start_month_relative_to_treatment} to treatment-relative month \"\n",
    "      f\"{end_month_relative_to_treatment}.\")\n",
    "restricted_df = restricted_df.loc[valid_case_numbers_mask, :]\n",
    "\n",
    "# Aggregate by treatment-relative month and treatment status.\n",
    "restricted_df = (restricted_df.groupby(['month_relative_to_treatment', 'judgment_for_plaintiff'])['zestimate']\n",
    "                 .agg([np.mean, np.std, 'count'])\n",
    "                 )\n",
    "restricted_df.loc[:, 'se'] = restricted_df['std'] / np.sqrt(restricted_df['count'])\n",
    "restricted_df.loc[:, 'y_upper'] = restricted_df['mean'] + 1.96 * restricted_df['se']\n",
    "restricted_df.loc[:, 'y_lower'] = restricted_df['mean'] - 1.96 * restricted_df['se']\n",
    "\n",
    "# Separate into control and treatment group\n",
    "treated_units = restricted_df.loc[(slice(start_month_relative_to_treatment, end_month_relative_to_treatment), 1), :].reset_index()\n",
    "control_units = restricted_df.loc[(slice(start_month_relative_to_treatment, end_month_relative_to_treatment), 0), :].reset_index()\n",
    "\n",
    "# Plot event study-style plot of trends in Zestimates.\n",
    "fig, ax = plt.subplots()\n",
    "if treatment_date_variable == 'file_date':\n",
    "    ax.set_xlabel(\"Month Relative to File Date\")\n",
    "elif treatment_date_variable == 'latest_docket_date':\n",
    "    ax.set_xlabel(\"Month Relative to Latest Docket Date\")\n",
    "else:\n",
    "    raise ValueError(\"Invalid treatment_date_variable.\")\n",
    "ax.set_ylabel(\"Zestimate\")\n",
    "for dataset, color, marker, label in zip([treated_units, control_units],\n",
    "                                         ['red', 'blue'],\n",
    "                                         [\"^\", \"s\"],\n",
    "                                         [\"Cases Won By Plaintiff\",\n",
    "                                          \"Cases Won By Defendant\"]):\n",
    "    x = dataset['month_relative_to_treatment'].values\n",
    "    y = dataset['mean'].values\n",
    "    y_upper = dataset['y_upper'].values\n",
    "    y_lower = dataset['y_lower'].values\n",
    "    figure_utilities.plot_scatter_with_shaded_errors(ax=ax,\n",
    "                                                     x=x,\n",
    "                                                     y=y,\n",
    "                                                     y_upper=y_upper,\n",
    "                                                     y_lower=y_lower,\n",
    "                                                     label=label,\n",
    "                                                     point_color=color,\n",
    "                                                     marker=marker,\n",
    "                                                     error_color=color,\n",
    "                                                     error_opacity=0.3)\n",
    "\n",
    "ax.legend()\n",
    "ax.grid(True)\n",
    "plt.show()\n",
    "figure_utilities.save_figure_and_close(fig, os.path.join(OUTPUT_FIGURES, \"trends_in_zestimates.png\"))\n",
    "\n",
    "\n"
   ]
  },
  {
   "cell_type": "code",
   "execution_count": null,
   "id": "039bf4a5",
   "metadata": {
    "pycharm": {
     "is_executing": true
    }
   },
   "outputs": [],
   "source": []
  }
 ],
 "metadata": {
  "kernelspec": {
   "display_name": "seniorthesis",
   "language": "python",
   "name": "venv"
  },
  "language_info": {
   "codemirror_mode": {
    "name": "ipython",
    "version": 3
   },
   "file_extension": ".py",
   "mimetype": "text/x-python",
   "name": "python",
   "nbconvert_exporter": "python",
   "pygments_lexer": "ipython3",
   "version": "3.9.0"
  }
 },
 "nbformat": 4,
 "nbformat_minor": 5
}
