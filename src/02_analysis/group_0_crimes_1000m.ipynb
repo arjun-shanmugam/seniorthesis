{
 "cells": [
  {
   "cell_type": "code",
   "execution_count": 11,
   "metadata": {},
   "outputs": [],
   "source": [
    "from differences import ATTgt\n",
    "from matplotlib import pyplot as plt\n",
    "plt.rcParams[\"figure.dpi\"] = 300\n",
    "plt.rcParams['savefig.dpi'] = 300\n",
    "from panel_utilities import get_value_variable_names, convert_weekly_panel_to_biweekly_panel, prepare_df_for_DiD\n",
    "from stats_utilities import select_controls, test_balance, produce_summary_statistics\n",
    "from figure_utilities import aggregate_by_event_time_and_plot, aggregate_by_time_and_plot\n",
    "import pandas as pd\n",
    "\n",
    "\n",
    "\n",
    "# Store paths.\n",
    "analysis='group_0_crimes_1000m'\n",
    "INPUT_DATA = \"../../data/03_cleaned/crime_analysis_weekly.parquet\"\n",
    "OUTPUT_FIGURES = f\"../../output/{analysis}/figures\"\n",
    "OUTPUT_TABLES = f\"../../output/{analysis}/tables\"\n",
    "\n",
    "\n",
    "# Read restricted sample panel dataset into memory.\n",
    "df = pd.read_parquet(INPUT_DATA)"
   ]
  },
  {
   "cell_type": "code",
   "execution_count": 12,
   "metadata": {
    "collapsed": false,
    "jupyter": {
     "outputs_hidden": false
    }
   },
   "outputs": [
    {
     "ename": "KeyboardInterrupt",
     "evalue": "",
     "output_type": "error",
     "traceback": [
      "\u001B[0;31m---------------------------------------------------------------------------\u001B[0m",
      "\u001B[0;31mKeyboardInterrupt\u001B[0m                         Traceback (most recent call last)",
      "Cell \u001B[0;32mIn[12], line 12\u001B[0m\n\u001B[1;32m      9\u001B[0m weekly_value_vars_crime, month_to_int_dictionary, int_to_month_dictionary \u001B[38;5;241m=\u001B[39m get_value_variable_names(df, analysis)\n\u001B[1;32m     11\u001B[0m \u001B[38;5;66;03m# Generate value variable name dictionary.\u001B[39;00m\n\u001B[0;32m---> 12\u001B[0m _, variable_display_names_dict  \u001B[38;5;241m=\u001B[39m \u001B[43mproduce_summary_statistics\u001B[49m\u001B[43m(\u001B[49m\u001B[43mdf\u001B[49m\u001B[43m,\u001B[49m\u001B[43m \u001B[49m\u001B[43mtreatment_date_variable\u001B[49m\u001B[38;5;241;43m=\u001B[39;49m\u001B[38;5;124;43m'\u001B[39;49m\u001B[38;5;124;43mlatest_docket_date\u001B[39;49m\u001B[38;5;124;43m'\u001B[39;49m\u001B[43m)\u001B[49m\n\u001B[1;32m     13\u001B[0m df\u001B[38;5;241m.\u001B[39mloc[weekly_value_vars_crime] \u001B[38;5;241m=\u001B[39m np\u001B[38;5;241m.\u001B[39marcsinh(df[weekly_value_vars_crime])\n",
      "File \u001B[0;32m~/Documents/GitHub/seniorthesis/src/02_analysis/stats_utilities.py:290\u001B[0m, in \u001B[0;36mproduce_summary_statistics\u001B[0;34m(df, treatment_date_variable)\u001B[0m\n\u001B[1;32m    288\u001B[0m         \u001B[38;5;28;01melse\u001B[39;00m:\n\u001B[1;32m    289\u001B[0m             new_col_name \u001B[38;5;241m=\u001B[39m \u001B[38;5;124mf\u001B[39m\u001B[38;5;124m'\u001B[39m\u001B[38;5;132;01m{\u001B[39;00moutcome\u001B[38;5;132;01m}\u001B[39;00m\u001B[38;5;124m_\u001B[39m\u001B[38;5;132;01m{\u001B[39;00mi\u001B[38;5;132;01m}\u001B[39;00m\u001B[38;5;124m_years_relative_to_treatment\u001B[39m\u001B[38;5;124m'\u001B[39m\n\u001B[0;32m--> 290\u001B[0m         panel_F_columns\u001B[38;5;241m.\u001B[39mappend(new_col_name)\n\u001B[1;32m    291\u001B[0m         df\u001B[38;5;241m.\u001B[39mloc[:, new_col_name] \u001B[38;5;241m=\u001B[39m df\u001B[38;5;241m.\u001B[39mreindex(cols, axis\u001B[38;5;241m=\u001B[39m\u001B[38;5;241m1\u001B[39m)\u001B[38;5;241m.\u001B[39mto_numpy()[np\u001B[38;5;241m.\u001B[39marange(\u001B[38;5;28mlen\u001B[39m(df)), idx]\n\u001B[1;32m    292\u001B[0m panel_F \u001B[38;5;241m=\u001B[39m df[panel_F_columns]\u001B[38;5;241m.\u001B[39mdescribe()\u001B[38;5;241m.\u001B[39mT\n",
      "File \u001B[0;32m~/Documents/GitHub/seniorthesis/venv/lib/python3.9/site-packages/pandas/util/_decorators.py:324\u001B[0m, in \u001B[0;36mrewrite_axis_style_signature.<locals>.decorate.<locals>.wrapper\u001B[0;34m(*args, **kwargs)\u001B[0m\n\u001B[1;32m    322\u001B[0m \u001B[38;5;129m@wraps\u001B[39m(func)\n\u001B[1;32m    323\u001B[0m \u001B[38;5;28;01mdef\u001B[39;00m \u001B[38;5;21mwrapper\u001B[39m(\u001B[38;5;241m*\u001B[39margs, \u001B[38;5;241m*\u001B[39m\u001B[38;5;241m*\u001B[39mkwargs) \u001B[38;5;241m-\u001B[39m\u001B[38;5;241m>\u001B[39m Callable[\u001B[38;5;241m.\u001B[39m\u001B[38;5;241m.\u001B[39m\u001B[38;5;241m.\u001B[39m, Any]:\n\u001B[0;32m--> 324\u001B[0m     \u001B[38;5;28;01mreturn\u001B[39;00m \u001B[43mfunc\u001B[49m\u001B[43m(\u001B[49m\u001B[38;5;241;43m*\u001B[39;49m\u001B[43margs\u001B[49m\u001B[43m,\u001B[49m\u001B[43m \u001B[49m\u001B[38;5;241;43m*\u001B[39;49m\u001B[38;5;241;43m*\u001B[39;49m\u001B[43mkwargs\u001B[49m\u001B[43m)\u001B[49m\n",
      "File \u001B[0;32m~/Documents/GitHub/seniorthesis/venv/lib/python3.9/site-packages/pandas/core/frame.py:4804\u001B[0m, in \u001B[0;36mDataFrame.reindex\u001B[0;34m(self, *args, **kwargs)\u001B[0m\n\u001B[1;32m   4802\u001B[0m kwargs\u001B[38;5;241m.\u001B[39mpop(\u001B[38;5;124m\"\u001B[39m\u001B[38;5;124maxis\u001B[39m\u001B[38;5;124m\"\u001B[39m, \u001B[38;5;28;01mNone\u001B[39;00m)\n\u001B[1;32m   4803\u001B[0m kwargs\u001B[38;5;241m.\u001B[39mpop(\u001B[38;5;124m\"\u001B[39m\u001B[38;5;124mlabels\u001B[39m\u001B[38;5;124m\"\u001B[39m, \u001B[38;5;28;01mNone\u001B[39;00m)\n\u001B[0;32m-> 4804\u001B[0m \u001B[38;5;28;01mreturn\u001B[39;00m \u001B[38;5;28;43msuper\u001B[39;49m\u001B[43m(\u001B[49m\u001B[43m)\u001B[49m\u001B[38;5;241;43m.\u001B[39;49m\u001B[43mreindex\u001B[49m\u001B[43m(\u001B[49m\u001B[38;5;241;43m*\u001B[39;49m\u001B[38;5;241;43m*\u001B[39;49m\u001B[43mkwargs\u001B[49m\u001B[43m)\u001B[49m\n",
      "File \u001B[0;32m~/Documents/GitHub/seniorthesis/venv/lib/python3.9/site-packages/pandas/core/generic.py:4948\u001B[0m, in \u001B[0;36mNDFrame.reindex\u001B[0;34m(self, *args, **kwargs)\u001B[0m\n\u001B[1;32m   4942\u001B[0m \u001B[38;5;28;01mif\u001B[39;00m kwargs:\n\u001B[1;32m   4943\u001B[0m     \u001B[38;5;28;01mraise\u001B[39;00m \u001B[38;5;167;01mTypeError\u001B[39;00m(\n\u001B[1;32m   4944\u001B[0m         \u001B[38;5;124m\"\u001B[39m\u001B[38;5;124mreindex() got an unexpected keyword \u001B[39m\u001B[38;5;124m\"\u001B[39m\n\u001B[1;32m   4945\u001B[0m         \u001B[38;5;124mf\u001B[39m\u001B[38;5;124m'\u001B[39m\u001B[38;5;124margument \u001B[39m\u001B[38;5;124m\"\u001B[39m\u001B[38;5;132;01m{\u001B[39;00m\u001B[38;5;28mlist\u001B[39m(kwargs\u001B[38;5;241m.\u001B[39mkeys())[\u001B[38;5;241m0\u001B[39m]\u001B[38;5;132;01m}\u001B[39;00m\u001B[38;5;124m\"\u001B[39m\u001B[38;5;124m'\u001B[39m\n\u001B[1;32m   4946\u001B[0m     )\n\u001B[0;32m-> 4948\u001B[0m \u001B[38;5;28;43mself\u001B[39;49m\u001B[38;5;241;43m.\u001B[39;49m\u001B[43m_consolidate_inplace\u001B[49m\u001B[43m(\u001B[49m\u001B[43m)\u001B[49m\n\u001B[1;32m   4950\u001B[0m \u001B[38;5;66;03m# if all axes that are requested to reindex are equal, then only copy\u001B[39;00m\n\u001B[1;32m   4951\u001B[0m \u001B[38;5;66;03m# if indicated must have index names equal here as well as values\u001B[39;00m\n\u001B[1;32m   4952\u001B[0m \u001B[38;5;28;01mif\u001B[39;00m \u001B[38;5;28mall\u001B[39m(\n\u001B[1;32m   4953\u001B[0m     \u001B[38;5;28mself\u001B[39m\u001B[38;5;241m.\u001B[39m_get_axis(axis)\u001B[38;5;241m.\u001B[39midentical(ax)\n\u001B[1;32m   4954\u001B[0m     \u001B[38;5;28;01mfor\u001B[39;00m axis, ax \u001B[38;5;129;01min\u001B[39;00m axes\u001B[38;5;241m.\u001B[39mitems()\n\u001B[1;32m   4955\u001B[0m     \u001B[38;5;28;01mif\u001B[39;00m ax \u001B[38;5;129;01mis\u001B[39;00m \u001B[38;5;129;01mnot\u001B[39;00m \u001B[38;5;28;01mNone\u001B[39;00m\n\u001B[1;32m   4956\u001B[0m ):\n",
      "File \u001B[0;32m~/Documents/GitHub/seniorthesis/venv/lib/python3.9/site-packages/pandas/core/generic.py:5653\u001B[0m, in \u001B[0;36mNDFrame._consolidate_inplace\u001B[0;34m(self)\u001B[0m\n\u001B[1;32m   5650\u001B[0m \u001B[38;5;28;01mdef\u001B[39;00m \u001B[38;5;21mf\u001B[39m():\n\u001B[1;32m   5651\u001B[0m     \u001B[38;5;28mself\u001B[39m\u001B[38;5;241m.\u001B[39m_mgr \u001B[38;5;241m=\u001B[39m \u001B[38;5;28mself\u001B[39m\u001B[38;5;241m.\u001B[39m_mgr\u001B[38;5;241m.\u001B[39mconsolidate()\n\u001B[0;32m-> 5653\u001B[0m \u001B[38;5;28;43mself\u001B[39;49m\u001B[38;5;241;43m.\u001B[39;49m\u001B[43m_protect_consolidate\u001B[49m\u001B[43m(\u001B[49m\u001B[43mf\u001B[49m\u001B[43m)\u001B[49m\n",
      "File \u001B[0;32m~/Documents/GitHub/seniorthesis/venv/lib/python3.9/site-packages/pandas/core/generic.py:5641\u001B[0m, in \u001B[0;36mNDFrame._protect_consolidate\u001B[0;34m(self, f)\u001B[0m\n\u001B[1;32m   5639\u001B[0m     \u001B[38;5;28;01mreturn\u001B[39;00m f()\n\u001B[1;32m   5640\u001B[0m blocks_before \u001B[38;5;241m=\u001B[39m \u001B[38;5;28mlen\u001B[39m(\u001B[38;5;28mself\u001B[39m\u001B[38;5;241m.\u001B[39m_mgr\u001B[38;5;241m.\u001B[39mblocks)\n\u001B[0;32m-> 5641\u001B[0m result \u001B[38;5;241m=\u001B[39m \u001B[43mf\u001B[49m\u001B[43m(\u001B[49m\u001B[43m)\u001B[49m\n\u001B[1;32m   5642\u001B[0m \u001B[38;5;28;01mif\u001B[39;00m \u001B[38;5;28mlen\u001B[39m(\u001B[38;5;28mself\u001B[39m\u001B[38;5;241m.\u001B[39m_mgr\u001B[38;5;241m.\u001B[39mblocks) \u001B[38;5;241m!=\u001B[39m blocks_before:\n\u001B[1;32m   5643\u001B[0m     \u001B[38;5;28mself\u001B[39m\u001B[38;5;241m.\u001B[39m_clear_item_cache()\n",
      "File \u001B[0;32m~/Documents/GitHub/seniorthesis/venv/lib/python3.9/site-packages/pandas/core/generic.py:5651\u001B[0m, in \u001B[0;36mNDFrame._consolidate_inplace.<locals>.f\u001B[0;34m()\u001B[0m\n\u001B[1;32m   5650\u001B[0m \u001B[38;5;28;01mdef\u001B[39;00m \u001B[38;5;21mf\u001B[39m():\n\u001B[0;32m-> 5651\u001B[0m     \u001B[38;5;28mself\u001B[39m\u001B[38;5;241m.\u001B[39m_mgr \u001B[38;5;241m=\u001B[39m \u001B[38;5;28;43mself\u001B[39;49m\u001B[38;5;241;43m.\u001B[39;49m\u001B[43m_mgr\u001B[49m\u001B[38;5;241;43m.\u001B[39;49m\u001B[43mconsolidate\u001B[49m\u001B[43m(\u001B[49m\u001B[43m)\u001B[49m\n",
      "File \u001B[0;32m~/Documents/GitHub/seniorthesis/venv/lib/python3.9/site-packages/pandas/core/internals/managers.py:631\u001B[0m, in \u001B[0;36mBaseBlockManager.consolidate\u001B[0;34m(self)\u001B[0m\n\u001B[1;32m    629\u001B[0m bm \u001B[38;5;241m=\u001B[39m \u001B[38;5;28mtype\u001B[39m(\u001B[38;5;28mself\u001B[39m)(\u001B[38;5;28mself\u001B[39m\u001B[38;5;241m.\u001B[39mblocks, \u001B[38;5;28mself\u001B[39m\u001B[38;5;241m.\u001B[39maxes, verify_integrity\u001B[38;5;241m=\u001B[39m\u001B[38;5;28;01mFalse\u001B[39;00m)\n\u001B[1;32m    630\u001B[0m bm\u001B[38;5;241m.\u001B[39m_is_consolidated \u001B[38;5;241m=\u001B[39m \u001B[38;5;28;01mFalse\u001B[39;00m\n\u001B[0;32m--> 631\u001B[0m \u001B[43mbm\u001B[49m\u001B[38;5;241;43m.\u001B[39;49m\u001B[43m_consolidate_inplace\u001B[49m\u001B[43m(\u001B[49m\u001B[43m)\u001B[49m\n\u001B[1;32m    632\u001B[0m \u001B[38;5;28;01mreturn\u001B[39;00m bm\n",
      "File \u001B[0;32m~/Documents/GitHub/seniorthesis/venv/lib/python3.9/site-packages/pandas/core/internals/managers.py:1685\u001B[0m, in \u001B[0;36mBlockManager._consolidate_inplace\u001B[0;34m(self)\u001B[0m\n\u001B[1;32m   1683\u001B[0m \u001B[38;5;28;01mdef\u001B[39;00m \u001B[38;5;21m_consolidate_inplace\u001B[39m(\u001B[38;5;28mself\u001B[39m) \u001B[38;5;241m-\u001B[39m\u001B[38;5;241m>\u001B[39m \u001B[38;5;28;01mNone\u001B[39;00m:\n\u001B[1;32m   1684\u001B[0m     \u001B[38;5;28;01mif\u001B[39;00m \u001B[38;5;129;01mnot\u001B[39;00m \u001B[38;5;28mself\u001B[39m\u001B[38;5;241m.\u001B[39mis_consolidated():\n\u001B[0;32m-> 1685\u001B[0m         \u001B[38;5;28mself\u001B[39m\u001B[38;5;241m.\u001B[39mblocks \u001B[38;5;241m=\u001B[39m \u001B[38;5;28mtuple\u001B[39m(\u001B[43m_consolidate\u001B[49m\u001B[43m(\u001B[49m\u001B[38;5;28;43mself\u001B[39;49m\u001B[38;5;241;43m.\u001B[39;49m\u001B[43mblocks\u001B[49m\u001B[43m)\u001B[49m)\n\u001B[1;32m   1686\u001B[0m         \u001B[38;5;28mself\u001B[39m\u001B[38;5;241m.\u001B[39m_is_consolidated \u001B[38;5;241m=\u001B[39m \u001B[38;5;28;01mTrue\u001B[39;00m\n\u001B[1;32m   1687\u001B[0m         \u001B[38;5;28mself\u001B[39m\u001B[38;5;241m.\u001B[39m_known_consolidated \u001B[38;5;241m=\u001B[39m \u001B[38;5;28;01mTrue\u001B[39;00m\n",
      "File \u001B[0;32m~/Documents/GitHub/seniorthesis/venv/lib/python3.9/site-packages/pandas/core/internals/managers.py:2084\u001B[0m, in \u001B[0;36m_consolidate\u001B[0;34m(blocks)\u001B[0m\n\u001B[1;32m   2082\u001B[0m new_blocks: \u001B[38;5;28mlist\u001B[39m[Block] \u001B[38;5;241m=\u001B[39m []\n\u001B[1;32m   2083\u001B[0m \u001B[38;5;28;01mfor\u001B[39;00m (_can_consolidate, dtype), group_blocks \u001B[38;5;129;01min\u001B[39;00m grouper:\n\u001B[0;32m-> 2084\u001B[0m     merged_blocks \u001B[38;5;241m=\u001B[39m \u001B[43m_merge_blocks\u001B[49m\u001B[43m(\u001B[49m\n\u001B[1;32m   2085\u001B[0m \u001B[43m        \u001B[49m\u001B[38;5;28;43mlist\u001B[39;49m\u001B[43m(\u001B[49m\u001B[43mgroup_blocks\u001B[49m\u001B[43m)\u001B[49m\u001B[43m,\u001B[49m\u001B[43m \u001B[49m\u001B[43mdtype\u001B[49m\u001B[38;5;241;43m=\u001B[39;49m\u001B[43mdtype\u001B[49m\u001B[43m,\u001B[49m\u001B[43m \u001B[49m\u001B[43mcan_consolidate\u001B[49m\u001B[38;5;241;43m=\u001B[39;49m\u001B[43m_can_consolidate\u001B[49m\n\u001B[1;32m   2086\u001B[0m \u001B[43m    \u001B[49m\u001B[43m)\u001B[49m\n\u001B[1;32m   2087\u001B[0m     new_blocks \u001B[38;5;241m=\u001B[39m extend_blocks(merged_blocks, new_blocks)\n\u001B[1;32m   2088\u001B[0m \u001B[38;5;28;01mreturn\u001B[39;00m new_blocks\n",
      "File \u001B[0;32m~/Documents/GitHub/seniorthesis/venv/lib/python3.9/site-packages/pandas/core/internals/managers.py:2111\u001B[0m, in \u001B[0;36m_merge_blocks\u001B[0;34m(blocks, dtype, can_consolidate)\u001B[0m\n\u001B[1;32m   2104\u001B[0m new_values: ArrayLike\n\u001B[1;32m   2106\u001B[0m \u001B[38;5;28;01mif\u001B[39;00m \u001B[38;5;28misinstance\u001B[39m(blocks[\u001B[38;5;241m0\u001B[39m]\u001B[38;5;241m.\u001B[39mdtype, np\u001B[38;5;241m.\u001B[39mdtype):\n\u001B[1;32m   2107\u001B[0m     \u001B[38;5;66;03m# error: List comprehension has incompatible type List[Union[ndarray,\u001B[39;00m\n\u001B[1;32m   2108\u001B[0m     \u001B[38;5;66;03m# ExtensionArray]]; expected List[Union[complex, generic,\u001B[39;00m\n\u001B[1;32m   2109\u001B[0m     \u001B[38;5;66;03m# Sequence[Union[int, float, complex, str, bytes, generic]],\u001B[39;00m\n\u001B[1;32m   2110\u001B[0m     \u001B[38;5;66;03m# Sequence[Sequence[Any]], SupportsArray]]\u001B[39;00m\n\u001B[0;32m-> 2111\u001B[0m     new_values \u001B[38;5;241m=\u001B[39m \u001B[43mnp\u001B[49m\u001B[38;5;241;43m.\u001B[39;49m\u001B[43mvstack\u001B[49m\u001B[43m(\u001B[49m\u001B[43m[\u001B[49m\u001B[43mb\u001B[49m\u001B[38;5;241;43m.\u001B[39;49m\u001B[43mvalues\u001B[49m\u001B[43m \u001B[49m\u001B[38;5;28;43;01mfor\u001B[39;49;00m\u001B[43m \u001B[49m\u001B[43mb\u001B[49m\u001B[43m \u001B[49m\u001B[38;5;129;43;01min\u001B[39;49;00m\u001B[43m \u001B[49m\u001B[43mblocks\u001B[49m\u001B[43m]\u001B[49m\u001B[43m)\u001B[49m  \u001B[38;5;66;03m# type: ignore[misc]\u001B[39;00m\n\u001B[1;32m   2112\u001B[0m \u001B[38;5;28;01melse\u001B[39;00m:\n\u001B[1;32m   2113\u001B[0m     bvals \u001B[38;5;241m=\u001B[39m [blk\u001B[38;5;241m.\u001B[39mvalues \u001B[38;5;28;01mfor\u001B[39;00m blk \u001B[38;5;129;01min\u001B[39;00m blocks]\n",
      "File \u001B[0;32m<__array_function__ internals>:200\u001B[0m, in \u001B[0;36mvstack\u001B[0;34m(*args, **kwargs)\u001B[0m\n",
      "File \u001B[0;32m~/Documents/GitHub/seniorthesis/venv/lib/python3.9/site-packages/numpy/core/shape_base.py:296\u001B[0m, in \u001B[0;36mvstack\u001B[0;34m(tup, dtype, casting)\u001B[0m\n\u001B[1;32m    294\u001B[0m \u001B[38;5;28;01mif\u001B[39;00m \u001B[38;5;129;01mnot\u001B[39;00m \u001B[38;5;28misinstance\u001B[39m(arrs, \u001B[38;5;28mlist\u001B[39m):\n\u001B[1;32m    295\u001B[0m     arrs \u001B[38;5;241m=\u001B[39m [arrs]\n\u001B[0;32m--> 296\u001B[0m \u001B[38;5;28;01mreturn\u001B[39;00m \u001B[43m_nx\u001B[49m\u001B[38;5;241;43m.\u001B[39;49m\u001B[43mconcatenate\u001B[49m\u001B[43m(\u001B[49m\u001B[43marrs\u001B[49m\u001B[43m,\u001B[49m\u001B[43m \u001B[49m\u001B[38;5;241;43m0\u001B[39;49m\u001B[43m,\u001B[49m\u001B[43m \u001B[49m\u001B[43mdtype\u001B[49m\u001B[38;5;241;43m=\u001B[39;49m\u001B[43mdtype\u001B[49m\u001B[43m,\u001B[49m\u001B[43m \u001B[49m\u001B[43mcasting\u001B[49m\u001B[38;5;241;43m=\u001B[39;49m\u001B[43mcasting\u001B[49m\u001B[43m)\u001B[49m\n",
      "File \u001B[0;32m<__array_function__ internals>:200\u001B[0m, in \u001B[0;36mconcatenate\u001B[0;34m(*args, **kwargs)\u001B[0m\n",
      "\u001B[0;31mKeyboardInterrupt\u001B[0m: "
     ]
    }
   ],
   "source": [
    "import numpy as np\n",
    "\n",
    "# Convert weekly panel to biweekly panel.\n",
    "treatment_date_variable = 'latest_docket_week'\n",
    "df = df.dropna(subset=treatment_date_variable)\n",
    "df = convert_weekly_panel_to_biweekly_panel(df, treatment_date_variable, analysis)\n",
    "\n",
    "# Generate value vars list and month to int dictionaries.\n",
    "weekly_value_vars_crime, month_to_int_dictionary, int_to_month_dictionary = get_value_variable_names(df, analysis)\n",
    "\n",
    "# Generate value variable name dictionary.\n",
    "_, variable_display_names_dict  = produce_summary_statistics(df, treatment_date_variable='latest_docket_date')\n",
    "df.loc[weekly_value_vars_crime] = np.arcsinh(df[weekly_value_vars_crime])"
   ]
  },
  {
   "cell_type": "code",
   "execution_count": null,
   "metadata": {
    "collapsed": false,
    "jupyter": {
     "outputs_hidden": false
    }
   },
   "outputs": [],
   "source": [
    "covariates_exploration_df = select_controls(df=df, analysis=analysis,\n",
    "                                            treatment_date_variable=treatment_date_variable,\n",
    "                                            output_directory=OUTPUT_TABLES,\n",
    "                                            )\n",
    "covariates_exploration_df"
   ]
  },
  {
   "cell_type": "code",
   "execution_count": null,
   "metadata": {
    "collapsed": false,
    "jupyter": {
     "outputs_hidden": false
    }
   },
   "outputs": [],
   "source": [
    "balance_table, pre_treatment_covariates = test_balance(df, analysis, covariates_exploration_df, OUTPUT_TABLES)\n",
    "\n",
    "balance_table"
   ]
  },
  {
   "cell_type": "code",
   "execution_count": null,
   "metadata": {
    "collapsed": false,
    "jupyter": {
     "outputs_hidden": false
    }
   },
   "outputs": [],
   "source": [
    "# Generate indicators for missing data.\n",
    "\n",
    "# missing_indicators = add_missing_indicators(df, ['rent_twobed2015'], pre_treatment_covariates)\n",
    "\n",
    "# Prepare df for use with the differences package.\n",
    "df = df.reset_index()\n",
    "df = prepare_df_for_DiD(df=df,\n",
    "                        analysis=analysis,\n",
    "                        treatment_date_variable=treatment_date_variable,\n",
    "                        pre_treatment_covariates=pre_treatment_covariates,\n",
    "                        missing_indicators=[],\n",
    "                        value_vars=weekly_value_vars_crime,\n",
    "                        period_to_int_dictionary=month_to_int_dictionary)"
   ]
  },
  {
   "cell_type": "code",
   "execution_count": null,
   "metadata": {
    "collapsed": false,
    "jupyter": {
     "outputs_hidden": false
    },
    "scrolled": true,
    "tags": []
   },
   "outputs": [],
   "source": [
    "# Run DiD without conditioning on covariates.\n",
    "att_gt = ATTgt(data=df, cohort_name=treatment_date_variable, freq='2W', base_period='universal')\n",
    "result = att_gt.fit(formula=analysis, control_group='not_yet_treated', n_jobs=-1)"
   ]
  },
  {
   "cell_type": "code",
   "execution_count": null,
   "metadata": {
    "collapsed": false,
    "jupyter": {
     "outputs_hidden": false
    }
   },
   "outputs": [],
   "source": [
    "# Plot unconditional ATT(t-g)s on a long horizon.\n",
    "aggregate_by_event_time_and_plot(att_gt, OUTPUT_FIGURES, \"att_gt_unconditional_event_study_long_horizon.png\",\n",
    "                                 start_period=-12, end_period=12,\n",
    "                                 title=\"\",\n",
    "                                 treatment_month_variable=treatment_date_variable, df=df)"
   ]
  },
  {
   "cell_type": "code",
   "execution_count": null,
   "metadata": {
    "collapsed": false,
    "jupyter": {
     "outputs_hidden": false
    }
   },
   "outputs": [],
   "source": [
    "# Plot unconditional ATT(t)s.\n",
    "aggregate_by_time_and_plot(att_gt, int_to_month_dictionary, OUTPUT_FIGURES, \"att_gt_unconditional_time.png\",\n",
    "                           title=\"\")"
   ]
  },
  {
   "cell_type": "code",
   "execution_count": null,
   "metadata": {
    "collapsed": false,
    "jupyter": {
     "outputs_hidden": false
    },
    "scrolled": true,
    "tags": []
   },
   "outputs": [],
   "source": [
    "# Run DiD conditional on covariates.\n",
    "att_gt = ATTgt(data=df, cohort_name=treatment_date_variable, freq='M', base_period='universal')\n",
    "formula = f'{analysis} ~ ' + '+'.join(pre_treatment_covariates)\n",
    "result = att_gt.fit(formula=formula, control_group='not_yet_treated', n_jobs=-1, progress_bar=True)"
   ]
  },
  {
   "cell_type": "code",
   "execution_count": null,
   "metadata": {
    "collapsed": false,
    "jupyter": {
     "outputs_hidden": false
    }
   },
   "outputs": [],
   "source": [
    "# Plot D.R. ATT(t-g)s on a long horizon.\n",
    "aggregate_by_event_time_and_plot(att_gt, OUTPUT_FIGURES, \"att_gt_dr_event_study_long_horizon.png\", start_period=-12,\n",
    "                                 end_period=20,\n",
    "                                 title=\"\",\n",
    "                                 treatment_month_variable=treatment_date_variable, df=df)"
   ]
  },
  {
   "cell_type": "code",
   "execution_count": null,
   "metadata": {
    "collapsed": false,
    "jupyter": {
     "outputs_hidden": false
    }
   },
   "outputs": [],
   "source": [
    "# Plot D.R. ATT(t)s.\n",
    "aggregate_by_time_and_plot(att_gt, int_to_month_dictionary, OUTPUT_FIGURES, \"att_gt_dr_time.png\",\n",
    "                           title=\"\")"
   ]
  }
 ],
 "metadata": {
  "kernelspec": {
   "display_name": "venv",
   "language": "python",
   "name": "venv"
  },
  "language_info": {
   "codemirror_mode": {
    "name": "ipython",
    "version": 3
   },
   "file_extension": ".py",
   "mimetype": "text/x-python",
   "name": "python",
   "nbconvert_exporter": "python",
   "pygments_lexer": "ipython3",
   "version": "3.10.8"
  }
 },
 "nbformat": 4,
 "nbformat_minor": 4
}
