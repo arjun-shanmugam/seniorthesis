{
 "cells": [
  {
   "cell_type": "markdown",
   "id": "67c7f5dd-a1f5-4508-a2e5-63df1c6da513",
   "metadata": {},
   "source": [
    "# Setup"
   ]
  },
  {
   "cell_type": "code",
   "execution_count": 6,
   "id": "f1beb25b-607f-4306-8d0f-31cc7c038d9e",
   "metadata": {},
   "outputs": [],
   "source": [
    "import contextily as cx\n",
    "import figure_utilities\n",
    "import constants\n",
    "from stats_utilities import produce_summary_statistics, select_controls, test_balance\n",
    "import geopandas as gpd\n",
    "import matplotlib.pyplot as plt\n",
    "from panel_utilities import get_value_variable_names, prepare_df_for_DiD\n",
    "import numpy as np\n",
    "plt.rcParams['savefig.dpi'] = 300\n",
    "import os\n",
    "import pandas as pd"
   ]
  },
  {
   "cell_type": "code",
   "execution_count": 7,
   "id": "38944e7a-7764-4943-8a6f-39e2fab2b2a6",
   "metadata": {},
   "outputs": [],
   "source": [
    "# Store paths.\n",
    "INPUT_DATA_PANEL = \"../../data/03_cleaned/crime_analysis_monthly.parquet\"\n",
    "OUTPUT_TABLES = \"../../output/final_paper/tables\"\n",
    "OUTPUT_FIGURES = \"../../output/final_paper/figures\""
   ]
  },
  {
   "cell_type": "markdown",
   "id": "a90ec63e-aff8-4fa6-9e9c-74b905b6e4d6",
   "metadata": {},
   "source": [
    "# Main Results"
   ]
  },
  {
   "cell_type": "code",
   "execution_count": null,
   "id": "56ef162e-ff46-434e-8370-54bf8b123206",
   "metadata": {},
   "outputs": [],
   "source": [
    "# Read fresh copy of unrestricted dataset into memory.\n",
    "df = pd.read_parquet(INPUT_DATA_PANEL)\n",
    "treatment_date_variable = 'latest_docket_month'  # Store treatment date variable.\n",
    "analysis = 'group_0_crimes_500m'"
   ]
  },
  {
   "cell_type": "code",
   "execution_count": null,
   "id": "475df466-9139-40a9-9d0c-df2dfcba8779",
   "metadata": {},
   "outputs": [],
   "source": [
    "# Generate value variables list and dictionaries mapping between months and integers.\n",
    "weekly_value_vars_crime, month_to_int_dictionary, int_to_month_dictionary = get_value_variable_names(df, analysis)"
   ]
  },
  {
   "cell_type": "code",
   "execution_count": null,
   "id": "c01e5baf-86ca-4229-968b-264a63179c3a",
   "metadata": {},
   "outputs": [],
   "source": [
    "# Test for Confounders\n",
    "covariates_exploration_df = select_controls(df=df, analysis=analysis,\n",
    "                                            treatment_date_variable=treatment_date_variable,\n",
    "                                            output_directory=OUTPUT_TABLES)\n",
    "covariates_exploration_df\n"
   ]
  },
  {
   "cell_type": "code",
   "execution_count": null,
   "id": "eca9598f-1caa-49ee-9920-a367c6d4eb68",
   "metadata": {},
   "outputs": [],
   "source": [
    "# Re-Balance on Controls\n",
    "\n",
    "\n",
    "balance_table, pre_treatment_covariates = test_balance(df, analysis, covariates_exploration_df, OUTPUT_TABLES)\n",
    "balance_table\n"
   ]
  },
  {
   "cell_type": "code",
   "execution_count": null,
   "id": "671da056-31bc-4735-b481-deef02412a8a",
   "metadata": {},
   "outputs": [],
   "source": [
    "# Prepare df for use with the differences package.\n",
    "df = df.reset_index()\n",
    "df = prepare_df_for_DiD(df=df,\n",
    "                        analysis=analysis,\n",
    "                        treatment_date_variable=treatment_date_variable,\n",
    "                        pre_treatment_covariates=pre_treatment_covariates,\n",
    "                        missing_indicators=[],\n",
    "                        value_vars=weekly_value_vars_crime,\n",
    "                        period_to_int_dictionary=month_to_int_dictionary)\n",
    "\n",
    "# Run DiD conditional on covariates.\n",
    "att_gt_all_crimes = ATTgt(data=df, cohort_name=treatment_date_variable, base_period='universal')\n",
    "formula = f'{analysis} ~ ' + '+'.join(pre_treatment_covariates)\n",
    "result = att_gt_all_crimes.fit(formula=formula, control_group='never_treated', n_jobs=-1, progress_bar=True)\n",
    "\n",
    "# Plot D.R. ATT(t-g)s on a long horizon.\n",
    "fig, ax = plt.subplots(layout='constrained')\n",
    "figure_utilities.aggregate_by_event_time_and_plot(att_gt_all_crimes, start_period=MINIMUM_PRE_PERIOD,\n",
    "                                                  end_period=36,\n",
    "                                                  title=\"\", ax=ax)\n",
    "\n",
    "figure_utilities.save_figure_and_close(fig, os.path.join(OUTPUT_FIGURES, \"att_gt_dr_all_crimes.png\"))"
   ]
  }
 ],
 "metadata": {
  "kernelspec": {
   "display_name": "venv",
   "language": "python",
   "name": "venv"
  },
  "language_info": {
   "codemirror_mode": {
    "name": "ipython",
    "version": 3
   },
   "file_extension": ".py",
   "mimetype": "text/x-python",
   "name": "python",
   "nbconvert_exporter": "python",
   "pygments_lexer": "ipython3",
   "version": "3.10.8"
  }
 },
 "nbformat": 4,
 "nbformat_minor": 5
}
