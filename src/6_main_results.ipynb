{
 "cells": [
  {
   "cell_type": "markdown",
   "id": "50fd5b8e-e603-4d88-9201-fbc462438e2f",
   "metadata": {},
   "source": [
    "# Setup"
   ]
  },
  {
   "cell_type": "code",
   "execution_count": 1,
   "id": "ea7989d9-f382-4940-8600-582c59aa1f58",
   "metadata": {
    "ExecuteTime": {
     "end_time": "2023-08-14T02:03:53.817838Z",
     "start_time": "2023-08-14T02:03:52.835210Z"
    }
   },
   "outputs": [],
   "source": [
    "import figure_utilities\n",
    "import constants\n",
    "from stats_utilities import select_controls, test_balance\n",
    "import matplotlib.pyplot as plt\n",
    "from panel_utilities import get_value_variable_names, prepare_df_for_DiD\n",
    "plt.rcParams['savefig.dpi'] = 300\n",
    "import os\n",
    "from differences import ATTgt\n",
    "import pandas as pd"
   ]
  },
  {
   "cell_type": "code",
   "execution_count": 2,
   "id": "acda29f4-f57a-461e-973e-e213e5893b72",
   "metadata": {
    "ExecuteTime": {
     "end_time": "2023-08-14T02:03:53.820208Z",
     "start_time": "2023-08-14T02:03:53.818535Z"
    }
   },
   "outputs": [],
   "source": [
    "# Store paths.\n",
    "INPUT_DATA_PANEL = \"../data/03_cleaned/crime_analysis_monthly.csv\"\n",
    "OUTPUT_TABLES = \"../output/final_paper/tables\"\n",
    "OUTPUT_FIGURES = \"../output/final_paper/figures\""
   ]
  },
  {
   "cell_type": "markdown",
   "id": "399ba841-86d3-41f5-8665-900a84468673",
   "metadata": {},
   "source": [
    "# Main Results"
   ]
  },
  {
   "cell_type": "code",
   "execution_count": 3,
   "id": "7b0031d1-bd58-4496-9965-d3d0cd0e7427",
   "metadata": {
    "ExecuteTime": {
     "end_time": "2023-08-14T02:03:53.893267Z",
     "start_time": "2023-08-14T02:03:53.821277Z"
    }
   },
   "outputs": [],
   "source": [
    "# Read fresh copy of unrestricted dataset into memory.\n",
    "df = pd.read_csv(INPUT_DATA_PANEL)\n",
    "treatment_date_variable = 'latest_docket_month'  # Store treatment date variable.\n"
   ]
  },
  {
   "cell_type": "code",
   "execution_count": 4,
   "id": "9c24ea82-f225-4f43-ab1e-b4b83ce7aa15",
   "metadata": {
    "ExecuteTime": {
     "end_time": "2023-08-14T02:03:53.896450Z",
     "start_time": "2023-08-14T02:03:53.894977Z"
    }
   },
   "outputs": [],
   "source": [
    "# Generate value variables list and dictionaries mapping between months and integers.\n",
    "analysis = f\"group_0_crimes_{constants.Analysis.MAIN_RESULTS_RADIUS}m\"\n",
    "weekly_value_vars_crime, month_to_int_dictionary, int_to_month_dictionary = get_value_variable_names(df, analysis)"
   ]
  },
  {
   "cell_type": "code",
   "execution_count": 5,
   "id": "2fae8e4f-ff80-46cd-822a-1cffc1c2edc8",
   "metadata": {
    "ExecuteTime": {
     "end_time": "2023-08-14T02:03:54.053699Z",
     "start_time": "2023-08-14T02:03:53.897819Z"
    }
   },
   "outputs": [
    {
     "data": {
      "text/plain": "                                                                                   \\\n                                                           Cases Won by Plaintiff   \nPanel A Total Crime Incidents, 2017                                    338.178010   \n        Change in Crime Incidents, 2017-2019                           -50.052356   \n        relative_pre_treatment_change_in_group_0_crimes...              -4.662827   \nPanel B Bachelor's degree, 2010                                          0.316407   \n        Job density, 2013                                            16161.032515   \n        Median household income, 2016                                47553.063874   \n        Poverty rate, 2010                                               0.279638   \n        Population density, 2010                                     23320.185868   \n        Share white, 2010                                                0.319421   \nPanel C Filing for cause                                                 0.132984   \n        Filing without cause                                             0.033508   \n        Filing for nonpayment                                            0.716230   \nPanel D Defendant has attorney                                           0.011518   \n        Plaintiff has attorney                                           0.884817   \n        Defendant is entity                                              0.019895   \n        Plaintiff is entity                                              0.808377   \n\n                                                           Difference in Cases Won by Defendant  \\\n                                                                                     Unweighted   \nPanel A Total Crime Incidents, 2017                                                  -10.485477   \n        Change in Crime Incidents, 2017-2019                                         -15.587778   \n        relative_pre_treatment_change_in_group_0_crimes...                            -1.687350   \nPanel B Bachelor's degree, 2010                                                        0.002512   \n        Job density, 2013                                                          -1272.661768   \n        Median household income, 2016                                               2997.870414   \n        Poverty rate, 2010                                                            -0.021030   \n        Population density, 2010                                                    -297.766413   \n        Share white, 2010                                                              0.012446   \nPanel C Filing for cause                                                               0.043066   \n        Filing without cause                                                          -0.020988   \n        Filing for nonpayment                                                         -0.106658   \nPanel D Defendant has attorney                                                        -0.048427   \n        Plaintiff has attorney                                                        -0.049788   \n        Defendant is entity                                                           -0.008715   \n        Plaintiff is entity                                                           -0.077182   \n\n                                                                          \\\n                                                                \\emph{p}   \nPanel A Total Crime Incidents, 2017                         4.045004e-01   \n        Change in Crime Incidents, 2017-2019                6.822542e-03   \n        relative_pre_treatment_change_in_group_0_crimes...  1.962394e-01   \nPanel B Bachelor's degree, 2010                             8.133641e-01   \n        Job density, 2013                                   5.501121e-01   \n        Median household income, 2016                       1.427126e-02   \n        Poverty rate, 2010                                  4.904136e-03   \n        Population density, 2010                            6.737331e-01   \n        Share white, 2010                                   3.450948e-01   \nPanel C Filing for cause                                    5.801068e-03   \n        Filing without cause                                3.431724e-02   \n        Filing for nonpayment                               3.013004e-07   \nPanel D Defendant has attorney                              2.406617e-08   \n        Plaintiff has attorney                              4.887193e-04   \n        Defendant is entity                                 2.432211e-01   \n        Plaintiff is entity                                 1.569652e-05   \n\n                                                                         \\\n                                                               Weighted   \nPanel A Total Crime Incidents, 2017                          -11.462231   \n        Change in Crime Incidents, 2017-2019                   3.097680   \n        relative_pre_treatment_change_in_group_0_crimes...     0.341471   \nPanel B Bachelor's degree, 2010                               -0.010712   \n        Job density, 2013                                  -1326.513370   \n        Median household income, 2016                      -1834.451383   \n        Poverty rate, 2010                                    -0.006456   \n        Population density, 2010                            -652.082941   \n        Share white, 2010                                     -0.010170   \nPanel C Filing for cause                                      -0.001316   \n        Filing without cause                                  -0.045398   \n        Filing for nonpayment                                 -0.023749   \nPanel D Defendant has attorney                                -0.066304   \n        Plaintiff has attorney                                -0.043884   \n        Defendant is entity                                   -0.012203   \n        Plaintiff is entity                                   -0.065793   \n\n                                                                          \n                                                                \\emph{p}  \nPanel A Total Crime Incidents, 2017                         3.642144e-01  \n        Change in Crime Incidents, 2017-2019                5.550044e-01  \n        relative_pre_treatment_change_in_group_0_crimes...  7.697571e-01  \nPanel B Bachelor's degree, 2010                             3.146804e-01  \n        Job density, 2013                                   5.289860e-01  \n        Median household income, 2016                       1.479477e-01  \n        Poverty rate, 2010                                  3.899724e-01  \n        Population density, 2010                            3.550874e-01  \n        Share white, 2010                                   4.441247e-01  \nPanel C Filing for cause                                    9.367176e-01  \n        Filing without cause                                4.819967e-05  \n        Filing for nonpayment                               2.730820e-01  \nPanel D Defendant has attorney                              2.825784e-11  \n        Plaintiff has attorney                              1.933650e-03  \n        Defendant is entity                                 1.148354e-01  \n        Plaintiff is entity                                 2.143492e-04  ",
      "text/html": "<div>\n<style scoped>\n    .dataframe tbody tr th:only-of-type {\n        vertical-align: middle;\n    }\n\n    .dataframe tbody tr th {\n        vertical-align: top;\n    }\n\n    .dataframe thead tr th {\n        text-align: left;\n    }\n</style>\n<table border=\"1\" class=\"dataframe\">\n  <thead>\n    <tr>\n      <th></th>\n      <th></th>\n      <th></th>\n      <th colspan=\"4\" halign=\"left\">Difference in Cases Won by Defendant</th>\n    </tr>\n    <tr>\n      <th></th>\n      <th></th>\n      <th>Cases Won by Plaintiff</th>\n      <th>Unweighted</th>\n      <th>\\emph{p}</th>\n      <th>Weighted</th>\n      <th>\\emph{p}</th>\n    </tr>\n  </thead>\n  <tbody>\n    <tr>\n      <th rowspan=\"3\" valign=\"top\">Panel A</th>\n      <th>Total Crime Incidents, 2017</th>\n      <td>338.178010</td>\n      <td>-10.485477</td>\n      <td>4.045004e-01</td>\n      <td>-11.462231</td>\n      <td>3.642144e-01</td>\n    </tr>\n    <tr>\n      <th>Change in Crime Incidents, 2017-2019</th>\n      <td>-50.052356</td>\n      <td>-15.587778</td>\n      <td>6.822542e-03</td>\n      <td>3.097680</td>\n      <td>5.550044e-01</td>\n    </tr>\n    <tr>\n      <th>relative_pre_treatment_change_in_group_0_crimes_250m</th>\n      <td>-4.662827</td>\n      <td>-1.687350</td>\n      <td>1.962394e-01</td>\n      <td>0.341471</td>\n      <td>7.697571e-01</td>\n    </tr>\n    <tr>\n      <th rowspan=\"6\" valign=\"top\">Panel B</th>\n      <th>Bachelor's degree, 2010</th>\n      <td>0.316407</td>\n      <td>0.002512</td>\n      <td>8.133641e-01</td>\n      <td>-0.010712</td>\n      <td>3.146804e-01</td>\n    </tr>\n    <tr>\n      <th>Job density, 2013</th>\n      <td>16161.032515</td>\n      <td>-1272.661768</td>\n      <td>5.501121e-01</td>\n      <td>-1326.513370</td>\n      <td>5.289860e-01</td>\n    </tr>\n    <tr>\n      <th>Median household income, 2016</th>\n      <td>47553.063874</td>\n      <td>2997.870414</td>\n      <td>1.427126e-02</td>\n      <td>-1834.451383</td>\n      <td>1.479477e-01</td>\n    </tr>\n    <tr>\n      <th>Poverty rate, 2010</th>\n      <td>0.279638</td>\n      <td>-0.021030</td>\n      <td>4.904136e-03</td>\n      <td>-0.006456</td>\n      <td>3.899724e-01</td>\n    </tr>\n    <tr>\n      <th>Population density, 2010</th>\n      <td>23320.185868</td>\n      <td>-297.766413</td>\n      <td>6.737331e-01</td>\n      <td>-652.082941</td>\n      <td>3.550874e-01</td>\n    </tr>\n    <tr>\n      <th>Share white, 2010</th>\n      <td>0.319421</td>\n      <td>0.012446</td>\n      <td>3.450948e-01</td>\n      <td>-0.010170</td>\n      <td>4.441247e-01</td>\n    </tr>\n    <tr>\n      <th rowspan=\"3\" valign=\"top\">Panel C</th>\n      <th>Filing for cause</th>\n      <td>0.132984</td>\n      <td>0.043066</td>\n      <td>5.801068e-03</td>\n      <td>-0.001316</td>\n      <td>9.367176e-01</td>\n    </tr>\n    <tr>\n      <th>Filing without cause</th>\n      <td>0.033508</td>\n      <td>-0.020988</td>\n      <td>3.431724e-02</td>\n      <td>-0.045398</td>\n      <td>4.819967e-05</td>\n    </tr>\n    <tr>\n      <th>Filing for nonpayment</th>\n      <td>0.716230</td>\n      <td>-0.106658</td>\n      <td>3.013004e-07</td>\n      <td>-0.023749</td>\n      <td>2.730820e-01</td>\n    </tr>\n    <tr>\n      <th rowspan=\"4\" valign=\"top\">Panel D</th>\n      <th>Defendant has attorney</th>\n      <td>0.011518</td>\n      <td>-0.048427</td>\n      <td>2.406617e-08</td>\n      <td>-0.066304</td>\n      <td>2.825784e-11</td>\n    </tr>\n    <tr>\n      <th>Plaintiff has attorney</th>\n      <td>0.884817</td>\n      <td>-0.049788</td>\n      <td>4.887193e-04</td>\n      <td>-0.043884</td>\n      <td>1.933650e-03</td>\n    </tr>\n    <tr>\n      <th>Defendant is entity</th>\n      <td>0.019895</td>\n      <td>-0.008715</td>\n      <td>2.432211e-01</td>\n      <td>-0.012203</td>\n      <td>1.148354e-01</td>\n    </tr>\n    <tr>\n      <th>Plaintiff is entity</th>\n      <td>0.808377</td>\n      <td>-0.077182</td>\n      <td>1.569652e-05</td>\n      <td>-0.065793</td>\n      <td>2.143492e-04</td>\n    </tr>\n  </tbody>\n</table>\n</div>"
     },
     "execution_count": 5,
     "metadata": {},
     "output_type": "execute_result"
    }
   ],
   "source": [
    "# Re-Balance on Controls\n",
    "\n",
    "\n",
    "balance_table, pre_treatment_covariates = test_balance(df, analysis, OUTPUT_TABLES)\n",
    "balance_table"
   ]
  },
  {
   "cell_type": "markdown",
   "source": [
    "## Outcome Regression DiD Using Treatment Date Dummies"
   ],
   "metadata": {
    "collapsed": false
   }
  },
  {
   "cell_type": "code",
   "execution_count": 6,
   "outputs": [
    {
     "name": "stderr",
     "output_type": "stream",
     "text": [
      "Computing ATTgt [workers=12]  100%|████████████████████| 980/980 [00:09<00:00, 100.38it/s]\n"
     ]
    }
   ],
   "source": [
    "df = pd.read_csv(INPUT_DATA_PANEL)\n",
    "df = df.loc[~df[treatment_date_variable].isin(['2019-04', '2019-05']), :]\n",
    "treatment_date_variable_dummies = pd.get_dummies(df[treatment_date_variable].str.replace(\"-\", \"_\", regex=False),\n",
    "                                                 prefix=f\"{treatment_date_variable}\",\n",
    "                                                 prefix_sep=\"_\",\n",
    "                                                 drop_first=True)\n",
    "neighborhood_variable_dummies = pd.get_dummies(df['neighborhood'].str.replace(\" \", \"\", regex=False),\n",
    "                                               prefix=\"neighborhood\",\n",
    "                                               prefix_sep=\"_\",\n",
    "                                               drop_first=True)\n",
    "df = pd.concat([df, neighborhood_variable_dummies, treatment_date_variable_dummies], axis=1)\n",
    "pre_treatment_covariates_or = treatment_date_variable_dummies.columns.tolist() + neighborhood_variable_dummies.columns.tolist()\n",
    "\n",
    "df = prepare_df_for_DiD(df=df,\n",
    "                        analysis=analysis,\n",
    "                        treatment_date_variable=treatment_date_variable,\n",
    "                        pre_treatment_covariates=pre_treatment_covariates_or,\n",
    "                        value_vars=weekly_value_vars_crime,\n",
    "                        period_to_int_dictionary=month_to_int_dictionary)\n",
    "# Run DiD conditional on covariates.\n",
    "att_gt_all_crimes = ATTgt(data=df, cohort_name=treatment_date_variable, base_period='universal')\n",
    "formula = f'{analysis} ~ ' + '+'.join(pre_treatment_covariates_or)\n",
    "result = att_gt_all_crimes.fit(formula=formula, control_group='never_treated', n_jobs=-1, progress_bar=True, est_method='reg')\n",
    "\n",
    "# Plot D.R. ATT(t-g)s on a long horizon.\n",
    "fig, ax = plt.subplots(layout='constrained')\n",
    "figure_utilities.aggregate_by_event_time_and_plot(att_gt_all_crimes,\n",
    "                                                  start_period=constants.Analysis.MINIMUM_PRE_PERIOD,\n",
    "                                                  end_period=constants.Analysis.MAXIMUM_POST_PERIOD,\n",
    "                                                  title=\"\", ax=ax)\n",
    "\n",
    "figure_utilities.save_figure_and_close(fig, os.path.join(OUTPUT_FIGURES, \"att_gt_or_all_crimes.png\"))"
   ],
   "metadata": {
    "collapsed": false,
    "ExecuteTime": {
     "end_time": "2023-08-14T02:04:05.918162Z",
     "start_time": "2023-08-14T02:03:54.063289Z"
    }
   }
  },
  {
   "cell_type": "markdown",
   "source": [
    "## Doubly Robust DiD Conditional on Covariates"
   ],
   "metadata": {
    "collapsed": false
   }
  },
  {
   "cell_type": "code",
   "execution_count": 13,
   "outputs": [
    {
     "name": "stderr",
     "output_type": "stream",
     "text": [
      "Computing ATTgt [workers=12]  100%|████████████████████| 980/980 [00:02<00:00, 331.66it/s]\n"
     ]
    }
   ],
   "source": [
    "df = pd.read_csv(INPUT_DATA_PANEL)\n",
    "df = df.loc[~df[treatment_date_variable].isin(['2019-04', '2019-05']), :]\n",
    "df = prepare_df_for_DiD(df=df,\n",
    "                        analysis=analysis,\n",
    "                        treatment_date_variable=treatment_date_variable,\n",
    "                        pre_treatment_covariates=pre_treatment_covariates,\n",
    "                        value_vars=weekly_value_vars_crime,\n",
    "                        period_to_int_dictionary=month_to_int_dictionary)\n",
    "# Run DiD conditional on covariates.\n",
    "att_gt_all_crimes = ATTgt(data=df, cohort_name=treatment_date_variable, base_period='universal')\n",
    "formula = f'{analysis} ~ ' + '+'.join(pre_treatment_covariates)\n",
    "att_gt_all_crimes.fit(formula=formula, control_group='never_treated', n_jobs=-1, progress_bar=True)\n",
    "# Plot D.R. ATT(t-g)s on a long horizon.\n",
    "fig, ax = plt.subplots(layout='constrained')\n",
    "\n",
    "figure_utilities.aggregate_by_event_time_and_plot(att_gt_all_crimes,\n",
    "                                                  start_period=constants.Analysis.MINIMUM_PRE_PERIOD,\n",
    "                                                  end_period=constants.Analysis.MAXIMUM_POST_PERIOD,\n",
    "                                                  title=\"\", ax=ax)\n",
    "\n",
    "figure_utilities.save_figure_and_close(fig, os.path.join(OUTPUT_FIGURES, \"att_gt_dr_all_crimes.png\"))"
   ],
   "metadata": {
    "collapsed": false,
    "ExecuteTime": {
     "end_time": "2023-08-14T02:26:52.410754Z",
     "start_time": "2023-08-14T02:26:47.515778Z"
    }
   }
  },
  {
   "cell_type": "code",
   "execution_count": null,
   "outputs": [],
   "source": [
    "# Check for heterogeneous treatment effects.\n",
    "subsample_variables = ['poor_share2010', 'share_white2010', 'popdensity2010']\n",
    "# Read fresh copy of unrestricted dataset into memory.\n",
    "df = pd.read_csv(INPUT_DATA_PANEL)\n",
    "treatment_date_variable = 'latest_docket_month'  # Store treatment date variable.\n",
    "point_estimates = []\n",
    "ci_uppers = []\n",
    "ci_lowers = []\n",
    "\n",
    "for subsample_variable in subsample_variables:\n",
    "    # Get results on below median subsample.\n",
    "    below_median_subsample = df[df[subsample_variable] < df[subsample_variable].median()].copy()\n",
    "    weekly_value_vars_crime, month_to_int_dictionary, int_to_month_dictionary = get_value_variable_names(\n",
    "        below_median_subsample, analysis)\n",
    "    below_median_subsample = below_median_subsample.reset_index()\n",
    "    below_median_subsample = prepare_df_for_DiD(df=below_median_subsample,\n",
    "                                                analysis=analysis,\n",
    "                                                treatment_date_variable=treatment_date_variable,\n",
    "                                                pre_treatment_covariates=pre_treatment_covariates,\n",
    "                                                value_vars=weekly_value_vars_crime,\n",
    "                                                period_to_int_dictionary=month_to_int_dictionary)\n",
    "    # Run DiD conditional on covariates.\n",
    "    att_gt_below_median = ATTgt(data=below_median_subsample, cohort_name=treatment_date_variable,\n",
    "                                base_period='universal')\n",
    "    formula = f'{analysis} ~ ' + '+'.join(pre_treatment_covariates)\n",
    "    att_gt_below_median.fit(formula=formula, control_group='never_treated', n_jobs=-1, progress_bar=True)\n",
    "    average_post_treatment_att_below_median = att_gt_below_median.aggregate('event', overall=True)\n",
    "    point_estimate_below_median = round(average_post_treatment_att_below_median['EventAggregationOverall'].iloc[0, 0],\n",
    "                                        2)\n",
    "    ci_upper_below_median = round(average_post_treatment_att_below_median['EventAggregationOverall'].iloc[0, 3], 2)\n",
    "    ci_lower_below_median = round(average_post_treatment_att_below_median['EventAggregationOverall'].iloc[0, 2], 2)\n",
    "    point_estimates.append(point_estimate_below_median)\n",
    "    ci_uppers.append(ci_upper_below_median)\n",
    "    ci_lowers.append(ci_lower_below_median)\n",
    "\n",
    "    # Get results on above median subsample.\n",
    "    above_median_subsample = df[df[subsample_variable] > df[subsample_variable].median()].copy()\n",
    "    weekly_value_vars_crime, month_to_int_dictionary, int_to_month_dictionary = get_value_variable_names(\n",
    "        above_median_subsample, analysis)\n",
    "\n",
    "    above_median_subsample = above_median_subsample.reset_index()\n",
    "    above_median_subsample = prepare_df_for_DiD(df=above_median_subsample,\n",
    "                                                analysis=analysis,\n",
    "                                                treatment_date_variable=treatment_date_variable,\n",
    "                                                pre_treatment_covariates=pre_treatment_covariates,\n",
    "                                                value_vars=weekly_value_vars_crime,\n",
    "                                                period_to_int_dictionary=month_to_int_dictionary)\n",
    "    # Run DiD conditional on covariates.\n",
    "    att_gt_above_median = ATTgt(data=above_median_subsample, cohort_name=treatment_date_variable,\n",
    "                                base_period='universal')\n",
    "    formula = f'{analysis} ~ ' + '+'.join(pre_treatment_covariates)\n",
    "    att_gt_above_median.fit(formula=formula, control_group='never_treated', n_jobs=-1, progress_bar=True)\n",
    "    average_post_treatment_att_above_median = att_gt_above_median.aggregate('event', overall=True)\n",
    "    point_estimate_above_median = round(average_post_treatment_att_above_median['EventAggregationOverall'].iloc[0, 0],\n",
    "                                        2)\n",
    "    ci_upper_above_median = round(average_post_treatment_att_above_median['EventAggregationOverall'].iloc[0, 3], 2)\n",
    "    ci_lower_above_median = round(average_post_treatment_att_above_median['EventAggregationOverall'].iloc[0, 2], 2)\n",
    "    point_estimates.append(point_estimate_above_median)\n",
    "    ci_uppers.append(ci_upper_above_median)\n",
    "    ci_lowers.append(ci_lower_above_median)\n",
    "\n",
    "# In[4]:\n",
    "\n",
    "\n",
    "fig, ax = plt.subplots()\n",
    "figure_utilities.plot_labeled_vline(ax, x=0, text=\"\", color='black', linestyle='-')\n",
    "for i, (ci_lower, ci_upper) in enumerate(zip(ci_lowers, ci_uppers)):\n",
    "    ax.hlines(y=i, xmin=ci_lower, xmax=ci_upper, color='black')\n",
    "ax.scatter(point_estimates, range(len(point_estimates)), color='black', s=7)\n",
    "ax.set_yticks(ticks=range(len(point_estimates)),\n",
    "              labels=[\"Below median poverty rate, 2010\", \"Above median poverty rate, 2010\",\n",
    "                      \"Below median share white, 2010\", \"Above median share white, 2010\",\n",
    "                      \"Below median population density, 2010\", \"Above median population density, 2010\"])\n",
    "ax.set_ylabel(\"Sample Restriction\")\n",
    "ax.set_xlabel(\"Average Post-Treatment ATT\")\n",
    "\n",
    "figure_utilities.save_figure_and_close(fig, os.path.join(OUTPUT_FIGURES, \"heterogenous_effects.png\"))"
   ],
   "metadata": {
    "collapsed": false
   }
  },
  {
   "cell_type": "code",
   "execution_count": 15,
   "outputs": [
    {
     "name": "stderr",
     "output_type": "stream",
     "text": [
      "Computing ATTgt [workers=12]  100%|████████████████████| 980/980 [00:03<00:00, 325.43it/s]\n"
     ]
    }
   ],
   "source": [
    "df = pd.read_csv(INPUT_DATA_PANEL)\n",
    "# Generate value variables list and dictionaries mapping between months and integers.\n",
    "analysis = f\"group_1_crimes_{constants.Analysis.MAIN_RESULTS_RADIUS}m\"\n",
    "weekly_value_vars_crime, month_to_int_dictionary, int_to_month_dictionary = get_value_variable_names(df, analysis)\n",
    "df = df.loc[~df[treatment_date_variable].isin(['2019-04', '2019-05']), :]\n",
    "df = prepare_df_for_DiD(df=df,\n",
    "                        analysis=analysis,\n",
    "                        treatment_date_variable=treatment_date_variable,\n",
    "                        pre_treatment_covariates=pre_treatment_covariates,\n",
    "                        value_vars=weekly_value_vars_crime,\n",
    "                        period_to_int_dictionary=month_to_int_dictionary)\n",
    "\n",
    "# Run DiD conditional on covariates.\n",
    "att_gt_placebo_crimes = ATTgt(data=df, cohort_name=treatment_date_variable, base_period='universal')\n",
    "formula = f'{analysis} ~ ' + '+'.join(pre_treatment_covariates)\n",
    "result = att_gt_placebo_crimes.fit(formula=formula, control_group='never_treated', n_jobs=-1, progress_bar=True)\n",
    "\n",
    "# Plot D.R. ATT(t-g)s for placebo crimes next to D.R. ATT(t-g)s for all crimes.\n",
    "fig, (ax1, ax2) = plt.subplots(1, 2, layout='constrained', sharey=True)\n",
    "\n",
    "figure_utilities.aggregate_by_event_time_and_plot(att_gt_all_crimes, start_period=-5,\n",
    "                                                  end_period=36,\n",
    "                                                  title=\"All Crime Incidents as Outcome\", ax=ax1)\n",
    "figure_utilities.aggregate_by_event_time_and_plot(att_gt_placebo_crimes, start_period=-5,\n",
    "                                                  end_period=36,\n",
    "                                                  title=\"Subset of Crime Incidents as Outcome\", ax=ax2)\n",
    "\n",
    "figure_utilities.save_figure_and_close(fig, os.path.join(OUTPUT_FIGURES, \"att_gt_dr_group_1_crimes.png\"))"
   ],
   "metadata": {
    "collapsed": false,
    "ExecuteTime": {
     "end_time": "2023-08-14T02:34:02.662853Z",
     "start_time": "2023-08-14T02:33:57.604615Z"
    }
   }
  },
  {
   "cell_type": "code",
   "execution_count": null,
   "outputs": [],
   "source": [],
   "metadata": {
    "collapsed": false
   }
  }
 ],
 "metadata": {
  "kernelspec": {
   "name": "venv",
   "language": "python",
   "display_name": "venv"
  },
  "language_info": {
   "codemirror_mode": {
    "name": "ipython",
    "version": 3
   },
   "file_extension": ".py",
   "mimetype": "text/x-python",
   "name": "python",
   "nbconvert_exporter": "python",
   "pygments_lexer": "ipython3",
   "version": "3.10.8"
  }
 },
 "nbformat": 4,
 "nbformat_minor": 5
}
