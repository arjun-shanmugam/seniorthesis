{
 "cells": [
  {
   "cell_type": "markdown",
   "id": "50fd5b8e-e603-4d88-9201-fbc462438e2f",
   "metadata": {},
   "source": [
    "# Setup"
   ]
  },
  {
   "cell_type": "code",
   "execution_count": 1,
   "id": "ea7989d9-f382-4940-8600-582c59aa1f58",
   "metadata": {
    "ExecuteTime": {
     "end_time": "2023-11-24T19:35:30.272844Z",
     "start_time": "2023-11-24T19:35:29.177481Z"
    }
   },
   "outputs": [],
   "source": [
    "import figure_utilities\n",
    "import constants\n",
    "from stats_utilities import test_balance, run_event_study\n",
    "import matplotlib.pyplot as plt\n",
    "from panel_utilities import get_value_variable_names, prepare_df_for_DiD\n",
    "plt.rcParams['savefig.dpi'] = 300\n",
    "import statsmodels.api as sm\n",
    "import os\n",
    "from differences import ATTgt\n",
    "import pandas as pd\n",
    "import numpy as np"
   ]
  },
  {
   "cell_type": "code",
   "execution_count": 2,
   "id": "acda29f4-f57a-461e-973e-e213e5893b72",
   "metadata": {
    "ExecuteTime": {
     "end_time": "2023-11-24T19:35:30.273080Z",
     "start_time": "2023-11-24T19:35:30.272263Z"
    }
   },
   "outputs": [],
   "source": [
    "# Store paths.\n",
    "INPUT_DATA_PANEL = \"../data/03_cleaned/crime_analysis_monthly.csv\"\n",
    "OUTPUT_TABLES = \"../output/final_paper/tables\"\n",
    "OUTPUT_FIGURES = \"../output/final_paper/figures\""
   ]
  },
  {
   "cell_type": "markdown",
   "id": "399ba841-86d3-41f5-8665-900a84468673",
   "metadata": {},
   "source": [
    "# Main Results"
   ]
  },
  {
   "cell_type": "code",
   "execution_count": 3,
   "id": "7b0031d1-bd58-4496-9965-d3d0cd0e7427",
   "metadata": {
    "ExecuteTime": {
     "end_time": "2023-11-24T19:35:30.509087Z",
     "start_time": "2023-11-24T19:35:30.272427Z"
    }
   },
   "outputs": [],
   "source": [
    "# Read fresh copy of unrestricted dataset into memory.\n",
    "df = pd.read_csv(INPUT_DATA_PANEL)\n",
    "treatment_date_variable = 'latest_docket_month'  # Store treatment date variable.\n"
   ]
  },
  {
   "cell_type": "code",
   "execution_count": 4,
   "id": "9c24ea82-f225-4f43-ab1e-b4b83ce7aa15",
   "metadata": {
    "ExecuteTime": {
     "end_time": "2023-11-24T19:35:30.512649Z",
     "start_time": "2023-11-24T19:35:30.510595Z"
    }
   },
   "outputs": [],
   "source": [
    "# Generate value variables list and dictionaries mapping between months and integers.\n",
    "analysis = f\"group_0_crimes_{constants.Analysis.MAIN_RESULTS_RADIUS}m\"\n",
    "weekly_value_vars_crime, month_to_int_dictionary, int_to_month_dictionary = get_value_variable_names(df, analysis)"
   ]
  },
  {
   "cell_type": "code",
   "execution_count": 5,
   "id": "2fae8e4f-ff80-46cd-822a-1cffc1c2edc8",
   "metadata": {
    "ExecuteTime": {
     "end_time": "2023-11-24T19:35:30.691008Z",
     "start_time": "2023-11-24T19:35:30.513879Z"
    }
   },
   "outputs": [
    {
     "data": {
      "text/plain": "                                                                              \\\n                                                  Cases Won by Plaintiff (1)   \nPanel A Total Incidents, 2017                                     295.810606   \n        $\\Delta$ Incidents, 2017-2019                             -51.580808   \n        $\\Delta$ Incidents, 2 Years Pre-Treatment                  -4.542929   \nPanel B Bachelor's degree, 2010                                     0.330414   \n        Job density, 2013                                       18339.304431   \n        Median household income, 2016                           48690.489899   \n        Poverty rate, 2010                                          0.271480   \n        Population density, 2010                                22820.682895   \n        Share white, 2010                                           0.320060   \nPanel C Filing for cause                                            0.178030   \n        Defendant has attorney                                      0.003788   \n        Plaintiff has attorney                                      0.866162   \n        Filing without cause                                        0.040404   \n        Filing for nonpayment                                       0.781566   \n\n                                                  Difference in Cases Won by Defendant  \\\n                                                                        Unweighted (2)   \nPanel A Total Incidents, 2017                                               -21.320862   \n        $\\Delta$ Incidents, 2017-2019                                       -16.887102   \n        $\\Delta$ Incidents, 2 Years Pre-Treatment                            -1.502370   \nPanel B Bachelor's degree, 2010                                               0.016408   \n        Job density, 2013                                                   575.202823   \n        Median household income, 2016                                      4225.390598   \n        Poverty rate, 2010                                                   -0.031377   \n        Population density, 2010                                           -924.949390   \n        Share white, 2010                                                     0.012198   \nPanel C Filing for cause                                                      0.078730   \n        Defendant has attorney                                               -0.052156   \n        Plaintiff has attorney                                               -0.066706   \n        Filing without cause                                                 -0.015540   \n        Filing for nonpayment                                                -0.063190   \n\n                                                                              \\\n                                                   \\emph{p} (3) Weighted (4)   \nPanel A Total Incidents, 2017                      8.620097e-02    -1.683080   \n        $\\Delta$ Incidents, 2017-2019              6.803477e-03     1.688375   \n        $\\Delta$ Incidents, 2 Years Pre-Treatment  2.709252e-01     0.443884   \nPanel B Bachelor's degree, 2010                    1.460136e-01    -0.001922   \n        Job density, 2013                          8.065373e-01 -1282.720521   \n        Median household income, 2016              1.153473e-03    44.952095   \n        Poverty rate, 2010                         4.010476e-05    -0.000730   \n        Population density, 2010                   2.062529e-01   155.113066   \n        Share white, 2010                          3.844655e-01     0.001699   \nPanel C Filing for cause                           1.083017e-05     0.002319   \n        Defendant has attorney                     1.026969e-09    -0.000033   \n        Plaintiff has attorney                     1.882203e-05     0.008507   \n        Filing without cause                       1.580648e-01     0.000897   \n        Filing for nonpayment                      1.720400e-03    -0.003216   \n\n                                                                \n                                                  \\emph{p} (5)  \nPanel A Total Incidents, 2017                         0.887314  \n        $\\Delta$ Incidents, 2017-2019                 0.766036  \n        $\\Delta$ Incidents, 2 Years Pre-Treatment     0.715688  \nPanel B Bachelor's degree, 2010                       0.865269  \n        Job density, 2013                             0.598268  \n        Median household income, 2016                 0.972919  \n        Poverty rate, 2010                            0.920416  \n        Population density, 2010                      0.825744  \n        Share white, 2010                             0.905084  \nPanel C Filing for cause                              0.906184  \n        Defendant has attorney                        0.991754  \n        Plaintiff has attorney                        0.632490  \n        Filing without cause                          0.929219  \n        Filing for nonpayment                         0.879706  ",
      "text/html": "<div>\n<style scoped>\n    .dataframe tbody tr th:only-of-type {\n        vertical-align: middle;\n    }\n\n    .dataframe tbody tr th {\n        vertical-align: top;\n    }\n\n    .dataframe thead tr th {\n        text-align: left;\n    }\n</style>\n<table border=\"1\" class=\"dataframe\">\n  <thead>\n    <tr>\n      <th></th>\n      <th></th>\n      <th></th>\n      <th colspan=\"4\" halign=\"left\">Difference in Cases Won by Defendant</th>\n    </tr>\n    <tr>\n      <th></th>\n      <th></th>\n      <th>Cases Won by Plaintiff (1)</th>\n      <th>Unweighted (2)</th>\n      <th>\\emph{p} (3)</th>\n      <th>Weighted (4)</th>\n      <th>\\emph{p} (5)</th>\n    </tr>\n  </thead>\n  <tbody>\n    <tr>\n      <th rowspan=\"3\" valign=\"top\">Panel A</th>\n      <th>Total Incidents, 2017</th>\n      <td>295.810606</td>\n      <td>-21.320862</td>\n      <td>8.620097e-02</td>\n      <td>-1.683080</td>\n      <td>0.887314</td>\n    </tr>\n    <tr>\n      <th>$\\Delta$ Incidents, 2017-2019</th>\n      <td>-51.580808</td>\n      <td>-16.887102</td>\n      <td>6.803477e-03</td>\n      <td>1.688375</td>\n      <td>0.766036</td>\n    </tr>\n    <tr>\n      <th>$\\Delta$ Incidents, 2 Years Pre-Treatment</th>\n      <td>-4.542929</td>\n      <td>-1.502370</td>\n      <td>2.709252e-01</td>\n      <td>0.443884</td>\n      <td>0.715688</td>\n    </tr>\n    <tr>\n      <th rowspan=\"6\" valign=\"top\">Panel B</th>\n      <th>Bachelor's degree, 2010</th>\n      <td>0.330414</td>\n      <td>0.016408</td>\n      <td>1.460136e-01</td>\n      <td>-0.001922</td>\n      <td>0.865269</td>\n    </tr>\n    <tr>\n      <th>Job density, 2013</th>\n      <td>18339.304431</td>\n      <td>575.202823</td>\n      <td>8.065373e-01</td>\n      <td>-1282.720521</td>\n      <td>0.598268</td>\n    </tr>\n    <tr>\n      <th>Median household income, 2016</th>\n      <td>48690.489899</td>\n      <td>4225.390598</td>\n      <td>1.153473e-03</td>\n      <td>44.952095</td>\n      <td>0.972919</td>\n    </tr>\n    <tr>\n      <th>Poverty rate, 2010</th>\n      <td>0.271480</td>\n      <td>-0.031377</td>\n      <td>4.010476e-05</td>\n      <td>-0.000730</td>\n      <td>0.920416</td>\n    </tr>\n    <tr>\n      <th>Population density, 2010</th>\n      <td>22820.682895</td>\n      <td>-924.949390</td>\n      <td>2.062529e-01</td>\n      <td>155.113066</td>\n      <td>0.825744</td>\n    </tr>\n    <tr>\n      <th>Share white, 2010</th>\n      <td>0.320060</td>\n      <td>0.012198</td>\n      <td>3.844655e-01</td>\n      <td>0.001699</td>\n      <td>0.905084</td>\n    </tr>\n    <tr>\n      <th rowspan=\"5\" valign=\"top\">Panel C</th>\n      <th>Filing for cause</th>\n      <td>0.178030</td>\n      <td>0.078730</td>\n      <td>1.083017e-05</td>\n      <td>0.002319</td>\n      <td>0.906184</td>\n    </tr>\n    <tr>\n      <th>Defendant has attorney</th>\n      <td>0.003788</td>\n      <td>-0.052156</td>\n      <td>1.026969e-09</td>\n      <td>-0.000033</td>\n      <td>0.991754</td>\n    </tr>\n    <tr>\n      <th>Plaintiff has attorney</th>\n      <td>0.866162</td>\n      <td>-0.066706</td>\n      <td>1.882203e-05</td>\n      <td>0.008507</td>\n      <td>0.632490</td>\n    </tr>\n    <tr>\n      <th>Filing without cause</th>\n      <td>0.040404</td>\n      <td>-0.015540</td>\n      <td>1.580648e-01</td>\n      <td>0.000897</td>\n      <td>0.929219</td>\n    </tr>\n    <tr>\n      <th>Filing for nonpayment</th>\n      <td>0.781566</td>\n      <td>-0.063190</td>\n      <td>1.720400e-03</td>\n      <td>-0.003216</td>\n      <td>0.879706</td>\n    </tr>\n  </tbody>\n</table>\n</div>"
     },
     "execution_count": 5,
     "metadata": {},
     "output_type": "execute_result"
    }
   ],
   "source": [
    "# Re-Balance on Controls\n",
    "balance_table, pre_treatment_covariates = test_balance(df, analysis, OUTPUT_TABLES)\n",
    "balance_table"
   ]
  },
  {
   "cell_type": "markdown",
   "source": [
    "## Crime Trends Around Filing Date, Latest Docket Date"
   ],
   "metadata": {
    "collapsed": false
   }
  },
  {
   "cell_type": "code",
   "execution_count": 6,
   "outputs": [],
   "source": [
    "df = pd.read_csv(INPUT_DATA_PANEL)\n",
    "result_file_month, omitted_period_control_mean = run_event_study(df, 'file_month')\n",
    "result_latest_docket_month, omitted_period_control_mean = run_event_study(df, 'latest_docket_month')"
   ],
   "metadata": {
    "collapsed": false,
    "ExecuteTime": {
     "end_time": "2023-11-24T19:35:46.111690Z",
     "start_time": "2023-11-24T19:35:30.692183Z"
    }
   }
  },
  {
   "cell_type": "code",
   "execution_count": 7,
   "outputs": [],
   "source": [
    "for result, treatment_date_variable in zip([result_file_month, result_latest_docket_month], ['File Date', 'Latest Docket Date']):\n",
    "    month = []\n",
    "    treatment = []\n",
    "    control = []\n",
    "    for i in range(-12, 37):\n",
    "        month.append(i)\n",
    "        control.append(result.params[f'month_{i}'] )\n",
    "        treatment.append((result.params['judgment_for_plaintiff'] +\n",
    "                           result.params[f'month_{i}_X_treatment_indicator'] +\n",
    "                           result.params[f'month_{i}'] ))\n",
    "    fig, ax = plt.subplots()\n",
    "    ax.plot(month,\n",
    "        control,\n",
    "        color='grey',\n",
    "        linestyle='--',\n",
    "        marker='o',\n",
    "        label=\"Properties where Tenant Won Eviction Case\")\n",
    "    ax.plot(month,\n",
    "            treatment,\n",
    "            color='black',\n",
    "            linestyle='--',\n",
    "            marker='o',\n",
    "            label=\"Properties where Plaintiff Won Eviction Case\")\n",
    "    label = treatment_date_variable.replace(\" \", \"\\n\")\n",
    "    figure_utilities.plot_labeled_vline(ax, x=0, text=f\"{label}\", color='black', linestyle='-',\n",
    "                           text_y_location_normalized=0.1)\n",
    "    ax.set_xlabel(f\"Month Relative to {treatment_date_variable}\")\n",
    "    ax.set_ylabel(f\"Crime Incidents within {constants.Analysis.MAIN_RESULTS_RADIUS} Meters\")\n",
    "    ax.legend()\n",
    "    figure_utilities.save_figure_and_close(fig, os.path.join(OUTPUT_FIGURES, f\"crime_trends_around_{treatment_date_variable}.png\"))"
   ],
   "metadata": {
    "collapsed": false,
    "ExecuteTime": {
     "end_time": "2023-11-24T19:35:46.658467Z",
     "start_time": "2023-11-24T19:35:46.155948Z"
    }
   }
  },
  {
   "cell_type": "code",
   "execution_count": 8,
   "outputs": [],
   "source": [
    "file_month_point_estimates = []\n",
    "file_month_p_values = []\n",
    "latest_docket_month_point_estimates = []\n",
    "latest_docket_month_p_values = []\n",
    "for result, point_estimates, p_values in zip([result_file_month, result_latest_docket_month],\n",
    "                                             [file_month_point_estimates, latest_docket_month_point_estimates],\n",
    "                                             [file_month_p_values, latest_docket_month_p_values]):\n",
    "    for i in range(-12, 0):\n",
    "        hypothesis = f\"month_{i}_X_treatment_indicator + judgment_for_plaintiff = 0\"\n",
    "        f_test = result.f_test(hypothesis)\n",
    "        point_estimates.append(result.params[f'month_{i}_X_treatment_indicator'] + result.params['judgment_for_plaintiff'])\n",
    "        p_values.append(f_test.pvalue)\n",
    "\n",
    "    joint_significance_hypothesis = \"=\".join([f\"month_{i}_X_treatment_indicator + judgment_for_plaintiff\" for i in range(-12, 0)])\n",
    "    p_values.append(result.f_test(joint_significance_hypothesis).pvalue)\n",
    "    point_estimates.append(np.nan)\n"
   ],
   "metadata": {
    "collapsed": false,
    "ExecuteTime": {
     "end_time": "2023-11-24T19:35:46.972439Z",
     "start_time": "2023-11-24T19:35:46.664765Z"
    }
   }
  },
  {
   "cell_type": "code",
   "execution_count": 9,
   "outputs": [],
   "source": [
    "file_month_pretrends_test = pd.DataFrame({'$\\\\gamma_r + \\\\beta_0$ (1)': file_month_point_estimates,\n",
    "                                              '\\\\textit{p} (2)': file_month_p_values}, index=list(range(-12, 0)) + [\"$\\\\gamma_{-12} = ... = \\\\gamma_{-1}$\"])\n",
    "file_month_pretrends_test.index.name = \"$r$\"\n",
    "file_month_pretrends_test = pd.concat([file_month_pretrends_test], axis=1, keys=[\"\\\\textit{File Date}\"])\n",
    "\n",
    "latest_docket_month_pretrends_test = pd.DataFrame({'$\\\\gamma_r + \\\\beta_0$ (3)': latest_docket_month_point_estimates,\n",
    "                                              '\\\\textit{p} (4)': latest_docket_month_p_values}, index=list(range(-12, 0)) + [\"$\\\\gamma_{-12} = ... = \\\\gamma_{-1} = 0$\"])\n",
    "latest_docket_month_pretrends_test.index.name = \"$r$\"\n",
    "latest_docket_month_pretrends_test = pd.concat([latest_docket_month_pretrends_test], axis=1, keys=[\"\\\\textit{Latest Docket Date}\"])\n",
    "\n",
    "\n",
    "spacer = pd.concat([pd.DataFrame([[np.nan] for i in range(13)], index=latest_docket_month_pretrends_test.index, columns=[\" \"])], axis=1, keys=[\"\"])\n",
    "\n",
    "pretrends_test = pd.concat([file_month_pretrends_test, spacer, latest_docket_month_pretrends_test], axis=1)"
   ],
   "metadata": {
    "collapsed": false,
    "ExecuteTime": {
     "end_time": "2023-11-24T19:35:46.985438Z",
     "start_time": "2023-11-24T19:35:46.979202Z"
    }
   }
  },
  {
   "cell_type": "code",
   "execution_count": 10,
   "outputs": [],
   "source": [
    "# Export to LaTeX.\n",
    "filename = os.path.join(OUTPUT_TABLES, \"pretrends_test.tex\")\n",
    "latex = (pretrends_test\n",
    "         .style\n",
    "         .format(\"{:,.2f}\", na_rep=\" \")\n",
    "         .to_latex(None,\n",
    "                   column_format=\"lccccc\",\n",
    "                   multicol_align='c',\n",
    "                   hrules=True,\n",
    "                   clines=\"skip-last;data\"))\n",
    "\n",
    "latex = latex.split(\"\\\\\\\\\\n\")\n",
    "latex.insert(1, \"\\\\cline{2-3}\\\\cline{5-6}\\n\")\n",
    "latex = \"\\\\\\\\\\n\".join(latex)\n",
    "with open(filename, 'w') as file:\n",
    "    file.write(latex)"
   ],
   "metadata": {
    "collapsed": false,
    "ExecuteTime": {
     "end_time": "2023-11-24T19:35:46.994698Z",
     "start_time": "2023-11-24T19:35:46.986634Z"
    }
   }
  },
  {
   "cell_type": "markdown",
   "source": [
    "## Unconditional DiD"
   ],
   "metadata": {
    "collapsed": false
   }
  },
  {
   "cell_type": "code",
   "execution_count": 63,
   "outputs": [
    {
     "name": "stderr",
     "output_type": "stream",
     "text": [
      "Computing ATTgt [workers=12]  100%|████████████████████| 980/980 [00:02<00:00, 404.45it/s] \n"
     ]
    }
   ],
   "source": [
    "df = pd.read_csv(INPUT_DATA_PANEL)\n",
    "df = prepare_df_for_DiD(df=df,\n",
    "                        analysis=analysis,\n",
    "                        treatment_date_variable=treatment_date_variable,\n",
    "                        pre_treatment_covariates=[],\n",
    "                        value_vars=weekly_value_vars_crime,\n",
    "                        period_to_int_dictionary=month_to_int_dictionary)\n",
    "# Run DiD conditional on covariates.\n",
    "att_gt_all_crimes = ATTgt(data=df, cohort_name=treatment_date_variable, base_period='universal')\n",
    "formula = f'{analysis}'\n",
    "att_gt_all_crimes.fit(formula=formula, control_group='never_treated', n_jobs=-1, progress_bar=True)\n",
    "# Plot D.R. ATT(t-g)s on a long horizon.\n",
    "fig, ax = plt.subplots(layout='constrained')\n",
    "\n",
    "figure_utilities.aggregate_by_event_time_and_plot(att_gt_all_crimes,\n",
    "                                                  start_period=constants.Analysis.MINIMUM_PRE_PERIOD,\n",
    "                                                  end_period=constants.Analysis.MAXIMUM_POST_PERIOD,\n",
    "                                                  title=\"\", ax=ax)\n",
    "\n",
    "figure_utilities.save_figure_and_close(fig, os.path.join(OUTPUT_FIGURES, \"att_gt_unconditional_all_crimes.png\"))"
   ],
   "metadata": {
    "collapsed": false,
    "ExecuteTime": {
     "end_time": "2023-11-24T19:22:50.008475Z",
     "start_time": "2023-11-24T19:22:45.774858Z"
    }
   }
  },
  {
   "cell_type": "markdown",
   "source": [
    "## Doubly Robust DiD Conditional on Covariates"
   ],
   "metadata": {
    "collapsed": false
   }
  },
  {
   "cell_type": "code",
   "execution_count": 65,
   "outputs": [
    {
     "name": "stderr",
     "output_type": "stream",
     "text": [
      "Computing ATTgt [workers=12]  100%|████████████████████| 980/980 [00:03<00:00, 305.22it/s]\n"
     ]
    }
   ],
   "source": [
    "df = pd.read_csv(INPUT_DATA_PANEL)\n",
    "df = prepare_df_for_DiD(df=df,\n",
    "                        analysis=analysis,\n",
    "                        treatment_date_variable=treatment_date_variable,\n",
    "                        pre_treatment_covariates=pre_treatment_covariates,\n",
    "                        value_vars=weekly_value_vars_crime,\n",
    "                        period_to_int_dictionary=month_to_int_dictionary)\n",
    "# Run DiD conditional on covariates.\n",
    "att_gt_all_crimes = ATTgt(data=df, cohort_name=treatment_date_variable, base_period='universal')\n",
    "formula = f'{analysis} ~ ' + '+'.join(pre_treatment_covariates)\n",
    "att_gt_all_crimes.fit(formula=formula, control_group='never_treated', n_jobs=-1, progress_bar=True)\n",
    "# Plot D.R. ATT(t-g)s on a long horizon.\n",
    "fig, ax = plt.subplots(layout='constrained')\n",
    "\n",
    "figure_utilities.aggregate_by_event_time_and_plot(att_gt_all_crimes,\n",
    "                                                  start_period=constants.Analysis.MINIMUM_PRE_PERIOD,\n",
    "                                                  end_period=constants.Analysis.MAXIMUM_POST_PERIOD,\n",
    "                                                  title=\"\", ax=ax)\n",
    "\n",
    "figure_utilities.save_figure_and_close(fig, os.path.join(OUTPUT_FIGURES, \"att_gt_dr_all_crimes.png\"))"
   ],
   "metadata": {
    "collapsed": false,
    "ExecuteTime": {
     "end_time": "2023-11-24T19:22:55.035192Z",
     "start_time": "2023-11-24T19:22:50.012858Z"
    }
   }
  },
  {
   "cell_type": "markdown",
   "source": [
    "## Heterogeneous Treatment Effects"
   ],
   "metadata": {
    "collapsed": false
   }
  },
  {
   "cell_type": "code",
   "execution_count": 66,
   "outputs": [
    {
     "name": "stderr",
     "output_type": "stream",
     "text": [
      "Computing ATTgt for above_median_popdensity2010 = 1 [workers=12]100%|████████████████████| 980/980 [00:01<00:00, 507.64it/s] \n",
      "Computing ATTgt for above_median_popdensity2010 = 0 [workers=12]100%|████████████████████| 980/980 [00:00<00:00, 1229.64it/s]\n",
      "Computing ATTgt for above_median_share_white2010 = 0 [workers=12]100%|████████████████████| 980/980 [00:01<00:00, 498.83it/s] \n",
      "Computing ATTgt for above_median_share_white2010 = 1 [workers=12]100%|████████████████████| 980/980 [00:00<00:00, 1148.76it/s]\n",
      "Computing ATTgt for above_median_poor_share2010 = 1 [workers=12]100%|████████████████████| 980/980 [00:01<00:00, 492.84it/s]\n",
      "Computing ATTgt for above_median_poor_share2010 = 0 [workers=12]100%|████████████████████| 980/980 [00:00<00:00, 1145.43it/s]\n"
     ]
    }
   ],
   "source": [
    "point_estimates = []\n",
    "ci_uppers = []\n",
    "ci_lowers = []\n",
    "pretrend_p_values = []\n",
    "for variable in ['popdensity2010', 'share_white2010', 'poor_share2010']:\n",
    "    # Read fresh copy of unrestricted dataset into memory.\n",
    "    df = pd.read_csv(INPUT_DATA_PANEL)\n",
    "\n",
    "    # Generate indicator variable for above median value of current characteristic\n",
    "    median = df[variable].median()\n",
    "    above_median_indicator_name = f'above_median_{variable}'\n",
    "    df.loc[:, above_median_indicator_name] = 0\n",
    "    df.loc[df[variable] > median, above_median_indicator_name] = 1\n",
    "\n",
    "    # Prepare DataFrame for DiD\n",
    "    pre_treatment_covariates_minus_current_var = pre_treatment_covariates.copy()\n",
    "    pre_treatment_covariates_minus_current_var.remove(variable)\n",
    "    df = prepare_df_for_DiD(df=df,\n",
    "                            analysis=analysis,\n",
    "                            treatment_date_variable=treatment_date_variable,\n",
    "                            pre_treatment_covariates=pre_treatment_covariates_minus_current_var + [above_median_indicator_name],\n",
    "                            value_vars=weekly_value_vars_crime,\n",
    "                            period_to_int_dictionary=month_to_int_dictionary)\n",
    "\n",
    "    # Run DiD\n",
    "    att_gt_by_sample = ATTgt(data=df,\n",
    "                             cohort_name=treatment_date_variable,\n",
    "                             base_period='universal')\n",
    "    att_gt_by_sample.fit(formula=f'{analysis} ~ relative_pre_treatment_change_in_{analysis}',\n",
    "                         control_group='never_treated',\n",
    "                         split_sample_by=f'above_median_{variable}',\n",
    "                         n_jobs=-1,\n",
    "                         progress_bar=True)\n",
    "\n",
    "    att_gt_by_sample = att_gt_by_sample.aggregate('event', overall=True)\n",
    "\n",
    "    # Collect point estimates, confidence interval bounds\n",
    "    below_median_point_estimate = att_gt_by_sample.loc[f'above_median_{variable} = 0', (\"EventAggregationOverall\", slice(None), \"ATT\")]\n",
    "    point_estimates.append(below_median_point_estimate)\n",
    "    above_median_point_estimate = att_gt_by_sample.loc[f'above_median_{variable} = 1', (\"EventAggregationOverall\", slice(None), \"ATT\")]\n",
    "    point_estimates.append(above_median_point_estimate)\n",
    "\n",
    "    below_median_ci_lower = att_gt_by_sample.loc[f'above_median_{variable} = 0', (\"EventAggregationOverall\", \"pointwise conf. band\", \"lower\")]\n",
    "    ci_lowers.append(below_median_ci_lower)\n",
    "    above_median_ci_lower = att_gt_by_sample.loc[f'above_median_{variable} = 1', (\"EventAggregationOverall\", \"pointwise conf. band\", \"lower\")]\n",
    "    ci_lowers.append(above_median_ci_lower)\n",
    "\n",
    "    below_median_ci_upper = att_gt_by_sample.loc[f'above_median_{variable} = 0', (\"EventAggregationOverall\", \"pointwise conf. band\", \"upper\")]\n",
    "    ci_uppers.append(below_median_ci_upper)\n",
    "    above_median_ci_upper = att_gt_by_sample.loc[f'above_median_{variable} = 1', (\"EventAggregationOverall\", \"pointwise conf. band\", \"upper\")]\n",
    "    ci_uppers.append(above_median_ci_upper)\n",
    "\n",
    "\n",
    "\n",
    "fig, ax = plt.subplots()\n",
    "figure_utilities.plot_labeled_vline(ax, x=0, text=\"\", color='black', linestyle='-')\n",
    "for i, (ci_lower, ci_upper) in enumerate(zip(ci_lowers, ci_uppers)):\n",
    "    ax.hlines(y=i, xmin=ci_lower, xmax=ci_upper, color='black')\n",
    "ax.scatter(point_estimates, range(len(point_estimates)), color='black', s=7)\n",
    "ax.set_yticks(ticks=range(len(point_estimates)),\n",
    "              labels=[\"Below median population density, 2010\",\n",
    "                      \"Above median population density, 2010\",\n",
    "                      \"Below median share white, 2010\",\n",
    "                      \"Above median share white, 2010\",\n",
    "                      \"Below median share below poverty line, 2010\",\n",
    "                      \"Above median share below poverty line, 2010\"])\n",
    "ax.set_ylabel(\"Sample Restriction\")\n",
    "ax.set_xlabel(\"Average Post-Treatment ATT\")\n",
    "\n",
    "figure_utilities.save_figure_and_close(fig, os.path.join(OUTPUT_FIGURES, \"heterogenous_effects.png\"))"
   ],
   "metadata": {
    "collapsed": false,
    "ExecuteTime": {
     "end_time": "2023-11-24T19:23:09.287801Z",
     "start_time": "2023-11-24T19:22:55.046072Z"
    }
   }
  },
  {
   "cell_type": "markdown",
   "source": [
    "## Calculating Treatment Effects Using Subset of Crimes as Outcome"
   ],
   "metadata": {
    "collapsed": false
   }
  },
  {
   "cell_type": "code",
   "execution_count": 67,
   "outputs": [
    {
     "name": "stderr",
     "output_type": "stream",
     "text": [
      "Computing ATTgt [workers=12]  100%|████████████████████| 980/980 [00:03<00:00, 309.43it/s]\n"
     ]
    }
   ],
   "source": [
    "df = pd.read_csv(INPUT_DATA_PANEL)\n",
    "# Generate value variables list and dictionaries mapping between months and integers.\n",
    "analysis = f\"group_1_crimes_{constants.Analysis.MAIN_RESULTS_RADIUS}m\"\n",
    "weekly_value_vars_crime, month_to_int_dictionary, int_to_month_dictionary = get_value_variable_names(df, analysis)\n",
    "df = prepare_df_for_DiD(df=df,\n",
    "                        analysis=analysis,\n",
    "                        treatment_date_variable=treatment_date_variable,\n",
    "                        pre_treatment_covariates=pre_treatment_covariates,\n",
    "                        value_vars=weekly_value_vars_crime,\n",
    "                        period_to_int_dictionary=month_to_int_dictionary)\n",
    "\n",
    "# Run DiD conditional on covariates.\n",
    "att_gt_group_1_crimes = ATTgt(data=df, cohort_name=treatment_date_variable, base_period='universal')\n",
    "formula = f'{analysis} ~ ' + '+'.join(pre_treatment_covariates)\n",
    "result = att_gt_group_1_crimes.fit(formula=formula, control_group='never_treated', n_jobs=-1, progress_bar=True)\n",
    "\n",
    "# Plot D.R. ATT(t-g)s for placebo crimes next to D.R. ATT(t-g)s for all crimes.\n",
    "fig, (ax1, ax2) = plt.subplots(1, 2, layout='constrained', sharey=True)\n",
    "\n",
    "figure_utilities.aggregate_by_event_time_and_plot(att_gt_all_crimes, start_period=-5,\n",
    "                                                  end_period=36,\n",
    "                                                  title=\"All Crime Incidents as Outcome\", ax=ax1)\n",
    "figure_utilities.aggregate_by_event_time_and_plot(att_gt_group_1_crimes, start_period=-5,\n",
    "                                                  end_period=36,\n",
    "                                                  title=\"Subset of Crime Incidents as Outcome\", ax=ax2)\n",
    "\n",
    "figure_utilities.save_figure_and_close(fig, os.path.join(OUTPUT_FIGURES, \"att_gt_dr_group_1_crimes.png\"))"
   ],
   "metadata": {
    "collapsed": false,
    "ExecuteTime": {
     "end_time": "2023-11-24T19:23:14.332104Z",
     "start_time": "2023-11-24T19:23:09.289339Z"
    }
   }
  },
  {
   "cell_type": "markdown",
   "source": [
    "## Alternative Radii"
   ],
   "metadata": {
    "collapsed": false
   }
  },
  {
   "cell_type": "code",
   "execution_count": 68,
   "outputs": [
    {
     "name": "stderr",
     "output_type": "stream",
     "text": [
      "Computing ATTgt [workers=12]  100%|████████████████████| 980/980 [00:03<00:00, 310.99it/s]\n",
      "Computing ATTgt [workers=12]  100%|████████████████████| 980/980 [00:03<00:00, 312.48it/s]\n"
     ]
    }
   ],
   "source": [
    "fig, axes = plt.subplots(1, 3, layout='constrained', sharey=True)\n",
    "radii = [constants.Analysis.MAIN_RESULTS_RADIUS, constants.Analysis.MAIN_RESULTS_RADIUS + 50, constants.Analysis.MAIN_RESULTS_RADIUS + 100]\n",
    "atts = []\n",
    "att_ses = []\n",
    "twenty_seventeen_totals = []\n",
    "att_labels = ['250m away', '300m away', '350m away', '250m and 350m away', '250m and 400m away']\n",
    "for ax, radius in zip(axes, radii):\n",
    "    if radius != constants.Analysis.MAIN_RESULTS_RADIUS:\n",
    "        df = pd.read_csv(INPUT_DATA_PANEL)\n",
    "        twenty_seventeen_totals.append(df[f'total_twenty_seventeen_group_0_crimes_{radius}m'].mean())\n",
    "        analysis = f\"group_0_crimes_{radius}m\"\n",
    "        weekly_value_vars_crime, month_to_int_dictionary, int_to_month_dictionary = get_value_variable_names(df, analysis)\n",
    "        _, pre_treatment_covariates = test_balance(df, analysis)\n",
    "\n",
    "\n",
    "        df = prepare_df_for_DiD(df=df,\n",
    "                                analysis=analysis,\n",
    "                                treatment_date_variable=treatment_date_variable,\n",
    "                                pre_treatment_covariates=pre_treatment_covariates,\n",
    "                                value_vars=weekly_value_vars_crime,\n",
    "                                period_to_int_dictionary=month_to_int_dictionary)\n",
    "        # Run DiD conditional on covariates.\n",
    "        current_att_gt = ATTgt(data=df, cohort_name=treatment_date_variable, base_period='universal')\n",
    "        formula = f'{analysis} ~ ' + '+'.join(pre_treatment_covariates)\n",
    "        current_att_gt.fit(formula=formula, control_group='never_treated', n_jobs=-1, progress_bar=True)\n",
    "        figure_utilities.aggregate_by_event_time_and_plot(current_att_gt,\n",
    "                                                          start_period=constants.Analysis.MINIMUM_PRE_PERIOD,\n",
    "                                                          end_period=constants.Analysis.MAXIMUM_POST_PERIOD,\n",
    "                                                          title=f\"{radius} Meters\", ax=ax)\n",
    "        atts.append(current_att_gt.aggregate('event', overall=True)['EventAggregationOverall']['']['ATT'].iloc[0])\n",
    "        att_ses.append(current_att_gt.aggregate('event', overall=True)['EventAggregationOverall']['analytic']['std_error'].iloc[0])\n",
    "\n",
    "    else:\n",
    "        df = pd.read_csv(INPUT_DATA_PANEL)\n",
    "        twenty_seventeen_totals.append(df[f'total_twenty_nineteen_group_0_crimes_{radius}m'].mean())\n",
    "        figure_utilities.aggregate_by_event_time_and_plot(att_gt_all_crimes,\n",
    "                                                          start_period=constants.Analysis.MINIMUM_PRE_PERIOD,\n",
    "                                                          end_period=constants.Analysis.MAXIMUM_POST_PERIOD,\n",
    "                                                          title=f\"{radius} Meters\", ax=ax)\n",
    "        atts.append(att_gt_all_crimes.aggregate('event', overall=True)['EventAggregationOverall']['']['ATT'].iloc[0])\n",
    "        att_ses.append(att_gt_all_crimes.aggregate('event', overall=True)['EventAggregationOverall']['analytic']['std_error'].iloc[0])\n",
    "\n",
    "\n",
    "figure_utilities.save_figure_and_close(fig, os.path.join(OUTPUT_FIGURES, \"att_gt_dr_alternative_radii.png\"))"
   ],
   "metadata": {
    "collapsed": false,
    "ExecuteTime": {
     "end_time": "2023-11-24T19:23:24.766074Z",
     "start_time": "2023-11-24T19:23:14.332320Z"
    }
   }
  },
  {
   "cell_type": "code",
   "execution_count": 69,
   "outputs": [
    {
     "name": "stderr",
     "output_type": "stream",
     "text": [
      "Computing ATTgt [workers=12]  100%|████████████████████| 980/980 [00:03<00:00, 309.32it/s]\n",
      "Computing ATTgt [workers=12]  100%|████████████████████| 980/980 [00:03<00:00, 310.89it/s]\n"
     ]
    }
   ],
   "source": [
    "for robustness_radius in constants.Analysis.ROBUSTNESS_RADII:\n",
    "    df = pd.read_csv(INPUT_DATA_PANEL)\n",
    "    twenty_seventeen_totals.append(df[f'total_twenty_nineteen_group_0_crimes_{robustness_radius}m'].mean())\n",
    "\n",
    "    analysis = f\"group_0_crimes_{robustness_radius}m\"\n",
    "    weekly_value_vars_crime, month_to_int_dictionary, int_to_month_dictionary = get_value_variable_names(df, analysis)\n",
    "    _, pre_treatment_covariates = test_balance(df, analysis)\n",
    "\n",
    "    df = prepare_df_for_DiD(df=df,\n",
    "                            analysis=analysis,\n",
    "                            treatment_date_variable=treatment_date_variable,\n",
    "                            pre_treatment_covariates=pre_treatment_covariates,\n",
    "                            value_vars=weekly_value_vars_crime,\n",
    "                            period_to_int_dictionary=month_to_int_dictionary)\n",
    "\n",
    "    # Run DiD conditional on covariates.\n",
    "    att_gt_all_crimes_donut = ATTgt(data=df, cohort_name=treatment_date_variable, base_period='universal')\n",
    "    formula = f'{analysis} ~ ' + '+'.join(pre_treatment_covariates)\n",
    "    att_gt_all_crimes_donut.fit(formula=formula, control_group='never_treated', n_jobs=-1, progress_bar=True)\n",
    "\n",
    "\n",
    "    atts.append(att_gt_all_crimes_donut.aggregate('event', overall=True)['EventAggregationOverall']['']['ATT'].iloc[0])\n",
    "    att_ses.append(att_gt_all_crimes_donut.aggregate('event', overall=True)['EventAggregationOverall']['analytic']['std_error'].iloc[0])"
   ],
   "metadata": {
    "collapsed": false,
    "ExecuteTime": {
     "end_time": "2023-11-24T19:23:34.558Z",
     "start_time": "2023-11-24T19:23:24.767704Z"
    }
   }
  },
  {
   "cell_type": "code",
   "execution_count": 70,
   "outputs": [],
   "source": [
    "# Build table\n",
    "atts_aggregated = pd.DataFrame()\n",
    "atts_aggregated.loc[:, 'Treatment Effect (S.E.)'] = pd.Series(atts).round(2).astype(str) + \" \" + \"(\" + pd.Series(att_ses).round(2).astype(str) + \")\"\n",
    "atts_aggregated.loc[:, 'Total Incidents, 2017 (Mean Property)'] = pd.Series(twenty_seventeen_totals).round(2)\n",
    "atts_aggregated.loc[:, 'Treatment Effect as \\% of Mean'] = (-100 * (pd.Series(atts) / atts_aggregated['Total Incidents, 2017 (Mean Property)'])).round(2).astype(str)\n",
    "atts_aggregated.loc[:, 'Total Incidents, 2017 (Mean Property)'] = atts_aggregated['Total Incidents, 2017 (Mean Property)'].astype(str)\n",
    "atts_aggregated.index=att_labels\n",
    "atts_aggregated = atts_aggregated.T"
   ],
   "metadata": {
    "collapsed": false,
    "ExecuteTime": {
     "end_time": "2023-11-24T19:23:34.592144Z",
     "start_time": "2023-11-24T19:23:34.561715Z"
    }
   }
  },
  {
   "cell_type": "code",
   "execution_count": 71,
   "outputs": [],
   "source": [
    "# Reformat table\n",
    "main_results_columns = ['250m away', '300m away', '350m away']\n",
    "robustness_columns = ['250m and 350m away', '250m and 400m away']\n",
    "main_estimates = pd.concat([atts_aggregated[main_results_columns]], axis=1, keys=[\"Crimes Less Than\"])\n",
    "robustness_estimates = pd.concat([atts_aggregated[robustness_columns]], axis=1, keys=[\"Crimes Between\"])\n"
   ],
   "metadata": {
    "collapsed": false,
    "ExecuteTime": {
     "end_time": "2023-11-24T19:23:34.680067Z",
     "start_time": "2023-11-24T19:23:34.649088Z"
    }
   }
  },
  {
   "cell_type": "code",
   "execution_count": 72,
   "outputs": [],
   "source": [
    "spacer = pd.concat([pd.DataFrame([[\" \"], [\" \"], [\" \"]], index=main_estimates.index, columns=[\" \"])], axis=1, keys=[\"\"])\n",
    "atts_aggregated = pd.concat([main_estimates, spacer, robustness_estimates], axis=1)"
   ],
   "metadata": {
    "collapsed": false,
    "ExecuteTime": {
     "end_time": "2023-11-24T19:23:34.711419Z",
     "start_time": "2023-11-24T19:23:34.683237Z"
    }
   }
  },
  {
   "cell_type": "code",
   "execution_count": 73,
   "outputs": [],
   "source": [
    "latex = (atts_aggregated\n",
    "                 .style\n",
    "                 #.format(formatter=\"{:.2f}\", subset=pd.IndexSlice[['Total Incidents, 2017 (Mean Property)', 'Treatment Effect as \\% of Mean'], :])\n",
    "                 .format_index(\"\\\\textit{{{}}}\", escape=\"latex\", axis=1, level=0)\n",
    "                 .to_latex(None,\n",
    "                           column_format=\"lcccccc\",\n",
    "                           hrules=True,\n",
    "                           multicol_align='c',\n",
    "                           clines=\"skip-last;data\")).replace(\"{*}\", \"{.75cm}\")\n",
    "latex = latex.split(\"\\\\\\\\\\n\")\n",
    "latex.insert(1, \"\\\\cline{2-4}\\\\cline{6-7}\\n\")\n",
    "latex = \"\\\\\\\\\\n\".join(latex)\n",
    "with open(os.path.join(OUTPUT_TABLES, \"magnitudes_summary.tex\"), 'w') as file:\n",
    "    file.write(latex)"
   ],
   "metadata": {
    "collapsed": false,
    "ExecuteTime": {
     "end_time": "2023-11-24T19:23:34.746429Z",
     "start_time": "2023-11-24T19:23:34.712384Z"
    }
   }
  }
 ],
 "metadata": {
  "kernelspec": {
   "name": "venv",
   "language": "python",
   "display_name": "venv"
  },
  "language_info": {
   "codemirror_mode": {
    "name": "ipython",
    "version": 3
   },
   "file_extension": ".py",
   "mimetype": "text/x-python",
   "name": "python",
   "nbconvert_exporter": "python",
   "pygments_lexer": "ipython3",
   "version": "3.10.8"
  }
 },
 "nbformat": 4,
 "nbformat_minor": 5
}
