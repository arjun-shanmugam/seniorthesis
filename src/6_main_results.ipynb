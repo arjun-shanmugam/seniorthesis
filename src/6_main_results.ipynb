{
 "cells": [
  {
   "cell_type": "markdown",
   "id": "50fd5b8e-e603-4d88-9201-fbc462438e2f",
   "metadata": {},
   "source": [
    "# Setup"
   ]
  },
  {
   "cell_type": "code",
   "execution_count": 19,
   "id": "ea7989d9-f382-4940-8600-582c59aa1f58",
   "metadata": {
    "ExecuteTime": {
     "end_time": "2023-11-26T15:22:51.703296Z",
     "start_time": "2023-11-26T15:22:51.673394Z"
    }
   },
   "outputs": [],
   "source": [
    "import figure_utilities\n",
    "import constants\n",
    "from stats_utilities import test_balance, run_event_study\n",
    "import matplotlib.pyplot as plt\n",
    "from panel_utilities import get_value_variable_names, prepare_df_for_DiD\n",
    "plt.rcParams['savefig.dpi'] = 300\n",
    "import statsmodels.api as sm\n",
    "import os\n",
    "from differences import ATTgt\n",
    "import pandas as pd\n",
    "import numpy as np"
   ]
  },
  {
   "cell_type": "code",
   "execution_count": 20,
   "id": "acda29f4-f57a-461e-973e-e213e5893b72",
   "metadata": {
    "ExecuteTime": {
     "end_time": "2023-11-26T15:22:51.704023Z",
     "start_time": "2023-11-26T15:22:51.675197Z"
    }
   },
   "outputs": [],
   "source": [
    "# Store paths.\n",
    "INPUT_DATA_PANEL = \"../data/03_cleaned/crime_analysis_monthly.csv\"\n",
    "OUTPUT_TABLES = \"../output/final_paper/tables\"\n",
    "OUTPUT_FIGURES = \"../output/final_paper/figures\""
   ]
  },
  {
   "cell_type": "markdown",
   "id": "399ba841-86d3-41f5-8665-900a84468673",
   "metadata": {},
   "source": [
    "# Main Results"
   ]
  },
  {
   "cell_type": "code",
   "execution_count": 21,
   "id": "7b0031d1-bd58-4496-9965-d3d0cd0e7427",
   "metadata": {
    "ExecuteTime": {
     "end_time": "2023-11-26T15:22:52.011416Z",
     "start_time": "2023-11-26T15:22:51.679003Z"
    }
   },
   "outputs": [],
   "source": [
    "# Read fresh copy of unrestricted dataset into memory.\n",
    "df = pd.read_csv(INPUT_DATA_PANEL)\n",
    "treatment_date_variable = 'latest_docket_month'  # Store treatment date variable.\n"
   ]
  },
  {
   "cell_type": "code",
   "execution_count": 22,
   "id": "9c24ea82-f225-4f43-ab1e-b4b83ce7aa15",
   "metadata": {},
   "outputs": [],
   "source": [
    "# Generate value variables list and dictionaries mapping between months and integers.\n",
    "analysis = f\"group_0_crimes_{constants.Analysis.MAIN_RESULTS_RADIUS}m\"\n",
    "weekly_value_vars_crime, month_to_int_dictionary, int_to_month_dictionary = get_value_variable_names(df, analysis)"
   ]
  },
  {
   "cell_type": "code",
   "execution_count": 23,
   "id": "2fae8e4f-ff80-46cd-822a-1cffc1c2edc8",
   "metadata": {},
   "outputs": [],
   "source": [
    "# Re-Balance on Controls\n",
    "balance_table, pre_treatment_covariates = test_balance(df, analysis, OUTPUT_TABLES)\n",
    "balance_table"
   ]
  },
  {
   "cell_type": "markdown",
   "source": [
    "## Crime Trends Around Filing Date, Latest Docket Date"
   ],
   "metadata": {
    "collapsed": false
   }
  },
  {
   "cell_type": "code",
   "execution_count": 23,
   "outputs": [],
   "source": [],
   "metadata": {
    "collapsed": false
   }
  },
  {
   "cell_type": "code",
   "execution_count": 24,
   "outputs": [],
   "source": [
    "for group in range(6):\n",
    "    df = pd.read_csv(INPUT_DATA_PANEL)\n",
    "    result_file_month, omitted_period_control_mean = run_event_study(df, 'file_month', f'group_{group}_crimes_250m')\n",
    "    result_latest_docket_month, omitted_period_control_mean = run_event_study(df, 'latest_docket_month', f'group_{group}_crimes_250m')\n",
    "    for result, treatment_date_variable in zip([result_file_month, result_latest_docket_month], ['File Date', 'Latest Docket Date']):\n",
    "        month = []\n",
    "        treatment = []\n",
    "        control = []\n",
    "        for i in range(-12, 37):\n",
    "            month.append(i)\n",
    "            control.append(result.params[f'month_{i}'] )\n",
    "            treatment.append((result.params['judgment_for_plaintiff'] +\n",
    "                               result.params[f'month_{i}_X_treatment_indicator'] +\n",
    "                               result.params[f'month_{i}'] ))\n",
    "        fig, ax = plt.subplots()\n",
    "        ax.plot(month,\n",
    "            control,\n",
    "            color='grey',\n",
    "            linestyle='--',\n",
    "            marker='o',\n",
    "            label=\"Properties where Tenant Won Eviction Case\")\n",
    "        ax.plot(month,\n",
    "                treatment,\n",
    "                color='black',\n",
    "                linestyle='--',\n",
    "                marker='o',\n",
    "                label=\"Properties where Plaintiff Won Eviction Case\")\n",
    "        label = treatment_date_variable.replace(\" \", \"\\n\")\n",
    "        figure_utilities.plot_labeled_vline(ax, x=0, text=f\"{label}\", color='black', linestyle='-',\n",
    "                               text_y_location_normalized=0.1)\n",
    "        ax.set_xlabel(f\"Month Relative to {treatment_date_variable}\")\n",
    "        ax.set_ylabel(f\"Crime Incidents within {constants.Analysis.MAIN_RESULTS_RADIUS} Meters\")\n",
    "        ax.legend()\n",
    "        figure_utilities.save_figure_and_close(fig, os.path.join(OUTPUT_FIGURES, f\"group_{group}_crime_trends_around_{treatment_date_variable}.png\"))"
   ],
   "metadata": {
    "collapsed": false
   }
  },
  {
   "cell_type": "code",
   "execution_count": 25,
   "outputs": [],
   "source": [
    "file_month_point_estimates = []\n",
    "file_month_p_values = []\n",
    "latest_docket_month_point_estimates = []\n",
    "latest_docket_month_p_values = []\n",
    "for result, point_estimates, p_values in zip([result_file_month, result_latest_docket_month],\n",
    "                                             [file_month_point_estimates, latest_docket_month_point_estimates],\n",
    "                                             [file_month_p_values, latest_docket_month_p_values]):\n",
    "    for i in range(-12, 0):\n",
    "        hypothesis = f\"month_{i}_X_treatment_indicator + judgment_for_plaintiff = 0\"\n",
    "        f_test = result.f_test(hypothesis)\n",
    "        point_estimates.append(result.params[f'month_{i}_X_treatment_indicator'] + result.params['judgment_for_plaintiff'])\n",
    "        p_values.append(f_test.pvalue)\n",
    "\n",
    "    joint_significance_hypothesis = \"=\".join([f\"month_{i}_X_treatment_indicator + judgment_for_plaintiff\" for i in range(-12, 0)])\n",
    "    p_values.append(result.f_test(joint_significance_hypothesis).pvalue)\n",
    "    point_estimates.append(np.nan)\n"
   ],
   "metadata": {
    "collapsed": false
   }
  },
  {
   "cell_type": "code",
   "execution_count": 26,
   "outputs": [],
   "source": [
    "file_month_pretrends_test = pd.DataFrame({'$\\\\gamma_r + \\\\beta_0$ (1)': file_month_point_estimates,\n",
    "                                              '\\\\textit{p} (2)': file_month_p_values}, index=list(range(-12, 0)) + [\"$\\\\gamma_{-12} = ... = \\\\gamma_{-1}$\"])\n",
    "file_month_pretrends_test.index.name = \"$r$\"\n",
    "file_month_pretrends_test = pd.concat([file_month_pretrends_test], axis=1, keys=[\"\\\\textit{File Date}\"])\n",
    "\n",
    "latest_docket_month_pretrends_test = pd.DataFrame({'$\\\\gamma_r + \\\\beta_0$ (3)': latest_docket_month_point_estimates,\n",
    "                                              '\\\\textit{p} (4)': latest_docket_month_p_values}, index=list(range(-12, 0)) + [\"$\\\\gamma_{-12} = ... = \\\\gamma_{-1} = 0$\"])\n",
    "latest_docket_month_pretrends_test.index.name = \"$r$\"\n",
    "latest_docket_month_pretrends_test = pd.concat([latest_docket_month_pretrends_test], axis=1, keys=[\"\\\\textit{Latest Docket Date}\"])\n",
    "\n",
    "\n",
    "spacer = pd.concat([pd.DataFrame([[np.nan] for i in range(13)], index=latest_docket_month_pretrends_test.index, columns=[\" \"])], axis=1, keys=[\"\"])\n",
    "\n",
    "pretrends_test = pd.concat([file_month_pretrends_test, spacer, latest_docket_month_pretrends_test], axis=1)"
   ],
   "metadata": {
    "collapsed": false
   }
  },
  {
   "cell_type": "code",
   "execution_count": 27,
   "outputs": [],
   "source": [
    "# Export to LaTeX.\n",
    "filename = os.path.join(OUTPUT_TABLES, \"pretrends_test.tex\")\n",
    "latex = (pretrends_test\n",
    "         .style\n",
    "         .format(\"{:,.2f}\", na_rep=\" \")\n",
    "         .to_latex(None,\n",
    "                   column_format=\"lccccc\",\n",
    "                   multicol_align='c',\n",
    "                   hrules=True,\n",
    "                   clines=\"skip-last;data\"))\n",
    "\n",
    "latex = latex.split(\"\\\\\\\\\\n\")\n",
    "latex.insert(1, \"\\\\cline{2-3}\\\\cline{5-6}\\n\")\n",
    "latex = \"\\\\\\\\\\n\".join(latex)\n",
    "with open(filename, 'w') as file:\n",
    "    file.write(latex)"
   ],
   "metadata": {
    "collapsed": false
   }
  },
  {
   "cell_type": "markdown",
   "source": [
    "## Unconditional DiD"
   ],
   "metadata": {
    "collapsed": false
   }
  },
  {
   "cell_type": "code",
   "execution_count": 28,
   "outputs": [],
   "source": [
    "df = pd.read_csv(INPUT_DATA_PANEL)\n",
    "df = prepare_df_for_DiD(df=df,\n",
    "                        analysis=analysis,\n",
    "                        treatment_date_variable=treatment_date_variable,\n",
    "                        pre_treatment_covariates=[],\n",
    "                        value_vars=weekly_value_vars_crime,\n",
    "                        period_to_int_dictionary=month_to_int_dictionary)\n",
    "# Run DiD conditional on covariates.\n",
    "att_gt_all_crimes = ATTgt(data=df, cohort_name=treatment_date_variable, base_period='universal')\n",
    "formula = f'{analysis}'\n",
    "att_gt_all_crimes.fit(formula=formula, control_group='never_treated', n_jobs=-1, progress_bar=True)\n",
    "# Plot D.R. ATT(t-g)s on a long horizon.\n",
    "fig, ax = plt.subplots(layout='constrained')\n",
    "\n",
    "figure_utilities.aggregate_by_event_time_and_plot(att_gt_all_crimes,\n",
    "                                                  start_period=constants.Analysis.MINIMUM_PRE_PERIOD,\n",
    "                                                  end_period=constants.Analysis.MAXIMUM_POST_PERIOD,\n",
    "                                                  title=\"\", ax=ax)\n",
    "\n",
    "figure_utilities.save_figure_and_close(fig, os.path.join(OUTPUT_FIGURES, \"att_gt_unconditional_all_crimes.png\"))"
   ],
   "metadata": {
    "collapsed": false
   }
  },
  {
   "cell_type": "markdown",
   "source": [
    "## Doubly Robust DiD Conditional on Covariates"
   ],
   "metadata": {
    "collapsed": false
   }
  },
  {
   "cell_type": "code",
   "execution_count": null,
   "outputs": [],
   "source": [
    "df = pd.read_csv(INPUT_DATA_PANEL)\n",
    "df = prepare_df_for_DiD(df=df,\n",
    "                        analysis=analysis,\n",
    "                        treatment_date_variable=treatment_date_variable,\n",
    "                        pre_treatment_covariates=pre_treatment_covariates,\n",
    "                        value_vars=weekly_value_vars_crime,\n",
    "                        period_to_int_dictionary=month_to_int_dictionary)\n",
    "# Run DiD conditional on covariates.\n",
    "att_gt_all_crimes = ATTgt(data=df, cohort_name=treatment_date_variable, base_period='universal')\n",
    "formula = f'{analysis} ~ ' + '+'.join(pre_treatment_covariates)\n",
    "att_gt_all_crimes.fit(formula=formula, control_group='never_treated', n_jobs=-1, progress_bar=True)\n",
    "# Plot D.R. ATT(t-g)s on a long horizon.\n",
    "fig, ax = plt.subplots(layout='constrained')\n",
    "\n",
    "figure_utilities.aggregate_by_event_time_and_plot(att_gt_all_crimes,\n",
    "                                                  start_period=constants.Analysis.MINIMUM_PRE_PERIOD,\n",
    "                                                  end_period=constants.Analysis.MAXIMUM_POST_PERIOD,\n",
    "                                                  title=\"\", ax=ax)\n",
    "\n",
    "figure_utilities.save_figure_and_close(fig, os.path.join(OUTPUT_FIGURES, \"att_gt_dr_all_crimes.png\"))"
   ],
   "metadata": {
    "collapsed": false
   }
  },
  {
   "cell_type": "markdown",
   "source": [
    "## Heterogeneous Treatment Effects"
   ],
   "metadata": {
    "collapsed": false
   }
  },
  {
   "cell_type": "code",
   "execution_count": null,
   "outputs": [],
   "source": [
    "point_estimates = []\n",
    "ci_uppers = []\n",
    "ci_lowers = []\n",
    "pretrend_p_values = []\n",
    "for variable in ['popdensity2010', 'share_white2010', 'poor_share2010']:\n",
    "    # Read fresh copy of unrestricted dataset into memory.\n",
    "    df = pd.read_csv(INPUT_DATA_PANEL)\n",
    "\n",
    "    # Generate indicator variable for above median value of current characteristic\n",
    "    median = df[variable].median()\n",
    "    above_median_indicator_name = f'above_median_{variable}'\n",
    "    df.loc[:, above_median_indicator_name] = 0\n",
    "    df.loc[df[variable] > median, above_median_indicator_name] = 1\n",
    "\n",
    "    # Prepare DataFrame for DiD\n",
    "    pre_treatment_covariates_minus_current_var = pre_treatment_covariates.copy()\n",
    "    pre_treatment_covariates_minus_current_var.remove(variable)\n",
    "    df = prepare_df_for_DiD(df=df,\n",
    "                            analysis=analysis,\n",
    "                            treatment_date_variable=treatment_date_variable,\n",
    "                            pre_treatment_covariates=pre_treatment_covariates_minus_current_var + [above_median_indicator_name],\n",
    "                            value_vars=weekly_value_vars_crime,\n",
    "                            period_to_int_dictionary=month_to_int_dictionary)\n",
    "\n",
    "    # Run DiD\n",
    "    att_gt_by_sample = ATTgt(data=df,\n",
    "                             cohort_name=treatment_date_variable,\n",
    "                             base_period='universal')\n",
    "    att_gt_by_sample.fit(formula=f'{analysis} ~ relative_pre_treatment_change_in_{analysis}',\n",
    "                         control_group='never_treated',\n",
    "                         split_sample_by=f'above_median_{variable}',\n",
    "                         n_jobs=-1,\n",
    "                         progress_bar=True)\n",
    "\n",
    "    att_gt_by_sample = att_gt_by_sample.aggregate('event', overall=True)\n",
    "\n",
    "    # Collect point estimates, confidence interval bounds\n",
    "    below_median_point_estimate = att_gt_by_sample.loc[f'above_median_{variable} = 0', (\"EventAggregationOverall\", slice(None), \"ATT\")]\n",
    "    point_estimates.append(below_median_point_estimate)\n",
    "    above_median_point_estimate = att_gt_by_sample.loc[f'above_median_{variable} = 1', (\"EventAggregationOverall\", slice(None), \"ATT\")]\n",
    "    point_estimates.append(above_median_point_estimate)\n",
    "\n",
    "    below_median_ci_lower = att_gt_by_sample.loc[f'above_median_{variable} = 0', (\"EventAggregationOverall\", \"pointwise conf. band\", \"lower\")]\n",
    "    ci_lowers.append(below_median_ci_lower)\n",
    "    above_median_ci_lower = att_gt_by_sample.loc[f'above_median_{variable} = 1', (\"EventAggregationOverall\", \"pointwise conf. band\", \"lower\")]\n",
    "    ci_lowers.append(above_median_ci_lower)\n",
    "\n",
    "    below_median_ci_upper = att_gt_by_sample.loc[f'above_median_{variable} = 0', (\"EventAggregationOverall\", \"pointwise conf. band\", \"upper\")]\n",
    "    ci_uppers.append(below_median_ci_upper)\n",
    "    above_median_ci_upper = att_gt_by_sample.loc[f'above_median_{variable} = 1', (\"EventAggregationOverall\", \"pointwise conf. band\", \"upper\")]\n",
    "    ci_uppers.append(above_median_ci_upper)\n",
    "\n",
    "\n",
    "\n",
    "fig, ax = plt.subplots()\n",
    "figure_utilities.plot_labeled_vline(ax, x=0, text=\"\", color='black', linestyle='-')\n",
    "for i, (ci_lower, ci_upper) in enumerate(zip(ci_lowers, ci_uppers)):\n",
    "    ax.hlines(y=i, xmin=ci_lower, xmax=ci_upper, color='black')\n",
    "ax.scatter(point_estimates, range(len(point_estimates)), color='black', s=7)\n",
    "ax.set_yticks(ticks=range(len(point_estimates)),\n",
    "              labels=[\"Below median population density, 2010\",\n",
    "                      \"Above median population density, 2010\",\n",
    "                      \"Below median share white, 2010\",\n",
    "                      \"Above median share white, 2010\",\n",
    "                      \"Below median share below poverty line, 2010\",\n",
    "                      \"Above median share below poverty line, 2010\"])\n",
    "ax.set_ylabel(\"Sample Restriction\")\n",
    "ax.set_xlabel(\"Average Post-Treatment ATT\")\n",
    "\n",
    "figure_utilities.save_figure_and_close(fig, os.path.join(OUTPUT_FIGURES, \"heterogenous_effects.png\"))"
   ],
   "metadata": {
    "collapsed": false
   }
  },
  {
   "cell_type": "markdown",
   "source": [
    "## Calculating Treatment Effects Using Subset of Crimes as Outcome"
   ],
   "metadata": {
    "collapsed": false
   }
  },
  {
   "cell_type": "code",
   "execution_count": null,
   "outputs": [],
   "source": [
    "# Groups 2 through 5\n",
    "df = pd.read_csv(INPUT_DATA_PANEL)\n",
    "\n",
    "# Get a list of months from the month_to_int_dictionary\n",
    "_, month_to_int_dictionary, _ = get_value_variable_names(df, f'group_2_crimes_{constants.Analysis.MAIN_RESULTS_RADIUS}')\n",
    "\n",
    "# Construct columns containing the sum of group 2 through group 5 crimes\n",
    "for month in list(month_to_int_dictionary.keys()):\n",
    "    df.loc[:, f'{month}_group_2_through_5_crimes_250m'] = (df[f'{month}_group_2_crimes_250m'] +\n",
    "                                                           df[f'{month}_group_3_crimes_250m'] +\n",
    "                                                           df[f'{month}_group_4_crimes_250m'] +\n",
    "                                                           df[f'{month}_group_5_crimes_250m'])\n",
    "analysis = f\"group_2_through_5_crimes_{constants.Analysis.MAIN_RESULTS_RADIUS}m\"\n",
    "weekly_value_vars_crime, month_to_int_dictionary, int_to_month_dictionary = get_value_variable_names(df, analysis)\n",
    "\n",
    "df = prepare_df_for_DiD(df=df,\n",
    "                        analysis=analysis,\n",
    "                        treatment_date_variable=treatment_date_variable,\n",
    "                        pre_treatment_covariates=[],\n",
    "                        value_vars=weekly_value_vars_crime,\n",
    "                        period_to_int_dictionary=month_to_int_dictionary)\n",
    "# Run DiD conditional on covariates.\n",
    "att_gt_group_2_through_5_crimes = ATTgt(data=df, cohort_name=treatment_date_variable, base_period='universal')\n",
    "formula = f'{analysis} ~ ' + '+'.join([])\n",
    "result = att_gt_group_2_through_5_crimes.fit(formula=formula, control_group='never_treated', n_jobs=-1, progress_bar=True)"
   ],
   "metadata": {
    "collapsed": false
   }
  },
  {
   "cell_type": "code",
   "execution_count": null,
   "outputs": [],
   "source": [
    "# Group 1 Crimes\n",
    "df = pd.read_csv(INPUT_DATA_PANEL)\n",
    "# Generate value variables list and dictionaries mapping between months and integers.\n",
    "analysis = f\"group_1_crimes_{constants.Analysis.MAIN_RESULTS_RADIUS}m\"\n",
    "weekly_value_vars_crime, month_to_int_dictionary, int_to_month_dictionary = get_value_variable_names(df, analysis)\n",
    "df = prepare_df_for_DiD(df=df,\n",
    "                        analysis=analysis,\n",
    "                        treatment_date_variable=treatment_date_variable,\n",
    "                        pre_treatment_covariates=[],\n",
    "                        value_vars=weekly_value_vars_crime,\n",
    "                        period_to_int_dictionary=month_to_int_dictionary)\n",
    "\n",
    "# Run DiD conditional on covariates.\n",
    "att_gt_group_1_crimes = ATTgt(data=df, cohort_name=treatment_date_variable, base_period='universal')\n",
    "formula = f'{analysis} ~ ' + '+'.join([])\n",
    "result = att_gt_group_1_crimes.fit(formula=formula, control_group='never_treated', n_jobs=-1, progress_bar=True)\n",
    "\n",
    "# Plot D.R. ATT(t-g)s for placebo crimes next to D.R. ATT(t-g)s for all crimes.\n",
    "fig, (ax1, ax2) = plt.subplots(1, 2, layout='constrained', sharey=True)\n",
    "\n",
    "figure_utilities.aggregate_by_event_time_and_plot(att_gt_group_2_through_5_crimes, start_period=-12,\n",
    "                                                  end_period=36,\n",
    "                                                  title=\"All Crime Incidents as Outcome\", ax=ax1)\n",
    "figure_utilities.aggregate_by_event_time_and_plot(att_gt_group_1_crimes, start_period=-12,\n",
    "                                                  end_period=36,\n",
    "                                                  title=\"Subset of Crime Incidents as Outcome\", ax=ax2)\n",
    "\n",
    "figure_utilities.save_figure_and_close(fig, os.path.join(OUTPUT_FIGURES, \"mechanism_analysis.png\"))"
   ],
   "metadata": {
    "collapsed": false
   }
  },
  {
   "cell_type": "markdown",
   "source": [
    "## Alternative Radii"
   ],
   "metadata": {
    "collapsed": false
   }
  },
  {
   "cell_type": "code",
   "execution_count": null,
   "outputs": [],
   "source": [
    "fig, axes = plt.subplots(1, 3, layout='constrained', sharey=True)\n",
    "radii = [constants.Analysis.MAIN_RESULTS_RADIUS, constants.Analysis.MAIN_RESULTS_RADIUS + 50, constants.Analysis.MAIN_RESULTS_RADIUS + 100]\n",
    "atts = []\n",
    "att_ses = []\n",
    "twenty_seventeen_totals = []\n",
    "att_labels = ['250m away', '300m away', '350m away', '250m and 350m away', '250m and 400m away']\n",
    "for ax, radius in zip(axes, radii):\n",
    "    if radius != constants.Analysis.MAIN_RESULTS_RADIUS:\n",
    "        df = pd.read_csv(INPUT_DATA_PANEL)\n",
    "        twenty_seventeen_totals.append(df[f'total_twenty_seventeen_group_0_crimes_{radius}m'].mean())\n",
    "        analysis = f\"group_0_crimes_{radius}m\"\n",
    "        weekly_value_vars_crime, month_to_int_dictionary, int_to_month_dictionary = get_value_variable_names(df, analysis)\n",
    "        _, pre_treatment_covariates = test_balance(df, analysis)\n",
    "\n",
    "\n",
    "        df = prepare_df_for_DiD(df=df,\n",
    "                                analysis=analysis,\n",
    "                                treatment_date_variable=treatment_date_variable,\n",
    "                                pre_treatment_covariates=pre_treatment_covariates,\n",
    "                                value_vars=weekly_value_vars_crime,\n",
    "                                period_to_int_dictionary=month_to_int_dictionary)\n",
    "        # Run DiD conditional on covariates.\n",
    "        current_att_gt = ATTgt(data=df, cohort_name=treatment_date_variable, base_period='universal')\n",
    "        formula = f'{analysis} ~ ' + '+'.join(pre_treatment_covariates)\n",
    "        current_att_gt.fit(formula=formula, control_group='never_treated', n_jobs=-1, progress_bar=True)\n",
    "        figure_utilities.aggregate_by_event_time_and_plot(current_att_gt,\n",
    "                                                          start_period=constants.Analysis.MINIMUM_PRE_PERIOD,\n",
    "                                                          end_period=constants.Analysis.MAXIMUM_POST_PERIOD,\n",
    "                                                          title=f\"{radius} Meters\", ax=ax)\n",
    "        atts.append(current_att_gt.aggregate('event', overall=True)['EventAggregationOverall']['']['ATT'].iloc[0])\n",
    "        att_ses.append(current_att_gt.aggregate('event', overall=True)['EventAggregationOverall']['analytic']['std_error'].iloc[0])\n",
    "\n",
    "    else:\n",
    "        df = pd.read_csv(INPUT_DATA_PANEL)\n",
    "        twenty_seventeen_totals.append(df[f'total_twenty_nineteen_group_0_crimes_{radius}m'].mean())\n",
    "        figure_utilities.aggregate_by_event_time_and_plot(att_gt_all_crimes,\n",
    "                                                          start_period=constants.Analysis.MINIMUM_PRE_PERIOD,\n",
    "                                                          end_period=constants.Analysis.MAXIMUM_POST_PERIOD,\n",
    "                                                          title=f\"{radius} Meters\", ax=ax)\n",
    "        atts.append(att_gt_all_crimes.aggregate('event', overall=True)['EventAggregationOverall']['']['ATT'].iloc[0])\n",
    "        att_ses.append(att_gt_all_crimes.aggregate('event', overall=True)['EventAggregationOverall']['analytic']['std_error'].iloc[0])\n",
    "\n",
    "\n",
    "figure_utilities.save_figure_and_close(fig, os.path.join(OUTPUT_FIGURES, \"att_gt_dr_alternative_radii.png\"))"
   ],
   "metadata": {
    "collapsed": false
   }
  },
  {
   "cell_type": "code",
   "execution_count": null,
   "outputs": [],
   "source": [
    "for robustness_radius in constants.Analysis.ROBUSTNESS_RADII:\n",
    "    df = pd.read_csv(INPUT_DATA_PANEL)\n",
    "    twenty_seventeen_totals.append(df[f'total_twenty_nineteen_group_0_crimes_{robustness_radius}m'].mean())\n",
    "\n",
    "    analysis = f\"group_0_crimes_{robustness_radius}m\"\n",
    "    weekly_value_vars_crime, month_to_int_dictionary, int_to_month_dictionary = get_value_variable_names(df, analysis)\n",
    "    _, pre_treatment_covariates = test_balance(df, analysis)\n",
    "\n",
    "    df = prepare_df_for_DiD(df=df,\n",
    "                            analysis=analysis,\n",
    "                            treatment_date_variable=treatment_date_variable,\n",
    "                            pre_treatment_covariates=pre_treatment_covariates,\n",
    "                            value_vars=weekly_value_vars_crime,\n",
    "                            period_to_int_dictionary=month_to_int_dictionary)\n",
    "\n",
    "    # Run DiD conditional on covariates.\n",
    "    att_gt_all_crimes_donut = ATTgt(data=df, cohort_name=treatment_date_variable, base_period='universal')\n",
    "    formula = f'{analysis} ~ ' + '+'.join(pre_treatment_covariates)\n",
    "    att_gt_all_crimes_donut.fit(formula=formula, control_group='never_treated', n_jobs=-1, progress_bar=True)\n",
    "\n",
    "\n",
    "    atts.append(att_gt_all_crimes_donut.aggregate('event', overall=True)['EventAggregationOverall']['']['ATT'].iloc[0])\n",
    "    att_ses.append(att_gt_all_crimes_donut.aggregate('event', overall=True)['EventAggregationOverall']['analytic']['std_error'].iloc[0])"
   ],
   "metadata": {
    "collapsed": false
   }
  },
  {
   "cell_type": "code",
   "execution_count": null,
   "outputs": [],
   "source": [
    "# Build table\n",
    "atts_aggregated = pd.DataFrame()\n",
    "atts_aggregated.loc[:, 'Treatment Effect (S.E.)'] = pd.Series(atts).round(2).astype(str) + \" \" + \"(\" + pd.Series(att_ses).round(2).astype(str) + \")\"\n",
    "atts_aggregated.loc[:, 'Total Incidents, 2017 (Mean Property)'] = pd.Series(twenty_seventeen_totals).round(2)\n",
    "atts_aggregated.loc[:, 'Treatment Effect as \\% of Mean'] = (-100 * (pd.Series(atts) / atts_aggregated['Total Incidents, 2017 (Mean Property)'])).round(2).astype(str)\n",
    "atts_aggregated.loc[:, 'Total Incidents, 2017 (Mean Property)'] = atts_aggregated['Total Incidents, 2017 (Mean Property)'].astype(str)\n",
    "atts_aggregated.index=att_labels\n",
    "atts_aggregated = atts_aggregated.T"
   ],
   "metadata": {
    "collapsed": false
   }
  },
  {
   "cell_type": "code",
   "execution_count": null,
   "outputs": [],
   "source": [
    "# Reformat table\n",
    "main_results_columns = ['250m away', '300m away', '350m away']\n",
    "robustness_columns = ['250m and 350m away', '250m and 400m away']\n",
    "main_estimates = pd.concat([atts_aggregated[main_results_columns]], axis=1, keys=[\"Crimes Less Than\"])\n",
    "robustness_estimates = pd.concat([atts_aggregated[robustness_columns]], axis=1, keys=[\"Crimes Between\"])\n"
   ],
   "metadata": {
    "collapsed": false
   }
  },
  {
   "cell_type": "code",
   "execution_count": null,
   "outputs": [],
   "source": [
    "spacer = pd.concat([pd.DataFrame([[\" \"], [\" \"], [\" \"]], index=main_estimates.index, columns=[\" \"])], axis=1, keys=[\"\"])\n",
    "atts_aggregated = pd.concat([main_estimates, spacer, robustness_estimates], axis=1)"
   ],
   "metadata": {
    "collapsed": false
   }
  },
  {
   "cell_type": "code",
   "execution_count": null,
   "outputs": [],
   "source": [
    "latex = (atts_aggregated\n",
    "                 .style\n",
    "                 #.format(formatter=\"{:.2f}\", subset=pd.IndexSlice[['Total Incidents, 2017 (Mean Property)', 'Treatment Effect as \\% of Mean'], :])\n",
    "                 .format_index(\"\\\\textit{{{}}}\", escape=\"latex\", axis=1, level=0)\n",
    "                 .to_latex(None,\n",
    "                           column_format=\"lcccccc\",\n",
    "                           hrules=True,\n",
    "                           multicol_align='c',\n",
    "                           clines=\"skip-last;data\")).replace(\"{*}\", \"{.75cm}\")\n",
    "latex = latex.split(\"\\\\\\\\\\n\")\n",
    "latex.insert(1, \"\\\\cline{2-4}\\\\cline{6-7}\\n\")\n",
    "latex = \"\\\\\\\\\\n\".join(latex)\n",
    "with open(os.path.join(OUTPUT_TABLES, \"magnitudes_summary.tex\"), 'w') as file:\n",
    "    file.write(latex)"
   ],
   "metadata": {
    "collapsed": false
   }
  }
 ],
 "metadata": {
  "kernelspec": {
   "name": "venv",
   "language": "python",
   "display_name": "venv"
  },
  "language_info": {
   "codemirror_mode": {
    "name": "ipython",
    "version": 3
   },
   "file_extension": ".py",
   "mimetype": "text/x-python",
   "name": "python",
   "nbconvert_exporter": "python",
   "pygments_lexer": "ipython3",
   "version": "3.10.8"
  }
 },
 "nbformat": 4,
 "nbformat_minor": 5
}
