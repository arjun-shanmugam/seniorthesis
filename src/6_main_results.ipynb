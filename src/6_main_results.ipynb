{
 "cells": [
  {
   "cell_type": "markdown",
   "id": "50fd5b8e-e603-4d88-9201-fbc462438e2f",
   "metadata": {},
   "source": [
    "# Setup"
   ]
  },
  {
   "cell_type": "code",
   "execution_count": 1,
   "id": "ea7989d9-f382-4940-8600-582c59aa1f58",
   "metadata": {
    "ExecuteTime": {
     "end_time": "2023-11-08T23:08:42.578976Z",
     "start_time": "2023-11-08T23:08:41.602861Z"
    }
   },
   "outputs": [],
   "source": [
    "import figure_utilities\n",
    "import constants\n",
    "from stats_utilities import select_controls, test_balance\n",
    "import matplotlib.pyplot as plt\n",
    "from panel_utilities import get_value_variable_names, prepare_df_for_DiD\n",
    "plt.rcParams['savefig.dpi'] = 300\n",
    "import statsmodels.formula.api as smf\n",
    "import os\n",
    "from differences import ATTgt\n",
    "import pandas as pd"
   ]
  },
  {
   "cell_type": "code",
   "execution_count": 2,
   "id": "acda29f4-f57a-461e-973e-e213e5893b72",
   "metadata": {
    "ExecuteTime": {
     "end_time": "2023-11-08T23:08:42.581491Z",
     "start_time": "2023-11-08T23:08:42.579922Z"
    }
   },
   "outputs": [],
   "source": [
    "# Store paths.\n",
    "INPUT_DATA_PANEL = \"../data/03_cleaned/crime_analysis_monthly.csv\"\n",
    "OUTPUT_TABLES = \"../output/final_paper/tables\"\n",
    "OUTPUT_FIGURES = \"../output/final_paper/figures\""
   ]
  },
  {
   "cell_type": "markdown",
   "id": "399ba841-86d3-41f5-8665-900a84468673",
   "metadata": {},
   "source": [
    "# Main Results"
   ]
  },
  {
   "cell_type": "code",
   "execution_count": 3,
   "id": "7b0031d1-bd58-4496-9965-d3d0cd0e7427",
   "metadata": {
    "ExecuteTime": {
     "end_time": "2023-11-08T23:08:42.855191Z",
     "start_time": "2023-11-08T23:08:42.582056Z"
    }
   },
   "outputs": [],
   "source": [
    "# Read fresh copy of unrestricted dataset into memory.\n",
    "df = pd.read_csv(INPUT_DATA_PANEL)\n",
    "treatment_date_variable = 'latest_docket_month'  # Store treatment date variable.\n"
   ]
  },
  {
   "cell_type": "code",
   "execution_count": 4,
   "id": "9c24ea82-f225-4f43-ab1e-b4b83ce7aa15",
   "metadata": {
    "ExecuteTime": {
     "end_time": "2023-11-08T23:08:42.858870Z",
     "start_time": "2023-11-08T23:08:42.857171Z"
    }
   },
   "outputs": [],
   "source": [
    "# Generate value variables list and dictionaries mapping between months and integers.\n",
    "analysis = f\"group_0_crimes_{constants.Analysis.MAIN_RESULTS_RADIUS}m\"\n",
    "weekly_value_vars_crime, month_to_int_dictionary, int_to_month_dictionary = get_value_variable_names(df, analysis)"
   ]
  },
  {
   "cell_type": "code",
   "execution_count": 5,
   "id": "2fae8e4f-ff80-46cd-822a-1cffc1c2edc8",
   "metadata": {
    "ExecuteTime": {
     "end_time": "2023-11-08T23:08:43.009436Z",
     "start_time": "2023-11-08T23:08:42.860704Z"
    }
   },
   "outputs": [
    {
     "name": "stdout",
     "output_type": "stream",
     "text": [
      "Number of covariates: 10\n"
     ]
    },
    {
     "data": {
      "text/plain": "                                                                              \\\n                                                  Cases Won by Plaintiff (1)   \nPanel A Total Incidents, 2017                                     338.181152   \n        $\\Delta$ Incidents, 2017-2019                             -50.048168   \n        $\\Delta$ Incidents, 2 Years Pre-Treatment                  -4.663874   \nPanel B Bachelor's degree, 2010                                     0.316407   \n        Job density, 2013                                       16161.032515   \n        Median household income, 2016                           47553.063874   \n        Poverty rate, 2010                                          0.279638   \n        Population density, 2010                                23320.185868   \n        Share white, 2010                                           0.319421   \nPanel C Filing for cause                                            0.132984   \n        Defendant is entity                                         0.019895   \n        Filing for nonpayment                                       0.716230   \n\n                                                  Difference in Cases Won by Defendant  \\\n                                                                        Unweighted (2)   \nPanel A Total Incidents, 2017                                               -10.547731   \n        $\\Delta$ Incidents, 2017-2019                                       -15.579503   \n        $\\Delta$ Incidents, 2 Years Pre-Treatment                            -1.688398   \nPanel B Bachelor's degree, 2010                                               0.002512   \n        Job density, 2013                                                 -1272.661768   \n        Median household income, 2016                                      2997.870414   \n        Poverty rate, 2010                                                   -0.021030   \n        Population density, 2010                                           -297.766413   \n        Share white, 2010                                                     0.012446   \nPanel C Filing for cause                                                      0.043066   \n        Defendant is entity                                                  -0.008715   \n        Filing for nonpayment                                                -0.106658   \n\n                                                                              \\\n                                                   \\emph{p} (3) Weighted (4)   \nPanel A Total Incidents, 2017                      4.017521e-01   -11.456601   \n        $\\Delta$ Incidents, 2017-2019              6.851633e-03     3.094776   \n        $\\Delta$ Incidents, 2 Years Pre-Treatment  1.959620e-01     0.340861   \nPanel B Bachelor's degree, 2010                    8.133641e-01    -0.010714   \n        Job density, 2013                          5.501121e-01 -1326.158638   \n        Median household income, 2016              1.427126e-02 -1834.887114   \n        Poverty rate, 2010                         4.904136e-03    -0.006457   \n        Population density, 2010                   6.737331e-01  -652.164003   \n        Share white, 2010                          3.450948e-01    -0.010175   \nPanel C Filing for cause                           5.801068e-03    -0.001314   \n        Defendant is entity                        2.432211e-01    -0.012205   \n        Filing for nonpayment                      3.013004e-07    -0.023745   \n\n                                                                \n                                                  \\emph{p} (5)  \nPanel A Total Incidents, 2017                         0.364424  \n        $\\Delta$ Incidents, 2017-2019                 0.555316  \n        $\\Delta$ Incidents, 2 Years Pre-Treatment     0.770129  \nPanel B Bachelor's degree, 2010                       0.314596  \n        Job density, 2013                             0.529086  \n        Median household income, 2016                 0.147859  \n        Poverty rate, 2010                            0.389956  \n        Population density, 2010                      0.355042  \n        Share white, 2010                             0.443914  \nPanel C Filing for cause                              0.936780  \n        Defendant is entity                           0.114778  \n        Filing for nonpayment                         0.273154  ",
      "text/html": "<div>\n<style scoped>\n    .dataframe tbody tr th:only-of-type {\n        vertical-align: middle;\n    }\n\n    .dataframe tbody tr th {\n        vertical-align: top;\n    }\n\n    .dataframe thead tr th {\n        text-align: left;\n    }\n</style>\n<table border=\"1\" class=\"dataframe\">\n  <thead>\n    <tr>\n      <th></th>\n      <th></th>\n      <th></th>\n      <th colspan=\"4\" halign=\"left\">Difference in Cases Won by Defendant</th>\n    </tr>\n    <tr>\n      <th></th>\n      <th></th>\n      <th>Cases Won by Plaintiff (1)</th>\n      <th>Unweighted (2)</th>\n      <th>\\emph{p} (3)</th>\n      <th>Weighted (4)</th>\n      <th>\\emph{p} (5)</th>\n    </tr>\n  </thead>\n  <tbody>\n    <tr>\n      <th rowspan=\"3\" valign=\"top\">Panel A</th>\n      <th>Total Incidents, 2017</th>\n      <td>338.181152</td>\n      <td>-10.547731</td>\n      <td>4.017521e-01</td>\n      <td>-11.456601</td>\n      <td>0.364424</td>\n    </tr>\n    <tr>\n      <th>$\\Delta$ Incidents, 2017-2019</th>\n      <td>-50.048168</td>\n      <td>-15.579503</td>\n      <td>6.851633e-03</td>\n      <td>3.094776</td>\n      <td>0.555316</td>\n    </tr>\n    <tr>\n      <th>$\\Delta$ Incidents, 2 Years Pre-Treatment</th>\n      <td>-4.663874</td>\n      <td>-1.688398</td>\n      <td>1.959620e-01</td>\n      <td>0.340861</td>\n      <td>0.770129</td>\n    </tr>\n    <tr>\n      <th rowspan=\"6\" valign=\"top\">Panel B</th>\n      <th>Bachelor's degree, 2010</th>\n      <td>0.316407</td>\n      <td>0.002512</td>\n      <td>8.133641e-01</td>\n      <td>-0.010714</td>\n      <td>0.314596</td>\n    </tr>\n    <tr>\n      <th>Job density, 2013</th>\n      <td>16161.032515</td>\n      <td>-1272.661768</td>\n      <td>5.501121e-01</td>\n      <td>-1326.158638</td>\n      <td>0.529086</td>\n    </tr>\n    <tr>\n      <th>Median household income, 2016</th>\n      <td>47553.063874</td>\n      <td>2997.870414</td>\n      <td>1.427126e-02</td>\n      <td>-1834.887114</td>\n      <td>0.147859</td>\n    </tr>\n    <tr>\n      <th>Poverty rate, 2010</th>\n      <td>0.279638</td>\n      <td>-0.021030</td>\n      <td>4.904136e-03</td>\n      <td>-0.006457</td>\n      <td>0.389956</td>\n    </tr>\n    <tr>\n      <th>Population density, 2010</th>\n      <td>23320.185868</td>\n      <td>-297.766413</td>\n      <td>6.737331e-01</td>\n      <td>-652.164003</td>\n      <td>0.355042</td>\n    </tr>\n    <tr>\n      <th>Share white, 2010</th>\n      <td>0.319421</td>\n      <td>0.012446</td>\n      <td>3.450948e-01</td>\n      <td>-0.010175</td>\n      <td>0.443914</td>\n    </tr>\n    <tr>\n      <th rowspan=\"3\" valign=\"top\">Panel C</th>\n      <th>Filing for cause</th>\n      <td>0.132984</td>\n      <td>0.043066</td>\n      <td>5.801068e-03</td>\n      <td>-0.001314</td>\n      <td>0.936780</td>\n    </tr>\n    <tr>\n      <th>Defendant is entity</th>\n      <td>0.019895</td>\n      <td>-0.008715</td>\n      <td>2.432211e-01</td>\n      <td>-0.012205</td>\n      <td>0.114778</td>\n    </tr>\n    <tr>\n      <th>Filing for nonpayment</th>\n      <td>0.716230</td>\n      <td>-0.106658</td>\n      <td>3.013004e-07</td>\n      <td>-0.023745</td>\n      <td>0.273154</td>\n    </tr>\n  </tbody>\n</table>\n</div>"
     },
     "execution_count": 5,
     "metadata": {},
     "output_type": "execute_result"
    }
   ],
   "source": [
    "# Re-Balance on Controls\n",
    "balance_table, pre_treatment_covariates = test_balance(df, analysis, OUTPUT_TABLES)\n",
    "balance_table"
   ]
  },
  {
   "cell_type": "markdown",
   "source": [
    "## Doubly Robust DiD Conditional on Covariates"
   ],
   "metadata": {
    "collapsed": false
   }
  },
  {
   "cell_type": "code",
   "execution_count": 7,
   "outputs": [
    {
     "name": "stdout",
     "output_type": "stream",
     "text": [
      "10\n"
     ]
    },
    {
     "name": "stderr",
     "output_type": "stream",
     "text": [
      "Computing ATTgt [workers=12]  100%|████████████████████| 980/980 [00:02<00:00, 369.51it/s]\n"
     ]
    }
   ],
   "source": [
    "df = pd.read_csv(INPUT_DATA_PANEL)\n",
    "df = prepare_df_for_DiD(df=df,\n",
    "                        analysis=analysis,\n",
    "                        treatment_date_variable=treatment_date_variable,\n",
    "                        pre_treatment_covariates=pre_treatment_covariates,\n",
    "                        value_vars=weekly_value_vars_crime,\n",
    "                        period_to_int_dictionary=month_to_int_dictionary)\n",
    "print(len(pre_treatment_covariates))\n",
    "# Run DiD conditional on covariates.\n",
    "att_gt_all_crimes = ATTgt(data=df, cohort_name=treatment_date_variable, base_period='universal')\n",
    "formula = f'{analysis} ~ ' + '+'.join(pre_treatment_covariates)\n",
    "att_gt_all_crimes.fit(formula=formula, control_group='never_treated', n_jobs=-1, progress_bar=True)\n",
    "# Plot D.R. ATT(t-g)s on a long horizon.\n",
    "fig, ax = plt.subplots(layout='constrained')\n",
    "\n",
    "figure_utilities.aggregate_by_event_time_and_plot(att_gt_all_crimes,\n",
    "                                                  start_period=constants.Analysis.MINIMUM_PRE_PERIOD,\n",
    "                                                  end_period=constants.Analysis.MAXIMUM_POST_PERIOD,\n",
    "                                                  title=\"\", ax=ax)\n",
    "\n",
    "figure_utilities.save_figure_and_close(fig, os.path.join(OUTPUT_FIGURES, \"att_gt_dr_all_crimes.png\"))"
   ],
   "metadata": {
    "collapsed": false,
    "ExecuteTime": {
     "end_time": "2023-11-08T23:08:52.113378Z",
     "start_time": "2023-11-08T23:08:47.519263Z"
    }
   }
  },
  {
   "cell_type": "markdown",
   "source": [
    "## Heterogeneous Treatment Effects"
   ],
   "metadata": {
    "collapsed": false
   }
  },
  {
   "cell_type": "code",
   "execution_count": 8,
   "outputs": [
    {
     "name": "stderr",
     "output_type": "stream",
     "text": [
      "Computing ATTgt for above_median_popdensity2010 = 0 [workers=12]100%|████████████████████| 1176/1176 [00:02<00:00, 526.06it/s] \n",
      "Computing ATTgt for above_median_popdensity2010 = 1 [workers=12]100%|████████████████████| 1176/1176 [00:00<00:00, 1191.68it/s]\n",
      "Computing ATTgt for above_median_share_white2010 = 0 [workers=12]100%|████████████████████| 1176/1176 [00:02<00:00, 546.96it/s] \n",
      "Computing ATTgt for above_median_share_white2010 = 1 [workers=12]100%|████████████████████| 1176/1176 [00:00<00:00, 1237.78it/s]\n",
      "Computing ATTgt for above_median_poor_share2010 = 0 [workers=12]100%|████████████████████| 1176/1176 [00:02<00:00, 549.57it/s] \n",
      "Computing ATTgt for above_median_poor_share2010 = 1 [workers=12]100%|████████████████████| 1176/1176 [00:01<00:00, 1145.52it/s]\n"
     ]
    }
   ],
   "source": [
    "point_estimates = []\n",
    "ci_uppers = []\n",
    "ci_lowers = []\n",
    "pretrend_p_values = []\n",
    "for variable in ['popdensity2010', 'share_white2010', 'poor_share2010']:\n",
    "    # Read fresh copy of unrestricted dataset into memory.\n",
    "    df = pd.read_csv(INPUT_DATA_PANEL)\n",
    "\n",
    "    # Generate indicator variable for above median value of current characteristic\n",
    "    median = df[variable].median()\n",
    "    above_median_indicator_name = f'above_median_{variable}'\n",
    "    df.loc[:, above_median_indicator_name] = 0\n",
    "    df.loc[df[variable] > median, above_median_indicator_name] = 1\n",
    "\n",
    "    # Prepare DataFrame for DiD\n",
    "    pre_treatment_covariates_minus_current_var = pre_treatment_covariates.copy()\n",
    "    pre_treatment_covariates_minus_current_var.remove(variable)\n",
    "    df = prepare_df_for_DiD(df=df,\n",
    "                            analysis=analysis,\n",
    "                            treatment_date_variable=treatment_date_variable,\n",
    "                            pre_treatment_covariates=pre_treatment_covariates_minus_current_var + [above_median_indicator_name],\n",
    "                            value_vars=weekly_value_vars_crime,\n",
    "                            period_to_int_dictionary=month_to_int_dictionary)\n",
    "\n",
    "    # Run DiD\n",
    "    att_gt_by_sample = ATTgt(data=df,\n",
    "                             cohort_name=treatment_date_variable,\n",
    "                             base_period='universal')\n",
    "    att_gt_by_sample.fit(formula=f'{analysis} ~ relative_pre_treatment_change_in_{analysis}',\n",
    "                         control_group='never_treated',\n",
    "                         split_sample_by=f'above_median_{variable}',\n",
    "                         n_jobs=-1,\n",
    "                         progress_bar=True)\n",
    "\n",
    "    att_gt_by_sample = att_gt_by_sample.aggregate('event', overall=True)\n",
    "\n",
    "    # Collect point estimates, confidence interval bounds\n",
    "    below_median_point_estimate = att_gt_by_sample.loc[f'above_median_{variable} = 0', (\"EventAggregationOverall\", slice(None), \"ATT\")]\n",
    "    point_estimates.append(below_median_point_estimate)\n",
    "    above_median_point_estimate = att_gt_by_sample.loc[f'above_median_{variable} = 1', (\"EventAggregationOverall\", slice(None), \"ATT\")]\n",
    "    point_estimates.append(above_median_point_estimate)\n",
    "\n",
    "    below_median_ci_lower = att_gt_by_sample.loc[f'above_median_{variable} = 0', (\"EventAggregationOverall\", \"pointwise conf. band\", \"lower\")]\n",
    "    ci_lowers.append(below_median_ci_lower)\n",
    "    above_median_ci_lower = att_gt_by_sample.loc[f'above_median_{variable} = 1', (\"EventAggregationOverall\", \"pointwise conf. band\", \"lower\")]\n",
    "    ci_lowers.append(above_median_ci_lower)\n",
    "\n",
    "    below_median_ci_upper = att_gt_by_sample.loc[f'above_median_{variable} = 0', (\"EventAggregationOverall\", \"pointwise conf. band\", \"upper\")]\n",
    "    ci_uppers.append(below_median_ci_upper)\n",
    "    above_median_ci_upper = att_gt_by_sample.loc[f'above_median_{variable} = 1', (\"EventAggregationOverall\", \"pointwise conf. band\", \"upper\")]\n",
    "    ci_uppers.append(above_median_ci_upper)\n",
    "\n",
    "\n",
    "\n",
    "fig, ax = plt.subplots()\n",
    "figure_utilities.plot_labeled_vline(ax, x=0, text=\"\", color='black', linestyle='-')\n",
    "for i, (ci_lower, ci_upper) in enumerate(zip(ci_lowers, ci_uppers)):\n",
    "    ax.hlines(y=i, xmin=ci_lower, xmax=ci_upper, color='black')\n",
    "ax.scatter(point_estimates, range(len(point_estimates)), color='black', s=7)\n",
    "ax.set_yticks(ticks=range(len(point_estimates)),\n",
    "              labels=[\"Below median population density, 2010\",\n",
    "                      \"Above median population density, 2010\",\n",
    "                      \"Below median share white, 2010\",\n",
    "                      \"Above median share white, 2010\",\n",
    "                      \"Below median share below poverty line, 2010\",\n",
    "                      \"Above median share below poverty line, 2010\"])\n",
    "ax.set_ylabel(\"Sample Restriction\")\n",
    "ax.set_xlabel(\"Average Post-Treatment ATT\")\n",
    "\n",
    "figure_utilities.save_figure_and_close(fig, os.path.join(OUTPUT_FIGURES, \"heterogenous_effects.png\"))"
   ],
   "metadata": {
    "collapsed": false,
    "ExecuteTime": {
     "end_time": "2023-11-08T23:09:07.655688Z",
     "start_time": "2023-11-08T23:08:52.117769Z"
    }
   }
  },
  {
   "cell_type": "markdown",
   "source": [
    "## Calculating Treatment Effects Using Subset of Crimes as Outcome"
   ],
   "metadata": {
    "collapsed": false
   }
  },
  {
   "cell_type": "code",
   "execution_count": 9,
   "outputs": [
    {
     "name": "stderr",
     "output_type": "stream",
     "text": [
      "Computing ATTgt [workers=12]  100%|████████████████████| 980/980 [00:02<00:00, 367.66it/s]\n"
     ]
    }
   ],
   "source": [
    "df = pd.read_csv(INPUT_DATA_PANEL)\n",
    "# Generate value variables list and dictionaries mapping between months and integers.\n",
    "analysis = f\"group_1_crimes_{constants.Analysis.MAIN_RESULTS_RADIUS}m\"\n",
    "weekly_value_vars_crime, month_to_int_dictionary, int_to_month_dictionary = get_value_variable_names(df, analysis)\n",
    "df = prepare_df_for_DiD(df=df,\n",
    "                        analysis=analysis,\n",
    "                        treatment_date_variable=treatment_date_variable,\n",
    "                        pre_treatment_covariates=pre_treatment_covariates,\n",
    "                        value_vars=weekly_value_vars_crime,\n",
    "                        period_to_int_dictionary=month_to_int_dictionary)\n",
    "\n",
    "# Run DiD conditional on covariates.\n",
    "att_gt_group_1_crimes = ATTgt(data=df, cohort_name=treatment_date_variable, base_period='universal')\n",
    "formula = f'{analysis} ~ ' + '+'.join(pre_treatment_covariates)\n",
    "result = att_gt_group_1_crimes.fit(formula=formula, control_group='never_treated', n_jobs=-1, progress_bar=True)\n",
    "\n",
    "# Plot D.R. ATT(t-g)s for placebo crimes next to D.R. ATT(t-g)s for all crimes.\n",
    "fig, (ax1, ax2) = plt.subplots(1, 2, layout='constrained', sharey=True)\n",
    "\n",
    "figure_utilities.aggregate_by_event_time_and_plot(att_gt_all_crimes, start_period=-5,\n",
    "                                                  end_period=36,\n",
    "                                                  title=\"All Crime Incidents as Outcome\", ax=ax1)\n",
    "figure_utilities.aggregate_by_event_time_and_plot(att_gt_group_1_crimes, start_period=-5,\n",
    "                                                  end_period=36,\n",
    "                                                  title=\"Subset of Crime Incidents as Outcome\", ax=ax2)\n",
    "\n",
    "figure_utilities.save_figure_and_close(fig, os.path.join(OUTPUT_FIGURES, \"att_gt_dr_group_1_crimes.png\"))"
   ],
   "metadata": {
    "collapsed": false,
    "ExecuteTime": {
     "end_time": "2023-11-08T23:09:12.440680Z",
     "start_time": "2023-11-08T23:09:07.657953Z"
    }
   }
  },
  {
   "cell_type": "markdown",
   "source": [
    "## Alternative Radii"
   ],
   "metadata": {
    "collapsed": false
   }
  },
  {
   "cell_type": "code",
   "execution_count": 10,
   "outputs": [
    {
     "name": "stderr",
     "output_type": "stream",
     "text": [
      "Computing ATTgt [workers=12]  100%|████████████████████| 980/980 [00:02<00:00, 370.91it/s]\n",
      "Computing ATTgt [workers=12]  100%|████████████████████| 980/980 [00:02<00:00, 382.14it/s]\n"
     ]
    }
   ],
   "source": [
    "fig, axes = plt.subplots(1, 3, layout='constrained', sharey=True)\n",
    "radii = [constants.Analysis.MAIN_RESULTS_RADIUS, constants.Analysis.MAIN_RESULTS_RADIUS + 50, constants.Analysis.MAIN_RESULTS_RADIUS + 100]\n",
    "atts = []\n",
    "att_ses = []\n",
    "twenty_seventeen_totals = []\n",
    "att_labels = ['250m away', '300m away', '350m away', '250m and 350m away', '250m and 400m away']\n",
    "for ax, radius in zip(axes, radii):\n",
    "    if radius != constants.Analysis.MAIN_RESULTS_RADIUS:\n",
    "        df = pd.read_csv(INPUT_DATA_PANEL)\n",
    "        twenty_seventeen_totals.append(df[f'total_twenty_seventeen_group_0_crimes_{radius}m'].mean())\n",
    "        analysis = f\"group_0_crimes_{radius}m\"\n",
    "        weekly_value_vars_crime, month_to_int_dictionary, int_to_month_dictionary = get_value_variable_names(df, analysis)\n",
    "        _, pre_treatment_covariates = test_balance(df, analysis)\n",
    "\n",
    "\n",
    "        df = prepare_df_for_DiD(df=df,\n",
    "                                analysis=analysis,\n",
    "                                treatment_date_variable=treatment_date_variable,\n",
    "                                pre_treatment_covariates=pre_treatment_covariates,\n",
    "                                value_vars=weekly_value_vars_crime,\n",
    "                                period_to_int_dictionary=month_to_int_dictionary)\n",
    "        # Run DiD conditional on covariates.\n",
    "        current_att_gt = ATTgt(data=df, cohort_name=treatment_date_variable, base_period='universal')\n",
    "        formula = f'{analysis} ~ ' + '+'.join(pre_treatment_covariates)\n",
    "        current_att_gt.fit(formula=formula, control_group='never_treated', n_jobs=-1, progress_bar=True)\n",
    "        figure_utilities.aggregate_by_event_time_and_plot(current_att_gt,\n",
    "                                                          start_period=constants.Analysis.MINIMUM_PRE_PERIOD,\n",
    "                                                          end_period=constants.Analysis.MAXIMUM_POST_PERIOD,\n",
    "                                                          title=f\"{radius} Meters\", ax=ax)\n",
    "        atts.append(current_att_gt.aggregate('event', overall=True)['EventAggregationOverall']['']['ATT'].iloc[0])\n",
    "        att_ses.append(current_att_gt.aggregate('event', overall=True)['EventAggregationOverall']['analytic']['std_error'].iloc[0])\n",
    "\n",
    "    else:\n",
    "        df = pd.read_csv(INPUT_DATA_PANEL)\n",
    "        twenty_seventeen_totals.append(df[f'total_twenty_seventeen_group_0_crimes_{radius}m'].mean())\n",
    "        figure_utilities.aggregate_by_event_time_and_plot(att_gt_all_crimes,\n",
    "                                                          start_period=constants.Analysis.MINIMUM_PRE_PERIOD,\n",
    "                                                          end_period=constants.Analysis.MAXIMUM_POST_PERIOD,\n",
    "                                                          title=f\"{radius} Meters\", ax=ax)\n",
    "        atts.append(att_gt_all_crimes.aggregate('event', overall=True)['EventAggregationOverall']['']['ATT'].iloc[0])\n",
    "        att_ses.append(att_gt_all_crimes.aggregate('event', overall=True)['EventAggregationOverall']['analytic']['std_error'].iloc[0])\n",
    "\n",
    "\n",
    "figure_utilities.save_figure_and_close(fig, os.path.join(OUTPUT_FIGURES, \"att_gt_dr_alternative_radii.png\"))"
   ],
   "metadata": {
    "collapsed": false,
    "ExecuteTime": {
     "end_time": "2023-11-08T23:09:21.965538Z",
     "start_time": "2023-11-08T23:09:12.444655Z"
    }
   }
  },
  {
   "cell_type": "code",
   "execution_count": 11,
   "outputs": [
    {
     "name": "stderr",
     "output_type": "stream",
     "text": [
      "Computing ATTgt [workers=12]  100%|████████████████████| 980/980 [00:02<00:00, 375.20it/s]\n",
      "Computing ATTgt [workers=12]  100%|████████████████████| 980/980 [00:02<00:00, 378.51it/s]\n"
     ]
    }
   ],
   "source": [
    "for robustness_radius in constants.Analysis.ROBUSTNESS_RADII:\n",
    "    df = pd.read_csv(INPUT_DATA_PANEL)\n",
    "    twenty_seventeen_totals.append(df[f'total_twenty_seventeen_group_0_crimes_{robustness_radius}m'].mean())\n",
    "\n",
    "    analysis = f\"group_0_crimes_{robustness_radius}m\"\n",
    "    weekly_value_vars_crime, month_to_int_dictionary, int_to_month_dictionary = get_value_variable_names(df, analysis)\n",
    "    _, pre_treatment_covariates = test_balance(df, analysis)\n",
    "\n",
    "    df = prepare_df_for_DiD(df=df,\n",
    "                            analysis=analysis,\n",
    "                            treatment_date_variable=treatment_date_variable,\n",
    "                            pre_treatment_covariates=pre_treatment_covariates,\n",
    "                            value_vars=weekly_value_vars_crime,\n",
    "                            period_to_int_dictionary=month_to_int_dictionary)\n",
    "\n",
    "    # Run DiD conditional on covariates.\n",
    "    att_gt_all_crimes_donut = ATTgt(data=df, cohort_name=treatment_date_variable, base_period='universal')\n",
    "    formula = f'{analysis} ~ ' + '+'.join(pre_treatment_covariates)\n",
    "    att_gt_all_crimes_donut.fit(formula=formula, control_group='never_treated', n_jobs=-1, progress_bar=True)\n",
    "\n",
    "\n",
    "    atts.append(att_gt_all_crimes_donut.aggregate('event', overall=True)['EventAggregationOverall']['']['ATT'].iloc[0])\n",
    "    att_ses.append(att_gt_all_crimes_donut.aggregate('event', overall=True)['EventAggregationOverall']['analytic']['std_error'].iloc[0])"
   ],
   "metadata": {
    "collapsed": false,
    "ExecuteTime": {
     "end_time": "2023-11-08T23:09:30.951448Z",
     "start_time": "2023-11-08T23:09:21.965760Z"
    }
   }
  },
  {
   "cell_type": "code",
   "execution_count": 12,
   "outputs": [],
   "source": [
    "# Build table\n",
    "atts_aggregated = pd.DataFrame()\n",
    "atts_aggregated.loc[:, 'Treatment Effect (S.E.)'] = pd.Series(atts).round(2).astype(str) + \" \" + \"(\" + pd.Series(att_ses).round(2).astype(str) + \")\"\n",
    "atts_aggregated.loc[:, 'Total Incidents, 2017 (Mean Property)'] = pd.Series(twenty_seventeen_totals).round(2)\n",
    "atts_aggregated.loc[:, 'Treatment Effect as \\% of Mean'] = (-100 * (pd.Series(atts) / atts_aggregated['Total Incidents, 2017 (Mean Property)'])).round(2).astype(str)\n",
    "atts_aggregated.loc[:, 'Total Incidents, 2017 (Mean Property)'] = atts_aggregated['Total Incidents, 2017 (Mean Property)'].astype(str)\n",
    "atts_aggregated.index=att_labels\n",
    "atts_aggregated = atts_aggregated.T"
   ],
   "metadata": {
    "collapsed": false,
    "ExecuteTime": {
     "end_time": "2023-11-08T23:09:30.988644Z",
     "start_time": "2023-11-08T23:09:30.959283Z"
    }
   }
  },
  {
   "cell_type": "code",
   "execution_count": 13,
   "outputs": [],
   "source": [
    "# Reformat table\n",
    "main_results_columns = ['250m away', '300m away', '350m away']\n",
    "robustness_columns = ['250m and 350m away', '250m and 400m away']\n",
    "main_estimates = pd.concat([atts_aggregated[main_results_columns]], axis=1, keys=[\"Crimes Less Than\"])\n",
    "robustness_estimates = pd.concat([atts_aggregated[robustness_columns]], axis=1, keys=[\"Crimes Between\"])\n"
   ],
   "metadata": {
    "collapsed": false,
    "ExecuteTime": {
     "end_time": "2023-11-08T23:09:31.007804Z",
     "start_time": "2023-11-08T23:09:30.993173Z"
    }
   }
  },
  {
   "cell_type": "code",
   "execution_count": 14,
   "outputs": [],
   "source": [
    "spacer = pd.concat([pd.DataFrame([[\" \"], [\" \"], [\" \"]], index=main_estimates.index, columns=[\" \"])], axis=1, keys=[\"\"])\n",
    "atts_aggregated = pd.concat([main_estimates, spacer, robustness_estimates], axis=1)"
   ],
   "metadata": {
    "collapsed": false,
    "ExecuteTime": {
     "end_time": "2023-11-08T23:09:31.050318Z",
     "start_time": "2023-11-08T23:09:31.027469Z"
    }
   }
  },
  {
   "cell_type": "code",
   "execution_count": 15,
   "outputs": [],
   "source": [
    "latex = (atts_aggregated\n",
    "                 .style\n",
    "                 #.format(formatter=\"{:.2f}\", subset=pd.IndexSlice[['Total Incidents, 2017 (Mean Property)', 'Treatment Effect as \\% of Mean'], :])\n",
    "                 .format_index(\"\\\\textit{{{}}}\", escape=\"latex\", axis=1, level=0)\n",
    "                 .to_latex(None,\n",
    "                           column_format=\"lcccccc\",\n",
    "                           hrules=True,\n",
    "                           multicol_align='c',\n",
    "                           clines=\"skip-last;data\")).replace(\"{*}\", \"{.75cm}\")\n",
    "latex = latex.split(\"\\\\\\\\\\n\")\n",
    "latex.insert(1, \"\\\\cline{2-4}\\\\cline{6-7}\\n\")\n",
    "latex = \"\\\\\\\\\\n\".join(latex)\n",
    "with open(os.path.join(OUTPUT_TABLES, \"magnitudes_summary.tex\"), 'w') as file:\n",
    "    file.write(latex)"
   ],
   "metadata": {
    "collapsed": false,
    "ExecuteTime": {
     "end_time": "2023-11-08T23:09:31.085301Z",
     "start_time": "2023-11-08T23:09:31.056543Z"
    }
   }
  },
  {
   "cell_type": "markdown",
   "source": [
    "# Geocoding"
   ],
   "metadata": {
    "collapsed": false
   }
  },
  {
   "cell_type": "code",
   "execution_count": 15,
   "outputs": [],
   "source": [],
   "metadata": {
    "collapsed": false,
    "ExecuteTime": {
     "end_time": "2023-11-08T23:09:31.091088Z",
     "start_time": "2023-11-08T23:09:31.086434Z"
    }
   }
  }
 ],
 "metadata": {
  "kernelspec": {
   "name": "venv",
   "language": "python",
   "display_name": "venv"
  },
  "language_info": {
   "codemirror_mode": {
    "name": "ipython",
    "version": 3
   },
   "file_extension": ".py",
   "mimetype": "text/x-python",
   "name": "python",
   "nbconvert_exporter": "python",
   "pygments_lexer": "ipython3",
   "version": "3.10.8"
  }
 },
 "nbformat": 4,
 "nbformat_minor": 5
}
