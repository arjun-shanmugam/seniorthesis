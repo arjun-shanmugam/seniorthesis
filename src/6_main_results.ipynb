{
 "cells": [
  {
   "cell_type": "markdown",
   "id": "50fd5b8e-e603-4d88-9201-fbc462438e2f",
   "metadata": {},
   "source": [
    "# Setup"
   ]
  },
  {
   "cell_type": "code",
   "execution_count": 1,
   "id": "ea7989d9-f382-4940-8600-582c59aa1f58",
   "metadata": {
    "ExecuteTime": {
     "end_time": "2023-08-16T02:12:12.118905Z",
     "start_time": "2023-08-16T02:12:11.169088Z"
    }
   },
   "outputs": [],
   "source": [
    "import figure_utilities\n",
    "import constants\n",
    "from stats_utilities import select_controls, test_balance\n",
    "import matplotlib.pyplot as plt\n",
    "from panel_utilities import get_value_variable_names, prepare_df_for_DiD\n",
    "plt.rcParams['savefig.dpi'] = 300\n",
    "import statsmodels.formula.api as smf\n",
    "import os\n",
    "from differences import ATTgt\n",
    "import pandas as pd"
   ]
  },
  {
   "cell_type": "code",
   "execution_count": 2,
   "id": "acda29f4-f57a-461e-973e-e213e5893b72",
   "metadata": {
    "ExecuteTime": {
     "end_time": "2023-08-16T02:12:12.120870Z",
     "start_time": "2023-08-16T02:12:12.119478Z"
    }
   },
   "outputs": [],
   "source": [
    "# Store paths.\n",
    "INPUT_DATA_PANEL = \"../data/03_cleaned/crime_analysis_monthly.csv\"\n",
    "OUTPUT_TABLES = \"../output/final_paper/tables\"\n",
    "OUTPUT_FIGURES = \"../output/final_paper/figures\""
   ]
  },
  {
   "cell_type": "markdown",
   "id": "399ba841-86d3-41f5-8665-900a84468673",
   "metadata": {},
   "source": [
    "# Main Results"
   ]
  },
  {
   "cell_type": "code",
   "execution_count": 3,
   "id": "7b0031d1-bd58-4496-9965-d3d0cd0e7427",
   "metadata": {
    "ExecuteTime": {
     "end_time": "2023-08-16T02:12:12.342523Z",
     "start_time": "2023-08-16T02:12:12.121586Z"
    }
   },
   "outputs": [],
   "source": [
    "# Read fresh copy of unrestricted dataset into memory.\n",
    "df = pd.read_csv(INPUT_DATA_PANEL)\n",
    "treatment_date_variable = 'latest_docket_month'  # Store treatment date variable.\n"
   ]
  },
  {
   "cell_type": "code",
   "execution_count": 4,
   "id": "9c24ea82-f225-4f43-ab1e-b4b83ce7aa15",
   "metadata": {
    "ExecuteTime": {
     "end_time": "2023-08-16T02:12:12.346052Z",
     "start_time": "2023-08-16T02:12:12.342912Z"
    }
   },
   "outputs": [],
   "source": [
    "# Generate value variables list and dictionaries mapping between months and integers.\n",
    "analysis = f\"group_0_crimes_{constants.Analysis.MAIN_RESULTS_RADIUS}m\"\n",
    "weekly_value_vars_crime, month_to_int_dictionary, int_to_month_dictionary = get_value_variable_names(df, analysis)"
   ]
  },
  {
   "cell_type": "code",
   "execution_count": 5,
   "id": "2fae8e4f-ff80-46cd-822a-1cffc1c2edc8",
   "metadata": {
    "ExecuteTime": {
     "end_time": "2023-08-16T02:12:12.565308Z",
     "start_time": "2023-08-16T02:12:12.347507Z"
    }
   },
   "outputs": [
    {
     "data": {
      "text/plain": "                                                                                   \\\n                                                           Cases Won by Plaintiff   \nPanel A Total Crime Incidents, 2017                                    464.804188   \n        Change in Crime Incidents, 2017-2019                           -70.682723   \n        relative_pre_treatment_change_in_group_0_crimes...              -7.002094   \nPanel B Bachelor's degree, 2010                                          0.316407   \n        Job density, 2013                                            16161.032515   \n        Median household income, 2016                                47553.063874   \n        Poverty rate, 2010                                               0.279638   \n        Population density, 2010                                     23320.185868   \n        Share white, 2010                                                0.319421   \nPanel C Filing for cause                                                 0.132984   \n        Filing without cause                                             0.033508   \n        Filing for nonpayment                                            0.716230   \nPanel D Defendant has attorney                                           0.011518   \n        Plaintiff has attorney                                           0.884817   \n        Defendant is entity                                              0.019895   \n        Plaintiff is entity                                              0.808377   \n\n                                                           Difference in Cases Won by Defendant  \\\n                                                                                     Unweighted   \nPanel A Total Crime Incidents, 2017                                                  -12.605893   \n        Change in Crime Incidents, 2017-2019                                         -17.087355   \n        relative_pre_treatment_change_in_group_0_crimes...                            -2.027980   \nPanel B Bachelor's degree, 2010                                                        0.002512   \n        Job density, 2013                                                          -1272.661768   \n        Median household income, 2016                                               2997.870414   \n        Poverty rate, 2010                                                            -0.021030   \n        Population density, 2010                                                    -297.766413   \n        Share white, 2010                                                              0.012446   \nPanel C Filing for cause                                                               0.043066   \n        Filing without cause                                                          -0.020988   \n        Filing for nonpayment                                                         -0.106658   \nPanel D Defendant has attorney                                                        -0.048427   \n        Plaintiff has attorney                                                        -0.049788   \n        Defendant is entity                                                           -0.008715   \n        Plaintiff is entity                                                           -0.077182   \n\n                                                                          \\\n                                                                \\emph{p}   \nPanel A Total Crime Incidents, 2017                         4.321898e-01   \n        Change in Crime Incidents, 2017-2019                1.000304e-02   \n        relative_pre_treatment_change_in_group_0_crimes...  1.544305e-01   \nPanel B Bachelor's degree, 2010                             8.133641e-01   \n        Job density, 2013                                   5.501121e-01   \n        Median household income, 2016                       1.427126e-02   \n        Poverty rate, 2010                                  4.904136e-03   \n        Population density, 2010                            6.737331e-01   \n        Share white, 2010                                   3.450948e-01   \nPanel C Filing for cause                                    5.801068e-03   \n        Filing without cause                                3.431724e-02   \n        Filing for nonpayment                               3.013004e-07   \nPanel D Defendant has attorney                              2.406617e-08   \n        Plaintiff has attorney                              4.887193e-04   \n        Defendant is entity                                 2.432211e-01   \n        Plaintiff is entity                                 1.569652e-05   \n\n                                                                         \\\n                                                               Weighted   \nPanel A Total Crime Incidents, 2017                          -14.086691   \n        Change in Crime Incidents, 2017-2019                   2.399454   \n        relative_pre_treatment_change_in_group_0_crimes...     0.230150   \nPanel B Bachelor's degree, 2010                               -0.010234   \n        Job density, 2013                                  -1130.339282   \n        Median household income, 2016                      -1812.420094   \n        Poverty rate, 2010                                    -0.005748   \n        Population density, 2010                            -608.550119   \n        Share white, 2010                                     -0.010033   \nPanel C Filing for cause                                      -0.001937   \n        Filing without cause                                  -0.046577   \n        Filing for nonpayment                                 -0.021779   \nPanel D Defendant has attorney                                -0.067357   \n        Plaintiff has attorney                                -0.044488   \n        Defendant is entity                                   -0.012727   \n        Plaintiff is entity                                   -0.064902   \n\n                                                                          \n                                                                \\emph{p}  \nPanel A Total Crime Incidents, 2017                         3.807374e-01  \n        Change in Crime Incidents, 2017-2019                6.974106e-01  \n        relative_pre_treatment_change_in_group_0_crimes...  8.576563e-01  \nPanel B Bachelor's degree, 2010                             3.364230e-01  \n        Job density, 2013                                   5.902723e-01  \n        Median household income, 2016                       1.528495e-01  \n        Poverty rate, 2010                                  4.438978e-01  \n        Population density, 2010                            3.866910e-01  \n        Share white, 2010                                   4.504327e-01  \nPanel C Filing for cause                                    9.070577e-01  \n        Filing without cause                                3.326660e-05  \n        Filing for nonpayment                               3.153994e-01  \nPanel D Defendant has attorney                              1.764804e-11  \n        Plaintiff has attorney                              1.646243e-03  \n        Defendant is entity                                 1.017099e-01  \n        Plaintiff is entity                                 2.652617e-04  ",
      "text/html": "<div>\n<style scoped>\n    .dataframe tbody tr th:only-of-type {\n        vertical-align: middle;\n    }\n\n    .dataframe tbody tr th {\n        vertical-align: top;\n    }\n\n    .dataframe thead tr th {\n        text-align: left;\n    }\n</style>\n<table border=\"1\" class=\"dataframe\">\n  <thead>\n    <tr>\n      <th></th>\n      <th></th>\n      <th></th>\n      <th colspan=\"4\" halign=\"left\">Difference in Cases Won by Defendant</th>\n    </tr>\n    <tr>\n      <th></th>\n      <th></th>\n      <th>Cases Won by Plaintiff</th>\n      <th>Unweighted</th>\n      <th>\\emph{p}</th>\n      <th>Weighted</th>\n      <th>\\emph{p}</th>\n    </tr>\n  </thead>\n  <tbody>\n    <tr>\n      <th rowspan=\"3\" valign=\"top\">Panel A</th>\n      <th>Total Crime Incidents, 2017</th>\n      <td>464.804188</td>\n      <td>-12.605893</td>\n      <td>4.321898e-01</td>\n      <td>-14.086691</td>\n      <td>3.807374e-01</td>\n    </tr>\n    <tr>\n      <th>Change in Crime Incidents, 2017-2019</th>\n      <td>-70.682723</td>\n      <td>-17.087355</td>\n      <td>1.000304e-02</td>\n      <td>2.399454</td>\n      <td>6.974106e-01</td>\n    </tr>\n    <tr>\n      <th>relative_pre_treatment_change_in_group_0_crimes_300m</th>\n      <td>-7.002094</td>\n      <td>-2.027980</td>\n      <td>1.544305e-01</td>\n      <td>0.230150</td>\n      <td>8.576563e-01</td>\n    </tr>\n    <tr>\n      <th rowspan=\"6\" valign=\"top\">Panel B</th>\n      <th>Bachelor's degree, 2010</th>\n      <td>0.316407</td>\n      <td>0.002512</td>\n      <td>8.133641e-01</td>\n      <td>-0.010234</td>\n      <td>3.364230e-01</td>\n    </tr>\n    <tr>\n      <th>Job density, 2013</th>\n      <td>16161.032515</td>\n      <td>-1272.661768</td>\n      <td>5.501121e-01</td>\n      <td>-1130.339282</td>\n      <td>5.902723e-01</td>\n    </tr>\n    <tr>\n      <th>Median household income, 2016</th>\n      <td>47553.063874</td>\n      <td>2997.870414</td>\n      <td>1.427126e-02</td>\n      <td>-1812.420094</td>\n      <td>1.528495e-01</td>\n    </tr>\n    <tr>\n      <th>Poverty rate, 2010</th>\n      <td>0.279638</td>\n      <td>-0.021030</td>\n      <td>4.904136e-03</td>\n      <td>-0.005748</td>\n      <td>4.438978e-01</td>\n    </tr>\n    <tr>\n      <th>Population density, 2010</th>\n      <td>23320.185868</td>\n      <td>-297.766413</td>\n      <td>6.737331e-01</td>\n      <td>-608.550119</td>\n      <td>3.866910e-01</td>\n    </tr>\n    <tr>\n      <th>Share white, 2010</th>\n      <td>0.319421</td>\n      <td>0.012446</td>\n      <td>3.450948e-01</td>\n      <td>-0.010033</td>\n      <td>4.504327e-01</td>\n    </tr>\n    <tr>\n      <th rowspan=\"3\" valign=\"top\">Panel C</th>\n      <th>Filing for cause</th>\n      <td>0.132984</td>\n      <td>0.043066</td>\n      <td>5.801068e-03</td>\n      <td>-0.001937</td>\n      <td>9.070577e-01</td>\n    </tr>\n    <tr>\n      <th>Filing without cause</th>\n      <td>0.033508</td>\n      <td>-0.020988</td>\n      <td>3.431724e-02</td>\n      <td>-0.046577</td>\n      <td>3.326660e-05</td>\n    </tr>\n    <tr>\n      <th>Filing for nonpayment</th>\n      <td>0.716230</td>\n      <td>-0.106658</td>\n      <td>3.013004e-07</td>\n      <td>-0.021779</td>\n      <td>3.153994e-01</td>\n    </tr>\n    <tr>\n      <th rowspan=\"4\" valign=\"top\">Panel D</th>\n      <th>Defendant has attorney</th>\n      <td>0.011518</td>\n      <td>-0.048427</td>\n      <td>2.406617e-08</td>\n      <td>-0.067357</td>\n      <td>1.764804e-11</td>\n    </tr>\n    <tr>\n      <th>Plaintiff has attorney</th>\n      <td>0.884817</td>\n      <td>-0.049788</td>\n      <td>4.887193e-04</td>\n      <td>-0.044488</td>\n      <td>1.646243e-03</td>\n    </tr>\n    <tr>\n      <th>Defendant is entity</th>\n      <td>0.019895</td>\n      <td>-0.008715</td>\n      <td>2.432211e-01</td>\n      <td>-0.012727</td>\n      <td>1.017099e-01</td>\n    </tr>\n    <tr>\n      <th>Plaintiff is entity</th>\n      <td>0.808377</td>\n      <td>-0.077182</td>\n      <td>1.569652e-05</td>\n      <td>-0.064902</td>\n      <td>2.652617e-04</td>\n    </tr>\n  </tbody>\n</table>\n</div>"
     },
     "execution_count": 5,
     "metadata": {},
     "output_type": "execute_result"
    }
   ],
   "source": [
    "# Re-Balance on Controls\n",
    "\n",
    "\n",
    "balance_table, pre_treatment_covariates = test_balance(df, analysis, OUTPUT_TABLES)\n",
    "balance_table"
   ]
  },
  {
   "cell_type": "markdown",
   "source": [
    "## Unconditional DiD Using Neighborhood, Latest Docket Date Dummies"
   ],
   "metadata": {
    "collapsed": false
   }
  },
  {
   "cell_type": "code",
   "execution_count": 6,
   "outputs": [
    {
     "name": "stderr",
     "output_type": "stream",
     "text": [
      "Computing ATTgt [workers=12]  100%|████████████████████| 980/980 [00:02<00:00, 384.56it/s] \n"
     ]
    }
   ],
   "source": [
    "df = pd.read_csv(INPUT_DATA_PANEL)\n",
    "df = df.loc[~df[treatment_date_variable].isin(['2019-04', '2019-05']), :]\n",
    "df = prepare_df_for_DiD(df=df,\n",
    "                        analysis=analysis,\n",
    "                        treatment_date_variable=treatment_date_variable,\n",
    "                        pre_treatment_covariates=[],\n",
    "                        value_vars=weekly_value_vars_crime,\n",
    "                        period_to_int_dictionary=month_to_int_dictionary)\n",
    "# Run DiD conditional on covariates.\n",
    "att_gt_all_crimes = ATTgt(data=df, cohort_name=treatment_date_variable, base_period='universal')\n",
    "formula = f'{analysis}'\n",
    "result = att_gt_all_crimes.fit(formula=formula, control_group='never_treated', n_jobs=-1, progress_bar=True)\n",
    "\n",
    "# Plot D.R. ATT(t-g)s on a long horizon.\n",
    "fig, ax = plt.subplots(layout='constrained')\n",
    "figure_utilities.aggregate_by_event_time_and_plot(att_gt_all_crimes,\n",
    "                                                  start_period=constants.Analysis.MINIMUM_PRE_PERIOD,\n",
    "                                                  end_period=constants.Analysis.MAXIMUM_POST_PERIOD,\n",
    "                                                  title=\"\", ax=ax)\n",
    "\n",
    "figure_utilities.save_figure_and_close(fig, os.path.join(OUTPUT_FIGURES, \"att_gt_or_all_crimes.png\"))"
   ],
   "metadata": {
    "collapsed": false,
    "ExecuteTime": {
     "end_time": "2023-08-16T02:12:17.176553Z",
     "start_time": "2023-08-16T02:12:12.570181Z"
    }
   }
  },
  {
   "cell_type": "markdown",
   "source": [
    "## Doubly Robust DiD Conditional on Covariates"
   ],
   "metadata": {
    "collapsed": false
   }
  },
  {
   "cell_type": "code",
   "execution_count": 7,
   "outputs": [
    {
     "name": "stderr",
     "output_type": "stream",
     "text": [
      "Computing ATTgt [workers=12]  100%|████████████████████| 980/980 [00:02<00:00, 358.94it/s]\n"
     ]
    }
   ],
   "source": [
    "df = pd.read_csv(INPUT_DATA_PANEL)\n",
    "df = df.loc[~df[treatment_date_variable].isin(['2019-04', '2019-05']), :]\n",
    "df = prepare_df_for_DiD(df=df,\n",
    "                        analysis=analysis,\n",
    "                        treatment_date_variable=treatment_date_variable,\n",
    "                        pre_treatment_covariates=pre_treatment_covariates,\n",
    "                        value_vars=weekly_value_vars_crime,\n",
    "                        period_to_int_dictionary=month_to_int_dictionary)\n",
    "# Run DiD conditional on covariates.\n",
    "att_gt_all_crimes = ATTgt(data=df, cohort_name=treatment_date_variable, base_period='universal')\n",
    "formula = f'{analysis} ~ ' + '+'.join(pre_treatment_covariates)\n",
    "att_gt_all_crimes.fit(formula=formula, control_group='never_treated', n_jobs=-1, progress_bar=True)\n",
    "# Plot D.R. ATT(t-g)s on a long horizon.\n",
    "fig, ax = plt.subplots(layout='constrained')\n",
    "\n",
    "figure_utilities.aggregate_by_event_time_and_plot(att_gt_all_crimes,\n",
    "                                                  start_period=constants.Analysis.MINIMUM_PRE_PERIOD,\n",
    "                                                  end_period=constants.Analysis.MAXIMUM_POST_PERIOD,\n",
    "                                                  title=\"\", ax=ax)\n",
    "\n",
    "figure_utilities.save_figure_and_close(fig, os.path.join(OUTPUT_FIGURES, \"att_gt_dr_all_crimes.png\"))"
   ],
   "metadata": {
    "collapsed": false,
    "ExecuteTime": {
     "end_time": "2023-08-16T02:12:21.937521Z",
     "start_time": "2023-08-16T02:12:17.177975Z"
    }
   }
  },
  {
   "cell_type": "markdown",
   "source": [
    "## Heterogeneous Treatment Effects"
   ],
   "metadata": {
    "collapsed": false
   }
  },
  {
   "cell_type": "code",
   "execution_count": 8,
   "outputs": [
    {
     "name": "stderr",
     "output_type": "stream",
     "text": [
      "Computing ATTgt for above_median_popdensity2010 = 0 [workers=12]100%|████████████████████| 1176/1176 [00:02<00:00, 548.63it/s] \n",
      "Computing ATTgt for above_median_popdensity2010 = 1 [workers=12]100%|████████████████████| 1176/1176 [00:01<00:00, 1081.93it/s]\n",
      "Computing ATTgt for above_median_share_white2010 = 0 [workers=12]100%|████████████████████| 1176/1176 [00:02<00:00, 420.57it/s] \n",
      "Computing ATTgt for above_median_share_white2010 = 1 [workers=12]100%|████████████████████| 1176/1176 [00:01<00:00, 1170.19it/s]\n",
      "Computing ATTgt for above_median_poor_share2010 = 0 [workers=12]100%|████████████████████| 1176/1176 [00:02<00:00, 513.25it/s] \n",
      "Computing ATTgt for above_median_poor_share2010 = 1 [workers=12]100%|████████████████████| 1176/1176 [00:01<00:00, 1143.08it/s]\n"
     ]
    }
   ],
   "source": [
    "point_estimates = []\n",
    "ci_uppers = []\n",
    "ci_lowers = []\n",
    "pretrend_p_values = []\n",
    "for variable in ['popdensity2010', 'share_white2010', 'poor_share2010']:\n",
    "    # Read fresh copy of unrestricted dataset into memory.\n",
    "    df = pd.read_csv(INPUT_DATA_PANEL)\n",
    "\n",
    "    # Generate indicator variable for above median value of current characteristic\n",
    "    median = df[variable].median()\n",
    "    above_median_indicator_name = f'above_median_{variable}'\n",
    "    df.loc[:, above_median_indicator_name] = 0\n",
    "    df.loc[df[variable] > median, above_median_indicator_name] = 1\n",
    "\n",
    "    # Prepare DataFrame for DiD\n",
    "    pre_treatment_covariates_minus_current_var = pre_treatment_covariates.copy()\n",
    "    pre_treatment_covariates_minus_current_var.remove(variable)\n",
    "    df = prepare_df_for_DiD(df=df,\n",
    "                            analysis=analysis,\n",
    "                            treatment_date_variable=treatment_date_variable,\n",
    "                            pre_treatment_covariates=pre_treatment_covariates_minus_current_var + [above_median_indicator_name],\n",
    "                            value_vars=weekly_value_vars_crime,\n",
    "                            period_to_int_dictionary=month_to_int_dictionary)\n",
    "\n",
    "    # Run DiD\n",
    "    att_gt_by_sample = ATTgt(data=df,\n",
    "                             cohort_name=treatment_date_variable,\n",
    "                             base_period='universal')\n",
    "    att_gt_by_sample.fit(formula=f'{analysis} ~ relative_pre_treatment_change_in_{analysis}',\n",
    "                         control_group='never_treated',\n",
    "                         split_sample_by=f'above_median_{variable}',\n",
    "                         n_jobs=-1,\n",
    "                         progress_bar=True)\n",
    "\n",
    "    att_gt_by_sample = att_gt_by_sample.aggregate('event', overall=True)\n",
    "\n",
    "    # Collect point estimates, confidence interval bounds\n",
    "    below_median_point_estimate = att_gt_by_sample.loc[f'above_median_{variable} = 0', (\"EventAggregationOverall\", slice(None), \"ATT\")]\n",
    "    point_estimates.append(below_median_point_estimate)\n",
    "    above_median_point_estimate = att_gt_by_sample.loc[f'above_median_{variable} = 1', (\"EventAggregationOverall\", slice(None), \"ATT\")]\n",
    "    point_estimates.append(above_median_point_estimate)\n",
    "\n",
    "    below_median_ci_lower = att_gt_by_sample.loc[f'above_median_{variable} = 0', (\"EventAggregationOverall\", \"pointwise conf. band\", \"lower\")]\n",
    "    ci_lowers.append(below_median_ci_lower)\n",
    "    above_median_ci_lower = att_gt_by_sample.loc[f'above_median_{variable} = 1', (\"EventAggregationOverall\", \"pointwise conf. band\", \"lower\")]\n",
    "    ci_lowers.append(above_median_ci_lower)\n",
    "\n",
    "    below_median_ci_upper = att_gt_by_sample.loc[f'above_median_{variable} = 0', (\"EventAggregationOverall\", \"pointwise conf. band\", \"upper\")]\n",
    "    ci_uppers.append(below_median_ci_upper)\n",
    "    above_median_ci_upper = att_gt_by_sample.loc[f'above_median_{variable} = 1', (\"EventAggregationOverall\", \"pointwise conf. band\", \"upper\")]\n",
    "    ci_uppers.append(above_median_ci_upper)\n",
    "\n",
    "\n",
    "\n",
    "fig, ax = plt.subplots()\n",
    "figure_utilities.plot_labeled_vline(ax, x=0, text=\"\", color='black', linestyle='-')\n",
    "for i, (ci_lower, ci_upper) in enumerate(zip(ci_lowers, ci_uppers)):\n",
    "    ax.hlines(y=i, xmin=ci_lower, xmax=ci_upper, color='black')\n",
    "ax.scatter(point_estimates, range(len(point_estimates)), color='black', s=7)\n",
    "ax.set_yticks(ticks=range(len(point_estimates)),\n",
    "              labels=[\"Below median population density, 2010\",\n",
    "                      \"Above median population density, 2010\",\n",
    "                      \"Below median share white, 2010\",\n",
    "                      \"Above median share white, 2010\",\n",
    "                      \"Below median share below poverty line, 2010\",\n",
    "                      \"Above median share below poverty line, 2010\"])\n",
    "ax.set_ylabel(\"Sample Restriction\")\n",
    "ax.set_xlabel(\"Average Post-Treatment ATT\")\n",
    "\n",
    "figure_utilities.save_figure_and_close(fig, os.path.join(OUTPUT_FIGURES, \"heterogenous_effects.png\"))"
   ],
   "metadata": {
    "collapsed": false,
    "ExecuteTime": {
     "end_time": "2023-08-16T02:12:38.218221Z",
     "start_time": "2023-08-16T02:12:21.937976Z"
    }
   }
  },
  {
   "cell_type": "markdown",
   "source": [
    "## Calculating Treatment Effects Using Subset of Crimes as Outcome"
   ],
   "metadata": {
    "collapsed": false
   }
  },
  {
   "cell_type": "code",
   "execution_count": null,
   "outputs": [
    {
     "name": "stderr",
     "output_type": "stream",
     "text": [
      "Computing ATTgt [workers=12]  100%|████████████████████| 980/980 [00:02<00:00, 344.10it/s]\n"
     ]
    }
   ],
   "source": [
    "df = pd.read_csv(INPUT_DATA_PANEL)\n",
    "# Generate value variables list and dictionaries mapping between months and integers.\n",
    "analysis = f\"group_1_crimes_{constants.Analysis.MAIN_RESULTS_RADIUS}m\"\n",
    "weekly_value_vars_crime, month_to_int_dictionary, int_to_month_dictionary = get_value_variable_names(df, analysis)\n",
    "df = df.loc[~df[treatment_date_variable].isin(['2019-04', '2019-05']), :]\n",
    "df = prepare_df_for_DiD(df=df,\n",
    "                        analysis=analysis,\n",
    "                        treatment_date_variable=treatment_date_variable,\n",
    "                        pre_treatment_covariates=pre_treatment_covariates,\n",
    "                        value_vars=weekly_value_vars_crime,\n",
    "                        period_to_int_dictionary=month_to_int_dictionary)\n",
    "\n",
    "# Run DiD conditional on covariates.\n",
    "att_gt_group_1_crimes = ATTgt(data=df, cohort_name=treatment_date_variable, base_period='universal')\n",
    "formula = f'{analysis} ~ ' + '+'.join(pre_treatment_covariates)\n",
    "result = att_gt_group_1_crimes.fit(formula=formula, control_group='never_treated', n_jobs=-1, progress_bar=True)\n",
    "\n",
    "# Plot D.R. ATT(t-g)s for placebo crimes next to D.R. ATT(t-g)s for all crimes.\n",
    "fig, (ax1, ax2) = plt.subplots(1, 2, layout='constrained', sharey=True)\n",
    "\n",
    "figure_utilities.aggregate_by_event_time_and_plot(att_gt_all_crimes, start_period=-5,\n",
    "                                                  end_period=36,\n",
    "                                                  title=\"All Crime Incidents as Outcome\", ax=ax1)\n",
    "figure_utilities.aggregate_by_event_time_and_plot(att_gt_group_1_crimes, start_period=-5,\n",
    "                                                  end_period=36,\n",
    "                                                  title=\"Subset of Crime Incidents as Outcome\", ax=ax2)\n",
    "\n",
    "figure_utilities.save_figure_and_close(fig, os.path.join(OUTPUT_FIGURES, \"att_gt_dr_group_1_crimes.png\"))"
   ],
   "metadata": {
    "collapsed": false,
    "is_executing": true,
    "ExecuteTime": {
     "start_time": "2023-08-16T02:12:38.219981Z"
    }
   }
  },
  {
   "cell_type": "markdown",
   "source": [
    "## D.R. DiD Using File Date as Treatment Date Variable"
   ],
   "metadata": {
    "collapsed": false
   }
  },
  {
   "cell_type": "code",
   "execution_count": null,
   "outputs": [],
   "source": [
    "df = pd.read_csv(INPUT_DATA_PANEL)\n",
    "df = df.loc[~df[treatment_date_variable].isin(['2019-04', '2019-05']), :]\n",
    "treatment_date_variable = 'file_month'\n",
    "df = prepare_df_for_DiD(df=df,\n",
    "                        analysis=analysis,\n",
    "                        treatment_date_variable=treatment_date_variable,\n",
    "                        pre_treatment_covariates=pre_treatment_covariates,\n",
    "                        value_vars=weekly_value_vars_crime,\n",
    "                        period_to_int_dictionary=month_to_int_dictionary)\n",
    "# Run DiD conditional on covariates.\n",
    "att_gt_all_crimes = ATTgt(data=df, cohort_name=treatment_date_variable, base_period='universal')\n",
    "formula = f'{analysis} ~ ' + '+'.join(pre_treatment_covariates)\n",
    "att_gt_all_crimes.fit(formula=formula, control_group='never_treated', n_jobs=-1, progress_bar=True)\n",
    "# Plot D.R. ATT(t-g)s on a long horizon.\n",
    "fig, ax = plt.subplots(layout='constrained')\n",
    "\n",
    "figure_utilities.aggregate_by_event_time_and_plot(att_gt_all_crimes,\n",
    "                                                  start_period=constants.Analysis.MINIMUM_PRE_PERIOD,\n",
    "                                                  end_period=constants.Analysis.MAXIMUM_POST_PERIOD,\n",
    "                                                  title=\"\", ax=ax)\n",
    "\n",
    "figure_utilities.save_figure_and_close(fig, os.path.join(OUTPUT_FIGURES, \"att_gt_dr_all_crimes_file_date.png\"))"
   ],
   "metadata": {
    "collapsed": false,
    "is_executing": true
   }
  },
  {
   "cell_type": "markdown",
   "source": [
    "## Alternative Radii"
   ],
   "metadata": {
    "collapsed": false
   }
  },
  {
   "cell_type": "code",
   "execution_count": null,
   "outputs": [],
   "source": [
    "fig, axes = plt.subplots(1, 3, layout='constrained', sharey=True)\n",
    "radii = [constants.Analysis.MAIN_RESULTS_RADIUS - 50, constants.Analysis.MAIN_RESULTS_RADIUS, constants.Analysis.MAIN_RESULTS_RADIUS + 50]\n",
    "for ax, radius in zip(axes, radii):\n",
    "    df = pd.read_csv(INPUT_DATA_PANEL)\n",
    "    df = df.loc[~df[treatment_date_variable].isin(['2019-04', '2019-05']), :]\n",
    "\n",
    "    analysis = f\"group_0_crimes_{radius}m\"\n",
    "    weekly_value_vars_crime, month_to_int_dictionary, int_to_month_dictionary = get_value_variable_names(df, analysis)\n",
    "    _, pre_treatment_covariates = test_balance(df, analysis)\n",
    "\n",
    "\n",
    "    df = prepare_df_for_DiD(df=df,\n",
    "                            analysis=analysis,\n",
    "                            treatment_date_variable=treatment_date_variable,\n",
    "                            pre_treatment_covariates=pre_treatment_covariates,\n",
    "                            value_vars=weekly_value_vars_crime,\n",
    "                            period_to_int_dictionary=month_to_int_dictionary)\n",
    "    # Run DiD conditional on covariates.\n",
    "    current_att_gt = ATTgt(data=df, cohort_name=treatment_date_variable, base_period='universal')\n",
    "    formula = f'{analysis} ~ ' + '+'.join(pre_treatment_covariates)\n",
    "    current_att_gt.fit(formula=formula, control_group='never_treated', n_jobs=-1, progress_bar=True)\n",
    "    figure_utilities.aggregate_by_event_time_and_plot(current_att_gt,\n",
    "                                                      start_period=constants.Analysis.MINIMUM_PRE_PERIOD,\n",
    "                                                      end_period=constants.Analysis.MAXIMUM_POST_PERIOD,\n",
    "                                                      title=f\"{radius} Meters\", ax=ax)\n",
    "\n",
    "figure_utilities.save_figure_and_close(fig, os.path.join(OUTPUT_FIGURES, \"att_gt_dr_alternative_radii.png\"))"
   ],
   "metadata": {
    "collapsed": false,
    "is_executing": true
   }
  },
  {
   "cell_type": "code",
   "execution_count": null,
   "outputs": [],
   "source": [],
   "metadata": {
    "collapsed": false,
    "is_executing": true
   }
  }
 ],
 "metadata": {
  "kernelspec": {
   "name": "venv",
   "language": "python",
   "display_name": "venv"
  },
  "language_info": {
   "codemirror_mode": {
    "name": "ipython",
    "version": 3
   },
   "file_extension": ".py",
   "mimetype": "text/x-python",
   "name": "python",
   "nbconvert_exporter": "python",
   "pygments_lexer": "ipython3",
   "version": "3.10.8"
  }
 },
 "nbformat": 4,
 "nbformat_minor": 5
}
